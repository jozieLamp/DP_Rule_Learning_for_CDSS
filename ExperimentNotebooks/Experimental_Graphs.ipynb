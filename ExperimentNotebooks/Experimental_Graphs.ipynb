{
 "cells": [
  {
   "cell_type": "code",
   "execution_count": 1,
   "metadata": {
    "pycharm": {
     "is_executing": true,
     "name": "#%%\n"
    }
   },
   "outputs": [],
   "source": [
    "#Import packages\n",
    "import pandas as pd\n",
    "import numpy as np\n",
    "import matplotlib.pyplot as plt\n",
    "import seaborn as sns\n",
    "import copy\n",
    "import warnings\n",
    "\n",
    "%matplotlib inline\n",
    "%load_ext autoreload\n",
    "%autoreload 2\n",
    "\n",
    "# plt.rc('font', size=50)\n",
    "# plt.rcParams.update({'font.size': 14})\n",
    "warnings.filterwarnings('ignore')"
   ]
  },
  {
   "cell_type": "markdown",
   "metadata": {
    "pycharm": {
     "name": "#%% md\n"
    }
   },
   "source": [
    "# Number of Rules Per Pop Percentage"
   ]
  },
  {
   "cell_type": "code",
   "execution_count": 2,
   "metadata": {
    "pycharm": {
     "name": "#%%\n"
    }
   },
   "outputs": [],
   "source": [
    "from MetricCalculation import Coverage as cov"
   ]
  },
  {
   "cell_type": "code",
   "execution_count": 82,
   "metadata": {
    "pycharm": {
     "name": "#%%\n"
    },
    "scrolled": true
   },
   "outputs": [
    {
     "name": "stdout",
     "output_type": "stream",
     "text": [
      "File not found for Client 8\n",
      "File not found for Client 81\n",
      "File not found for Client 230\n",
      "File not found for Client 252\n",
      "File not found for Client 283\n",
      "File not found for Client 335\n",
      "File not found for Client 337\n",
      "File not found for Client 342\n",
      "File not found for Client 366\n",
      "File not found for Client 531\n",
      "File not found for Client 609\n",
      "File not found for Client 639\n",
      "File not found for Client 696\n",
      "File not found for Client 727\n",
      "File not found for Client 730\n",
      "File not found for Client 755\n",
      "File not found for Client 774\n",
      "File not found for Client 963\n",
      "File not found for Client 987\n",
      "File not found for Client 1018\n",
      "File not found for Client 1080\n",
      "File not found for Client 1082\n",
      "File not found for Client 1252\n",
      "File not found for Client 1352\n",
      "File not found for Client 1382\n",
      "File not found for Client 1432\n",
      "File not found for Client 1534\n",
      "File not found for Client 1564\n",
      "File not found for Client 1600\n",
      "File not found for Client 1629\n",
      "File not found for Client 1747\n",
      "File not found for Client 1985\n",
      "File not found for Client 2026\n",
      "File not found for Client 2038\n",
      "File not found for Client 2082\n",
      "File not found for Client 2108\n",
      "File not found for Client 2274\n",
      "File not found for Client 2382\n",
      "File not found for Client 2429\n",
      "File not found for Client 2467\n",
      "File not found for Client 2472\n",
      "File not found for Client 2487\n",
      "File not found for Client 2851\n",
      "File not found for Client 2965\n",
      "File not found for Client 3041\n",
      "File not found for Client 3194\n",
      "File not found for Client 3295\n",
      "File not found for Client 3324\n",
      "File not found for Client 3438\n",
      "File not found for Client 3736\n",
      "File not found for Client 3741\n",
      "File not found for Client 3929\n",
      "File not found for Client 3999\n",
      "File not found for Client 4062\n",
      "File not found for Client 4065\n",
      "File not found for Client 4159\n",
      "File not found for Client 4185\n",
      "File not found for Client 4292\n",
      "File not found for Client 4345\n",
      "File not found for Client 4363\n",
      "File not found for Client 4384\n",
      "File not found for Client 4451\n",
      "File not found for Client 4538\n",
      "File not found for Client 4542\n",
      "File not found for Client 4649\n",
      "File not found for Client 4759\n",
      "File not found for Client 4854\n",
      "File not found for Client 4943\n",
      "File not found for Client 5074\n",
      "File not found for Client 5143\n",
      "File not found for Client 5167\n",
      "File not found for Client 5179\n",
      "File not found for Client 5182\n",
      "File not found for Client 5263\n",
      "File not found for Client 5490\n",
      "File not found for Client 5638\n",
      "File not found for Client 5642\n",
      "File not found for Client 5834\n",
      "File not found for Client 5936\n",
      "File not found for Client 5952\n",
      "File not found for Client 6302\n",
      "File not found for Client 6308\n",
      "File not found for Client 6398\n",
      "File not found for Client 6460\n",
      "File not found for Client 6519\n",
      "File not found for Client 6754\n",
      "File not found for Client 6785\n",
      "File not found for Client 6836\n",
      "File not found for Client 7123\n",
      "File not found for Client 7131\n",
      "File not found for Client 7277\n",
      "File not found for Client 7325\n",
      "File not found for Client 7340\n",
      "File not found for Client 7349\n",
      "File not found for Client 7397\n",
      "File not found for Client 7476\n",
      "File not found for Client 7546\n",
      "File not found for Client 7642\n",
      "File not found for Client 7699\n",
      "File not found for Client 7748\n",
      "File not found for Client 7752\n",
      "File not found for Client 7926\n",
      "File not found for Client 8032\n",
      "clients added 8000\n",
      "CLIENT DF                                                     Rule  Rule Count  \\\n",
      "52             G[0,0]((n_evts <= 0.000 -> LOS >= 0.000))       17285   \n",
      "51     F[0,0]((BLOOD_UREA_NITROGEN <= 0.000 & CREATIN...        8497   \n",
      "45                G[0,0]((hr >= 0.000 & Pulse >= 0.000))        4323   \n",
      "211    F[0,0](((af <= 0.000 | AF <= 0.000) & cosen >=...        2406   \n",
      "1254             ((Mort <= 0.000) U[0,0] (tte <= 0.000))         309   \n",
      "...                                                  ...         ...   \n",
      "27504          G[0,0]((cosen <= 0.000 & death >= 0.000))           1   \n",
      "27503        F[0,0]((death >= 0.000 -> SODIUM <= 0.000))           1   \n",
      "27497  F[0,0]((death <= 0.000 | TOTAL_PROTEIN >= 0.000))           1   \n",
      "27496            G[0,0]((death >= 0.000 & SBP <= 0.000))           1   \n",
      "34207        F[0,0]((CHLORIDE >= 0.000 -> srr >= 0.000))           1   \n",
      "\n",
      "       Percent of Population  \n",
      "52                  1.000000  \n",
      "51                  1.000000  \n",
      "45                  0.540375  \n",
      "211                 0.300750  \n",
      "1254                0.038625  \n",
      "...                      ...  \n",
      "27504               0.000125  \n",
      "27503               0.000125  \n",
      "27497               0.000125  \n",
      "27496               0.000125  \n",
      "34207               0.000125  \n",
      "\n",
      "[34208 rows x 3 columns]\n"
     ]
    }
   ],
   "source": [
    "# ICU\n",
    "\n",
    "clientDF = cov.loadClientRules(8000, \"../Data/ICU/Best/\", cutoff=0.0)\n",
    "print(\"CLIENT DF\", clientDF)\n"
   ]
  },
  {
   "cell_type": "code",
   "execution_count": 115,
   "metadata": {
    "pycharm": {
     "name": "#%%\n"
    }
   },
   "outputs": [
    {
     "name": "stdout",
     "output_type": "stream",
     "text": [
      "Total Client Rules 34208\n",
      "Total Client Rules at Cutoff Thresh 34208\n"
     ]
    }
   ],
   "source": [
    "cutoff = 0\n",
    "\n",
    "cdf = clientDF[clientDF['Percent of Population'] > cutoff]\n",
    "clientRules = cdf['Rule'].tolist()\n",
    "print(\"Total Client Rules\", len(clientDF))\n",
    "print(\"Total Client Rules at Cutoff Thresh\", len(cdf))"
   ]
  },
  {
   "cell_type": "code",
   "execution_count": 4,
   "metadata": {
    "pycharm": {
     "name": "#%%\n"
    },
    "scrolled": true
   },
   "outputs": [
    {
     "name": "stdout",
     "output_type": "stream",
     "text": [
      "clients added 40336\n",
      "CLIENT DF                                                       Rule  Rule Count  \\\n",
      "21       F[0,0](((Calcium <= 0.000 & Potassium <= 0.000...      154909   \n",
      "2241           G[0,0]((Chloride >= 0.000 & HCO3 >= 0.000))       83332   \n",
      "518      F[0,0]((((Calcium < 0.000 & Potassium < 0.000)...       56234   \n",
      "2243          G[0,0]((Platelets <= 0.000 -> WBC >= 0.000))       12913   \n",
      "2246     G[0,0]((((Hgb <= 0.000 | Hct <= 0.000) -> WBC ...       12534   \n",
      "...                                                    ...         ...   \n",
      "874603   G[0,0]((((Hgb >= 0.000 -> PTT >= 0.000) & Calc...           1   \n",
      "874602   G[0,0](((O2Sat <= 0.000 -> pH >= 0.000) | PTT ...           1   \n",
      "874601   G[0,0]((((BUN >= 0.000 | Hct <= 0.000) | O2Sat...           1   \n",
      "874600   G[0,0]((((Calcium >= 0.000 -> Resp <= 0.000) &...           1   \n",
      "2344178  G[0,0]((((Glucose >= 0.000 & MAP >= 0.000) | M...           1   \n",
      "\n",
      "         Percent of Population  \n",
      "21                    1.000000  \n",
      "2241                  1.000000  \n",
      "518                   1.000000  \n",
      "2243                  0.320136  \n",
      "2246                  0.310740  \n",
      "...                        ...  \n",
      "874603                0.000025  \n",
      "874602                0.000025  \n",
      "874601                0.000025  \n",
      "874600                0.000025  \n",
      "2344178               0.000025  \n",
      "\n",
      "[2344179 rows x 3 columns]\n"
     ]
    }
   ],
   "source": [
    "# Sepsis\n",
    "clientDF = cov.loadClientRules(40336, \"../Data/Sepsis/Best/\", cutoff=0.0)\n",
    "print(\"CLIENT DF\", clientDF)"
   ]
  },
  {
   "cell_type": "code",
   "execution_count": 5,
   "metadata": {
    "pycharm": {
     "name": "#%%\n"
    },
    "scrolled": true
   },
   "outputs": [
    {
     "name": "stdout",
     "output_type": "stream",
     "text": [
      "\n",
      "Cutoff 1e-05\n",
      "Total Client Rules 2344179\n",
      "Total Client Rules at Cutoff Thresh 2344179\n",
      "\n",
      "Cutoff 0.0001\n",
      "Total Client Rules 2344179\n",
      "Total Client Rules at Cutoff Thresh 24823\n",
      "\n",
      "Cutoff 0.001\n",
      "Total Client Rules 2344179\n",
      "Total Client Rules at Cutoff Thresh 8178\n",
      "\n",
      "Cutoff 0.01\n",
      "Total Client Rules 2344179\n",
      "Total Client Rules at Cutoff Thresh 78\n",
      "\n",
      "Cutoff 0.1\n",
      "Total Client Rules 2344179\n",
      "Total Client Rules at Cutoff Thresh 7\n",
      "\n",
      "Cutoff 1\n",
      "Total Client Rules 2344179\n",
      "Total Client Rules at Cutoff Thresh 0\n"
     ]
    },
    {
     "data": {
      "text/plain": [
       "[2344179, 24823, 8178, 78, 7, 0]"
      ]
     },
     "execution_count": 5,
     "metadata": {},
     "output_type": "execute_result"
    }
   ],
   "source": [
    "prcnts = [0.00001, 0.0001, 0.001, 0.01, 0.1, 1]\n",
    "sepsis_nrules = []\n",
    "for cutoff in prcnts:\n",
    "\n",
    "    cdf = clientDF[clientDF['Percent of Population'] > cutoff]\n",
    "    clientRules = cdf['Rule'].tolist()\n",
    "    print(\"\\nCutoff\",cutoff)\n",
    "    print(\"Total Client Rules\", len(clientDF))\n",
    "    print(\"Total Client Rules at Cutoff Thresh\", len(cdf))\n",
    "    \n",
    "    sepsis_nrules.append(len(cdf))\n",
    "    \n",
    "sepsis_nrules"
   ]
  },
  {
   "cell_type": "code",
   "execution_count": null,
   "metadata": {},
   "outputs": [],
   "source": []
  },
  {
   "cell_type": "code",
   "execution_count": 3,
   "metadata": {
    "pycharm": {
     "name": "#%%\n"
    }
   },
   "outputs": [
    {
     "name": "stdout",
     "output_type": "stream",
     "text": [
      "clients added 34013\n",
      "CLIENT DF                                                       Rule  Rule Count  \\\n",
      "2                   G[0,0]((GFR <= 0.000 -> BUN >= 0.000))       38022   \n",
      "79       G[0,0](((WeightKg >= 0.000 | bmi >= 0.000) -> ...       37081   \n",
      "111      ((BGTestAvgNumMeter >= 0.000) U[0,0] (BGTestAv...       18997   \n",
      "295      G[0,0]((SMBGperDayPtMeterCombo >= 0.000 & BGTe...       17353   \n",
      "32306    G[0,0]((Pt_CGMUseNumDays <= 0.000 & Pt_CGMUseN...         107   \n",
      "...                                                    ...         ...   \n",
      "487753   F[0,0](((bmiPerc <= 0.000 & HbA1c <= 0.000) & ...           1   \n",
      "487752   G[0,0]((((HDL >= 0.000 | Pt_CGMUseNumDays >= 0...           1   \n",
      "487751   G[0,0](((BldPrSys >= 0.000 -> Pt_A1cGoalLevelD...           1   \n",
      "487750   G[0,0]((((Pt_CGMUseNumDays >= 0.000 & bmi >= 0...           1   \n",
      "1353597  G[0,0]((((SMBGperDayPtMeterCombo <= 0.000 | bm...           1   \n",
      "\n",
      "         Percent of Population  \n",
      "2                     1.000000  \n",
      "79                    1.000000  \n",
      "111                   0.558522  \n",
      "295                   0.510187  \n",
      "32306                 0.003146  \n",
      "...                        ...  \n",
      "487753                0.000029  \n",
      "487752                0.000029  \n",
      "487751                0.000029  \n",
      "487750                0.000029  \n",
      "1353597               0.000029  \n",
      "\n",
      "[1353598 rows x 3 columns]\n"
     ]
    }
   ],
   "source": [
    "# T1D\n",
    "clientDF = cov.loadClientRules(34013, \"../Data/T1D/Best/\", cutoff=0.0)\n",
    "print(\"CLIENT DF\", clientDF)"
   ]
  },
  {
   "cell_type": "code",
   "execution_count": 4,
   "metadata": {
    "pycharm": {
     "name": "#%%\n"
    }
   },
   "outputs": [
    {
     "name": "stdout",
     "output_type": "stream",
     "text": [
      "\n",
      "Cutoff 1e-05\n",
      "Total Client Rules 1353598\n",
      "Total Client Rules at Cutoff Thresh 1353598\n",
      "\n",
      "Cutoff 0.0001\n",
      "Total Client Rules 1353598\n",
      "Total Client Rules at Cutoff Thresh 31025\n",
      "\n",
      "Cutoff 0.001\n",
      "Total Client Rules 1353598\n",
      "Total Client Rules at Cutoff Thresh 1508\n",
      "\n",
      "Cutoff 0.01\n",
      "Total Client Rules 1353598\n",
      "Total Client Rules at Cutoff Thresh 4\n",
      "\n",
      "Cutoff 0.1\n",
      "Total Client Rules 1353598\n",
      "Total Client Rules at Cutoff Thresh 4\n",
      "\n",
      "Cutoff 1\n",
      "Total Client Rules 1353598\n",
      "Total Client Rules at Cutoff Thresh 0\n"
     ]
    },
    {
     "data": {
      "text/plain": [
       "[1353598, 31025, 1508, 4, 4, 0]"
      ]
     },
     "execution_count": 4,
     "metadata": {},
     "output_type": "execute_result"
    }
   ],
   "source": [
    "prcnts = [0.00001, 0.0001, 0.001, 0.01, 0.1, 1]\n",
    "t1d_nrules = []\n",
    "for cutoff in prcnts:\n",
    "\n",
    "    cdf = clientDF[clientDF['Percent of Population'] > cutoff]\n",
    "    clientRules = cdf['Rule'].tolist()\n",
    "    print(\"\\nCutoff\",cutoff)\n",
    "    print(\"Total Client Rules\", len(clientDF))\n",
    "    print(\"Total Client Rules at Cutoff Thresh\", len(cdf))\n",
    "    \n",
    "    t1d_nrules.append(len(cdf))\n",
    "    \n",
    "t1d_nrules"
   ]
  },
  {
   "cell_type": "code",
   "execution_count": null,
   "outputs": [],
   "source": [
    "# Rule Breakdown\n",
    "prcnts = [0.00001, 0.0001, 0.001, 0.01, 0.1]\n",
    "icu_nrules = [34208, 34208, 1285, 639, 4]\n",
    "sepsis_nrules = [2344179, 24823, 8178, 78, 7]\n",
    "t1d_nrules = [1353598, 31025, 1508, 4, 4]\n",
    "\n",
    "fig, ax = plt.subplots()\n",
    "b_color = 'cornflowerblue'\n",
    "a_color = 'crimson' #'crimson' 'tomato' 'lightcoral' 'r'\n",
    "\n",
    "plt.plot(prcnts, icu_nrules, 'o-', color='royalblue', label=\"ICU\")\n",
    "plt.plot(prcnts, sepsis_nrules, 'o-', color='red', label=\"Sepsis\")\n",
    "plt.plot(prcnts, t1d_nrules, 'o-', color='mediumseagreen', label=\"T1D\")\n",
    "\n",
    "# Plot values for each tick\n",
    "for i in range(len(prcnts)):\n",
    "#     ax.annotate(str(icu_nrules[i]), xy=(prcnts[i], icu_nrules[i] + 500))\n",
    "    ax.text(prcnts[i], icu_nrules[i], str(icu_nrules[i]), color='royalblue', ha='center', va='bottom')\n",
    "    ax.text(prcnts[i], sepsis_nrules[i], str(sepsis_nrules[i]), color='red', ha='center', va='bottom')\n",
    "#     ax.text(prcnts[i], t1d_nrules[i], str(t1d_nrules[i]), ha='center', va='bottom')\n",
    "\n",
    "ax.set_ylabel('Number of Rules')\n",
    "ax.set_xlabel(\"Population Percentage\")\n",
    "ax.set_xscale('log')\n",
    "ax.set_yscale('log')\n",
    "# ax.set_ylim(0, 36000)\n",
    "\n",
    "ax.set_title('Numer of Rules at Different Percentages')\n",
    "ax.legend()\n",
    "ax.yaxis.grid(True)\n",
    "ax.xaxis.grid(True)\n",
    "plt.show()"
   ],
   "metadata": {
    "collapsed": false,
    "pycharm": {
     "name": "#%%\n"
    }
   }
  },
  {
   "cell_type": "code",
   "execution_count": null,
   "outputs": [],
   "source": [
    "# probably add more intermediate values here --> 1% and 5% at each mark!!"
   ],
   "metadata": {
    "collapsed": false,
    "pycharm": {
     "name": "#%%\n"
    }
   }
  },
  {
   "cell_type": "markdown",
   "source": [
    "# Coverage"
   ],
   "metadata": {
    "collapsed": false,
    "pycharm": {
     "name": "#%% md\n"
    }
   }
  },
  {
   "cell_type": "markdown",
   "source": [
    "## ICU\n",
    "Comparison of protocol versions --> baselines vs adaptive vs adaptive + active clients\n"
   ],
   "metadata": {
    "collapsed": false,
    "pycharm": {
     "name": "#%% md\n"
    }
   }
  },
  {
   "cell_type": "code",
   "execution_count": null,
   "outputs": [],
   "source": [
    "# Coverage\n",
    "\n",
    "eps = [0.01, 0.1, 1, 10, 100, 1000, 10000]\n",
    "\n",
    "#Baseline 1000 queries\n",
    "# base_cov = np.array([0.0165517241, 0.0172413793, 0.0175862069, 0.175862069, 0.2, 0.286206897])\n",
    "base_cov = np.array([0, 0.003, 0.007, 0.24, 0.31, 0.35, 0.47])\n",
    "base_cov_stds = np.array([0.013793103, 0.037773969, 0.039164885, 0.036001057, 0.055172414, 0.074677268, 0.022])\n",
    "base_prec = np.array([0.55, 0.61, 0.72, 0.86, 0.89, 0.94, 1])\n",
    "base_prec_stds = np.array([0.024394823,0.024188198, 0.027066528,0.03260531, 0.031205005, 0.01544, 0.0235])\n",
    "\n",
    "\n",
    "#Baseline 5000 queries\n",
    "\n",
    "\n",
    "# Adaptive\n",
    "covs = np.array([0.08, 0.22, 0.63, 0.74, 0.98, 1, 1])\n",
    "cov_stds = np.array([0.016893033, 0.090971765, 0.031034483, 0.039164885, 0.01,   0, 0])\n",
    "\n",
    "prec = np.array([0.88, 0.97, 0.99, 1, 1, 1, 1])\n",
    "prec_stds = np.array([0.022902747, 0.02938773, 0.01, 0, 0, 0, 0])\n",
    "\n",
    "\n",
    "\n",
    "# Build the plot\n",
    "fig, ax = plt.subplots()\n",
    "x = np.arange(len(eps))\n",
    "b_color = 'cornflowerblue'\n",
    "a_color = 'crimson' #'crimson' 'tomato' 'lightcoral' 'r'\n",
    "\n",
    "plt.plot(x, base_prec, 'o--', color=b_color, label=\"Baseline 1000Q Precision\")\n",
    "plt.fill_between(x, base_prec-base_prec_stds, base_prec+base_prec_stds, color=b_color, alpha=0.2)\n",
    "plt.plot(x, prec, 'o--', color=a_color , label=\"Adaptive Precision\")\n",
    "plt.fill_between(x, prec-prec_stds, prec+prec_stds, color=a_color , alpha=0.2)\n",
    "\n",
    "plt.plot(x, base_cov, 'o-', color=b_color, label=\"Baseline 1000Q Coverage\")\n",
    "plt.fill_between(x, base_cov-base_cov_stds, base_cov+base_cov_stds, color=b_color, alpha=0.2)\n",
    "plt.plot(x, covs, 'o-', color=a_color , label=\"Adaptive Coverage\")\n",
    "plt.fill_between(x, covs-cov_stds, covs+cov_stds, color=a_color , alpha=0.2)\n",
    "\n",
    "\n",
    "ax.set_ylabel('Fraction')\n",
    "ax.set_xlabel(\"Epsilon\")\n",
    "ax.set_ylim(0, 1.1)\n",
    "ax.set_xticks(x)\n",
    "ax.set_xticklabels(eps)\n",
    "ax.set_title('Coverage Results - ICU Dataset, V=1%')\n",
    "ax.legend()\n",
    "ax.yaxis.grid(True)\n",
    "plt.show()"
   ],
   "metadata": {
    "collapsed": false,
    "pycharm": {
     "name": "#%%\n"
    }
   }
  },
  {
   "cell_type": "markdown",
   "source": [
    "# Analysis of the Adaptive Protocol"
   ],
   "metadata": {
    "collapsed": false,
    "pycharm": {
     "name": "#%% md\n"
    }
   }
  },
  {
   "cell_type": "markdown",
   "source": [
    "## Query Analysis"
   ],
   "metadata": {
    "collapsed": false,
    "pycharm": {
     "name": "#%% md\n"
    }
   }
  },
  {
   "cell_type": "code",
   "execution_count": null,
   "outputs": [],
   "source": [
    "# Num Queries\n",
    "eps = [0.01, 0.1, 1, 10, 100, 1000, 10000]\n",
    "\n",
    "queries = np.array([492, 720, 842, 1104, 4615, 4791, 4620])\n",
    "quers_std = np.array([0.9, 1.135781669, 2.638181192, 0.489897949, 1.688194302, 3.346640106, 1.998]) \n",
    "quers_std = [x * 100 for x in quers_std]\n",
    "\n",
    "quers_base = np.array([101, 510, 673, 699, 1200, 2004, 4600])\n",
    "quers_base_std = np.array([1.26, 0.994, 0.124, 1.2, 0.55, 0.36, 0.644]) \n",
    "quers_base_std = [x * 2 for x in quers_std]\n",
    "\n",
    "\n",
    "fig, ax = plt.subplots()\n",
    "x = np.arange(len(eps))\n",
    "b_color = 'cornflowerblue'\n",
    "a_color = 'crimson' #'crimson' 'tomato' 'lightcoral' 'r'\n",
    "\n",
    "#nonprive ground truth number of queries\n",
    "ax.axhline(y=4620, color='k', label='Nonprivate Model')\n",
    "\n",
    "#plot model queries\n",
    "# plt.plot(x, quers_base, 'o-', color=b_color, label=\"Baseline 1000Q\")\n",
    "# plt.fill_between(x, quers_base-quers_base_std, quers_base+quers_base_std, color=b_color, alpha=0.2)\n",
    "plt.plot(x, queries, 'o-', color=a_color, label=\"Adaptive Model\")\n",
    "plt.fill_between(x, queries-quers_std, queries+quers_std, color=a_color, alpha=0.2)\n",
    "\n",
    "#add adaptive model + active clients\n",
    "\n",
    "ax.set_ylabel('Average Number of Queries Per Client')\n",
    "ax.set_xlabel(\"Epsilon\")\n",
    "# ax.set_ylim(0, 1)\n",
    "ax.set_xticks(x)\n",
    "ax.set_xticklabels(eps)\n",
    "ax.set_title('Query Analysis, Adaptive Model - ICU Dataset')\n",
    "ax.legend()\n",
    "ax.yaxis.grid(True)\n",
    "ax.xaxis.grid(True)\n",
    "plt.show()"
   ],
   "metadata": {
    "collapsed": false,
    "pycharm": {
     "name": "#%%\n"
    }
   }
  },
  {
   "cell_type": "code",
   "execution_count": null,
   "outputs": [],
   "source": [
    "# Query Efficiency --> queries/ rules\n",
    "\n",
    "eps = [0.01, 0.1, 1, 10, 100, 1000, 10000]\n",
    "\n",
    "queries = np.array([492, 720, 842, 1104, 4615, 4791, 4620])\n",
    "quers_std = np.array([0.09, 0.1135781669, 0.2638181192, 0.489897949, 0.1688194302, 0.3346640106, 0.1998]) \n",
    "# quers_std = [x * 100 for x in quers_std]\n",
    "\n",
    "numRules = [500, 670, 1050, 1700, 7500, 8400, 10000]\n",
    "\n",
    "rpq = np.array([a/b for a,b in zip(numRules, queries)])\n",
    "\n",
    "rpq"
   ],
   "metadata": {
    "collapsed": false,
    "pycharm": {
     "name": "#%%\n"
    }
   }
  },
  {
   "cell_type": "code",
   "execution_count": null,
   "outputs": [],
   "source": [
    "quers_base = np.array([101, 510, 673, 1000, 1200, 2004, 4600])\n",
    "quers_base_std = np.array([0.26, 0.54, 0.124, 0.122, 0.55, 0.36, 0.644]) \n",
    "# quers_base_std = [x * 2 for x in quers_std]\n",
    "\n",
    "numRules_base = [0, 3, 7, 340, 600, 1005, 2001]\n",
    "\n",
    "rpq_base = np.array([a/b for a,b in zip(numRules_base, quers_base)])\n",
    "\n",
    "rpq_base"
   ],
   "metadata": {
    "collapsed": false,
    "pycharm": {
     "name": "#%%\n"
    }
   }
  },
  {
   "cell_type": "code",
   "execution_count": null,
   "outputs": [],
   "source": [
    "# Graph of query efficiency\n",
    "\n",
    "fig, ax = plt.subplots()\n",
    "x = np.arange(len(eps))\n",
    "b_color = 'cornflowerblue'\n",
    "a_color = 'crimson' #'crimson' 'tomato' 'lightcoral' 'r'\n",
    "\n",
    "#nonprive ground truth number of queries\n",
    "# npv = 34000/4620\n",
    "npv = 14000/4620\n",
    "ax.axhline(y=npv, color='k', label='Nonprivate Model RPQ')\n",
    "\n",
    "#plot model queries\n",
    "plt.plot(x, rpq_base, 'o-', color=b_color, label=\"Baseline 1000Q RPQ\")\n",
    "plt.fill_between(x, rpq_base-quers_base_std, rpq_base+quers_base_std, color=b_color, alpha=0.2)\n",
    "plt.plot(x, rpq, 'o-', color=a_color, label=\"Adaptive Model RPQ\")\n",
    "plt.fill_between(x, rpq-quers_std, rpq+quers_std, color=a_color, alpha=0.2)\n",
    "\n",
    "ax.set_ylabel('Average Number of Rules Returned per Query') # (# Rules / # Queries)\n",
    "ax.set_xlabel(\"Epsilon\")\n",
    "# ax.set_ylim(0, 5)\n",
    "ax.set_xticks(x)\n",
    "ax.set_xticklabels(eps)\n",
    "ax.set_title('Query Efficiency - ICU Dataset')\n",
    "ax.legend()\n",
    "ax.yaxis.grid(True)\n",
    "ax.xaxis.grid(True)\n",
    "plt.show()\n",
    "\n",
    "#nonprivate model more efficient but this obvious b/c doesnt have any noise in client query responses"
   ],
   "metadata": {
    "collapsed": false,
    "pycharm": {
     "name": "#%%\n"
    }
   }
  },
  {
   "cell_type": "code",
   "execution_count": 106,
   "metadata": {
    "pycharm": {
     "name": "#%%\n"
    }
   },
   "outputs": [
    {
     "data": {
      "image/png": "[encoded data removed]",
      "text/plain": [
       "<Figure size 640x480 with 1 Axes>"
      ]
     },
     "metadata": {},
     "output_type": "display_data"
    }
   ],
   "source": [
    "# Graph of query efficiency\n",
    "\n",
    "fig, ax = plt.subplots()\n",
    "x = np.arange(len(eps))\n",
    "b_color = 'cornflowerblue'\n",
    "a_color = 'crimson' #'crimson' 'tomato' 'lightcoral' 'r'\n",
    "\n",
    "#nonprive ground truth number of queries\n",
    "# npv = 34000/4620\n",
    "npv = 14000/4620\n",
    "ax.axhline(y=npv, color='k', label='Nonprivate Model RPQ')\n",
    "\n",
    "#plot model queries\n",
    "plt.plot(x, rpq_base, 'o-', color=b_color, label=\"Baseline 1000Q RPQ\")\n",
    "plt.fill_between(x, rpq_base-quers_base_std, rpq_base+quers_base_std, color=b_color, alpha=0.2)\n",
    "plt.plot(x, rpq, 'o-', color=a_color, label=\"Adaptive Model RPQ\")\n",
    "plt.fill_between(x, rpq-quers_std, rpq+quers_std, color=a_color, alpha=0.2)\n",
    "\n",
    "ax.set_ylabel('Average Number of Rules Returned per Query') # (# Rules / # Queries)\n",
    "ax.set_xlabel(\"Epsilon\")\n",
    "# ax.set_ylim(0, 5)\n",
    "ax.set_xticks(x)\n",
    "ax.set_xticklabels(eps)\n",
    "ax.set_title('Query Efficiency - ICU Dataset')\n",
    "ax.legend()\n",
    "ax.yaxis.grid(True)\n",
    "ax.xaxis.grid(True)\n",
    "plt.show()\n",
    "\n",
    "#nonprivate model more efficient but this obvious b/c doesnt have any noise in client query responses"
   ]
  },
  {
   "cell_type": "markdown",
   "metadata": {
    "pycharm": {
     "name": "#%% md\n"
    }
   },
   "source": [
    "## TO ADD: Error (theta) vs coverage & precision\n"
   ]
  },
  {
   "cell_type": "code",
   "execution_count": null,
   "metadata": {
    "pycharm": {
     "name": "#%%\n"
    }
   },
   "outputs": [],
   "source": []
  },
  {
   "cell_type": "code",
   "execution_count": null,
   "metadata": {
    "pycharm": {
     "name": "#%%\n"
    }
   },
   "outputs": [],
   "source": []
  },
  {
   "cell_type": "markdown",
   "metadata": {
    "pycharm": {
     "name": "#%% md\n"
    }
   },
   "source": [
    "## To ADD: Valid rule threshold (0.1%, 1%, 5%) vs coverage\n"
   ]
  },
  {
   "cell_type": "code",
   "execution_count": null,
   "metadata": {
    "pycharm": {
     "name": "#%%\n"
    }
   },
   "outputs": [],
   "source": []
  },
  {
   "cell_type": "code",
   "execution_count": null,
   "metadata": {
    "pycharm": {
     "name": "#%%\n"
    }
   },
   "outputs": [],
   "source": []
  },
  {
   "cell_type": "markdown",
   "metadata": {
    "pycharm": {
     "name": "#%% md\n"
    }
   },
   "source": [
    "## Original code with example"
   ]
  },
  {
   "cell_type": "code",
   "execution_count": 4,
   "metadata": {
    "pycharm": {
     "name": "#%%\n"
    },
    "scrolled": false
   },
   "outputs": [
    {
     "data": {
      "image/png": "[encoded data removed]",
      "text/plain": [
       "<Figure size 640x480 with 1 Axes>"
      ]
     },
     "metadata": {},
     "output_type": "display_data"
    }
   ],
   "source": [
    "# Graphs\n",
    "eps = [0.01, 0.1, 1, 10, 100, 1000]\n",
    "\n",
    "\n",
    "#Baseline\n",
    "base_cov = np.array([0.0165517241, 0.0172413793, 0.0175862069, 0.175862069, 0.2, 0.286206897])\n",
    "base_cov_stds = np.array([0.013793103, 0.037773969, 0.039164885, 0.036001057, 0.055172414, 0.074677268])\n",
    "\n",
    "base_prec = np.array([0.630516507,0.679079386,0.682779394,0.692944407, 0.69716005, 0.709145596])\n",
    "base_prec_stds = np.array([0.023909371,0.024394823,0.024188198, 0.027066528,0.03260531, 0.031205005])\n",
    "\n",
    "# Adaptive\n",
    "covs = np.array([0.15862069, 0.213793103, 0.286206897, 0.306896552,   0.327586207, 0.379310345])\n",
    "cov_stds = np.array([0.016893033, 0.090971765, 0.031034483, 0.039164885,   0.058213597, 0.115401383])\n",
    "\n",
    "prec = np.array([0.672485669, 0.68702724, 0.692574686, 0.734376115, 0.739805989, 0.741285464])\n",
    "prec_stds = np.array([0.022902747, 0.02938773, 0.028979768, 0.021005668, 0.027866364, 0.012734432])\n",
    "\n",
    "\n",
    "\n",
    "# Build the plot\n",
    "fig, ax = plt.subplots()\n",
    "x = np.arange(len(eps))\n",
    "b_color = 'cornflowerblue'\n",
    "a_color = 'crimson' #'crimson' 'tomato' 'lightcoral' 'r'\n",
    "\n",
    "plt.plot(x, base_prec, 'o--', color=b_color, label=\"Baseline Precision\")\n",
    "plt.fill_between(x, base_prec-base_prec_stds, base_prec+base_prec_stds, color=b_color, alpha=0.2)\n",
    "plt.plot(x, prec, 'o--', color=a_color , label=\"Adaptive Precision\")\n",
    "plt.fill_between(x, prec-prec_stds, prec+prec_stds, color=a_color , alpha=0.2)\n",
    "\n",
    "plt.plot(x, base_cov, 'o-', color=b_color, label=\"Baseline Coverage\")\n",
    "plt.fill_between(x, base_cov-base_cov_stds, base_cov+base_cov_stds, color=b_color, alpha=0.2)\n",
    "plt.plot(x, covs, 'o-', color=a_color , label=\"Adaptive Coverage\")\n",
    "plt.fill_between(x, covs-cov_stds, covs+cov_stds, color=a_color , alpha=0.2)\n",
    "\n",
    "\n",
    "ax.set_ylabel('Percentage')\n",
    "ax.set_xlabel(\"Epsilon\")\n",
    "ax.set_ylim(0, 1)\n",
    "ax.set_xticks(x)\n",
    "ax.set_xticklabels(eps)\n",
    "ax.set_title('Coverage Results - ICU Dataset')\n",
    "ax.legend()\n",
    "ax.yaxis.grid(True)\n",
    "ax.xaxis.grid(True)\n",
    "plt.show()"
   ]
  },
  {
   "cell_type": "code",
   "execution_count": null,
   "metadata": {
    "pycharm": {
     "name": "#%%\n"
    }
   },
   "outputs": [],
   "source": [
    "# res for icu 8000 0.1\n",
    "icu_cov = [?, ]\n",
    "\n",
    "# --> trying ICU 8000\n",
    "# eps 0.1; 100% cov and prec\n"
   ]
  },
  {
   "cell_type": "code",
   "execution_count": null,
   "metadata": {
    "pycharm": {
     "name": "#%%\n"
    }
   },
   "outputs": [],
   "source": []
  },
  {
   "cell_type": "markdown",
   "metadata": {
    "pycharm": {
     "name": "#%% md\n"
    }
   },
   "source": [
    "## OLD GRAPHS"
   ]
  },
  {
   "cell_type": "code",
   "execution_count": 42,
   "metadata": {
    "pycharm": {
     "name": "#%%\n"
    }
   },
   "outputs": [
    {
     "data": {
      "image/png": "[encoded data removed]",
      "text/plain": [
       "<Figure size 640x480 with 1 Axes>"
      ]
     },
     "metadata": {},
     "output_type": "display_data"
    }
   ],
   "source": [
    "# Coverage Graphs\n",
    "eps = [0.01, 0.1, 1, 10, 100, 1000]\n",
    "covs = [0.15862069, 0.213793103, 0.286206897, 0.306896552,   0.327586207, 0.379310345]\n",
    "cov_stds = [0.016893033, 0.090971765, 0.031034483, 0.039164885,   0.058213597, 0.115401383]\n",
    "\n",
    "base_cov = [0.0165517241, 0.0172413793, 0.0175862069, 0.175862069, 0.2, 0.286206897]\n",
    "base_cov_stds = [0.013793103, 0.037773969, 0.039164885, 0.036001057, 0.055172414, 0.074677268]\n",
    "\n",
    "\n",
    "# Build the plot\n",
    "fig, ax = plt.subplots()\n",
    "x_pos = np.arange(len(covs))\n",
    "width = 0.45\n",
    "ax.bar(x_pos - width/2, base_cov, width, yerr=base_cov_stds, align='center', alpha=0.5, ecolor='black', capsize=10, label=\"Baseline\")\n",
    "ax.bar(x_pos + width/2, covs, width, yerr=cov_stds, align='center', alpha=0.5, ecolor='black', capsize=10, label=\"Adaptive\")\n",
    "ax.set_ylabel('Percentage')\n",
    "ax.set_xlabel(\"Epsilon\")\n",
    "ax.set_ylim(0, 1)\n",
    "ax.set_xticks(x_pos)\n",
    "ax.set_xticklabels(eps)\n",
    "ax.set_title('Coverage')\n",
    "ax.legend()\n",
    "ax.yaxis.grid(True)\n",
    "plt.show()"
   ]
  },
  {
   "cell_type": "code",
   "execution_count": 4,
   "metadata": {
    "pycharm": {
     "name": "#%%\n"
    }
   },
   "outputs": [
    {
     "data": {
      "image/png": "[encoded data removed]",
      "text/plain": [
       "<Figure size 640x480 with 1 Axes>"
      ]
     },
     "metadata": {},
     "output_type": "display_data"
    }
   ],
   "source": [
    "# Precision Graphs\n",
    "base_prec = [0.630516507,0.679079386,0.682779394,0.692944407, 0.69716005, 0.709145596]\n",
    "base_prec_stds = [0.023909371,0.024394823,0.024188198, 0.027066528,0.03260531, 0.031205005]\n",
    "\n",
    "prec = [0.672485669, 0.68702724, 0.692574686, 0.734376115, 0.739805989, 0.741285464]\n",
    "prec_stds = [0.022902747, 0.02938773, 0.028979768, 0.021005668, 0.027866364, 0.012734432]\n",
    "\n",
    "# Build the plot\n",
    "fig, ax = plt.subplots()\n",
    "x_pos = np.arange(len(covs))\n",
    "width = 0.45\n",
    "ax.bar(x_pos - width/2, base_prec, width, yerr=base_prec_stds, align='center', alpha=0.5, ecolor='black', capsize=10, label=\"Baseline\")\n",
    "ax.bar(x_pos + width/2, prec, width, yerr=prec_stds, align='center', alpha=0.5, ecolor='black', capsize=10, label=\"Adaptive\")\n",
    "ax.set_ylabel('Percentage')\n",
    "ax.set_xlabel(\"Epsilon\")\n",
    "ax.set_ylim(0, 1)\n",
    "ax.set_xticks(x_pos)\n",
    "ax.set_xticklabels(eps)\n",
    "ax.set_title('Precision')\n",
    "ax.legend()\n",
    "ax.yaxis.grid(True)\n",
    "plt.show()"
   ]
  },
  {
   "cell_type": "code",
   "execution_count": null,
   "metadata": {
    "pycharm": {
     "name": "#%%\n"
    }
   },
   "outputs": [],
   "source": [
    "# Code to plot set of plots\n",
    "\n",
    "fig = plt.figure(figsize=(14, 10))\n",
    "\n",
    "grid = plt.GridSpec(2, 3, wspace = .25, hspace = .25)\n",
    "plt.subplots_adjust(wspace= 0.25, hspace= 0.25)\n",
    "\n",
    "plt.subplot(grid[0, :])\n",
    "trace = egv.loc[0]\n",
    "# trace1 = egv.loc[6]\n",
    "# trace1 = egv.loc[8]\n",
    "trace1 = egv.loc[9]\n",
    "# trace2 = egv.loc[26]\n",
    "# trace2 = egv.loc[28]\n",
    "trace2 = egv.loc[38]\n",
    "# trace3 = egv.loc[41]\n",
    "# trace3 = egv.loc[43] #41 - 43 pretty good\n",
    "# trace3 = egv.loc[52]\n",
    "# trace3 = egv.loc[56]\n",
    "# trace3 = egv.loc[58]\n",
    "# trace3 = egv.loc[64]\n",
    "# trace3 = egv.loc[70]\n",
    "# trace3 = egv.loc[71] # high peak\n",
    "trace3 = egv.loc[92]\n",
    "time = range(len(trace))\n",
    "plt.plot(time, trace, label='Patient 0')\n",
    "plt.plot(time, trace1, label='Patient 1')\n",
    "plt.plot(time, trace2, label='Patient 2')\n",
    "plt.plot(time, trace3, label='Patient 3')\n",
    "plt.xlabel(\"Time\")\n",
    "plt.ylabel(\"Glucose (mg/dL)\")\n",
    "plt.ylim(40, 410)\n",
    "plt.legend()\n",
    "plt.title(\"Sample Glucose Traces\")\n",
    "\n",
    "plt.subplot(grid[1, 0])\n",
    "# m1 = egv.loc[71][170:210] # high peak\n",
    "m1 = egv.loc[86][70:120]\n",
    "time = range(len(m1))\n",
    "plt.plot(time, m1, color=\"k\")\n",
    "plt.xlabel(\"Timesteps\")\n",
    "plt.ylabel(\"Glucose (mg/dL)\")\n",
    "plt.ylim(40, 410)\n",
    "plt.title(\"Motif 0: High Peak\")\n",
    "\n",
    "plt.subplot(grid[1, 1])\n",
    "\n",
    "m2 = egv.loc[44][110:160] # large drop\n",
    "# m2 = egv.loc[63][32:72] # large drop\n",
    "time = range(len(m2))\n",
    "plt.plot(time, m2, color=\"k\")\n",
    "plt.xlabel(\"Timesteps\")\n",
    "plt.ylabel(\"Glucose (mg/dL)\")\n",
    "plt.ylim(40, 410)\n",
    "plt.title(\"Motif 1: Deep Trough\")\n",
    "\n",
    "plt.subplot(grid[1, 2])\n",
    "m3 = egv.loc[93][110:160] # stable in control\n",
    "time = range(len(m3))\n",
    "plt.plot(time, m3, color=\"k\")\n",
    "plt.xlabel(\"Timesteps\")\n",
    "plt.ylabel(\"Glucose (mg/dL)\")\n",
    "plt.ylim(40, 410)\n",
    "plt.title(\"Motif 2: Stable Line\")\n",
    "\n",
    "fig.tight_layout()\n",
    "fig.savefig(\"Figures/SampleTracesMotifs.png\", bbox_inches='tight', dpi=300)"
   ]
  },
  {
   "cell_type": "code",
   "execution_count": null,
   "metadata": {
    "pycharm": {
     "name": "#%%\n"
    }
   },
   "outputs": [],
   "source": []
  },
  {
   "cell_type": "code",
   "execution_count": null,
   "metadata": {
    "pycharm": {
     "name": "#%%\n"
    }
   },
   "outputs": [],
   "source": []
  },
  {
   "cell_type": "code",
   "execution_count": 64,
   "metadata": {
    "pycharm": {
     "name": "#%%\n"
    }
   },
   "outputs": [
    {
     "data": {
      "image/png": "[encoded data removed]",
      "text/plain": [
       "<Figure size 640x480 with 1 Axes>"
      ]
     },
     "metadata": {},
     "output_type": "display_data"
    }
   ],
   "source": [
    "# Query Analysis- May not need\n",
    "\n",
    "queries = [492, 720, 842, 1104, 4615, 4791]\n",
    "quers_std = [0.9, 1.135781669, 2.638181192, 0.489897949, 1.688194302, 3.346640106] \n",
    "quers_std = [x * 100 for x in quers_std]\n",
    "\n",
    "# Build the plot\n",
    "fig, ax = plt.subplots()\n",
    "x_pos = np.arange(len(covs))\n",
    "ax.bar(x_pos, queries, yerr=quers_std, align='center', alpha=0.5, ecolor='black', capsize=10)\n",
    "ax.set_ylabel('Number of Queries')\n",
    "ax.set_xlabel(\"Epsilon\")\n",
    "ax.set_xticks(x_pos)\n",
    "ax.set_xticklabels(eps)\n",
    "ax.set_title('Query Analysis')\n",
    "ax.yaxis.grid(True)\n",
    "plt.show()"
   ]
  },
  {
   "cell_type": "code",
   "execution_count": null,
   "metadata": {
    "pycharm": {
     "name": "#%%\n"
    }
   },
   "outputs": [],
   "source": []
  }
 ],
 "metadata": {
  "kernelspec": {
   "display_name": "Python 3 (ipykernel)",
   "language": "python",
   "name": "python3"
  },
  "language_info": {
   "codemirror_mode": {
    "name": "ipython",
    "version": 3
   },
   "file_extension": ".py",
   "mimetype": "text/x-python",
   "name": "python",
   "nbconvert_exporter": "python",
   "pygments_lexer": "ipython3",
   "version": "3.8.9"
  }
 },
 "nbformat": 4,
 "nbformat_minor": 1
}