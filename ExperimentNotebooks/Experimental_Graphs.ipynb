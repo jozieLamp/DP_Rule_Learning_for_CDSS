{
 "cells": [
  {
   "cell_type": "code",
   "execution_count": null,
   "outputs": [],
   "source": [
    "#Import packages\n",
    "import pandas as pd\n",
    "import numpy as np\n",
    "import matplotlib.pyplot as plt\n",
    "import seaborn as sns\n",
    "import copy\n",
    "import warnings\n",
    "from IPython.display import display\n",
    "\n",
    "%matplotlib inline\n",
    "%load_ext autoreload\n",
    "%autoreload 2\n",
    "\n",
    "# plt.rc('font', size=50)\n",
    "# plt.rcParams.update({'font.size': 14})\n",
    "warnings.filterwarnings('ignore')"
   ],
   "metadata": {
    "collapsed": false,
    "pycharm": {
     "name": "#%%\n"
    }
   }
  },
  {
   "cell_type": "markdown",
   "source": [
    "# Number of Rules Per Pop Percentage"
   ],
   "metadata": {
    "collapsed": false,
    "pycharm": {
     "name": "#%% md\n"
    }
   }
  },
  {
   "cell_type": "code",
   "execution_count": null,
   "outputs": [],
   "source": [
    "from MetricCalculation import Coverage as cov"
   ],
   "metadata": {
    "collapsed": false,
    "pycharm": {
     "name": "#%%\n"
    }
   }
  },
  {
   "cell_type": "code",
   "execution_count": null,
   "outputs": [],
   "source": [
    "# ICU\n",
    "\n",
    "clientDF_ICU = cov.loadClientRules(8000, \"../Data/ICU/Best/\", cutoff=0.0)\n",
    "print(\"CLIENT DF\", clientDF_ICU)\n"
   ],
   "metadata": {
    "collapsed": false,
    "pycharm": {
     "name": "#%%\n"
    }
   }
  },
  {
   "cell_type": "code",
   "execution_count": null,
   "outputs": [],
   "source": [
    "# cutoff = 0\n",
    "\n",
    "# cdf = clientDF[clientDF['Percent of Population'] > cutoff]\n",
    "# clientRules = cdf['Rule'].tolist()\n",
    "# print(\"Total Client Rules\", len(clientDF))\n",
    "# print(\"Total Client Rules at Cutoff Thresh\", len(cdf))"
   ],
   "metadata": {
    "collapsed": false,
    "pycharm": {
     "name": "#%%\n"
    }
   }
  },
  {
   "cell_type": "code",
   "execution_count": null,
   "outputs": [],
   "source": [
    "numPts_ICU = list(range(1,8001))\n",
    "prcnts_ICU = []\n",
    "\n",
    "icu_nrules = []\n",
    "for n in numPts_ICU:\n",
    "    cutoff = n/8000\n",
    "    prcnts_ICU.append(cutoff)\n",
    "\n",
    "    cdf = clientDF_ICU[clientDF_ICU['Percent of Population'] > cutoff]\n",
    "    clientRules = cdf['Rule'].tolist()\n",
    "    print(\"\\nCutoff\",cutoff)\n",
    "    print(\"Total Client Rules\", len(clientDF_ICU))\n",
    "    print(\"Total Client Rules at Cutoff Thresh\", len(cdf))\n",
    "    \n",
    "    icu_nrules.append(len(cdf))\n",
    "    \n",
    "icu_nrules"
   ],
   "metadata": {
    "collapsed": false,
    "pycharm": {
     "name": "#%%\n"
    }
   }
  },
  {
   "cell_type": "code",
   "execution_count": null,
   "outputs": [],
   "source": [
    "# Rule Breakdown - ICU\n",
    "# prcnts = [0.00001, 0.0001, 0.001, 0.01, 0.1]\n",
    "# icu_nrules = [34208, 34208, 1285, 639, 4]\n",
    "\n",
    "\n",
    "fig, ax = plt.subplots()\n",
    "plt.plot(numPts_ICU, icu_nrules, '-', color='royalblue', label=\"ICU\")\n",
    "\n",
    "# Plot values for each tick\n",
    "# for i in range(len(numPts)):\n",
    "#     ax.annotate(str(icu_nrules[i]), xy=(prcnts[i], icu_nrules[i] + 500))\n",
    "#     ax.text(numPts[i], icu_nrules[i], str(icu_nrules[i]), color='royalblue', ha='center', va='bottom')\n",
    "\n",
    "\n",
    "ax.set_ylabel('Number of Rules')\n",
    "ax.set_xlabel(\"Number of Clients\")\n",
    "# ax.set_xscale('log')\n",
    "ax.set_yscale('log')\n",
    "# ax.set_ylim(0, 36000)\n",
    "\n",
    "ax.set_title('Number of Rules at Different Number of Client Matches')\n",
    "ax.legend()\n",
    "ax.yaxis.grid(True)\n",
    "ax.xaxis.grid(True)\n",
    "plt.savefig(\"../Graphs/RulePercentages/ICU_Rule_Breakdown_count.png\", bbox_inches='tight')\n",
    "\n",
    "plt.show()"
   ],
   "metadata": {
    "collapsed": false,
    "pycharm": {
     "name": "#%%\n"
    }
   }
  },
  {
   "cell_type": "code",
   "execution_count": null,
   "outputs": [],
   "source": [
    "# Rule Breakdown - ICU\n",
    "# prcnts = [0.00001, 0.0001, 0.001, 0.01, 0.1]\n",
    "# icu_nrules = [34208, 34208, 1285, 639, 4]\n",
    "\n",
    "\n",
    "fig, ax = plt.subplots()\n",
    "plt.plot(prcnts_ICU, icu_nrules, '-', color='royalblue', label=\"ICU\")\n",
    "\n",
    "# # Plot values for each tick\n",
    "# for i in range(0,len(prcnts), 10):\n",
    "# #     ax.annotate(str(icu_nrules[i]), xy=(prcnts[i], icu_nrules[i] + 500))\n",
    "#     ax.text(prcnts[i], icu_nrules[i], str(icu_nrules[i]), color='royalblue', ha='center', va='bottom')\n",
    "\n",
    "# ax.text(prcnts_ICU[0], icu_nrules[0], str(icu_nrules[0]), color='royalblue', ha='left', va='bottom')\n",
    "\n",
    "\n",
    "ax.set_ylabel('Number of Rules')\n",
    "ax.set_xlabel(\"Population Percentage\")\n",
    "# ax.set_xscale('log')\n",
    "ax.set_yscale('log')\n",
    "ax.set_ylim(0, 2500000)\n",
    "\n",
    "ax.set_title('Number of Rules at Different Population Percentages')\n",
    "ax.legend()\n",
    "ax.yaxis.grid(True)\n",
    "ax.xaxis.grid(True)\n",
    "\n",
    "plt.savefig(\"../Graphs/RulePercentages/ICU_Rule_Breakdown_percent.png\", bbox_inches='tight')\n",
    "\n",
    "plt.show()"
   ],
   "metadata": {
    "collapsed": false,
    "pycharm": {
     "name": "#%%\n"
    }
   }
  },
  {
   "cell_type": "code",
   "execution_count": null,
   "outputs": [],
   "source": [],
   "metadata": {
    "collapsed": false,
    "pycharm": {
     "name": "#%%\n"
    }
   }
  },
  {
   "cell_type": "markdown",
   "source": [
    "## Sepsis"
   ],
   "metadata": {
    "collapsed": false,
    "pycharm": {
     "name": "#%% md\n"
    }
   }
  },
  {
   "cell_type": "code",
   "execution_count": null,
   "outputs": [],
   "source": [
    "# Sepsis\n",
    "clientDF_SEPSIS = cov.loadClientRules(40336, \"../Data/Sepsis/Best/\", cutoff=0.0)\n",
    "print(\"CLIENT DF\", clientDF_SEPSIS )"
   ],
   "metadata": {
    "collapsed": false,
    "pycharm": {
     "name": "#%%\n"
    }
   }
  },
  {
   "cell_type": "code",
   "execution_count": null,
   "outputs": [],
   "source": [
    "numPts_SEPSIS = list(range(1,40337))\n",
    "prcnts_SEPSIS = []\n",
    "\n",
    "sepsis_nrules = []\n",
    "for n in numPts_SEPSIS:\n",
    "    cutoff = n/40337\n",
    "    prcnts_SEPSIS.append(cutoff)\n",
    "\n",
    "    cdf = clientDF_SEPSIS[clientDF_SEPSIS['Percent of Population'] > cutoff]\n",
    "    clientRules = cdf['Rule'].tolist()\n",
    "    print(\"\\nCutoff\",cutoff)\n",
    "    print(\"Total Client Rules\", len(clientDF_SEPSIS))\n",
    "    print(\"Total Client Rules at Cutoff Thresh\", len(cdf))\n",
    "    \n",
    "    sepsis_nrules.append(len(cdf))\n",
    "    \n",
    "sepsis_nrules"
   ],
   "metadata": {
    "collapsed": false,
    "pycharm": {
     "name": "#%%\n"
    }
   }
  },
  {
   "cell_type": "code",
   "execution_count": null,
   "outputs": [],
   "source": [
    "# Rule Breakdown - Sepsis, num rules\n",
    "\n",
    "fig, ax = plt.subplots()\n",
    "plt.plot(numPts_SEPSIS, sepsis_nrules, '-', color='red', label=\"Sepsis\")\n",
    "\n",
    "# Plot values for each tick\n",
    "# for i in range(len(numPts)):\n",
    "#     ax.annotate(str(icu_nrules[i]), xy=(prcnts[i], icu_nrules[i] + 500))\n",
    "#     ax.text(numPts[i], icu_nrules[i], str(icu_nrules[i]), color='royalblue', ha='center', va='bottom')\n",
    "\n",
    "\n",
    "ax.set_ylabel('Number of Rules')\n",
    "ax.set_xlabel(\"Number of Clients\")\n",
    "# ax.set_xscale('log')\n",
    "ax.set_yscale('log')\n",
    "# ax.set_ylim(0, 36000)\n",
    "\n",
    "ax.set_title('Number of Rules at Different Number of Client Matches')\n",
    "ax.legend()\n",
    "ax.yaxis.grid(True)\n",
    "ax.xaxis.grid(True)\n",
    "plt.savefig(\"../Graphs/RulePercentages/Sepsis_Rule_Breakdown_count.png\", bbox_inches='tight')\n",
    "\n",
    "plt.show()"
   ],
   "metadata": {
    "collapsed": false,
    "pycharm": {
     "name": "#%%\n"
    }
   }
  },
  {
   "cell_type": "code",
   "execution_count": null,
   "outputs": [],
   "source": [
    "# Rule Breakdown - Sepsis, percents\n",
    "fig, ax = plt.subplots()\n",
    "plt.plot(prcnts_SEPSIS, sepsis_nrules, '-', color='red', label=\"Sepsis\")\n",
    "\n",
    "# # Plot values for each tick\n",
    "# for i in range(0,len(prcnts), 10):\n",
    "# #     ax.annotate(str(icu_nrules[i]), xy=(prcnts[i], icu_nrules[i] + 500))\n",
    "#     ax.text(prcnts[i], icu_nrules[i], str(icu_nrules[i]), color='royalblue', ha='center', va='bottom')\n",
    "\n",
    "# ax.text(prcnts_SEPSIS[0], sepsis_nrules[0], str(sepsis_nrules[0]), color='red', ha='left', va='bottom')\n",
    "\n",
    "\n",
    "ax.set_ylabel('Number of Rules')\n",
    "ax.set_xlabel(\"Population Percentage\")\n",
    "# ax.set_xscale('log')\n",
    "ax.set_yscale('log')\n",
    "# ax.set_ylim(0, 36000)\n",
    "\n",
    "ax.set_title('Number of Rules at Different Population Percentages')\n",
    "ax.legend()\n",
    "ax.yaxis.grid(True)\n",
    "ax.xaxis.grid(True)\n",
    "\n",
    "plt.savefig(\"../Graphs/RulePercentages/Sepsis_Rule_Breakdown_percent.png\", bbox_inches='tight')\n",
    "\n",
    "plt.show()"
   ],
   "metadata": {
    "collapsed": false,
    "pycharm": {
     "name": "#%%\n"
    }
   }
  },
  {
   "cell_type": "code",
   "execution_count": null,
   "outputs": [],
   "source": [],
   "metadata": {
    "collapsed": false,
    "pycharm": {
     "name": "#%%\n"
    }
   }
  },
  {
   "cell_type": "code",
   "execution_count": null,
   "outputs": [],
   "source": [],
   "metadata": {
    "collapsed": false,
    "pycharm": {
     "name": "#%%\n"
    }
   }
  },
  {
   "cell_type": "markdown",
   "source": [
    "## T1D"
   ],
   "metadata": {
    "collapsed": false,
    "pycharm": {
     "name": "#%% md\n"
    }
   }
  },
  {
   "cell_type": "code",
   "execution_count": null,
   "outputs": [],
   "source": [
    "# T1D\n",
    "clientDF_T1D = cov.loadClientRules(34013, \"../Data/T1D/Best/\", cutoff=0.0)\n",
    "print(\"CLIENT DF\", clientDF_T1D)"
   ],
   "metadata": {
    "collapsed": false,
    "pycharm": {
     "name": "#%%\n"
    }
   }
  },
  {
   "cell_type": "code",
   "execution_count": null,
   "outputs": [],
   "source": [
    "numPts_T1D = list(range(1,34014)) #350\n",
    "prcnts_T1D = []\n",
    "\n",
    "t1d_nrules = []\n",
    "for n in numPts_T1D:\n",
    "    cutoff = n/34014\n",
    "    prcnts_T1D.append(cutoff)\n",
    "\n",
    "    cdf = clientDF_T1D[clientDF_T1D['Percent of Population'] > cutoff]\n",
    "    clientRules = cdf['Rule'].tolist()\n",
    "    print(\"\\nCutoff\",cutoff)\n",
    "    print(\"Total Client Rules\", len(clientDF_T1D))\n",
    "    print(\"Total Client Rules at Cutoff Thresh\", len(cdf))\n",
    "    \n",
    "    t1d_nrules.append(len(cdf))\n",
    "    \n",
    "t1d_nrules"
   ],
   "metadata": {
    "collapsed": false,
    "pycharm": {
     "name": "#%%\n"
    }
   }
  },
  {
   "cell_type": "code",
   "execution_count": null,
   "outputs": [],
   "source": [
    "# Rule Breakdown - T1d, num rules\n",
    "\n",
    "fig, ax = plt.subplots()\n",
    "plt.plot(numPts_T1D, t1d_nrules, '-', color='mediumseagreen', label=\"T1D\")\n",
    "\n",
    "# Plot values for each tick\n",
    "# for i in range(len(numPts)):\n",
    "#     ax.annotate(str(icu_nrules[i]), xy=(prcnts[i], icu_nrules[i] + 500))\n",
    "#     ax.text(numPts[i], icu_nrules[i], str(icu_nrules[i]), color='royalblue', ha='center', va='bottom')\n",
    "\n",
    "\n",
    "ax.set_ylabel('Number of Rules')\n",
    "ax.set_xlabel(\"Number of Clients\")\n",
    "# ax.set_xscale('log')\n",
    "ax.set_yscale('log')\n",
    "# ax.set_ylim(0, 36000)\n",
    "\n",
    "ax.set_title('Number of Rules at Different Number of Client Matches')\n",
    "# Number of Rules vs. Number of Clients who have that rule\n",
    "ax.legend()\n",
    "ax.yaxis.grid(True)\n",
    "ax.xaxis.grid(True)\n",
    "plt.savefig(\"../Graphs/RulePercentages/T1D_Rule_Breakdown_count.png\", bbox_inches='tight')\n",
    "\n",
    "plt.show()"
   ],
   "metadata": {
    "collapsed": false,
    "pycharm": {
     "name": "#%%\n"
    }
   }
  },
  {
   "cell_type": "code",
   "execution_count": null,
   "outputs": [],
   "source": [
    "# Rule Breakdown - T1d, percents\n",
    "fig, ax = plt.subplots()\n",
    "plt.plot(prcnts_T1D, t1d_nrules, '-', color='mediumseagreen', label=\"T1D\")\n",
    "\n",
    "# # Plot values for each tick\n",
    "# for i in range(0,len(prcnts), 10):\n",
    "# #     ax.annotate(str(icu_nrules[i]), xy=(prcnts[i], icu_nrules[i] + 500))\n",
    "#     ax.text(prcnts[i], icu_nrules[i], str(icu_nrules[i]), color='royalblue', ha='center', va='bottom')\n",
    "\n",
    "\n",
    "ax.set_ylabel('Number of Rules')\n",
    "ax.set_xlabel(\"Population Percentage\")\n",
    "# ax.set_xscale('log')\n",
    "ax.set_yscale('log')\n",
    "# ax.set_ylim(0, 36000)\n",
    "\n",
    "ax.set_title('Number of Rules at Different Population Percentages')\n",
    "ax.legend()\n",
    "ax.yaxis.grid(True)\n",
    "ax.xaxis.grid(True)\n",
    "\n",
    "plt.savefig(\"../Graphs/RulePercentages/T1D_Rule_Breakdown_percent.png\", bbox_inches='tight')\n",
    "\n",
    "plt.show()"
   ],
   "metadata": {
    "collapsed": false,
    "pycharm": {
     "name": "#%%\n"
    }
   }
  },
  {
   "cell_type": "markdown",
   "source": [
    "## All Together as Percents"
   ],
   "metadata": {
    "collapsed": false,
    "pycharm": {
     "name": "#%% md\n"
    }
   }
  },
  {
   "cell_type": "code",
   "execution_count": null,
   "outputs": [],
   "source": [
    "fig, ax = plt.subplots()\n",
    "plt.plot(numPts_ICU, icu_nrules, '-', color='royalblue', label=\"ICU\")\n",
    "plt.plot(numPts_SEPSIS, sepsis_nrules, '-', color='red', label=\"Sepsis\")\n",
    "plt.plot(numPts_T1D, t1d_nrules, '-', color='mediumseagreen', label=\"T1D\")\n",
    "\n",
    "ax.set_ylabel('Number of Rules')\n",
    "ax.set_xlabel(\"Number of Clients\")\n",
    "# ax.set_xscale('log')\n",
    "ax.set_yscale('log')\n",
    "# ax.set_ylim(0, 36000)\n",
    "\n",
    "ax.set_title('Number of Rules at Different Client Counts')\n",
    "ax.legend()\n",
    "ax.yaxis.grid(True)\n",
    "ax.xaxis.grid(True)\n",
    "\n",
    "plt.savefig(\"../Graphs/RulePercentages/All_Rulesets_Counts.png\", bbox_inches='tight')\n",
    "plt.show()"
   ],
   "metadata": {
    "collapsed": false,
    "pycharm": {
     "name": "#%%\n"
    }
   }
  },
  {
   "cell_type": "code",
   "execution_count": null,
   "outputs": [],
   "source": [
    "fig, ax = plt.subplots()\n",
    "plt.plot(prcnts_ICU, icu_nrules, '-', color='royalblue', label=\"ICU\")\n",
    "plt.plot(prcnts_SEPSIS, sepsis_nrules, '-', color='red', label=\"Sepsis\")\n",
    "plt.plot(prcnts_T1D, t1d_nrules, '-', color='mediumseagreen', label=\"T1D\")\n",
    "\n",
    "ax.set_ylabel('Number of Rules')\n",
    "ax.set_xlabel(\"Population Percentage\")\n",
    "# ax.set_xscale('log')\n",
    "ax.set_yscale('log')\n",
    "# ax.set_ylim(0, 36000)\n",
    "\n",
    "ax.set_title('Number of Rules at Different Population Percentages')\n",
    "ax.legend()\n",
    "ax.yaxis.grid(True)\n",
    "ax.xaxis.grid(True)\n",
    "\n",
    "plt.savefig(\"../Graphs/RulePercentages/All_Rulesets_Percentage.png\", bbox_inches='tight')\n",
    "plt.show()"
   ],
   "metadata": {
    "collapsed": false,
    "pycharm": {
     "name": "#%%\n"
    }
   }
  },
  {
   "cell_type": "code",
   "execution_count": null,
   "outputs": [],
   "source": [],
   "metadata": {
    "collapsed": false,
    "pycharm": {
     "name": "#%%\n"
    }
   }
  },
  {
   "cell_type": "code",
   "execution_count": null,
   "outputs": [],
   "source": [],
   "metadata": {
    "collapsed": false,
    "pycharm": {
     "name": "#%%\n"
    }
   }
  },
  {
   "cell_type": "code",
   "execution_count": null,
   "outputs": [],
   "source": [
    "# Rule Breakdown - OLD GRAPH\n",
    "prcnts = [0.00001, 0.0001, 0.001, 0.01, 0.1]\n",
    "icu_nrules = [34208, 34208, 1285, 639, 4]\n",
    "sepsis_nrules = [2344179, 24823, 8178, 78, 7]\n",
    "t1d_nrules = [1353598, 31025, 1508, 4, 4]\n",
    "\n",
    "fig, ax = plt.subplots()\n",
    "b_color = 'cornflowerblue'\n",
    "a_color = 'crimson' #'crimson' 'tomato' 'lightcoral' 'r'\n",
    "\n",
    "plt.plot(prcnts, icu_nrules, 'o-', color='royalblue', label=\"ICU\")\n",
    "plt.plot(prcnts, sepsis_nrules, 'o-', color='red', label=\"Sepsis\")\n",
    "plt.plot(prcnts, t1d_nrules, 'o-', color='mediumseagreen', label=\"T1D\")\n",
    "\n",
    "# Plot values for each tick\n",
    "for i in range(len(prcnts)):\n",
    "#     ax.annotate(str(icu_nrules[i]), xy=(prcnts[i], icu_nrules[i] + 500))\n",
    "    ax.text(prcnts[i], icu_nrules[i], str(icu_nrules[i]), color='royalblue', ha='center', va='bottom')\n",
    "    ax.text(prcnts[i], sepsis_nrules[i], str(sepsis_nrules[i]), color='red', ha='center', va='bottom')\n",
    "#     ax.text(prcnts[i], t1d_nrules[i], str(t1d_nrules[i]), ha='center', va='bottom')\n",
    "\n",
    "ax.set_ylabel('Number of Rules')\n",
    "ax.set_xlabel(\"Population Percentage\")\n",
    "ax.set_xscale('log')\n",
    "ax.set_yscale('log')\n",
    "# ax.set_ylim(0, 36000)\n",
    "\n",
    "ax.set_title('Numer of Rules at Different Percentages')\n",
    "ax.legend()\n",
    "ax.yaxis.grid(True)\n",
    "ax.xaxis.grid(True)\n",
    "plt.show()"
   ],
   "metadata": {
    "collapsed": false,
    "pycharm": {
     "name": "#%%\n"
    }
   }
  },
  {
   "cell_type": "code",
   "execution_count": null,
   "outputs": [],
   "source": [],
   "metadata": {
    "collapsed": false,
    "pycharm": {
     "name": "#%%\n"
    }
   }
  },
  {
   "cell_type": "markdown",
   "source": [
    "# Coverage"
   ],
   "metadata": {
    "collapsed": false,
    "pycharm": {
     "name": "#%% md\n"
    }
   }
  },
  {
   "cell_type": "markdown",
   "source": [
    "## ICU\n",
    "Comparison of protocol versions --> baselines vs adaptive vs adaptive + active clients\n"
   ],
   "metadata": {
    "collapsed": false,
    "pycharm": {
     "name": "#%% md\n"
    }
   }
  },
  {
   "cell_type": "code",
   "execution_count": null,
   "outputs": [],
   "source": [
    "# Coverage\n",
    "\n",
    "eps = [0.01, 0.1, 1, 10, 100, 1000, 10000]\n",
    "\n",
    "#Baseline 1000 queries\n",
    "# base_cov = np.array([0.0165517241, 0.0172413793, 0.0175862069, 0.175862069, 0.2, 0.286206897])\n",
    "base_cov = np.array([0, 0.003, 0.007, 0.24, 0.31, 0.35, 0.47])\n",
    "base_cov_stds = np.array([0.013793103, 0.037773969, 0.039164885, 0.036001057, 0.055172414, 0.074677268, 0.022])\n",
    "base_prec = np.array([0.55, 0.61, 0.72, 0.86, 0.89, 0.94, 1])\n",
    "base_prec_stds = np.array([0.024394823,0.024188198, 0.027066528,0.03260531, 0.031205005, 0.01544, 0.0235])\n",
    "\n",
    "\n",
    "#Baseline 5000 queries\n",
    "\n",
    "\n",
    "# Adaptive\n",
    "covs = np.array([0.08, 0.22, 0.63, 0.74, 0.98, 1, 1])\n",
    "cov_stds = np.array([0.016893033, 0.090971765, 0.031034483, 0.039164885, 0.01,   0, 0])\n",
    "\n",
    "prec = np.array([0.88, 0.97, 0.99, 1, 1, 1, 1])\n",
    "prec_stds = np.array([0.022902747, 0.02938773, 0.01, 0, 0, 0, 0])\n",
    "\n",
    "\n",
    "\n",
    "# Build the plot\n",
    "fig, ax = plt.subplots()\n",
    "x = np.arange(len(eps))\n",
    "b_color = 'cornflowerblue'\n",
    "a_color = 'crimson' #'crimson' 'tomato' 'lightcoral' 'r'\n",
    "\n",
    "plt.plot(x, base_prec, 'o--', color=b_color, label=\"Baseline 1000Q Precision\")\n",
    "plt.fill_between(x, base_prec-base_prec_stds, base_prec+base_prec_stds, color=b_color, alpha=0.2)\n",
    "plt.plot(x, prec, 'o--', color=a_color , label=\"Adaptive Precision\")\n",
    "plt.fill_between(x, prec-prec_stds, prec+prec_stds, color=a_color , alpha=0.2)\n",
    "\n",
    "plt.plot(x, base_cov, 'o-', color=b_color, label=\"Baseline 1000Q Coverage\")\n",
    "plt.fill_between(x, base_cov-base_cov_stds, base_cov+base_cov_stds, color=b_color, alpha=0.2)\n",
    "plt.plot(x, covs, 'o-', color=a_color , label=\"Adaptive Coverage\")\n",
    "plt.fill_between(x, covs-cov_stds, covs+cov_stds, color=a_color , alpha=0.2)\n",
    "\n",
    "\n",
    "ax.set_ylabel('Fraction')\n",
    "ax.set_xlabel(\"Epsilon\")\n",
    "ax.set_ylim(0, 1.1)\n",
    "ax.set_xticks(x)\n",
    "ax.set_xticklabels(eps)\n",
    "ax.set_title('Coverage Results - ICU Dataset, V=1%')\n",
    "ax.legend()\n",
    "ax.yaxis.grid(True)\n",
    "plt.show()"
   ],
   "metadata": {
    "collapsed": false,
    "pycharm": {
     "name": "#%%\n"
    }
   }
  },
  {
   "cell_type": "markdown",
   "source": [
    "## Full Results"
   ],
   "metadata": {
    "collapsed": false,
    "pycharm": {
     "name": "#%% md\n"
    }
   }
  },
  {
   "cell_type": "code",
   "execution_count": null,
   "outputs": [],
   "source": [
    "def loadCovRes(df_name, df_stds_name):\n",
    "    df = pd.read_csv(df_name, index_col=0)\n",
    "    df_stds = pd.read_csv(df_stds_name, index_col=0)\n",
    "    \n",
    "    display(df)\n",
    "    \n",
    "    cov = df['Coverage'].to_numpy()\n",
    "    cov_stds = df_stds['Coverage'].to_numpy()\n",
    "    prec = df['Precision'].to_numpy()\n",
    "    prec_stds = df_stds['Precision'].to_numpy()\n",
    "    quers = df['Queries'].to_numpy()\n",
    "    \n",
    "    return cov, cov_stds, prec, prec_stds, quers\n",
    "    "
   ],
   "metadata": {
    "collapsed": false,
    "pycharm": {
     "name": "#%%\n"
    }
   }
  },
  {
   "cell_type": "code",
   "execution_count": null,
   "outputs": [],
   "source": [
    "# Load data\n",
    "\n",
    "base_cov, base_cov_stds, base_prec, base_prec_stds, base_quers = loadCovRes(\"../Results/ICU/Baseline_1000Q_V1/COMPLETE_Coverage.csv\", \"../Results/ICU/Baseline_1000Q_V1/COMPLETE_Coverage_stds.csv\")\n",
    "\n"
   ],
   "metadata": {
    "collapsed": false,
    "pycharm": {
     "name": "#%%\n"
    }
   }
  },
  {
   "cell_type": "code",
   "execution_count": null,
   "outputs": [],
   "source": [
    "base_cov"
   ],
   "metadata": {
    "collapsed": false,
    "pycharm": {
     "name": "#%%\n"
    }
   }
  },
  {
   "cell_type": "code",
   "execution_count": null,
   "outputs": [],
   "source": [
    "# Coverage\n",
    "\n",
    "eps = [0.01, 0.1, 1, 10, 100, 1000, 10000]\n",
    "\n",
    "\n",
    "# Adaptive\n",
    "covs = np.array([0.08, 0.22, 0.63, 0.74, 0.98, 1, 1])\n",
    "cov_stds = np.array([0.016893033, 0.090971765, 0.031034483, 0.039164885, 0.01,   0, 0])\n",
    "\n",
    "prec = np.array([0.88, 0.97, 0.99, 1, 1, 1, 1])\n",
    "prec_stds = np.array([0.022902747, 0.02938773, 0.01, 0, 0, 0, 0])\n",
    "\n",
    "\n",
    "\n",
    "# Build the plot\n",
    "fig, ax = plt.subplots()\n",
    "x = np.arange(len(eps))\n",
    "b_color = 'cornflowerblue'\n",
    "a_color = 'crimson' #'crimson' 'tomato' 'lightcoral' 'r'\n",
    "\n",
    "plt.plot(x, base_prec, 'o--', color=b_color, label=\"Baseline 1000Q Precision\")\n",
    "plt.fill_between(x, base_prec-base_prec_stds, base_prec+base_prec_stds, color=b_color, alpha=0.2)\n",
    "plt.plot(x, prec, 'o--', color=a_color , label=\"Adaptive Precision\")\n",
    "plt.fill_between(x, prec-prec_stds, prec+prec_stds, color=a_color , alpha=0.2)\n",
    "\n",
    "plt.plot(x, base_cov, 'o-', color=b_color, label=\"Baseline 1000Q Coverage\")\n",
    "plt.fill_between(x, base_cov-base_cov_stds, base_cov+base_cov_stds, color=b_color, alpha=0.2)\n",
    "plt.plot(x, covs, 'o-', color=a_color , label=\"Adaptive Coverage\")\n",
    "plt.fill_between(x, covs-cov_stds, covs+cov_stds, color=a_color , alpha=0.2)\n",
    "\n",
    "\n",
    "ax.set_ylabel('Fraction')\n",
    "ax.set_xlabel(\"Epsilon\")\n",
    "ax.set_ylim(0, 1.1)\n",
    "ax.set_xticks(x)\n",
    "ax.set_xticklabels(eps)\n",
    "ax.set_title('Coverage Results - ICU Dataset, V=1%')\n",
    "ax.legend()\n",
    "ax.yaxis.grid(True)\n",
    "plt.show()"
   ],
   "metadata": {
    "collapsed": false,
    "pycharm": {
     "name": "#%%\n"
    }
   }
  },
  {
   "cell_type": "code",
   "execution_count": null,
   "outputs": [],
   "source": [],
   "metadata": {
    "collapsed": false,
    "pycharm": {
     "name": "#%%\n"
    }
   }
  },
  {
   "cell_type": "code",
   "execution_count": null,
   "outputs": [],
   "source": [],
   "metadata": {
    "collapsed": false,
    "pycharm": {
     "name": "#%%\n"
    }
   }
  },
  {
   "cell_type": "markdown",
   "source": [
    "# Analysis of the Adaptive Protocol"
   ],
   "metadata": {
    "collapsed": false,
    "pycharm": {
     "name": "#%% md\n"
    }
   }
  },
  {
   "cell_type": "markdown",
   "source": [
    "## Query Analysis"
   ],
   "metadata": {
    "collapsed": false,
    "pycharm": {
     "name": "#%% md\n"
    }
   }
  },
  {
   "cell_type": "code",
   "execution_count": null,
   "outputs": [],
   "source": [
    "# Num Queries\n",
    "eps = [0.01, 0.1, 1, 10, 100, 1000, 10000]\n",
    "\n",
    "queries = np.array([492, 720, 842, 1104, 4615, 4791, 4620])\n",
    "quers_std = np.array([0.9, 1.135781669, 2.638181192, 0.489897949, 1.688194302, 3.346640106, 1.998]) \n",
    "quers_std = [x * 100 for x in quers_std]\n",
    "\n",
    "quers_base = np.array([101, 510, 673, 699, 1200, 2004, 4600])\n",
    "quers_base_std = np.array([1.26, 0.994, 0.124, 1.2, 0.55, 0.36, 0.644]) \n",
    "quers_base_std = [x * 2 for x in quers_std]\n",
    "\n",
    "\n",
    "fig, ax = plt.subplots()\n",
    "x = np.arange(len(eps))\n",
    "b_color = 'cornflowerblue'\n",
    "a_color = 'crimson' #'crimson' 'tomato' 'lightcoral' 'r'\n",
    "\n",
    "#nonprive ground truth number of queries\n",
    "ax.axhline(y=4620, color='k', label='Nonprivate Model')\n",
    "\n",
    "#plot model queries\n",
    "# plt.plot(x, quers_base, 'o-', color=b_color, label=\"Baseline 1000Q\")\n",
    "# plt.fill_between(x, quers_base-quers_base_std, quers_base+quers_base_std, color=b_color, alpha=0.2)\n",
    "plt.plot(x, queries, 'o-', color=a_color, label=\"Adaptive Model\")\n",
    "plt.fill_between(x, queries-quers_std, queries+quers_std, color=a_color, alpha=0.2)\n",
    "\n",
    "#add adaptive model + active clients\n",
    "\n",
    "ax.set_ylabel('Average Number of Queries Per Client')\n",
    "ax.set_xlabel(\"Epsilon\")\n",
    "# ax.set_ylim(0, 1)\n",
    "ax.set_xticks(x)\n",
    "ax.set_xticklabels(eps)\n",
    "ax.set_title('Query Analysis, Adaptive Model - ICU Dataset')\n",
    "ax.legend()\n",
    "ax.yaxis.grid(True)\n",
    "ax.xaxis.grid(True)\n",
    "plt.show()"
   ],
   "metadata": {
    "collapsed": false,
    "pycharm": {
     "name": "#%%\n"
    }
   }
  },
  {
   "cell_type": "markdown",
   "source": [
    "## Valid rule threshold (0.1%, 1%, 5%) vs coverage\n"
   ],
   "metadata": {
    "collapsed": false,
    "pycharm": {
     "name": "#%% md\n"
    }
   }
  },
  {
   "cell_type": "code",
   "execution_count": null,
   "outputs": [],
   "source": [
    "def loadVRRules(df_names, df_stds_names, eps):\n",
    "    \n",
    "    covs = []\n",
    "    covs_stds = []\n",
    "    precs = []\n",
    "    precs_stds = []\n",
    "    \n",
    "    for name in df_names:\n",
    "        df1 = pd.read_csv(name, index_col=\"Epsilon\")\n",
    "        display(df1)\n",
    "        covs.append(df1.loc[eps]['Coverage'])\n",
    "        precs.append(df1.loc[eps]['Precision'])\n",
    "    \n",
    "    for name in df_stds_names:\n",
    "        df2 = pd.read_csv(name, index_col=\"Epsilon\")\n",
    "        display(df2)\n",
    "        covs_stds.append(df2.loc[eps]['Coverage'])\n",
    "        precs_stds.append(df2.loc[eps]['Precision'])\n",
    "        \n",
    "    return np.array(covs), np.array(covs_stds), np.array(precs), np.array(precs_stds)"
   ],
   "metadata": {
    "collapsed": false,
    "pycharm": {
     "name": "#%%\n"
    }
   }
  },
  {
   "cell_type": "code",
   "execution_count": null,
   "outputs": [],
   "source": [
    "\n",
    "\n",
    "\n",
    "names = [\"../Results/ICU/Baseline_1000Q_V1/COMPLETE_Coverage.csv\"]\n",
    "\n",
    "stds_names = [\"../Results/ICU/Baseline_1000Q_V1/COMPLETE_Coverage_stds.csv\"]\n",
    "\n",
    "base_cov, base_cov_stds, base_prec, base_prec_stds = loadVRRules(names, stds_names, eps=1)"
   ],
   "metadata": {
    "collapsed": false,
    "pycharm": {
     "name": "#%%\n"
    }
   }
  },
  {
   "cell_type": "code",
   "execution_count": null,
   "outputs": [],
   "source": [
    "base_cov"
   ],
   "metadata": {
    "collapsed": false,
    "pycharm": {
     "name": "#%%\n"
    }
   }
  },
  {
   "cell_type": "code",
   "execution_count": null,
   "outputs": [],
   "source": [
    "Vs = [\"0.01\"]#, \"1\", \"5\", \"10\", \"50\"]\n",
    "\n",
    "# Build the plot\n",
    "fig, ax = plt.subplots()\n",
    "x = np.arange(len(Vs))\n",
    "b_color = 'cornflowerblue'\n",
    "a_color = 'crimson' #'crimson' 'tomato' 'lightcoral' 'r'\n",
    "\n",
    "plt.plot(x, base_prec, 'o--', color=b_color, label=\"Baseline 1000Q Precision\")\n",
    "plt.fill_between(x, base_prec-base_prec_stds, base_prec+base_prec_stds, color=b_color, alpha=0.2)\n",
    "# plt.plot(x, prec, 'o--', color=a_color , label=\"Adaptive Precision\")\n",
    "# plt.fill_between(x, prec-prec_stds, prec+prec_stds, color=a_color , alpha=0.2)\n",
    "\n",
    "plt.plot(x, base_cov, 'o-', color=b_color, label=\"Baseline 1000Q Coverage\")\n",
    "plt.fill_between(x, base_cov-base_cov_stds, base_cov+base_cov_stds, color=b_color, alpha=0.2)\n",
    "# plt.plot(x, covs, 'o-', color=a_color , label=\"Adaptive Coverage\")\n",
    "# plt.fill_between(x, covs-cov_stds, covs+cov_stds, color=a_color , alpha=0.2)\n",
    "\n",
    "\n",
    "ax.set_ylabel('Fraction')\n",
    "ax.set_xlabel(\"Valid Rule Threshold\")\n",
    "ax.set_ylim(0, 1.1)\n",
    "ax.set_xticks(x)\n",
    "ax.set_xticklabels(Vs)\n",
    "ax.set_title('Comparing Valid Rule Threshold vs. Coverage, Epsilon=1')\n",
    "ax.legend()\n",
    "ax.yaxis.grid(True)\n",
    "plt.show()"
   ],
   "metadata": {
    "collapsed": false,
    "pycharm": {
     "name": "#%%\n"
    }
   }
  },
  {
   "cell_type": "code",
   "execution_count": null,
   "outputs": [],
   "source": [],
   "metadata": {
    "collapsed": false,
    "pycharm": {
     "name": "#%%\n"
    }
   }
  },
  {
   "cell_type": "markdown",
   "source": [
    "## TO ADD: Error (theta) vs coverage & precision\n"
   ],
   "metadata": {
    "collapsed": false,
    "pycharm": {
     "name": "#%% md\n"
    }
   }
  },
  {
   "cell_type": "code",
   "execution_count": null,
   "outputs": [],
   "source": [],
   "metadata": {
    "collapsed": false,
    "pycharm": {
     "name": "#%%\n"
    }
   }
  },
  {
   "cell_type": "code",
   "execution_count": null,
   "outputs": [],
   "source": [],
   "metadata": {
    "collapsed": false,
    "pycharm": {
     "name": "#%%\n"
    }
   }
  },
  {
   "cell_type": "markdown",
   "source": [
    "## OLD GRAPHS"
   ],
   "metadata": {
    "collapsed": false,
    "pycharm": {
     "name": "#%% md\n"
    }
   }
  },
  {
   "cell_type": "markdown",
   "source": [
    "## Original code with example"
   ],
   "metadata": {
    "collapsed": false,
    "pycharm": {
     "name": "#%% md\n"
    }
   }
  },
  {
   "cell_type": "code",
   "execution_count": null,
   "outputs": [],
   "source": [
    "# Graphs\n",
    "eps = [0.01, 0.1, 1, 10, 100, 1000]\n",
    "\n",
    "\n",
    "#Baseline\n",
    "base_cov = np.array([0.0165517241, 0.0172413793, 0.0175862069, 0.175862069, 0.2, 0.286206897])\n",
    "base_cov_stds = np.array([0.013793103, 0.037773969, 0.039164885, 0.036001057, 0.055172414, 0.074677268])\n",
    "\n",
    "base_prec = np.array([0.630516507,0.679079386,0.682779394,0.692944407, 0.69716005, 0.709145596])\n",
    "base_prec_stds = np.array([0.023909371,0.024394823,0.024188198, 0.027066528,0.03260531, 0.031205005])\n",
    "\n",
    "# Adaptive\n",
    "covs = np.array([0.15862069, 0.213793103, 0.286206897, 0.306896552,   0.327586207, 0.379310345])\n",
    "cov_stds = np.array([0.016893033, 0.090971765, 0.031034483, 0.039164885,   0.058213597, 0.115401383])\n",
    "\n",
    "prec = np.array([0.672485669, 0.68702724, 0.692574686, 0.734376115, 0.739805989, 0.741285464])\n",
    "prec_stds = np.array([0.022902747, 0.02938773, 0.028979768, 0.021005668, 0.027866364, 0.012734432])\n",
    "\n",
    "\n",
    "\n",
    "# Build the plot\n",
    "fig, ax = plt.subplots()\n",
    "x = np.arange(len(eps))\n",
    "b_color = 'cornflowerblue'\n",
    "a_color = 'crimson' #'crimson' 'tomato' 'lightcoral' 'r'\n",
    "\n",
    "plt.plot(x, base_prec, 'o--', color=b_color, label=\"Baseline Precision\")\n",
    "plt.fill_between(x, base_prec-base_prec_stds, base_prec+base_prec_stds, color=b_color, alpha=0.2)\n",
    "plt.plot(x, prec, 'o--', color=a_color , label=\"Adaptive Precision\")\n",
    "plt.fill_between(x, prec-prec_stds, prec+prec_stds, color=a_color , alpha=0.2)\n",
    "\n",
    "plt.plot(x, base_cov, 'o-', color=b_color, label=\"Baseline Coverage\")\n",
    "plt.fill_between(x, base_cov-base_cov_stds, base_cov+base_cov_stds, color=b_color, alpha=0.2)\n",
    "plt.plot(x, covs, 'o-', color=a_color , label=\"Adaptive Coverage\")\n",
    "plt.fill_between(x, covs-cov_stds, covs+cov_stds, color=a_color , alpha=0.2)\n",
    "\n",
    "\n",
    "ax.set_ylabel('Percentage')\n",
    "ax.set_xlabel(\"Epsilon\")\n",
    "ax.set_ylim(0, 1)\n",
    "ax.set_xticks(x)\n",
    "ax.set_xticklabels(eps)\n",
    "ax.set_title('Coverage Results - ICU Dataset')\n",
    "ax.legend()\n",
    "ax.yaxis.grid(True)\n",
    "ax.xaxis.grid(True)\n",
    "plt.show()"
   ],
   "metadata": {
    "collapsed": false,
    "pycharm": {
     "name": "#%%\n"
    }
   }
  },
  {
   "cell_type": "code",
   "execution_count": null,
   "outputs": [],
   "source": [],
   "metadata": {
    "collapsed": false,
    "pycharm": {
     "name": "#%%\n"
    }
   }
  },
  {
   "cell_type": "code",
   "execution_count": null,
   "outputs": [],
   "source": [],
   "metadata": {
    "collapsed": false,
    "pycharm": {
     "name": "#%%\n"
    }
   }
  },
  {
   "cell_type": "code",
   "execution_count": null,
   "outputs": [],
   "source": [],
   "metadata": {
    "collapsed": false,
    "pycharm": {
     "name": "#%%\n"
    }
   }
  },
  {
   "cell_type": "code",
   "execution_count": null,
   "outputs": [],
   "source": [
    "# Code to plot set of plots\n",
    "\n",
    "fig = plt.figure(figsize=(14, 10))\n",
    "\n",
    "grid = plt.GridSpec(2, 3, wspace = .25, hspace = .25)\n",
    "plt.subplots_adjust(wspace= 0.25, hspace= 0.25)\n",
    "\n",
    "plt.subplot(grid[0, :])\n",
    "trace = egv.loc[0]\n",
    "# trace1 = egv.loc[6]\n",
    "# trace1 = egv.loc[8]\n",
    "trace1 = egv.loc[9]\n",
    "# trace2 = egv.loc[26]\n",
    "# trace2 = egv.loc[28]\n",
    "trace2 = egv.loc[38]\n",
    "# trace3 = egv.loc[41]\n",
    "# trace3 = egv.loc[43] #41 - 43 pretty good\n",
    "# trace3 = egv.loc[52]\n",
    "# trace3 = egv.loc[56]\n",
    "# trace3 = egv.loc[58]\n",
    "# trace3 = egv.loc[64]\n",
    "# trace3 = egv.loc[70]\n",
    "# trace3 = egv.loc[71] # high peak\n",
    "trace3 = egv.loc[92]\n",
    "time = range(len(trace))\n",
    "plt.plot(time, trace, label='Patient 0')\n",
    "plt.plot(time, trace1, label='Patient 1')\n",
    "plt.plot(time, trace2, label='Patient 2')\n",
    "plt.plot(time, trace3, label='Patient 3')\n",
    "plt.xlabel(\"Time\")\n",
    "plt.ylabel(\"Glucose (mg/dL)\")\n",
    "plt.ylim(40, 410)\n",
    "plt.legend()\n",
    "plt.title(\"Sample Glucose Traces\")\n",
    "\n",
    "plt.subplot(grid[1, 0])\n",
    "# m1 = egv.loc[71][170:210] # high peak\n",
    "m1 = egv.loc[86][70:120]\n",
    "time = range(len(m1))\n",
    "plt.plot(time, m1, color=\"k\")\n",
    "plt.xlabel(\"Timesteps\")\n",
    "plt.ylabel(\"Glucose (mg/dL)\")\n",
    "plt.ylim(40, 410)\n",
    "plt.title(\"Motif 0: High Peak\")\n",
    "\n",
    "plt.subplot(grid[1, 1])\n",
    "\n",
    "m2 = egv.loc[44][110:160] # large drop\n",
    "# m2 = egv.loc[63][32:72] # large drop\n",
    "time = range(len(m2))\n",
    "plt.plot(time, m2, color=\"k\")\n",
    "plt.xlabel(\"Timesteps\")\n",
    "plt.ylabel(\"Glucose (mg/dL)\")\n",
    "plt.ylim(40, 410)\n",
    "plt.title(\"Motif 1: Deep Trough\")\n",
    "\n",
    "plt.subplot(grid[1, 2])\n",
    "m3 = egv.loc[93][110:160] # stable in control\n",
    "time = range(len(m3))\n",
    "plt.plot(time, m3, color=\"k\")\n",
    "plt.xlabel(\"Timesteps\")\n",
    "plt.ylabel(\"Glucose (mg/dL)\")\n",
    "plt.ylim(40, 410)\n",
    "plt.title(\"Motif 2: Stable Line\")\n",
    "\n",
    "fig.tight_layout()\n",
    "fig.savefig(\"Figures/SampleTracesMotifs.png\", bbox_inches='tight', dpi=300)"
   ],
   "metadata": {
    "collapsed": false,
    "pycharm": {
     "name": "#%%\n"
    }
   }
  },
  {
   "cell_type": "code",
   "execution_count": null,
   "outputs": [],
   "source": [],
   "metadata": {
    "collapsed": false,
    "pycharm": {
     "name": "#%%\n"
    }
   }
  },
  {
   "cell_type": "code",
   "execution_count": null,
   "outputs": [],
   "source": [],
   "metadata": {
    "collapsed": false,
    "pycharm": {
     "name": "#%%\n"
    }
   }
  },
  {
   "cell_type": "code",
   "execution_count": null,
   "outputs": [],
   "source": [],
   "metadata": {
    "collapsed": false,
    "pycharm": {
     "name": "#%%\n"
    }
   }
  },
  {
   "cell_type": "code",
   "execution_count": null,
   "metadata": {
    "pycharm": {
     "name": "#%%\n"
    }
   },
   "outputs": [],
   "source": []
  },
  {
   "cell_type": "code",
   "execution_count": null,
   "metadata": {
    "pycharm": {
     "name": "#%%\n"
    }
   },
   "outputs": [],
   "source": []
  },
  {
   "cell_type": "code",
   "execution_count": null,
   "metadata": {
    "pycharm": {
     "name": "#%%\n"
    }
   },
   "outputs": [],
   "source": [
    "# Code to plot set of plots\n",
    "\n",
    "fig = plt.figure(figsize=(14, 10))\n",
    "\n",
    "grid = plt.GridSpec(2, 3, wspace = .25, hspace = .25)\n",
    "plt.subplots_adjust(wspace= 0.25, hspace= 0.25)\n",
    "\n",
    "plt.subplot(grid[0, :])\n",
    "trace = egv.loc[0]\n",
    "# trace1 = egv.loc[6]\n",
    "# trace1 = egv.loc[8]\n",
    "trace1 = egv.loc[9]\n",
    "# trace2 = egv.loc[26]\n",
    "# trace2 = egv.loc[28]\n",
    "trace2 = egv.loc[38]\n",
    "# trace3 = egv.loc[41]\n",
    "# trace3 = egv.loc[43] #41 - 43 pretty good\n",
    "# trace3 = egv.loc[52]\n",
    "# trace3 = egv.loc[56]\n",
    "# trace3 = egv.loc[58]\n",
    "# trace3 = egv.loc[64]\n",
    "# trace3 = egv.loc[70]\n",
    "# trace3 = egv.loc[71] # high peak\n",
    "trace3 = egv.loc[92]\n",
    "time = range(len(trace))\n",
    "plt.plot(time, trace, label='Patient 0')\n",
    "plt.plot(time, trace1, label='Patient 1')\n",
    "plt.plot(time, trace2, label='Patient 2')\n",
    "plt.plot(time, trace3, label='Patient 3')\n",
    "plt.xlabel(\"Time\")\n",
    "plt.ylabel(\"Glucose (mg/dL)\")\n",
    "plt.ylim(40, 410)\n",
    "plt.legend()\n",
    "plt.title(\"Sample Glucose Traces\")\n",
    "\n",
    "plt.subplot(grid[1, 0])\n",
    "# m1 = egv.loc[71][170:210] # high peak\n",
    "m1 = egv.loc[86][70:120]\n",
    "time = range(len(m1))\n",
    "plt.plot(time, m1, color=\"k\")\n",
    "plt.xlabel(\"Timesteps\")\n",
    "plt.ylabel(\"Glucose (mg/dL)\")\n",
    "plt.ylim(40, 410)\n",
    "plt.title(\"Motif 0: High Peak\")\n",
    "\n",
    "plt.subplot(grid[1, 1])\n",
    "\n",
    "m2 = egv.loc[44][110:160] # large drop\n",
    "# m2 = egv.loc[63][32:72] # large drop\n",
    "time = range(len(m2))\n",
    "plt.plot(time, m2, color=\"k\")\n",
    "plt.xlabel(\"Timesteps\")\n",
    "plt.ylabel(\"Glucose (mg/dL)\")\n",
    "plt.ylim(40, 410)\n",
    "plt.title(\"Motif 1: Deep Trough\")\n",
    "\n",
    "plt.subplot(grid[1, 2])\n",
    "m3 = egv.loc[93][110:160] # stable in control\n",
    "time = range(len(m3))\n",
    "plt.plot(time, m3, color=\"k\")\n",
    "plt.xlabel(\"Timesteps\")\n",
    "plt.ylabel(\"Glucose (mg/dL)\")\n",
    "plt.ylim(40, 410)\n",
    "plt.title(\"Motif 2: Stable Line\")\n",
    "\n",
    "fig.tight_layout()\n",
    "fig.savefig(\"Figures/SampleTracesMotifs.png\", bbox_inches='tight', dpi=300)"
   ]
  },
  {
   "cell_type": "code",
   "execution_count": null,
   "metadata": {
    "pycharm": {
     "name": "#%%\n"
    }
   },
   "outputs": [],
   "source": []
  },
  {
   "cell_type": "code",
   "execution_count": null,
   "metadata": {
    "pycharm": {
     "name": "#%%\n"
    }
   },
   "outputs": [],
   "source": []
  },
  {
   "cell_type": "code",
   "execution_count": null,
   "metadata": {
    "pycharm": {
     "name": "#%%\n"
    }
   },
   "outputs": [],
   "source": []
  },
  {
   "cell_type": "code",
   "execution_count": null,
   "metadata": {
    "pycharm": {
     "name": "#%%\n"
    }
   },
   "outputs": [],
   "source": []
  }
 ],
 "metadata": {
  "kernelspec": {
   "display_name": "Python 3 (ipykernel)",
   "language": "python",
   "name": "python3"
  },
  "language_info": {
   "codemirror_mode": {
    "name": "ipython",
    "version": 3
   },
   "file_extension": ".py",
   "mimetype": "text/x-python",
   "name": "python",
   "nbconvert_exporter": "python",
   "pygments_lexer": "ipython3",
   "version": "3.8.9"
  }
 },
 "nbformat": 4,
 "nbformat_minor": 1
}