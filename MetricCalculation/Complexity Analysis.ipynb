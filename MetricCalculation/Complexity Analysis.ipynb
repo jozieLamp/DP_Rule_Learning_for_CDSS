{
 "cells": [
  {
   "cell_type": "code",
   "execution_count": 1,
   "metadata": {},
   "outputs": [],
   "source": [
    "from SignalTemporalLogic.STLFactory import STLFactory\n",
    "import matplotlib.pyplot as plt\n",
    "plt.rc('font', size=12)\n",
    "import copy\n",
    "import pandas as pd\n",
    "import seaborn as sns\n",
    "import numpy as np\n",
    "from collections import Counter\n",
    "import warnings\n",
    "import treelib\n",
    "import re\n",
    "\n",
    "# warnings.filterwarnings('ignore')\n",
    "%matplotlib inline\n"
   ]
  },
  {
   "cell_type": "markdown",
   "metadata": {},
   "source": [
    "## Complexity Analysis - \n",
    "Given maximum depth and total number of variables, get max possible number of rule structures"
   ]
  },
  {
   "cell_type": "code",
   "execution_count": 2,
   "metadata": {},
   "outputs": [],
   "source": [
    "from RuleTemplate.RuleTemplate import RuleTemplate, Node, stlGrammarDict, terminalNodes\n",
    "import logging\n",
    "\n",
    "def complexityAnalysisSingle(maxDepth, varDict):\n",
    "    logging.basicConfig(level=logging.INFO)\n",
    "    temp = RuleTemplate(varDict=None, default=True)\n",
    "    \n",
    "    branches = [temp.getBranch(temp.root)]\n",
    "    addlBranches = []\n",
    "    depth = 1\n",
    "    while depth <= maxDepth:\n",
    "        for b in branches:\n",
    "            addlBranches.extend(expand(b, temp, varDict))\n",
    "        \n",
    "        branches = copy.deepcopy(addlBranches)\n",
    "        addlBranches = []\n",
    "        \n",
    "        print(\"DEPTH:\", depth, \", Total Branches:\", len(temp._branches))\n",
    "        depth += 1   \n",
    "        \n",
    "#         temp.showGraph()\n",
    "    \n",
    "    temp.dotGraph.write(\"../RuleTemplate/ComplexityAnalysis/Depth\" + str(maxDepth) + \"_Vars\" + str(len(varDict))\n",
    "                        +\".png\", format='png') \n",
    "\n",
    "    #get all possible rule structures from this  \n",
    "    rs = temp.generateRuleSet(verbose=True)\n",
    "    return rs\n",
    "        \n",
    "def complexityAnalysis(maxDepth, varDict):\n",
    "    lst = []\n",
    "    numStructs = []\n",
    "    totalBranches = []\n",
    "    \n",
    "    temp = RuleTemplate(varDict=None, default=True)\n",
    "    branches = [temp.getBranch(temp.root)]\n",
    "    addlBranches = []\n",
    "    depth = 1\n",
    "    while depth <= maxDepth:\n",
    "        for b in branches:\n",
    "            addlBranches.extend(expand(b, temp, varDict))\n",
    "        \n",
    "        branches = copy.deepcopy(addlBranches)\n",
    "        addlBranches = []  \n",
    "        \n",
    "#         temp.showGraph()\n",
    "    \n",
    "        temp.dotGraph.write(\"../RuleTemplate/ComplexityAnalysis/Depth\" + str(maxDepth) + \"_Vars\" + str(len(varDict))\n",
    "                        +\".png\", format='png') \n",
    "\n",
    "        #get all possible rule structures from this  \n",
    "        rs = temp.generateRuleSet(verbose=False)\n",
    "        \n",
    "        lst.append([len(varDict), depth, len(temp._branches), len(rs)])\n",
    "        #         print(\"DEPTH:\", depth, \", Total Branches:\", len(temp._branches))\n",
    "        depth += 1 \n",
    "        \n",
    "    return lst\n",
    "\n",
    "    \n",
    "def expand(branch, temp, varDict): #expand a single branch\n",
    "    nextBranches = []\n",
    "    for node in branch.nodes:\n",
    "        if node.type in stlGrammarDict.keys(): #node is expandable\n",
    "            childChoices = stlGrammarDict[node.type] #get possible child branches\n",
    "            \n",
    "            for choice in childChoices:                \n",
    "                if \"Variable\" in choice:\n",
    "                    for v in varDict.keys():\n",
    "                        br = temp.addBranch([v, \"Parameter\"], node.name, varBranch=True)  # add all children to branch\n",
    "\n",
    "                else: #non var branch\n",
    "                    \n",
    "                    br = temp.addBranch(choice, node.name) #add all children to branch\n",
    "                    nextBranches.append(br)\n",
    "\n",
    "    return nextBranches\n",
    "\n",
    "\n"
   ]
  },
  {
   "cell_type": "code",
   "execution_count": 3,
   "metadata": {
    "scrolled": true
   },
   "outputs": [],
   "source": [
    "# #Run complexity analysis for single set of vars\n",
    "# variables = {'LOS': [0.0, 122.0], 'ICU_Pt_Days': [0.0, 120.0], 'Mort': [0.0, 1.0], 'n_evts': [0.0, 5.0],\n",
    "#              'y': [0.0, 1.0], 'tte': [-60, 100], 'death': [0.0, 1.0],\n",
    "#              'direct': [0.0, 1.0], 'MET': [0.0, 1.0], 'Sgy': [0.0, 1.0], 'Glasgow_Coma_Scale_Total': [0, 15.0],\n",
    "#              'O2_Flow': [0.0, 10], 'Resp': [0.0, 50.0], 'SpO2': [80, 100.0], 'SBP': [0.0, 260.0],\n",
    "#              'Pulse': [0.0, 400.0], 'Temp': [30, 50], 'ALBUMIN': [1, 5.0],\n",
    "#              'ALKALINE_PHOSPHATASE': [15, 400], 'ALT_GPT': [6.0, 380], 'AST_GOT': [6.0, 250],\n",
    "#              'BLOOD_UREA_NITROGEN': [1, 120], 'CALCIUM': [2, 15], 'CHLORIDE': [80, 150],\n",
    "#              'CO2': [5.0, 50.0], 'CREATININE': [0, 10.0], 'GLUCOSE': [50.0, 460.0], 'HEMOGLOBIN': [1, 25],\n",
    "#              'LACTIC_ACID': [0, 5], 'MAGNESIUM': [0, 5], 'OXYGEN_SATURATION': [80, 100],\n",
    "#              'PARTIAL_THROMBOPLASTIN_TIME': [20.0, 140.0], 'PCO2': [10, 80], 'PHOSPHORUS': [0, 10],\n",
    "#              'PLATELET_COUNT': [10.0, 700.0], 'POTASSIUM': [1, 10], 'PROTIME_INR': [0, 5.0],\n",
    "#              'SODIUM': [100.0, 200.0], 'TOTAL_BILIRUBIN': [0, 10.0], 'TOTAL_PROTEIN': [2, 10],\n",
    "#              'TROPONIN_I': [0.02, 23.5], 'WHITE_BLOOD_CELL_COUNT': [0.12, 26.0], 'hr': [30.0, 300.0],\n",
    "#              's2_hr': [-1, 1], 's8_hr': [-1, 1], 's24_hr': [-1, 1], 'n_edrk': [0.0, 1.0],\n",
    "#              'edrk': [2, 55], 's2_edrk': [-1, 1], 's8_edrk': [-1, 1], 's24_edrk': [-1, 1], 'srr': [0, 1],\n",
    "#              'dfa': [-1, 5], 'cosen': [-5, 1], 'lds': [0.0, 5], 'af': [0.0, 1.0], 'AF': [0.0, 1.0], \n",
    "#              'x1': [0.0, 1.0], 'x2': [0.0, 1.0], 'x3': [0.0, 1.0]}\n",
    "\n",
    "# rs = complexityAnalysisSingle(maxDepth=7, varDict = variables)\n",
    "# print(\"Retrieved \", len(rs), \"Rules\")"
   ]
  },
  {
   "cell_type": "code",
   "execution_count": null,
   "metadata": {},
   "outputs": [
    {
     "name": "stdout",
     "output_type": "stream",
     "text": [
      "Completing for  10 vars\n",
      "Completing for  7 vars\n"
     ]
    }
   ],
   "source": [
    "maxVars = 10 #60\n",
    "maxDepth = 8\n",
    "\n",
    "variables = {'LOS': [0.0, 122.0], 'ICU_Pt_Days': [0.0, 120.0], 'Mort': [0.0, 1.0], 'n_evts': [0.0, 5.0],\n",
    "             'y': [0.0, 1.0], 'tte': [-60, 100], 'death': [0.0, 1.0],\n",
    "             'direct': [0.0, 1.0], 'MET': [0.0, 1.0], 'Sgy': [0.0, 1.0], 'Glasgow_Coma_Scale_Total': [0, 15.0],\n",
    "             'O2_Flow': [0.0, 10], 'Resp': [0.0, 50.0], 'SpO2': [80, 100.0], 'SBP': [0.0, 260.0],\n",
    "             'Pulse': [0.0, 400.0], 'Temp': [30, 50], 'ALBUMIN': [1, 5.0],\n",
    "             'ALKALINE_PHOSPHATASE': [15, 400], 'ALT_GPT': [6.0, 380], 'AST_GOT': [6.0, 250],\n",
    "             'BLOOD_UREA_NITROGEN': [1, 120], 'CALCIUM': [2, 15], 'CHLORIDE': [80, 150],\n",
    "             'CO2': [5.0, 50.0], 'CREATININE': [0, 10.0], 'GLUCOSE': [50.0, 460.0], 'HEMOGLOBIN': [1, 25],\n",
    "             'LACTIC_ACID': [0, 5], 'MAGNESIUM': [0, 5], 'OXYGEN_SATURATION': [80, 100],\n",
    "             'PARTIAL_THROMBOPLASTIN_TIME': [20.0, 140.0], 'PCO2': [10, 80], 'PHOSPHORUS': [0, 10],\n",
    "             'PLATELET_COUNT': [10.0, 700.0], 'POTASSIUM': [1, 10], 'PROTIME_INR': [0, 5.0],\n",
    "             'SODIUM': [100.0, 200.0], 'TOTAL_BILIRUBIN': [0, 10.0], 'TOTAL_PROTEIN': [2, 10],\n",
    "             'TROPONIN_I': [0.02, 23.5], 'WHITE_BLOOD_CELL_COUNT': [0.12, 26.0], 'hr': [30.0, 300.0],\n",
    "             's2_hr': [-1, 1], 's8_hr': [-1, 1], 's24_hr': [-1, 1], 'n_edrk': [0.0, 1.0],\n",
    "             'edrk': [2, 55], 's2_edrk': [-1, 1], 's8_edrk': [-1, 1], 's24_edrk': [-1, 1], 'srr': [0, 1],\n",
    "             'dfa': [-1, 5], 'cosen': [-5, 1], 'lds': [0.0, 5], 'af': [0.0, 1.0], 'AF': [0.0, 1.0], \n",
    "             'x1': [0.0, 1.0], 'x2': [0.0, 1.0], 'x3': [0.0, 1.0]}\n",
    "\n",
    "\n",
    "giantLst = []\n",
    "for i in range(maxVars, 0, -3):\n",
    "    print(\"Completing for\", i, \"vars\")\n",
    "    vz = dict(list(variables.items())[:i])\n",
    "    \n",
    "    lst = complexityAnalysis(maxDepth=maxDepth, varDict =vz)\n",
    "    \n",
    "    giantLst.extend(lst)\n",
    "    \n",
    "df = pd.DataFrame(giantLst, columns=['Num Variables', 'Depth', 'Num Branches', 'Total STL Structures'])\n",
    "df"
   ]
  },
  {
   "cell_type": "code",
   "execution_count": null,
   "outputs": [],
   "source": [],
   "metadata": {
    "collapsed": false,
    "pycharm": {
     "name": "#%%\n"
    }
   }
  },
  {
   "cell_type": "code",
   "execution_count": null,
   "outputs": [],
   "source": [],
   "metadata": {
    "collapsed": false,
    "pycharm": {
     "name": "#%%\n"
    }
   }
  },
  {
   "cell_type": "code",
   "execution_count": null,
   "metadata": {},
   "outputs": [],
   "source": []
  },
  {
   "cell_type": "code",
   "execution_count": null,
   "metadata": {},
   "outputs": [],
   "source": []
  }
 ],
 "metadata": {
  "kernelspec": {
   "display_name": "Python 3",
   "language": "python",
   "name": "python3"
  },
  "language_info": {
   "codemirror_mode": {
    "name": "ipython",
    "version": 3
   },
   "file_extension": ".py",
   "mimetype": "text/x-python",
   "name": "python",
   "nbconvert_exporter": "python",
   "pygments_lexer": "ipython3",
   "version": "3.8.3"
  }
 },
 "nbformat": 4,
 "nbformat_minor": 1
}