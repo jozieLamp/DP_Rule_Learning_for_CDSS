{
 "cells": [
  {
   "cell_type": "code",
   "execution_count": 19,
   "metadata": {
    "pycharm": {
     "name": "#%%\n"
    }
   },
   "outputs": [],
   "source": [
    "import matplotlib.pyplot as plt\n",
    "plt.rc('font', size=12)\n",
    "import pandas as pd\n",
    "import seaborn as sns\n",
    "import warnings \n",
    "\n",
    "import Coverage as cov\n",
    "\n",
    "warnings.filterwarnings('ignore')\n",
    "%matplotlib inline\n",
    "\n",
    "%load_ext autoreload\n",
    "%autoreload 2"
   ]
  },
  {
   "cell_type": "markdown",
   "metadata": {},
   "source": [
    "## Params"
   ]
  },
  {
   "cell_type": "code",
   "execution_count": 2,
   "metadata": {
    "pycharm": {
     "name": "#%%\n"
    }
   },
   "outputs": [],
   "source": [
    "#get list of client rules sorted by count\n",
    "popSize = 10\n",
    "clientFilename = \"../Data/ICU/Best/\"\n",
    "# clientFilename = \"../Data/ICU/Test/\"\n",
    "# clientFilename = \"../Data/Sepsis/Best/\"\n",
    "\n",
    "ldpFilename = \"../Results/ICU_Base_TEST.csv\"\n",
    "# ldpFilename = \"../Results/ICU_Ruleset_MCTS_TEST.csv\"\n",
    "# ldpFilename = \"../Results/ICU_TEST_2.csv\"\n",
    "# ldpFilename = \"../Results/Sepsis_Ruleset_MCTS_Test.csv\"\n",
    "\n",
    "graphName = '../Results/Graphs/test' #Name of count coverage graphs\n",
    "popThresh = 0.01 #Percentage match count\n"
   ]
  },
  {
   "cell_type": "markdown",
   "metadata": {},
   "source": [
    "## Load Client Rules"
   ]
  },
  {
   "cell_type": "code",
   "execution_count": 3,
   "metadata": {
    "pycharm": {
     "is_executing": true,
     "name": "#%%\n"
    }
   },
   "outputs": [
    {
     "name": "stdout",
     "output_type": "stream",
     "text": [
      "File not found for Client 8\n"
     ]
    },
    {
     "data": {
      "text/html": [
       "<div>\n",
       "<style scoped>\n",
       "    .dataframe tbody tr th:only-of-type {\n",
       "        vertical-align: middle;\n",
       "    }\n",
       "\n",
       "    .dataframe tbody tr th {\n",
       "        vertical-align: top;\n",
       "    }\n",
       "\n",
       "    .dataframe thead th {\n",
       "        text-align: right;\n",
       "    }\n",
       "</style>\n",
       "<table border=\"1\" class=\"dataframe\">\n",
       "  <thead>\n",
       "    <tr style=\"text-align: right;\">\n",
       "      <th></th>\n",
       "      <th>Rule</th>\n",
       "      <th>Rule Count</th>\n",
       "      <th>Percent of Population</th>\n",
       "    </tr>\n",
       "  </thead>\n",
       "  <tbody>\n",
       "    <tr>\n",
       "      <th>53</th>\n",
       "      <td>((MET &gt;= 0.000) U[0,0] (death = 0.000))</td>\n",
       "      <td>17</td>\n",
       "      <td>1.0</td>\n",
       "    </tr>\n",
       "    <tr>\n",
       "      <th>56</th>\n",
       "      <td>F[0,0]((BLOOD_UREA_NITROGEN &lt;= 0.000 &amp; CREATIN...</td>\n",
       "      <td>13</td>\n",
       "      <td>1.0</td>\n",
       "    </tr>\n",
       "    <tr>\n",
       "      <th>57</th>\n",
       "      <td>G[0,0]((n_evts &lt;= 0.000 -&gt; LOS &gt;= 0.000))</td>\n",
       "      <td>12</td>\n",
       "      <td>1.0</td>\n",
       "    </tr>\n",
       "    <tr>\n",
       "      <th>47</th>\n",
       "      <td>G[0,0]((hr &gt;= 0.000 &amp; Pulse &gt;= 0.000))</td>\n",
       "      <td>3</td>\n",
       "      <td>0.3</td>\n",
       "    </tr>\n",
       "    <tr>\n",
       "      <th>172</th>\n",
       "      <td>((af &gt;= 0.000) U[0,0] (direct &gt;= 0.000))</td>\n",
       "      <td>3</td>\n",
       "      <td>0.3</td>\n",
       "    </tr>\n",
       "    <tr>\n",
       "      <th>...</th>\n",
       "      <td>...</td>\n",
       "      <td>...</td>\n",
       "      <td>...</td>\n",
       "    </tr>\n",
       "    <tr>\n",
       "      <th>188</th>\n",
       "      <td>F[0,0]((HEMOGLOBIN &lt;= 0.000 &amp; O2_Flow &lt;= 0.000))</td>\n",
       "      <td>1</td>\n",
       "      <td>0.1</td>\n",
       "    </tr>\n",
       "    <tr>\n",
       "      <th>187</th>\n",
       "      <td>F[0,0]((dfa &gt;= 0.000 &amp; Mort &gt;= 0.000))</td>\n",
       "      <td>1</td>\n",
       "      <td>0.1</td>\n",
       "    </tr>\n",
       "    <tr>\n",
       "      <th>186</th>\n",
       "      <td>((O2_Flow &lt;= 0.000) U[0,0] (PLATELET_COUNT &gt;= ...</td>\n",
       "      <td>1</td>\n",
       "      <td>0.1</td>\n",
       "    </tr>\n",
       "    <tr>\n",
       "      <th>185</th>\n",
       "      <td>((MET &gt;= 0.000) U[0,0] (PARTIAL_THROMBOPLASTIN...</td>\n",
       "      <td>1</td>\n",
       "      <td>0.1</td>\n",
       "    </tr>\n",
       "    <tr>\n",
       "      <th>552</th>\n",
       "      <td>G[0,0]((death &gt;= 0.000 -&gt; WHITE_BLOOD_CELL_COU...</td>\n",
       "      <td>1</td>\n",
       "      <td>0.1</td>\n",
       "    </tr>\n",
       "  </tbody>\n",
       "</table>\n",
       "<p>553 rows × 3 columns</p>\n",
       "</div>"
      ],
      "text/plain": [
       "                                                  Rule  Rule Count  \\\n",
       "53             ((MET >= 0.000) U[0,0] (death = 0.000))          17   \n",
       "56   F[0,0]((BLOOD_UREA_NITROGEN <= 0.000 & CREATIN...          13   \n",
       "57           G[0,0]((n_evts <= 0.000 -> LOS >= 0.000))          12   \n",
       "47              G[0,0]((hr >= 0.000 & Pulse >= 0.000))           3   \n",
       "172           ((af >= 0.000) U[0,0] (direct >= 0.000))           3   \n",
       "..                                                 ...         ...   \n",
       "188   F[0,0]((HEMOGLOBIN <= 0.000 & O2_Flow <= 0.000))           1   \n",
       "187             F[0,0]((dfa >= 0.000 & Mort >= 0.000))           1   \n",
       "186  ((O2_Flow <= 0.000) U[0,0] (PLATELET_COUNT >= ...           1   \n",
       "185  ((MET >= 0.000) U[0,0] (PARTIAL_THROMBOPLASTIN...           1   \n",
       "552  G[0,0]((death >= 0.000 -> WHITE_BLOOD_CELL_COU...           1   \n",
       "\n",
       "     Percent of Population  \n",
       "53                     1.0  \n",
       "56                     1.0  \n",
       "57                     1.0  \n",
       "47                     0.3  \n",
       "172                    0.3  \n",
       "..                     ...  \n",
       "188                    0.1  \n",
       "187                    0.1  \n",
       "186                    0.1  \n",
       "185                    0.1  \n",
       "552                    0.1  \n",
       "\n",
       "[553 rows x 3 columns]"
      ]
     },
     "execution_count": 3,
     "metadata": {},
     "output_type": "execute_result"
    }
   ],
   "source": [
    "# Load Client Rule Trees and Text Rule Structures, and get dataframe of rules and their counts\n",
    "clientTrees, clientRules, clientDF = cov.loadClientRules(popSize, clientFilename)\n",
    "clientDF"
   ]
  },
  {
   "cell_type": "code",
   "execution_count": 10,
   "metadata": {},
   "outputs": [],
   "source": [
    "clientDF.to_csv(\"Client Rules.csv\")"
   ]
  },
  {
   "cell_type": "markdown",
   "metadata": {},
   "source": [
    "## Load LDP Ruleset"
   ]
  },
  {
   "cell_type": "code",
   "execution_count": 4,
   "metadata": {
    "pycharm": {
     "is_executing": true,
     "name": "#%%\n"
    }
   },
   "outputs": [
    {
     "data": {
      "text/html": [
       "<div>\n",
       "<style scoped>\n",
       "    .dataframe tbody tr th:only-of-type {\n",
       "        vertical-align: middle;\n",
       "    }\n",
       "\n",
       "    .dataframe tbody tr th {\n",
       "        vertical-align: top;\n",
       "    }\n",
       "\n",
       "    .dataframe thead th {\n",
       "        text-align: right;\n",
       "    }\n",
       "</style>\n",
       "<table border=\"1\" class=\"dataframe\">\n",
       "  <thead>\n",
       "    <tr style=\"text-align: right;\">\n",
       "      <th></th>\n",
       "      <th>Rule</th>\n",
       "      <th>Percent Count</th>\n",
       "    </tr>\n",
       "  </thead>\n",
       "  <tbody>\n",
       "    <tr>\n",
       "      <th>418</th>\n",
       "      <td>F[0,0]((y = 0.000 -&gt; y = 0.000))</td>\n",
       "      <td>0.700</td>\n",
       "    </tr>\n",
       "    <tr>\n",
       "      <th>3729</th>\n",
       "      <td>G[0,0]((n_evts &lt; 0.000 -&gt; LOS &gt; 0.000))</td>\n",
       "      <td>0.444</td>\n",
       "    </tr>\n",
       "    <tr>\n",
       "      <th>748</th>\n",
       "      <td>G[0,0]((LOS &gt; 0.000 -&gt; n_evts = 0.000))</td>\n",
       "      <td>0.444</td>\n",
       "    </tr>\n",
       "    <tr>\n",
       "      <th>696</th>\n",
       "      <td>G[0,0]((n_evts = 0.000 -&gt; LOS &gt; 0.000))</td>\n",
       "      <td>0.444</td>\n",
       "    </tr>\n",
       "    <tr>\n",
       "      <th>3045</th>\n",
       "      <td>G[0,0]((y = 0.000 -&gt; y = 0.000))</td>\n",
       "      <td>0.444</td>\n",
       "    </tr>\n",
       "    <tr>\n",
       "      <th>...</th>\n",
       "      <td>...</td>\n",
       "      <td>...</td>\n",
       "    </tr>\n",
       "    <tr>\n",
       "      <th>1727</th>\n",
       "      <td>((hr &gt; 0.000) U[0,0] (Glasgow_Coma_Scale_Total...</td>\n",
       "      <td>0.100</td>\n",
       "    </tr>\n",
       "    <tr>\n",
       "      <th>1728</th>\n",
       "      <td>F[0,0]((POTASSIUM &gt; 0.000 -&gt; Mort = 0.000))</td>\n",
       "      <td>0.100</td>\n",
       "    </tr>\n",
       "    <tr>\n",
       "      <th>1730</th>\n",
       "      <td>((n_evts = 0.000) U[0,0] (direct = 0.000))</td>\n",
       "      <td>0.100</td>\n",
       "    </tr>\n",
       "    <tr>\n",
       "      <th>1732</th>\n",
       "      <td>((n_evts = 0.000) U[0,0] (dfa = 0.000))</td>\n",
       "      <td>0.100</td>\n",
       "    </tr>\n",
       "    <tr>\n",
       "      <th>1950</th>\n",
       "      <td>((Glasgow_Coma_Scale_Total = 0.000) U[0,0] (ME...</td>\n",
       "      <td>0.100</td>\n",
       "    </tr>\n",
       "  </tbody>\n",
       "</table>\n",
       "<p>3900 rows × 2 columns</p>\n",
       "</div>"
      ],
      "text/plain": [
       "                                                   Rule  Percent Count\n",
       "418                    F[0,0]((y = 0.000 -> y = 0.000))          0.700\n",
       "3729            G[0,0]((n_evts < 0.000 -> LOS > 0.000))          0.444\n",
       "748             G[0,0]((LOS > 0.000 -> n_evts = 0.000))          0.444\n",
       "696             G[0,0]((n_evts = 0.000 -> LOS > 0.000))          0.444\n",
       "3045                   G[0,0]((y = 0.000 -> y = 0.000))          0.444\n",
       "...                                                 ...            ...\n",
       "1727  ((hr > 0.000) U[0,0] (Glasgow_Coma_Scale_Total...          0.100\n",
       "1728        F[0,0]((POTASSIUM > 0.000 -> Mort = 0.000))          0.100\n",
       "1730         ((n_evts = 0.000) U[0,0] (direct = 0.000))          0.100\n",
       "1732            ((n_evts = 0.000) U[0,0] (dfa = 0.000))          0.100\n",
       "1950  ((Glasgow_Coma_Scale_Total = 0.000) U[0,0] (ME...          0.100\n",
       "\n",
       "[3900 rows x 2 columns]"
      ]
     },
     "execution_count": 4,
     "metadata": {},
     "output_type": "execute_result"
    }
   ],
   "source": [
    "ldpDF, ldpTrees, ldpRules = cov.loadLDPRuleset(ldpFilename)\n",
    "ldpDF"
   ]
  },
  {
   "cell_type": "markdown",
   "metadata": {},
   "source": [
    "## Complexity Analysis"
   ]
  },
  {
   "cell_type": "code",
   "execution_count": 5,
   "metadata": {
    "pycharm": {
     "is_executing": true,
     "name": "#%%\n"
    }
   },
   "outputs": [
    {
     "data": {
      "text/plain": [
       "17179869184"
      ]
     },
     "execution_count": 5,
     "metadata": {},
     "output_type": "execute_result"
    }
   ],
   "source": [
    "k = 4 #k-ary tree\n",
    "h = 17 #height\n",
    "k**h"
   ]
  },
  {
   "cell_type": "markdown",
   "metadata": {},
   "source": [
    "## Get Table of Structure Counts - Count of rules above threshold"
   ]
  },
  {
   "cell_type": "code",
   "execution_count": 6,
   "metadata": {
    "pycharm": {
     "is_executing": true,
     "name": "#%%\n"
    },
    "scrolled": true
   },
   "outputs": [
    {
     "name": "stdout",
     "output_type": "stream",
     "text": [
      "RULE NOT FOUND F[0,0]((cosen > 0.000 & O2_Flow = 0.000))\n",
      "RULE NOT FOUND F[0,0]((CREATININE = 0.000 & BLOOD_UREA_NITROGEN > 0.000))\n",
      "RULE NOT FOUND F[0,0]((tte > 0.000 & WHITE_BLOOD_CELL_COUNT = 0.000))\n",
      "RULE NOT FOUND F[0,0]((Glasgow_Coma_Scale_Total = 0.000 & s24_hr < 0.000))\n",
      "RULE NOT FOUND F[0,0]((n_edrk = 0.000 & tte < 0.000))\n",
      "RULE NOT FOUND F[0,0]((af = 0.000 & O2_Flow < 0.000))\n",
      "RULE NOT FOUND F[0,0]((LACTIC_ACID = 0.000 & PHOSPHORUS > 0.000))\n",
      "RULE NOT FOUND F[0,0]((BLOOD_UREA_NITROGEN < 0.000 & WHITE_BLOOD_CELL_COUNT = 0.000))\n",
      "RULE NOT FOUND F[0,0]((s24_hr = 0.000 & Glasgow_Coma_Scale_Total > 0.000))\n",
      "RULE NOT FOUND F[0,0]((O2_Flow < 0.000 & cosen > 0.000))\n",
      "RULE NOT FOUND F[0,0]((O2_Flow > 0.000 & PLATELET_COUNT < 0.000))\n",
      "RULE NOT FOUND F[0,0]((Glasgow_Coma_Scale_Total > 0.000 & BLOOD_UREA_NITROGEN < 0.000))\n",
      "RULE NOT FOUND F[0,0]((lds = 0.000 & PLATELET_COUNT > 0.000))\n",
      "RULE NOT FOUND F[0,0]((O2_Flow < 0.000 & cosen = 0.000))\n",
      "RULE NOT FOUND F[0,0]((Glasgow_Coma_Scale_Total > 0.000 & n_evts = 0.000))\n",
      "RULE NOT FOUND F[0,0]((ICU_Pt_Days < 0.000 & n_edrk = 0.000))\n",
      "RULE NOT FOUND F[0,0]((BLOOD_UREA_NITROGEN < 0.000 & Glasgow_Coma_Scale_Total = 0.000))\n",
      "RULE NOT FOUND F[0,0]((PLATELET_COUNT < 0.000 & PHOSPHORUS = 0.000))\n",
      "RULE NOT FOUND F[0,0]((PLATELET_COUNT > 0.000 & n_evts = 0.000))\n",
      "RULE NOT FOUND F[0,0]((direct = 0.000 & edrk > 0.000))\n",
      "RULE NOT FOUND F[0,0]((PARTIAL_THROMBOPLASTIN_TIME > 0.000 & SpO2 = 0.000))\n",
      "RULE NOT FOUND F[0,0]((O2_Flow < 0.000 & Glasgow_Coma_Scale_Total = 0.000))\n",
      "RULE NOT FOUND F[0,0]((tte < 0.000 & n_edrk = 0.000))\n",
      "RULE NOT FOUND F[0,0]((y > 0.000 & SpO2 = 0.000))\n",
      "RULE NOT FOUND F[0,0]((af > 0.000 & y = 0.000))\n",
      "RULE NOT FOUND F[0,0]((Glasgow_Coma_Scale_Total > 0.000 & s24_hr = 0.000))\n",
      "RULE NOT FOUND F[0,0]((SpO2 = 0.000 & PARTIAL_THROMBOPLASTIN_TIME > 0.000))\n",
      "RULE NOT FOUND F[0,0]((BLOOD_UREA_NITROGEN = 0.000 & WHITE_BLOOD_CELL_COUNT > 0.000))\n",
      "RULE NOT FOUND F[0,0]((O2_Flow < 0.000 & af = 0.000))\n",
      "RULE NOT FOUND F[0,0]((tte > 0.000 & WHITE_BLOOD_CELL_COUNT < 0.000))\n",
      "RULE NOT FOUND F[0,0]((tte > 0.000 & s2_edrk = 0.000))\n",
      "RULE NOT FOUND F[0,0]((PLATELET_COUNT = 0.000 & O2_Flow > 0.000))\n",
      "RULE NOT FOUND F[0,0]((PLATELET_COUNT = 0.000 & PHOSPHORUS > 0.000))\n",
      "RULE NOT FOUND F[0,0]((PHOSPHORUS > 0.000 & Mort = 0.000))\n",
      "RULE NOT FOUND F[0,0]((n_evts = 0.000 & AF > 0.000))\n",
      "RULE NOT FOUND F[0,0]((TOTAL_PROTEIN = 0.000 & y > 0.000))\n",
      "RULE NOT FOUND F[0,0]((edrk > 0.000 & n_evts = 0.000))\n",
      "RULE NOT FOUND F[0,0]((PLATELET_COUNT < 0.000 & O2_Flow > 0.000))\n",
      "RULE NOT FOUND F[0,0]((WHITE_BLOOD_CELL_COUNT < 0.000 & tte > 0.000))\n",
      "RULE NOT FOUND F[0,0]((death < 0.000 & dfa > 0.000))\n",
      "RULE NOT FOUND F[0,0]((edrk > 0.000 & direct = 0.000))\n",
      "RULE NOT FOUND F[0,0]((y > 0.000 & TOTAL_PROTEIN = 0.000))\n",
      "RULE NOT FOUND F[0,0]((WHITE_BLOOD_CELL_COUNT > 0.000 & BLOOD_UREA_NITROGEN = 0.000))\n",
      "RULE NOT FOUND F[0,0]((cosen < 0.000 & n_edrk = 0.000))\n",
      "RULE NOT FOUND F[0,0]((Glasgow_Coma_Scale_Total = 0.000 & BLOOD_UREA_NITROGEN < 0.000))\n",
      "RULE NOT FOUND F[0,0]((Glasgow_Coma_Scale_Total > 0.000 & BLOOD_UREA_NITROGEN = 0.000))\n",
      "RULE NOT FOUND F[0,0]((n_evts = 0.000 & Glasgow_Coma_Scale_Total > 0.000))\n",
      "RULE NOT FOUND F[0,0]((tte > 0.000 & PLATELET_COUNT < 0.000))\n",
      "RULE NOT FOUND F[0,0]((O2_Flow < 0.000 & af > 0.000))\n",
      "RULE NOT FOUND F[0,0]((Glasgow_Coma_Scale_Total > 0.000 & O2_Flow = 0.000))\n",
      "RULE NOT FOUND F[0,0]((s24_hr < 0.000 & Glasgow_Coma_Scale_Total = 0.000))\n",
      "RULE NOT FOUND F[0,0]((tte = 0.000 & WHITE_BLOOD_CELL_COUNT < 0.000))\n",
      "RULE NOT FOUND F[0,0]((y > 0.000 & srr = 0.000))\n",
      "RULE NOT FOUND F[0,0]((PLATELET_COUNT < 0.000 & O2_Flow = 0.000))\n",
      "RULE NOT FOUND F[0,0]((PLATELET_COUNT < 0.000 & tte > 0.000))\n",
      "RULE NOT FOUND F[0,0]((n_evts = 0.000 & PLATELET_COUNT > 0.000))\n",
      "RULE NOT FOUND F[0,0]((dfa > 0.000 & death < 0.000))\n",
      "RULE NOT FOUND F[0,0]((O2_Flow = 0.000 & Glasgow_Coma_Scale_Total > 0.000))\n",
      "RULE NOT FOUND F[0,0]((y = 0.000 & af > 0.000))\n",
      "RULE NOT FOUND F[0,0]((WHITE_BLOOD_CELL_COUNT = 0.000 & BLOOD_UREA_NITROGEN < 0.000))\n",
      "RULE NOT FOUND F[0,0]((BLOOD_UREA_NITROGEN < 0.000 & WHITE_BLOOD_CELL_COUNT > 0.000))\n",
      "RULE NOT FOUND F[0,0]((O2_Flow = 0.000 & cosen > 0.000))\n",
      "RULE NOT FOUND F[0,0]((srr = 0.000 & y > 0.000))\n",
      "RULE NOT FOUND F[0,0]((BLOOD_UREA_NITROGEN = 0.000 & Glasgow_Coma_Scale_Total > 0.000))\n",
      "RULE NOT FOUND F[0,0]((edrk = 0.000 & y > 0.000))\n",
      "RULE NOT FOUND F[0,0]((af > 0.000 & O2_Flow < 0.000))\n",
      "RULE NOT FOUND F[0,0]((AST_GOT = 0.000 & y > 0.000))\n",
      "RULE NOT FOUND F[0,0]((n_edrk = 0.000 & ICU_Pt_Days < 0.000))\n",
      "RULE NOT FOUND F[0,0]((s2_edrk = 0.000 & tte > 0.000))\n",
      "RULE NOT FOUND F[0,0]((tte = 0.000 & PLATELET_COUNT < 0.000))\n",
      "RULE NOT FOUND F[0,0]((tte > 0.000 & PLATELET_COUNT = 0.000))\n",
      "RULE NOT FOUND F[0,0]((O2_Flow = 0.000 & af > 0.000))\n",
      "RULE NOT FOUND F[0,0]((AF > 0.000 & n_evts = 0.000))\n",
      "RULE NOT FOUND F[0,0]((y > 0.000 & AST_GOT = 0.000))\n",
      "RULE NOT FOUND F[0,0]((death < 0.000 & dfa = 0.000))\n",
      "RULE NOT FOUND F[0,0]((BLOOD_UREA_NITROGEN > 0.000 & CREATININE = 0.000))\n",
      "RULE NOT FOUND F[0,0]((PLATELET_COUNT = 0.000 & tte > 0.000))\n",
      "RULE NOT FOUND F[0,0]((WHITE_BLOOD_CELL_COUNT < 0.000 & tte = 0.000))\n",
      "RULE NOT FOUND F[0,0]((PHOSPHORUS > 0.000 & PLATELET_COUNT < 0.000))\n",
      "RULE NOT FOUND F[0,0]((Glasgow_Coma_Scale_Total > 0.000 & O2_Flow < 0.000))\n",
      "RULE NOT FOUND F[0,0]((Glasgow_Coma_Scale_Total = 0.000 & O2_Flow < 0.000))\n",
      "RULE NOT FOUND F[0,0]((WHITE_BLOOD_CELL_COUNT > 0.000 & BLOOD_UREA_NITROGEN < 0.000))\n",
      "RULE NOT FOUND F[0,0]((Mort = 0.000 & PHOSPHORUS > 0.000))\n",
      "RULE NOT FOUND F[0,0]((dfa > 0.000 & death = 0.000))\n",
      "RULE NOT FOUND F[0,0]((death > 0.000 & y = 0.000))\n",
      "RULE NOT FOUND F[0,0]((PLATELET_COUNT < 0.000 & PHOSPHORUS > 0.000))\n",
      "RULE NOT FOUND F[0,0]((PLATELET_COUNT < 0.000 & tte = 0.000))\n",
      "RULE NOT FOUND F[0,0]((PHOSPHORUS > 0.000 & LACTIC_ACID = 0.000))\n",
      "RULE NOT FOUND F[0,0]((y > 0.000 & edrk = 0.000))\n",
      "RULE NOT FOUND F[0,0]((BLOOD_UREA_NITROGEN < 0.000 & Glasgow_Coma_Scale_Total > 0.000))\n",
      "RULE NOT FOUND F[0,0]((O2_Flow > 0.000 & PLATELET_COUNT = 0.000))\n",
      "RULE NOT FOUND F[0,0]((s8_edrk > 0.000 & direct = 0.000))\n",
      "RULE NOT FOUND F[0,0]((cosen = 0.000 & O2_Flow < 0.000))\n",
      "RULE NOT FOUND F[0,0]((death = 0.000 & dfa > 0.000))\n",
      "RULE NOT FOUND F[0,0]((Glasgow_Coma_Scale_Total > 0.000 & s24_hr < 0.000))\n",
      "RULE NOT FOUND F[0,0]((s24_hr < 0.000 & Glasgow_Coma_Scale_Total > 0.000))\n",
      "RULE NOT FOUND F[0,0]((PHOSPHORUS > 0.000 & PLATELET_COUNT = 0.000))\n",
      "RULE NOT FOUND F[0,0]((SpO2 = 0.000 & y > 0.000))\n",
      "RULE NOT FOUND F[0,0]((n_evts = 0.000 & edrk > 0.000))\n",
      "RULE NOT FOUND F[0,0]((y = 0.000 & death > 0.000))\n",
      "RULE NOT FOUND F[0,0]((direct = 0.000 & s8_edrk > 0.000))\n",
      "RULE NOT FOUND F[0,0]((PLATELET_COUNT > 0.000 & lds = 0.000))\n",
      "RULE NOT FOUND F[0,0]((O2_Flow = 0.000 & PLATELET_COUNT < 0.000))\n",
      "RULE NOT FOUND F[0,0]((af > 0.000 & O2_Flow = 0.000))\n",
      "RULE NOT FOUND F[0,0]((O2_Flow < 0.000 & Glasgow_Coma_Scale_Total > 0.000))\n",
      "RULE NOT FOUND F[0,0]((cosen > 0.000 & O2_Flow < 0.000))\n",
      "RULE NOT FOUND F[0,0]((n_edrk = 0.000 & cosen < 0.000))\n",
      "RULE NOT FOUND F[0,0]((PHOSPHORUS = 0.000 & PLATELET_COUNT < 0.000))\n",
      "RULE NOT FOUND F[0,0]((WHITE_BLOOD_CELL_COUNT = 0.000 & tte > 0.000))\n",
      "RULE NOT FOUND F[0,0]((dfa = 0.000 & death < 0.000))\n"
     ]
    },
    {
     "data": {
      "text/html": [
       "<div>\n",
       "<style scoped>\n",
       "    .dataframe tbody tr th:only-of-type {\n",
       "        vertical-align: middle;\n",
       "    }\n",
       "\n",
       "    .dataframe tbody tr th {\n",
       "        vertical-align: top;\n",
       "    }\n",
       "\n",
       "    .dataframe thead th {\n",
       "        text-align: right;\n",
       "    }\n",
       "</style>\n",
       "<table border=\"1\" class=\"dataframe\">\n",
       "  <thead>\n",
       "    <tr style=\"text-align: right;\">\n",
       "      <th></th>\n",
       "      <th>Total Client Rules</th>\n",
       "      <th>Found Rules</th>\n",
       "      <th>Non Rules</th>\n",
       "      <th>Precision</th>\n",
       "    </tr>\n",
       "  </thead>\n",
       "  <tbody>\n",
       "    <tr>\n",
       "      <th>0</th>\n",
       "      <td>553</td>\n",
       "      <td>3790</td>\n",
       "      <td>110</td>\n",
       "      <td>0.971795</td>\n",
       "    </tr>\n",
       "  </tbody>\n",
       "</table>\n",
       "</div>"
      ],
      "text/plain": [
       "   Total Client Rules  Found Rules  Non Rules  Precision\n",
       "0                 553         3790        110   0.971795"
      ]
     },
     "execution_count": 6,
     "metadata": {},
     "output_type": "execute_result"
    }
   ],
   "source": [
    "covDF, countDF, clientTrees = cov.getCoverageTable(popThresh, ldpDF, ldpTrees, clientDF)\n",
    "countDF.to_csv(ldpFilename + \"_CovCountDF.csv\")\n",
    "covDF"
   ]
  },
  {
   "cell_type": "code",
   "execution_count": 7,
   "metadata": {
    "pycharm": {
     "is_executing": true,
     "name": "#%%\n"
    }
   },
   "outputs": [
    {
     "data": {
      "text/html": [
       "<div>\n",
       "<style scoped>\n",
       "    .dataframe tbody tr th:only-of-type {\n",
       "        vertical-align: middle;\n",
       "    }\n",
       "\n",
       "    .dataframe tbody tr th {\n",
       "        vertical-align: top;\n",
       "    }\n",
       "\n",
       "    .dataframe thead th {\n",
       "        text-align: right;\n",
       "    }\n",
       "</style>\n",
       "<table border=\"1\" class=\"dataframe\">\n",
       "  <thead>\n",
       "    <tr style=\"text-align: right;\">\n",
       "      <th></th>\n",
       "      <th>LDP Rule</th>\n",
       "      <th>Client Rule</th>\n",
       "      <th>LDP Count</th>\n",
       "      <th>Client Count</th>\n",
       "    </tr>\n",
       "  </thead>\n",
       "  <tbody>\n",
       "    <tr>\n",
       "      <th>0</th>\n",
       "      <td>((Glasgow_Coma_Scale_Total = 0.000) U[0,0] (s8...</td>\n",
       "      <td>((Glasgow_Coma_Scale_Total &gt;= 0.000) U[0,0] (s...</td>\n",
       "      <td>0.100</td>\n",
       "      <td>0.1</td>\n",
       "    </tr>\n",
       "    <tr>\n",
       "      <th>1</th>\n",
       "      <td>G[0,0]((ICU_Pt_Days = 0.000 -&gt; y &lt; 0.000))</td>\n",
       "      <td>G[0,0]((ICU_Pt_Days &gt;= 0.000 -&gt; y &lt;= 0.000))</td>\n",
       "      <td>0.111</td>\n",
       "      <td>0.1</td>\n",
       "    </tr>\n",
       "    <tr>\n",
       "      <th>2</th>\n",
       "      <td>G[0,0]((s8_hr &lt; 0.000 -&gt; SBP &lt; 0.000))</td>\n",
       "      <td>G[0,0]((s8_hr &lt;= 0.000 -&gt; SBP &lt;= 0.000))</td>\n",
       "      <td>0.111</td>\n",
       "      <td>0.1</td>\n",
       "    </tr>\n",
       "    <tr>\n",
       "      <th>3</th>\n",
       "      <td>((lds = 0.000) U[0,0] (LOS &gt; 0.000))</td>\n",
       "      <td>((lds &gt;= 0.000) U[0,0] (LOS &gt;= 0.000))</td>\n",
       "      <td>0.100</td>\n",
       "      <td>0.1</td>\n",
       "    </tr>\n",
       "    <tr>\n",
       "      <th>4</th>\n",
       "      <td>((direct &gt; 0.000) U[0,0] (n_edrk &gt; 0.000))</td>\n",
       "      <td>((direct &gt;= 0.000) U[0,0] (n_edrk &gt;= 0.000))</td>\n",
       "      <td>0.100</td>\n",
       "      <td>0.1</td>\n",
       "    </tr>\n",
       "    <tr>\n",
       "      <th>...</th>\n",
       "      <td>...</td>\n",
       "      <td>...</td>\n",
       "      <td>...</td>\n",
       "      <td>...</td>\n",
       "    </tr>\n",
       "    <tr>\n",
       "      <th>3785</th>\n",
       "      <td>F[0,0]((y = 0.000 -&gt; ICU_Pt_Days &gt; 0.000))</td>\n",
       "      <td>F[0,0]((ICU_Pt_Days &gt;= 0.000 -&gt; y &gt;= 0.000))</td>\n",
       "      <td>0.100</td>\n",
       "      <td>0.1</td>\n",
       "    </tr>\n",
       "    <tr>\n",
       "      <th>3786</th>\n",
       "      <td>((MET = 0.000) U[0,0] (s8_edrk = 0.000))</td>\n",
       "      <td>((MET &gt;= 0.000) U[0,0] (s8_edrk &lt;= 0.000))</td>\n",
       "      <td>0.100</td>\n",
       "      <td>0.1</td>\n",
       "    </tr>\n",
       "    <tr>\n",
       "      <th>3787</th>\n",
       "      <td>G[0,0]((y &lt; 0.000 -&gt; AF = 0.000))</td>\n",
       "      <td>G[0,0]((AF &gt;= 0.000 -&gt; y &lt;= 0.000))</td>\n",
       "      <td>0.111</td>\n",
       "      <td>0.1</td>\n",
       "    </tr>\n",
       "    <tr>\n",
       "      <th>3788</th>\n",
       "      <td>((ICU_Pt_Days &gt; 0.000) U[0,0] (WHITE_BLOOD_CEL...</td>\n",
       "      <td>((ICU_Pt_Days &gt;= 0.000) U[0,0] (WHITE_BLOOD_CE...</td>\n",
       "      <td>0.100</td>\n",
       "      <td>0.1</td>\n",
       "    </tr>\n",
       "    <tr>\n",
       "      <th>3789</th>\n",
       "      <td>G[0,0]((PHOSPHORUS = 0.000 &amp; CREATININE &lt; 0.000))</td>\n",
       "      <td>G[0,0]((CREATININE &lt;= 0.000 &amp; PHOSPHORUS &lt;= 0....</td>\n",
       "      <td>0.111</td>\n",
       "      <td>0.1</td>\n",
       "    </tr>\n",
       "  </tbody>\n",
       "</table>\n",
       "<p>3790 rows × 4 columns</p>\n",
       "</div>"
      ],
      "text/plain": [
       "                                               LDP Rule  \\\n",
       "0     ((Glasgow_Coma_Scale_Total = 0.000) U[0,0] (s8...   \n",
       "1            G[0,0]((ICU_Pt_Days = 0.000 -> y < 0.000))   \n",
       "2                G[0,0]((s8_hr < 0.000 -> SBP < 0.000))   \n",
       "3                  ((lds = 0.000) U[0,0] (LOS > 0.000))   \n",
       "4            ((direct > 0.000) U[0,0] (n_edrk > 0.000))   \n",
       "...                                                 ...   \n",
       "3785         F[0,0]((y = 0.000 -> ICU_Pt_Days > 0.000))   \n",
       "3786           ((MET = 0.000) U[0,0] (s8_edrk = 0.000))   \n",
       "3787                  G[0,0]((y < 0.000 -> AF = 0.000))   \n",
       "3788  ((ICU_Pt_Days > 0.000) U[0,0] (WHITE_BLOOD_CEL...   \n",
       "3789  G[0,0]((PHOSPHORUS = 0.000 & CREATININE < 0.000))   \n",
       "\n",
       "                                            Client Rule  LDP Count  \\\n",
       "0     ((Glasgow_Coma_Scale_Total >= 0.000) U[0,0] (s...      0.100   \n",
       "1          G[0,0]((ICU_Pt_Days >= 0.000 -> y <= 0.000))      0.111   \n",
       "2              G[0,0]((s8_hr <= 0.000 -> SBP <= 0.000))      0.111   \n",
       "3                ((lds >= 0.000) U[0,0] (LOS >= 0.000))      0.100   \n",
       "4          ((direct >= 0.000) U[0,0] (n_edrk >= 0.000))      0.100   \n",
       "...                                                 ...        ...   \n",
       "3785       F[0,0]((ICU_Pt_Days >= 0.000 -> y >= 0.000))      0.100   \n",
       "3786         ((MET >= 0.000) U[0,0] (s8_edrk <= 0.000))      0.100   \n",
       "3787                G[0,0]((AF >= 0.000 -> y <= 0.000))      0.111   \n",
       "3788  ((ICU_Pt_Days >= 0.000) U[0,0] (WHITE_BLOOD_CE...      0.100   \n",
       "3789  G[0,0]((CREATININE <= 0.000 & PHOSPHORUS <= 0....      0.111   \n",
       "\n",
       "      Client Count  \n",
       "0              0.1  \n",
       "1              0.1  \n",
       "2              0.1  \n",
       "3              0.1  \n",
       "4              0.1  \n",
       "...            ...  \n",
       "3785           0.1  \n",
       "3786           0.1  \n",
       "3787           0.1  \n",
       "3788           0.1  \n",
       "3789           0.1  \n",
       "\n",
       "[3790 rows x 4 columns]"
      ]
     },
     "execution_count": 7,
     "metadata": {},
     "output_type": "execute_result"
    }
   ],
   "source": [
    "countDF"
   ]
  },
  {
   "cell_type": "markdown",
   "metadata": {},
   "source": [
    "## Get number of unique structure types"
   ]
  },
  {
   "cell_type": "code",
   "execution_count": 8,
   "metadata": {
    "pycharm": {
     "is_executing": true,
     "name": "#%%\n"
    }
   },
   "outputs": [
    {
     "name": "stdout",
     "output_type": "stream",
     "text": [
      "CLIENT STRUCT NOT FOUND F[0,0](((x <= 0.000 | x <= 0.000) & x >= 0.000))\n"
     ]
    },
    {
     "data": {
      "text/html": [
       "<div>\n",
       "<style scoped>\n",
       "    .dataframe tbody tr th:only-of-type {\n",
       "        vertical-align: middle;\n",
       "    }\n",
       "\n",
       "    .dataframe tbody tr th {\n",
       "        vertical-align: top;\n",
       "    }\n",
       "\n",
       "    .dataframe thead th {\n",
       "        text-align: right;\n",
       "    }\n",
       "</style>\n",
       "<table border=\"1\" class=\"dataframe\">\n",
       "  <thead>\n",
       "    <tr style=\"text-align: right;\">\n",
       "      <th></th>\n",
       "      <th>Total Client Structures</th>\n",
       "      <th>Found Structures</th>\n",
       "      <th>Non Structures</th>\n",
       "      <th>Precision</th>\n",
       "    </tr>\n",
       "  </thead>\n",
       "  <tbody>\n",
       "    <tr>\n",
       "      <th>0</th>\n",
       "      <td>43</td>\n",
       "      <td>42</td>\n",
       "      <td>0</td>\n",
       "      <td>1.0</td>\n",
       "    </tr>\n",
       "  </tbody>\n",
       "</table>\n",
       "</div>"
      ],
      "text/plain": [
       "   Total Client Structures  Found Structures  Non Structures  Precision\n",
       "0                       43                42               0        1.0"
      ]
     },
     "execution_count": 8,
     "metadata": {},
     "output_type": "execute_result"
    }
   ],
   "source": [
    "structDF = cov.countUniqueStructuresNoVars(clientTrees, ldpTrees)\n",
    "structDF"
   ]
  },
  {
   "cell_type": "code",
   "execution_count": null,
   "metadata": {
    "pycharm": {
     "is_executing": true,
     "name": "#%%\n"
    }
   },
   "outputs": [],
   "source": []
  },
  {
   "cell_type": "code",
   "execution_count": null,
   "metadata": {
    "pycharm": {
     "is_executing": true,
     "name": "#%%\n"
    }
   },
   "outputs": [],
   "source": []
  },
  {
   "cell_type": "code",
   "execution_count": null,
   "metadata": {
    "pycharm": {
     "is_executing": true,
     "name": "#%%\n"
    }
   },
   "outputs": [],
   "source": []
  },
  {
   "cell_type": "markdown",
   "metadata": {},
   "source": [
    "## Compare LDP Rules Found vs the Percent Client Counts "
   ]
  },
  {
   "cell_type": "code",
   "execution_count": 9,
   "metadata": {
    "pycharm": {
     "is_executing": true,
     "name": "#%%\n"
    }
   },
   "outputs": [
    {
     "data": {
      "text/plain": [
       "<matplotlib.legend.Legend at 0x13f1b47f0>"
      ]
     },
     "execution_count": 9,
     "metadata": {},
     "output_type": "execute_result"
    },
    {
     "data": {
      "image/png": "[encoded data removed]",
      "text/plain": [
       "<Figure size 864x504 with 1 Axes>"
      ]
     },
     "metadata": {
      "needs_background": "light"
     },
     "output_type": "display_data"
    }
   ],
   "source": [
    "#make list of rule counts x population percents\n",
    "\n",
    "lst = []\n",
    "for idx, row in clientDF.iterrows():\n",
    "    lst.extend([row['Percent of Population'] for i in range(row['Rule Count'])])\n",
    "    \n",
    "n_bins = 10\n",
    "\n",
    "plt.figure(figsize=(12, 7))\n",
    "plt.hist([lst, countDF['Client Count'].values], n_bins, density=True, histtype='bar',label=['Client', 'LDP'])\n",
    "plt.xlabel(\"Percentage of Population\")\n",
    "plt.ylabel(\"Number of Rules\")\n",
    "plt.yscale('log')\n",
    "plt.legend()\n"
   ]
  },
  {
   "cell_type": "code",
   "execution_count": null,
   "metadata": {
    "pycharm": {
     "is_executing": true,
     "name": "#%%\n"
    }
   },
   "outputs": [],
   "source": []
  },
  {
   "cell_type": "code",
   "execution_count": 46,
   "metadata": {},
   "outputs": [],
   "source": [
    "from SignalTemporalLogic.STLFactory import STLFactory\n",
    "from Client import Client\n",
    "from Server import Server"
   ]
  },
  {
   "cell_type": "code",
   "execution_count": 59,
   "metadata": {
    "pycharm": {
     "is_executing": true,
     "name": "#%%\n"
    }
   },
   "outputs": [
    {
     "data": {
      "text/plain": [
       "[<STLTree.STLTree.STLTree at 0x13a038940>]"
      ]
     },
     "execution_count": 59,
     "metadata": {},
     "output_type": "execute_result"
    }
   ],
   "source": [
    "# From client rules, first make client trees\n",
    "clientRules = ['F[0,0]((death <= 0.000 & y >= 0.000))']\n",
    "clientTrees = []\n",
    "stlFac = STLFactory()\n",
    "\n",
    "for c in clientRules:\n",
    "    c = stlFac.constructFormulaTree(c + \"\\n\")\n",
    "    clientTrees.append(c)\n",
    "    \n",
    "clientTrees"
   ]
  },
  {
   "cell_type": "code",
   "execution_count": 60,
   "metadata": {},
   "outputs": [
    {
     "data": {
      "text/plain": [
       "[<STLTree.STLTree.STLTree at 0x13a0c2580>]"
      ]
     },
     "execution_count": 60,
     "metadata": {},
     "output_type": "execute_result"
    }
   ],
   "source": [
    "ldpRules = ['F[0,0](death > 0.000 & y = 0.000)']\n",
    "ldpTrees = []\n",
    "stlFac = STLFactory()\n",
    "\n",
    "for c in ldpRules:\n",
    "    c = stlFac.constructFormulaTree(c + \"\\n\")\n",
    "    ldpTrees.append(c)\n",
    "    \n",
    "ldpTrees"
   ]
  },
  {
   "cell_type": "code",
   "execution_count": 63,
   "metadata": {
    "pycharm": {
     "is_executing": true,
     "name": "#%%\n"
    }
   },
   "outputs": [],
   "source": [
    "def queryStructuralFullMatch(template, clientTrees):\n",
    "\n",
    "    client = Client(clientNum=1, epsilon='inf', ruleSet=clientTrees)\n",
    "    server = Server(clientList=[], varDict={}, params=None)\n",
    "\n",
    "#     print(\"Temp vars\", varList)\n",
    "#     print(\"\\ntemp\", template.toString())\n",
    "    ldpNodes = server.getTemplateNodes(template)\n",
    "    ldpVars = template.getAllVars()\n",
    "\n",
    "#     print(\"templt nodes\", ldpNodes)\n",
    "\n",
    "    r = client.queryStructuralRuleMatchReturn(ldpNodes, ldpVars)\n",
    "\n",
    "    return r"
   ]
  },
  {
   "cell_type": "code",
   "execution_count": 65,
   "metadata": {
    "pycharm": {
     "is_executing": true,
     "name": "#%%\n"
    }
   },
   "outputs": [
    {
     "name": "stdout",
     "output_type": "stream",
     "text": [
      "None\n"
     ]
    }
   ],
   "source": [
    "found = queryStructuralFullMatch(ldpTrees[0], clientTrees)\n",
    "print(found)"
   ]
  },
  {
   "cell_type": "code",
   "execution_count": null,
   "metadata": {
    "pycharm": {
     "is_executing": true,
     "name": "#%%\n"
    }
   },
   "outputs": [],
   "source": []
  },
  {
   "cell_type": "code",
   "execution_count": 66,
   "metadata": {
    "pycharm": {
     "is_executing": true,
     "name": "#%%\n"
    }
   },
   "outputs": [],
   "source": [
    "def nodeListMatch(tempList, cList):\n",
    "    relops = ['GT', 'GE', 'LT', 'LE', \"EQ\"]  # , 'NEQ']\n",
    "\n",
    "    i = 0\n",
    "    while i < len(tempList):\n",
    "        # get current branch of nodes\n",
    "        if tempList[i] in cList:\n",
    "            if 'Parameter' not in tempList[i]:  # found a var match\n",
    "                #                 idx = cList.index(tempList[i])  # get idx of element of cList\n",
    "                #                 cList = cList[idx + 1:]\n",
    "                cList.remove(tempList[i])\n",
    "\n",
    "        elif any(item in tempList[i] for item in relops):\n",
    "            # Try all match options\n",
    "            if 'GT' in tempList[i]:\n",
    "                test = [x if x != \"GT\" else \"GE\" for x in tempList[i]]\n",
    "\n",
    "                if test in cList:\n",
    "                    cList.remove(test)\n",
    "                else:\n",
    "                    return False\n",
    "            elif 'GE' in tempList[i]:\n",
    "                test1 = [x if x != \"GE\" else \"GT\" for x in tempList[i]]\n",
    "                test2 = [x if x != \"GE\" else \"EQ\" for x in tempList[i]]\n",
    "\n",
    "                try:\n",
    "                    idx1 = cList.index(test1)\n",
    "                except:\n",
    "                    idx1 = 999999999\n",
    "                try:\n",
    "                    idx2 = cList.index(test2)\n",
    "                except:\n",
    "                    idx2 = 999999999\n",
    "\n",
    "                if test1 in cList and (idx1 < idx2):\n",
    "                    cList.remove(test1)\n",
    "                elif test2 in cList and (idx2 < idx1):\n",
    "                    cList.remove(test2)\n",
    "                else:\n",
    "                    return False\n",
    "            elif 'LT' in tempList[i]:\n",
    "                test = [x if x != \"LT\" else \"LE\" for x in tempList[i]]\n",
    "                if test in cList:\n",
    "                    cList.remove(test)\n",
    "                else:\n",
    "                    return False\n",
    "            elif 'LE' in tempList[i]:\n",
    "                test1 = [x if x != \"LE\" else \"LT\" for x in tempList[i]]\n",
    "                test2 = [x if x != \"LE\" else \"EQ\" for x in tempList[i]]\n",
    "                try:\n",
    "                    idx1 = cList.index(test1)\n",
    "                except:\n",
    "                    idx1 = 999999999\n",
    "                try:\n",
    "                    idx2 = cList.index(test2)\n",
    "                except:\n",
    "                    idx2 = 999999999\n",
    "\n",
    "                if test1 in cList and (idx1 < idx2):\n",
    "                    cList.remove(test1)\n",
    "                elif test2 in cList and (idx2 < idx1):\n",
    "                    cList.remove(test2)\n",
    "                else:\n",
    "                    return False\n",
    "            elif 'EQ' in tempList[i]:\n",
    "                test1 = [x if x != \"EQ\" else \"GE\" for x in tempList[i]]\n",
    "                test2 = [x if x != \"EQ\" else \"LE\" for x in tempList[i]]\n",
    "\n",
    "                try:\n",
    "                    idx1 = cList.index(test1)\n",
    "                except:\n",
    "                    idx1 = 999999999\n",
    "                try:\n",
    "                    idx2 = cList.index(test2)\n",
    "                except:\n",
    "                    idx2 = 999999999\n",
    "\n",
    "                if test1 in cList and (idx1 < idx2):\n",
    "                    cList.remove(test1)\n",
    "                elif test2 in cList and (idx2 < idx1):\n",
    "                    cList.remove(test2)\n",
    "                else:\n",
    "                    return False\n",
    "\n",
    "        else:\n",
    "            return False\n",
    "\n",
    "        i = i + 1\n",
    "\n",
    "    return True"
   ]
  },
  {
   "cell_type": "code",
   "execution_count": 67,
   "metadata": {},
   "outputs": [
    {
     "data": {
      "text/plain": [
       "False"
      ]
     },
     "execution_count": 67,
     "metadata": {},
     "output_type": "execute_result"
    }
   ],
   "source": [
    "tempList = [['eval', 0], ['statementList', 1], ['statement', 2], ['boolExpr', 3], ['stlTerm', 4], ['BooleanAtomic', 'F', 5], ['boolExpr', 6], ['stlTerm', 7], ['BooleanAtomic', 8], ['boolExpr', 9], ['AND', 'stlTerm', 'stlTerm', 10], ['BooleanAtomic', 11], ['BooleanAtomic', 11], ['GE', 'ICU_Pt_Days', 'Parameter', 12], ['LE', 'n_edrk', 'Parameter', 12]]\n",
    "cList = [['eval', 0], ['statementList', 1], ['statement', 2], ['boolExpr', 3], ['stlTerm', 4], ['BooleanAtomic', 'F', 5], ['boolExpr', 6], ['stlTerm', 7], ['BooleanAtomic', 8], ['boolExpr', 9], ['AND', 'stlTerm', 'stlTerm', 10], ['BooleanAtomic', 11], ['BooleanAtomic', 11], ['EQ', 'n_edrk', 'Parameter', 12], ['LT', 'ICU_Pt_Days', 'Parameter', 12]]\n",
    "nodeListMatch(tempList, cList)\n"
   ]
  },
  {
   "cell_type": "code",
   "execution_count": 68,
   "metadata": {},
   "outputs": [
    {
     "data": {
      "text/plain": [
       "True"
      ]
     },
     "execution_count": 68,
     "metadata": {},
     "output_type": "execute_result"
    }
   ],
   "source": [
    "tempList = [['eval', 0], ['statementList', 1], ['statement', 2], ['boolExpr', 3], ['stlTerm', 4], ['BooleanAtomic', 'F', 5], ['boolExpr', 6], ['AND', 'stlTerm', 'stlTerm', 7], ['BooleanAtomic', 8], ['BooleanAtomic', 8], ['EQ', 'death', 'Parameter', 9], ['GT', 'y', 'Parameter', 9]]\n",
    "cList = [['eval', 0], ['statementList', 1], ['statement', 2], ['boolExpr', 3], ['stlTerm', 4], ['BooleanAtomic', 'F', 5], ['boolExpr', 6], ['AND', 'stlTerm', 'stlTerm', 7], ['BooleanAtomic', 8], ['BooleanAtomic', 8], ['LE', 'death', 'Parameter', 9], ['GE', 'y', 'Parameter', 9]]\n",
    "\n",
    "nodeListMatch(tempList, cList)\n"
   ]
  },
  {
   "cell_type": "code",
   "execution_count": null,
   "metadata": {},
   "outputs": [],
   "source": []
  },
  {
   "cell_type": "code",
   "execution_count": 76,
   "metadata": {},
   "outputs": [
    {
     "data": {
      "text/plain": [
       "[['eval', 0],\n",
       " ['statementList', 1],\n",
       " ['statement', 2],\n",
       " ['boolExpr', 3],\n",
       " ['stlTerm', 4],\n",
       " ['BooleanAtomic', 'F', 5],\n",
       " ['boolExpr', 6],\n",
       " ['AND', 'stlTerm', 'stlTerm', 7],\n",
       " ['BooleanAtomic', 8],\n",
       " ['BooleanAtomic', 8],\n",
       " ['EQ', 'y', '?', 9],\n",
       " ['GT', 'death', '?', 9]]"
      ]
     },
     "execution_count": 76,
     "metadata": {},
     "output_type": "execute_result"
    }
   ],
   "source": [
    "stlFac = STLFactory()\n",
    "temp = stlFac.constructFormulaTree(\"F[?,?](y = ? & death > ?)\\n\")\n",
    "\n",
    "server = Server(clientList=[], varDict={}, params=None)\n",
    "server.getTemplateNodes(temp)"
   ]
  },
  {
   "cell_type": "code",
   "execution_count": 77,
   "metadata": {},
   "outputs": [
    {
     "ename": "AttributeError",
     "evalue": "'STLTree' object has no attribute 'toStringWithParams'",
     "output_type": "error",
     "traceback": [
      "\u001B[0;31m---------------------------------------------------------------------------\u001B[0m",
      "\u001B[0;31mAttributeError\u001B[0m                            Traceback (most recent call last)",
      "\u001B[0;32m<ipython-input-77-716316d01a01>\u001B[0m in \u001B[0;36m<module>\u001B[0;34m\u001B[0m\n\u001B[0;32m----> 1\u001B[0;31m \u001B[0mstlFac\u001B[0m\u001B[0;34m.\u001B[0m\u001B[0mconstructFormulaTree\u001B[0m\u001B[0;34m(\u001B[0m\u001B[0mtemp\u001B[0m\u001B[0;34m.\u001B[0m\u001B[0mtoStringWithParams\u001B[0m\u001B[0;34m(\u001B[0m\u001B[0;34m)\u001B[0m\u001B[0;34m)\u001B[0m\u001B[0;34m\u001B[0m\u001B[0;34m\u001B[0m\u001B[0m\n\u001B[0m",
      "\u001B[0;31mAttributeError\u001B[0m: 'STLTree' object has no attribute 'toStringWithParams'"
     ]
    }
   ],
   "source": [
    "stlFac.constructFormulaTree(temp.toStringWithParams())"
   ]
  },
  {
   "cell_type": "code",
   "execution_count": 75,
   "metadata": {},
   "outputs": [
    {
     "ename": "NameError",
     "evalue": "name 'self' is not defined",
     "output_type": "error",
     "traceback": [
      "\u001B[0;31m---------------------------------------------------------------------------\u001B[0m",
      "\u001B[0;31mNameError\u001B[0m                                 Traceback (most recent call last)",
      "\u001B[0;32m<ipython-input-75-ba0f586c3cc5>\u001B[0m in \u001B[0;36m<module>\u001B[0;34m\u001B[0m\n\u001B[0;32m----> 1\u001B[0;31m \u001B[0mgetTemplateNodes\u001B[0m\u001B[0;34m(\u001B[0m\u001B[0mtemp\u001B[0m\u001B[0;34m)\u001B[0m\u001B[0;34m\u001B[0m\u001B[0;34m\u001B[0m\u001B[0m\n\u001B[0m",
      "\u001B[0;32m<ipython-input-74-73da6c1ec1fe>\u001B[0m in \u001B[0;36mgetTemplateNodes\u001B[0;34m(temp)\u001B[0m\n\u001B[1;32m     38\u001B[0m                         \u001B[0msubNodes\u001B[0m\u001B[0;34m.\u001B[0m\u001B[0mappend\u001B[0m\u001B[0;34m(\u001B[0m\u001B[0mre\u001B[0m\u001B[0;34m.\u001B[0m\u001B[0msub\u001B[0m\u001B[0;34m(\u001B[0m\u001B[0;34mr'\\#.*'\u001B[0m\u001B[0;34m,\u001B[0m \u001B[0;34m''\u001B[0m\u001B[0;34m,\u001B[0m \u001B[0mx\u001B[0m\u001B[0;34m.\u001B[0m\u001B[0midentifier\u001B[0m\u001B[0;34m)\u001B[0m\u001B[0;34m)\u001B[0m\u001B[0;34m\u001B[0m\u001B[0;34m\u001B[0m\u001B[0m\n\u001B[1;32m     39\u001B[0m \u001B[0;34m\u001B[0m\u001B[0m\n\u001B[0;32m---> 40\u001B[0;31m             \u001B[0;32melif\u001B[0m \u001B[0mid\u001B[0m \u001B[0;32min\u001B[0m \u001B[0mself\u001B[0m\u001B[0;34m.\u001B[0m\u001B[0mvariables\u001B[0m \u001B[0;32mor\u001B[0m \u001B[0mid\u001B[0m \u001B[0;34m==\u001B[0m \u001B[0;34m'Parameter'\u001B[0m \u001B[0;32mor\u001B[0m \u001B[0mid\u001B[0m \u001B[0;34m==\u001B[0m\u001B[0;34m'Variable'\u001B[0m \u001B[0;32mor\u001B[0m \u001B[0mid\u001B[0m \u001B[0;34m==\u001B[0m \u001B[0;34m'timeBound'\u001B[0m\u001B[0;34m:\u001B[0m\u001B[0;34m\u001B[0m\u001B[0;34m\u001B[0m\u001B[0m\n\u001B[0m\u001B[1;32m     41\u001B[0m                 \u001B[0;32mpass\u001B[0m\u001B[0;34m\u001B[0m\u001B[0;34m\u001B[0m\u001B[0m\n\u001B[1;32m     42\u001B[0m             \u001B[0;32melif\u001B[0m \u001B[0mid\u001B[0m \u001B[0;32mnot\u001B[0m \u001B[0;32min\u001B[0m \u001B[0mignoreList\u001B[0m\u001B[0;34m:\u001B[0m\u001B[0;34m\u001B[0m\u001B[0;34m\u001B[0m\u001B[0m\n",
      "\u001B[0;31mNameError\u001B[0m: name 'self' is not defined"
     ]
    }
   ],
   "source": [
    "getTemplateNodes(temp)"
   ]
  },
  {
   "cell_type": "code",
   "execution_count": null,
   "metadata": {},
   "outputs": [],
   "source": []
  }
 ],
 "metadata": {
  "kernelspec": {
   "display_name": "Python 3",
   "language": "python",
   "name": "python3"
  },
  "language_info": {
   "codemirror_mode": {
    "name": "ipython",
    "version": 3
   },
   "file_extension": ".py",
   "mimetype": "text/x-python",
   "name": "python",
   "nbconvert_exporter": "python",
   "pygments_lexer": "ipython3",
   "version": "3.8.3"
  }
 },
 "nbformat": 4,
 "nbformat_minor": 1
}