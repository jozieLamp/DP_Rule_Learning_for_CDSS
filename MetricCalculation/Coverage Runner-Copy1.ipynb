{
 "cells": [
  {
   "cell_type": "code",
   "execution_count": 1,
   "metadata": {
    "pycharm": {
     "name": "#%%\n"
    }
   },
   "outputs": [
    {
     "ename": "IndentationError",
     "evalue": "expected an indented block (Coverage.py, line 213)",
     "output_type": "error",
     "traceback": [
      "Traceback \u001B[0;36m(most recent call last)\u001B[0m:\n",
      "  File \u001B[1;32m\"/usr/local/lib/python3.8/site-packages/IPython/core/interactiveshell.py\"\u001B[0m, line \u001B[1;32m3343\u001B[0m, in \u001B[1;35mrun_code\u001B[0m\n    exec(code_obj, self.user_global_ns, self.user_ns)\n",
      "\u001B[0;36m  File \u001B[0;32m\"<ipython-input-1-ca97acf47431>\"\u001B[0;36m, line \u001B[0;32m7\u001B[0;36m, in \u001B[0;35m<module>\u001B[0;36m\u001B[0m\n\u001B[0;31m    import Coverage as cov\u001B[0m\n",
      "\u001B[0;36m  File \u001B[0;32m\"/Users/josie/PycharmProjects/DifPrivSTLLearning/MetricCalculation/Coverage.py\"\u001B[0;36m, line \u001B[0;32m213\u001B[0m\n\u001B[0;31m    plt.figure(figsize=(12, 7))\u001B[0m\n\u001B[0m    ^\u001B[0m\n\u001B[0;31mIndentationError\u001B[0m\u001B[0;31m:\u001B[0m expected an indented block\n"
     ]
    }
   ],
   "source": [
    "import matplotlib.pyplot as plt\n",
    "plt.rc('font', size=12)\n",
    "import pandas as pd\n",
    "import seaborn as sns\n",
    "import warnings \n",
    "\n",
    "import Coverage as cov\n",
    "\n",
    "warnings.filterwarnings('ignore')\n",
    "%matplotlib inline\n",
    "\n",
    "%load_ext autoreload\n",
    "%autoreload 2"
   ]
  },
  {
   "cell_type": "markdown",
   "metadata": {},
   "source": [
    "## Params"
   ]
  },
  {
   "cell_type": "code",
   "execution_count": null,
   "metadata": {
    "pycharm": {
     "name": "#%%\n"
    }
   },
   "outputs": [],
   "source": [
    "#get list of client rules sorted by count\n",
    "popSize = 10\n",
    "clientFilename = \"../Data/ICU/Best/\"\n",
    "# clientFilename = \"../Data/ICU/Test/\"\n",
    "# clientFilename = \"../Data/Sepsis/Best/\"\n",
    "\n",
    "ldpFilename = \"../Results/ICU_Base_TEST.csv\"\n",
    "# ldpFilename = \"../Results/ICU_Ruleset_MCTS_TEST.csv\"\n",
    "# ldpFilename = \"../Results/ICU_TEST_2.csv\"\n",
    "# ldpFilename = \"../Results/Sepsis_Ruleset_MCTS_Test.csv\"\n",
    "\n",
    "graphName = '../Results/Graphs/test' #Name of count coverage graphs\n",
    "popThresh = 0.01 #Percentage match count\n"
   ]
  },
  {
   "cell_type": "markdown",
   "metadata": {},
   "source": [
    "## Load Client Rules"
   ]
  },
  {
   "cell_type": "code",
   "execution_count": null,
   "metadata": {
    "pycharm": {
     "name": "#%%\n"
    }
   },
   "outputs": [],
   "source": [
    "# Load Client Rule Trees and Text Rule Structures, and get dataframe of rules and their counts\n",
    "clientTrees, clientRules, clientDF = cov.loadClientRules(popSize, clientFilename)\n",
    "clientDF"
   ]
  },
  {
   "cell_type": "code",
   "execution_count": null,
   "metadata": {},
   "outputs": [],
   "source": [
    "clientDF.to_csv(\"Client Rules.csv\")"
   ]
  },
  {
   "cell_type": "markdown",
   "metadata": {},
   "source": [
    "## Load LDP Ruleset"
   ]
  },
  {
   "cell_type": "code",
   "execution_count": null,
   "metadata": {
    "pycharm": {
     "name": "#%%\n"
    }
   },
   "outputs": [],
   "source": [
    "ldpDF, ldpTrees, ldpRules = cov.loadLDPRuleset(ldpFilename)\n",
    "ldpDF"
   ]
  },
  {
   "cell_type": "markdown",
   "metadata": {},
   "source": [
    "## Complexity Analysis"
   ]
  },
  {
   "cell_type": "code",
   "execution_count": null,
   "metadata": {
    "pycharm": {
     "name": "#%%\n"
    }
   },
   "outputs": [],
   "source": [
    "k = 4 #k-ary tree\n",
    "h = 17 #height\n",
    "k**h"
   ]
  },
  {
   "cell_type": "markdown",
   "metadata": {},
   "source": [
    "## Get Table of Structure Counts - Count of rules above threshold"
   ]
  },
  {
   "cell_type": "code",
   "execution_count": null,
   "metadata": {
    "pycharm": {
     "name": "#%%\n"
    },
    "scrolled": true
   },
   "outputs": [],
   "source": [
    "covDF, countDF, clientTrees = cov.getCoverageTable(popThresh, ldpDF, ldpTrees, clientDF)\n",
    "countDF.to_csv(ldpFilename + \"_CovCountDF.csv\")\n",
    "covDF"
   ]
  },
  {
   "cell_type": "code",
   "execution_count": null,
   "metadata": {
    "pycharm": {
     "name": "#%%\n"
    }
   },
   "outputs": [],
   "source": [
    "countDF"
   ]
  },
  {
   "cell_type": "markdown",
   "metadata": {},
   "source": [
    "## Get number of unique structure types"
   ]
  },
  {
   "cell_type": "code",
   "execution_count": null,
   "metadata": {
    "pycharm": {
     "name": "#%%\n"
    }
   },
   "outputs": [],
   "source": [
    "structDF = cov.countUniqueStructuresNoVars(clientTrees, ldpTrees)\n",
    "structDF"
   ]
  },
  {
   "cell_type": "code",
   "execution_count": null,
   "metadata": {
    "pycharm": {
     "name": "#%%\n"
    }
   },
   "outputs": [],
   "source": []
  },
  {
   "cell_type": "code",
   "execution_count": null,
   "metadata": {
    "pycharm": {
     "name": "#%%\n"
    }
   },
   "outputs": [],
   "source": []
  },
  {
   "cell_type": "code",
   "execution_count": null,
   "metadata": {
    "pycharm": {
     "name": "#%%\n"
    }
   },
   "outputs": [],
   "source": []
  },
  {
   "cell_type": "markdown",
   "metadata": {},
   "source": [
    "## Compare LDP Rules Found vs the Percent Client Counts "
   ]
  },
  {
   "cell_type": "code",
   "execution_count": null,
   "metadata": {
    "pycharm": {
     "name": "#%%\n"
    }
   },
   "outputs": [],
   "source": [
    "#make list of rule counts x population percents\n",
    "\n",
    "lst = []\n",
    "for idx, row in clientDF.iterrows():\n",
    "    lst.extend([row['Percent of Population'] for i in range(row['Rule Count'])])\n",
    "    \n",
    "n_bins = 10\n",
    "\n",
    "plt.figure(figsize=(12, 7))\n",
    "plt.hist([lst, countDF['Client Count'].values], n_bins, density=True, histtype='bar',label=['Client', 'LDP'])\n",
    "plt.xlabel(\"Percentage of Population\")\n",
    "plt.ylabel(\"Number of Rules\")\n",
    "plt.yscale('log')\n",
    "plt.legend()\n"
   ]
  },
  {
   "cell_type": "code",
   "execution_count": null,
   "metadata": {
    "pycharm": {
     "name": "#%%\n"
    }
   },
   "outputs": [],
   "source": []
  },
  {
   "cell_type": "code",
   "execution_count": null,
   "metadata": {},
   "outputs": [],
   "source": [
    "from SignalTemporalLogic.STLFactory import STLFactory\n",
    "from Client import Client\n",
    "from Server import Server"
   ]
  },
  {
   "cell_type": "code",
   "execution_count": null,
   "metadata": {
    "pycharm": {
     "name": "#%%\n"
    }
   },
   "outputs": [],
   "source": [
    "# From client rules, first make client trees\n",
    "clientRules = ['F[0,0]((death <= 0.000 & y >= 0.000))']\n",
    "clientTrees = []\n",
    "stlFac = STLFactory()\n",
    "\n",
    "for c in clientRules:\n",
    "    c = stlFac.constructFormulaTree(c + \"\\n\")\n",
    "    clientTrees.append(c)\n",
    "    \n",
    "clientTrees"
   ]
  },
  {
   "cell_type": "code",
   "execution_count": null,
   "metadata": {},
   "outputs": [],
   "source": [
    "ldpRules = ['F[0,0](death > 0.000 & y = 0.000)']\n",
    "ldpTrees = []\n",
    "stlFac = STLFactory()\n",
    "\n",
    "for c in ldpRules:\n",
    "    c = stlFac.constructFormulaTree(c + \"\\n\")\n",
    "    ldpTrees.append(c)\n",
    "    \n",
    "ldpTrees"
   ]
  },
  {
   "cell_type": "code",
   "execution_count": null,
   "metadata": {
    "pycharm": {
     "name": "#%%\n"
    }
   },
   "outputs": [],
   "source": [
    "def queryStructuralFullMatch(template, clientTrees):\n",
    "\n",
    "    client = Client(clientNum=1, epsilon='inf', ruleSet=clientTrees)\n",
    "    server = Server(clientList=[], varDict={}, params=None)\n",
    "\n",
    "#     print(\"Temp vars\", varList)\n",
    "#     print(\"\\ntemp\", template.toString())\n",
    "    ldpNodes = server.getTemplateNodes(template)\n",
    "    ldpVars = template.getAllVars()\n",
    "\n",
    "#     print(\"templt nodes\", ldpNodes)\n",
    "\n",
    "    r = client.queryStructuralRuleMatchReturn(ldpNodes, ldpVars)\n",
    "\n",
    "    return r"
   ]
  },
  {
   "cell_type": "code",
   "execution_count": null,
   "metadata": {
    "pycharm": {
     "name": "#%%\n"
    }
   },
   "outputs": [],
   "source": [
    "found = queryStructuralFullMatch(ldpTrees[0], clientTrees)\n",
    "print(found)"
   ]
  },
  {
   "cell_type": "code",
   "execution_count": null,
   "metadata": {
    "pycharm": {
     "name": "#%%\n"
    }
   },
   "outputs": [],
   "source": []
  },
  {
   "cell_type": "code",
   "execution_count": null,
   "metadata": {
    "pycharm": {
     "name": "#%%\n"
    }
   },
   "outputs": [],
   "source": [
    "def nodeListMatch(tempList, cList):\n",
    "    relops = ['GT', 'GE', 'LT', 'LE', \"EQ\"]  # , 'NEQ']\n",
    "\n",
    "    i = 0\n",
    "    while i < len(tempList):\n",
    "        # get current branch of nodes\n",
    "        if tempList[i] in cList:\n",
    "            if 'Parameter' not in tempList[i]:  # found a var match\n",
    "                #                 idx = cList.index(tempList[i])  # get idx of element of cList\n",
    "                #                 cList = cList[idx + 1:]\n",
    "                cList.remove(tempList[i])\n",
    "\n",
    "        elif any(item in tempList[i] for item in relops):\n",
    "            # Try all match options\n",
    "            if 'GT' in tempList[i]:\n",
    "                test = [x if x != \"GT\" else \"GE\" for x in tempList[i]]\n",
    "\n",
    "                if test in cList:\n",
    "                    cList.remove(test)\n",
    "                else:\n",
    "                    return False\n",
    "            elif 'GE' in tempList[i]:\n",
    "                test1 = [x if x != \"GE\" else \"GT\" for x in tempList[i]]\n",
    "                test2 = [x if x != \"GE\" else \"EQ\" for x in tempList[i]]\n",
    "\n",
    "                try:\n",
    "                    idx1 = cList.index(test1)\n",
    "                except:\n",
    "                    idx1 = 999999999\n",
    "                try:\n",
    "                    idx2 = cList.index(test2)\n",
    "                except:\n",
    "                    idx2 = 999999999\n",
    "\n",
    "                if test1 in cList and (idx1 < idx2):\n",
    "                    cList.remove(test1)\n",
    "                elif test2 in cList and (idx2 < idx1):\n",
    "                    cList.remove(test2)\n",
    "                else:\n",
    "                    return False\n",
    "            elif 'LT' in tempList[i]:\n",
    "                test = [x if x != \"LT\" else \"LE\" for x in tempList[i]]\n",
    "                if test in cList:\n",
    "                    cList.remove(test)\n",
    "                else:\n",
    "                    return False\n",
    "            elif 'LE' in tempList[i]:\n",
    "                test1 = [x if x != \"LE\" else \"LT\" for x in tempList[i]]\n",
    "                test2 = [x if x != \"LE\" else \"EQ\" for x in tempList[i]]\n",
    "                try:\n",
    "                    idx1 = cList.index(test1)\n",
    "                except:\n",
    "                    idx1 = 999999999\n",
    "                try:\n",
    "                    idx2 = cList.index(test2)\n",
    "                except:\n",
    "                    idx2 = 999999999\n",
    "\n",
    "                if test1 in cList and (idx1 < idx2):\n",
    "                    cList.remove(test1)\n",
    "                elif test2 in cList and (idx2 < idx1):\n",
    "                    cList.remove(test2)\n",
    "                else:\n",
    "                    return False\n",
    "            elif 'EQ' in tempList[i]:\n",
    "                test1 = [x if x != \"EQ\" else \"GE\" for x in tempList[i]]\n",
    "                test2 = [x if x != \"EQ\" else \"LE\" for x in tempList[i]]\n",
    "\n",
    "                try:\n",
    "                    idx1 = cList.index(test1)\n",
    "                except:\n",
    "                    idx1 = 999999999\n",
    "                try:\n",
    "                    idx2 = cList.index(test2)\n",
    "                except:\n",
    "                    idx2 = 999999999\n",
    "\n",
    "                if test1 in cList and (idx1 < idx2):\n",
    "                    cList.remove(test1)\n",
    "                elif test2 in cList and (idx2 < idx1):\n",
    "                    cList.remove(test2)\n",
    "                else:\n",
    "                    return False\n",
    "\n",
    "        else:\n",
    "            return False\n",
    "\n",
    "        i = i + 1\n",
    "\n",
    "    return True"
   ]
  },
  {
   "cell_type": "code",
   "execution_count": null,
   "metadata": {},
   "outputs": [],
   "source": [
    "tempList = [['eval', 0], ['statementList', 1], ['statement', 2], ['boolExpr', 3], ['stlTerm', 4], ['BooleanAtomic', 'F', 5], ['boolExpr', 6], ['stlTerm', 7], ['BooleanAtomic', 8], ['boolExpr', 9], ['AND', 'stlTerm', 'stlTerm', 10], ['BooleanAtomic', 11], ['BooleanAtomic', 11], ['GE', 'ICU_Pt_Days', 'Parameter', 12], ['LE', 'n_edrk', 'Parameter', 12]]\n",
    "cList = [['eval', 0], ['statementList', 1], ['statement', 2], ['boolExpr', 3], ['stlTerm', 4], ['BooleanAtomic', 'F', 5], ['boolExpr', 6], ['stlTerm', 7], ['BooleanAtomic', 8], ['boolExpr', 9], ['AND', 'stlTerm', 'stlTerm', 10], ['BooleanAtomic', 11], ['BooleanAtomic', 11], ['EQ', 'n_edrk', 'Parameter', 12], ['LT', 'ICU_Pt_Days', 'Parameter', 12]]\n",
    "nodeListMatch(tempList, cList)\n"
   ]
  },
  {
   "cell_type": "code",
   "execution_count": null,
   "metadata": {},
   "outputs": [],
   "source": [
    "tempList = [['eval', 0], ['statementList', 1], ['statement', 2], ['boolExpr', 3], ['stlTerm', 4], ['BooleanAtomic', 'F', 5], ['boolExpr', 6], ['AND', 'stlTerm', 'stlTerm', 7], ['BooleanAtomic', 8], ['BooleanAtomic', 8], ['EQ', 'death', 'Parameter', 9], ['GT', 'y', 'Parameter', 9]]\n",
    "cList = [['eval', 0], ['statementList', 1], ['statement', 2], ['boolExpr', 3], ['stlTerm', 4], ['BooleanAtomic', 'F', 5], ['boolExpr', 6], ['AND', 'stlTerm', 'stlTerm', 7], ['BooleanAtomic', 8], ['BooleanAtomic', 8], ['LE', 'death', 'Parameter', 9], ['GE', 'y', 'Parameter', 9]]\n",
    "\n",
    "nodeListMatch(tempList, cList)\n"
   ]
  },
  {
   "cell_type": "code",
   "execution_count": null,
   "metadata": {},
   "outputs": [],
   "source": []
  },
  {
   "cell_type": "code",
   "execution_count": null,
   "metadata": {},
   "outputs": [],
   "source": [
    "stlFac = STLFactory()\n",
    "temp = stlFac.constructFormulaTree(\"F[?,?](y = ? & death > ?)\\n\")\n",
    "\n",
    "server = Server(clientList=[], varDict={}, params=None)\n",
    "server.getTemplateNodes(temp)"
   ]
  },
  {
   "cell_type": "code",
   "execution_count": null,
   "metadata": {},
   "outputs": [],
   "source": [
    "stlFac.constructFormulaTree(temp.toStringWithParams())"
   ]
  },
  {
   "cell_type": "code",
   "execution_count": null,
   "metadata": {},
   "outputs": [],
   "source": [
    "getTemplateNodes(temp)"
   ]
  },
  {
   "cell_type": "code",
   "execution_count": null,
   "metadata": {},
   "outputs": [],
   "source": []
  }
 ],
 "metadata": {
  "kernelspec": {
   "display_name": "Python 3",
   "language": "python",
   "name": "python3"
  },
  "language_info": {
   "codemirror_mode": {
    "name": "ipython",
    "version": 3
   },
   "file_extension": ".py",
   "mimetype": "text/x-python",
   "name": "python",
   "nbconvert_exporter": "python",
   "pygments_lexer": "ipython3",
   "version": "3.8.3"
  }
 },
 "nbformat": 4,
 "nbformat_minor": 1
}