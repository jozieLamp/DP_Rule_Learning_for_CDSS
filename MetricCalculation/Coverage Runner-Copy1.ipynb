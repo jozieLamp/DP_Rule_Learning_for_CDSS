{
 "cells": [
  {
   "cell_type": "code",
   "execution_count": 1,
   "metadata": {
    "pycharm": {
     "name": "#%%\n"
    }
   },
   "outputs": [],
   "source": [
    "import matplotlib.pyplot as plt\n",
    "plt.rc('font', size=12)\n",
    "import pandas as pd\n",
    "import seaborn as sns\n",
    "import warnings \n",
    "\n",
    "import Coverage as cov\n",
    "\n",
    "warnings.filterwarnings('ignore')\n",
    "%matplotlib inline\n",
    "\n",
    "%load_ext autoreload\n",
    "%autoreload 2"
   ]
  },
  {
   "cell_type": "markdown",
   "metadata": {},
   "source": [
    "## Params"
   ]
  },
  {
   "cell_type": "code",
   "execution_count": 2,
   "metadata": {
    "pycharm": {
     "name": "#%%\n"
    }
   },
   "outputs": [],
   "source": [
    "#get list of client rules sorted by count\n",
    "popSize = 10\n",
    "clientFilename = \"../Data/ICU/Best/\"\n",
    "# clientFilename = \"../Data/ICU/Test/\"\n",
    "# clientFilename = \"../Data/Sepsis/Best/\"\n",
    "\n",
    "ldpFilename = \"../Results/ICU_Base_TEST.csv\"\n",
    "# ldpFilename = \"../Results/ICU_Ruleset_MCTS_TEST.csv\"\n",
    "# ldpFilename = \"../Results/ICU_TEST_2.csv\"\n",
    "# ldpFilename = \"../Results/Sepsis_Ruleset_MCTS_Test.csv\"\n",
    "\n",
    "graphName = '../Results/Graphs/test' #Name of count coverage graphs\n",
    "popThresh = 0.01 #Percentage match count\n"
   ]
  },
  {
   "cell_type": "markdown",
   "metadata": {},
   "source": [
    "## Load Client Rules"
   ]
  },
  {
   "cell_type": "code",
   "execution_count": 3,
   "metadata": {
    "pycharm": {
     "name": "#%%\n"
    }
   },
   "outputs": [
    {
     "name": "stdout",
     "output_type": "stream",
     "text": [
      "File not found for Client 8\n"
     ]
    },
    {
     "data": {
      "text/plain": "                                                  Rule  Rule Count  \\\n53             ((MET >= 0.000) U[0,0] (death = 0.000))          17   \n56   F[0,0]((BLOOD_UREA_NITROGEN <= 0.000 & CREATIN...          13   \n57           G[0,0]((n_evts <= 0.000 -> LOS >= 0.000))          12   \n47              G[0,0]((hr >= 0.000 & Pulse >= 0.000))           3   \n172           ((af >= 0.000) U[0,0] (direct >= 0.000))           3   \n..                                                 ...         ...   \n188   F[0,0]((HEMOGLOBIN <= 0.000 & O2_Flow <= 0.000))           1   \n187             F[0,0]((dfa >= 0.000 & Mort >= 0.000))           1   \n186  ((O2_Flow <= 0.000) U[0,0] (PLATELET_COUNT >= ...           1   \n185  ((MET >= 0.000) U[0,0] (PARTIAL_THROMBOPLASTIN...           1   \n552  G[0,0]((death >= 0.000 -> WHITE_BLOOD_CELL_COU...           1   \n\n     Percent of Population  \n53                     1.0  \n56                     1.0  \n57                     1.0  \n47                     0.3  \n172                    0.3  \n..                     ...  \n188                    0.1  \n187                    0.1  \n186                    0.1  \n185                    0.1  \n552                    0.1  \n\n[553 rows x 3 columns]",
      "text/html": "<div>\n<style scoped>\n    .dataframe tbody tr th:only-of-type {\n        vertical-align: middle;\n    }\n\n    .dataframe tbody tr th {\n        vertical-align: top;\n    }\n\n    .dataframe thead th {\n        text-align: right;\n    }\n</style>\n<table border=\"1\" class=\"dataframe\">\n  <thead>\n    <tr style=\"text-align: right;\">\n      <th></th>\n      <th>Rule</th>\n      <th>Rule Count</th>\n      <th>Percent of Population</th>\n    </tr>\n  </thead>\n  <tbody>\n    <tr>\n      <th>53</th>\n      <td>((MET &gt;= 0.000) U[0,0] (death = 0.000))</td>\n      <td>17</td>\n      <td>1.0</td>\n    </tr>\n    <tr>\n      <th>56</th>\n      <td>F[0,0]((BLOOD_UREA_NITROGEN &lt;= 0.000 &amp; CREATIN...</td>\n      <td>13</td>\n      <td>1.0</td>\n    </tr>\n    <tr>\n      <th>57</th>\n      <td>G[0,0]((n_evts &lt;= 0.000 -&gt; LOS &gt;= 0.000))</td>\n      <td>12</td>\n      <td>1.0</td>\n    </tr>\n    <tr>\n      <th>47</th>\n      <td>G[0,0]((hr &gt;= 0.000 &amp; Pulse &gt;= 0.000))</td>\n      <td>3</td>\n      <td>0.3</td>\n    </tr>\n    <tr>\n      <th>172</th>\n      <td>((af &gt;= 0.000) U[0,0] (direct &gt;= 0.000))</td>\n      <td>3</td>\n      <td>0.3</td>\n    </tr>\n    <tr>\n      <th>...</th>\n      <td>...</td>\n      <td>...</td>\n      <td>...</td>\n    </tr>\n    <tr>\n      <th>188</th>\n      <td>F[0,0]((HEMOGLOBIN &lt;= 0.000 &amp; O2_Flow &lt;= 0.000))</td>\n      <td>1</td>\n      <td>0.1</td>\n    </tr>\n    <tr>\n      <th>187</th>\n      <td>F[0,0]((dfa &gt;= 0.000 &amp; Mort &gt;= 0.000))</td>\n      <td>1</td>\n      <td>0.1</td>\n    </tr>\n    <tr>\n      <th>186</th>\n      <td>((O2_Flow &lt;= 0.000) U[0,0] (PLATELET_COUNT &gt;= ...</td>\n      <td>1</td>\n      <td>0.1</td>\n    </tr>\n    <tr>\n      <th>185</th>\n      <td>((MET &gt;= 0.000) U[0,0] (PARTIAL_THROMBOPLASTIN...</td>\n      <td>1</td>\n      <td>0.1</td>\n    </tr>\n    <tr>\n      <th>552</th>\n      <td>G[0,0]((death &gt;= 0.000 -&gt; WHITE_BLOOD_CELL_COU...</td>\n      <td>1</td>\n      <td>0.1</td>\n    </tr>\n  </tbody>\n</table>\n<p>553 rows × 3 columns</p>\n</div>"
     },
     "execution_count": 3,
     "metadata": {},
     "output_type": "execute_result"
    }
   ],
   "source": [
    "# Load Client Rule Trees and Text Rule Structures, and get dataframe of rules and their counts\n",
    "clientTrees, clientRules, clientDF = cov.loadClientRules(popSize, clientFilename)\n",
    "clientDF"
   ]
  },
  {
   "cell_type": "code",
   "execution_count": 4,
   "metadata": {},
   "outputs": [],
   "source": [
    "clientDF.to_csv(\"Client Rules.csv\")"
   ]
  },
  {
   "cell_type": "markdown",
   "metadata": {},
   "source": [
    "## Load LDP Ruleset"
   ]
  },
  {
   "cell_type": "code",
   "execution_count": 5,
   "metadata": {
    "pycharm": {
     "name": "#%%\n"
    }
   },
   "outputs": [
    {
     "ename": "FileNotFoundError",
     "evalue": "[Errno 2] No such file or directory: '../Results/ICU_Base_TEST.csv'",
     "output_type": "error",
     "traceback": [
      "\u001B[0;31m---------------------------------------------------------------------------\u001B[0m",
      "\u001B[0;31mFileNotFoundError\u001B[0m                         Traceback (most recent call last)",
      "\u001B[0;32m<ipython-input-5-e0a49c0fd0d7>\u001B[0m in \u001B[0;36m<module>\u001B[0;34m\u001B[0m\n\u001B[0;32m----> 1\u001B[0;31m \u001B[0mldpDF\u001B[0m\u001B[0;34m,\u001B[0m \u001B[0mldpTrees\u001B[0m\u001B[0;34m,\u001B[0m \u001B[0mldpRules\u001B[0m \u001B[0;34m=\u001B[0m \u001B[0mcov\u001B[0m\u001B[0;34m.\u001B[0m\u001B[0mloadLDPRuleset\u001B[0m\u001B[0;34m(\u001B[0m\u001B[0mldpFilename\u001B[0m\u001B[0;34m)\u001B[0m\u001B[0;34m\u001B[0m\u001B[0;34m\u001B[0m\u001B[0m\n\u001B[0m\u001B[1;32m      2\u001B[0m \u001B[0mldpDF\u001B[0m\u001B[0;34m\u001B[0m\u001B[0;34m\u001B[0m\u001B[0m\n\u001B[1;32m      3\u001B[0m \u001B[0;34m\u001B[0m\u001B[0m\n",
      "\u001B[0;32m~/PycharmProjects/DifPrivSTLLearning/MetricCalculation/Coverage.py\u001B[0m in \u001B[0;36mloadLDPRuleset\u001B[0;34m(resultsFilename)\u001B[0m\n\u001B[1;32m    272\u001B[0m \u001B[0;31m#Load LDP rules\u001B[0m\u001B[0;34m\u001B[0m\u001B[0;34m\u001B[0m\u001B[0;34m\u001B[0m\u001B[0m\n\u001B[1;32m    273\u001B[0m \u001B[0;32mdef\u001B[0m \u001B[0mloadLDPRuleset\u001B[0m\u001B[0;34m(\u001B[0m\u001B[0mresultsFilename\u001B[0m\u001B[0;34m)\u001B[0m\u001B[0;34m:\u001B[0m\u001B[0;34m\u001B[0m\u001B[0;34m\u001B[0m\u001B[0m\n\u001B[0;32m--> 274\u001B[0;31m     \u001B[0mldpDF\u001B[0m \u001B[0;34m=\u001B[0m \u001B[0mpd\u001B[0m\u001B[0;34m.\u001B[0m\u001B[0mread_csv\u001B[0m\u001B[0;34m(\u001B[0m\u001B[0mresultsFilename\u001B[0m\u001B[0;34m,\u001B[0m \u001B[0mindex_col\u001B[0m\u001B[0;34m=\u001B[0m\u001B[0;36m0\u001B[0m\u001B[0;34m)\u001B[0m\u001B[0;34m\u001B[0m\u001B[0;34m\u001B[0m\u001B[0m\n\u001B[0m\u001B[1;32m    275\u001B[0m \u001B[0;34m\u001B[0m\u001B[0m\n\u001B[1;32m    276\u001B[0m     \u001B[0mldpTrees\u001B[0m \u001B[0;34m=\u001B[0m \u001B[0;34m[\u001B[0m\u001B[0;34m]\u001B[0m\u001B[0;34m\u001B[0m\u001B[0;34m\u001B[0m\u001B[0m\n",
      "\u001B[0;32m/usr/local/lib/python3.8/site-packages/pandas/io/parsers.py\u001B[0m in \u001B[0;36mread_csv\u001B[0;34m(filepath_or_buffer, sep, delimiter, header, names, index_col, usecols, squeeze, prefix, mangle_dupe_cols, dtype, engine, converters, true_values, false_values, skipinitialspace, skiprows, skipfooter, nrows, na_values, keep_default_na, na_filter, verbose, skip_blank_lines, parse_dates, infer_datetime_format, keep_date_col, date_parser, dayfirst, cache_dates, iterator, chunksize, compression, thousands, decimal, lineterminator, quotechar, quoting, doublequote, escapechar, comment, encoding, dialect, error_bad_lines, warn_bad_lines, delim_whitespace, low_memory, memory_map, float_precision)\u001B[0m\n\u001B[1;32m    684\u001B[0m     )\n\u001B[1;32m    685\u001B[0m \u001B[0;34m\u001B[0m\u001B[0m\n\u001B[0;32m--> 686\u001B[0;31m     \u001B[0;32mreturn\u001B[0m \u001B[0m_read\u001B[0m\u001B[0;34m(\u001B[0m\u001B[0mfilepath_or_buffer\u001B[0m\u001B[0;34m,\u001B[0m \u001B[0mkwds\u001B[0m\u001B[0;34m)\u001B[0m\u001B[0;34m\u001B[0m\u001B[0;34m\u001B[0m\u001B[0m\n\u001B[0m\u001B[1;32m    687\u001B[0m \u001B[0;34m\u001B[0m\u001B[0m\n\u001B[1;32m    688\u001B[0m \u001B[0;34m\u001B[0m\u001B[0m\n",
      "\u001B[0;32m/usr/local/lib/python3.8/site-packages/pandas/io/parsers.py\u001B[0m in \u001B[0;36m_read\u001B[0;34m(filepath_or_buffer, kwds)\u001B[0m\n\u001B[1;32m    450\u001B[0m \u001B[0;34m\u001B[0m\u001B[0m\n\u001B[1;32m    451\u001B[0m     \u001B[0;31m# Create the parser.\u001B[0m\u001B[0;34m\u001B[0m\u001B[0;34m\u001B[0m\u001B[0;34m\u001B[0m\u001B[0m\n\u001B[0;32m--> 452\u001B[0;31m     \u001B[0mparser\u001B[0m \u001B[0;34m=\u001B[0m \u001B[0mTextFileReader\u001B[0m\u001B[0;34m(\u001B[0m\u001B[0mfp_or_buf\u001B[0m\u001B[0;34m,\u001B[0m \u001B[0;34m**\u001B[0m\u001B[0mkwds\u001B[0m\u001B[0;34m)\u001B[0m\u001B[0;34m\u001B[0m\u001B[0;34m\u001B[0m\u001B[0m\n\u001B[0m\u001B[1;32m    453\u001B[0m \u001B[0;34m\u001B[0m\u001B[0m\n\u001B[1;32m    454\u001B[0m     \u001B[0;32mif\u001B[0m \u001B[0mchunksize\u001B[0m \u001B[0;32mor\u001B[0m \u001B[0miterator\u001B[0m\u001B[0;34m:\u001B[0m\u001B[0;34m\u001B[0m\u001B[0;34m\u001B[0m\u001B[0m\n",
      "\u001B[0;32m/usr/local/lib/python3.8/site-packages/pandas/io/parsers.py\u001B[0m in \u001B[0;36m__init__\u001B[0;34m(self, f, engine, **kwds)\u001B[0m\n\u001B[1;32m    934\u001B[0m             \u001B[0mself\u001B[0m\u001B[0;34m.\u001B[0m\u001B[0moptions\u001B[0m\u001B[0;34m[\u001B[0m\u001B[0;34m\"has_index_names\"\u001B[0m\u001B[0;34m]\u001B[0m \u001B[0;34m=\u001B[0m \u001B[0mkwds\u001B[0m\u001B[0;34m[\u001B[0m\u001B[0;34m\"has_index_names\"\u001B[0m\u001B[0;34m]\u001B[0m\u001B[0;34m\u001B[0m\u001B[0;34m\u001B[0m\u001B[0m\n\u001B[1;32m    935\u001B[0m \u001B[0;34m\u001B[0m\u001B[0m\n\u001B[0;32m--> 936\u001B[0;31m         \u001B[0mself\u001B[0m\u001B[0;34m.\u001B[0m\u001B[0m_make_engine\u001B[0m\u001B[0;34m(\u001B[0m\u001B[0mself\u001B[0m\u001B[0;34m.\u001B[0m\u001B[0mengine\u001B[0m\u001B[0;34m)\u001B[0m\u001B[0;34m\u001B[0m\u001B[0;34m\u001B[0m\u001B[0m\n\u001B[0m\u001B[1;32m    937\u001B[0m \u001B[0;34m\u001B[0m\u001B[0m\n\u001B[1;32m    938\u001B[0m     \u001B[0;32mdef\u001B[0m \u001B[0mclose\u001B[0m\u001B[0;34m(\u001B[0m\u001B[0mself\u001B[0m\u001B[0;34m)\u001B[0m\u001B[0;34m:\u001B[0m\u001B[0;34m\u001B[0m\u001B[0;34m\u001B[0m\u001B[0m\n",
      "\u001B[0;32m/usr/local/lib/python3.8/site-packages/pandas/io/parsers.py\u001B[0m in \u001B[0;36m_make_engine\u001B[0;34m(self, engine)\u001B[0m\n\u001B[1;32m   1166\u001B[0m     \u001B[0;32mdef\u001B[0m \u001B[0m_make_engine\u001B[0m\u001B[0;34m(\u001B[0m\u001B[0mself\u001B[0m\u001B[0;34m,\u001B[0m \u001B[0mengine\u001B[0m\u001B[0;34m=\u001B[0m\u001B[0;34m\"c\"\u001B[0m\u001B[0;34m)\u001B[0m\u001B[0;34m:\u001B[0m\u001B[0;34m\u001B[0m\u001B[0;34m\u001B[0m\u001B[0m\n\u001B[1;32m   1167\u001B[0m         \u001B[0;32mif\u001B[0m \u001B[0mengine\u001B[0m \u001B[0;34m==\u001B[0m \u001B[0;34m\"c\"\u001B[0m\u001B[0;34m:\u001B[0m\u001B[0;34m\u001B[0m\u001B[0;34m\u001B[0m\u001B[0m\n\u001B[0;32m-> 1168\u001B[0;31m             \u001B[0mself\u001B[0m\u001B[0;34m.\u001B[0m\u001B[0m_engine\u001B[0m \u001B[0;34m=\u001B[0m \u001B[0mCParserWrapper\u001B[0m\u001B[0;34m(\u001B[0m\u001B[0mself\u001B[0m\u001B[0;34m.\u001B[0m\u001B[0mf\u001B[0m\u001B[0;34m,\u001B[0m \u001B[0;34m**\u001B[0m\u001B[0mself\u001B[0m\u001B[0;34m.\u001B[0m\u001B[0moptions\u001B[0m\u001B[0;34m)\u001B[0m\u001B[0;34m\u001B[0m\u001B[0;34m\u001B[0m\u001B[0m\n\u001B[0m\u001B[1;32m   1169\u001B[0m         \u001B[0;32melse\u001B[0m\u001B[0;34m:\u001B[0m\u001B[0;34m\u001B[0m\u001B[0;34m\u001B[0m\u001B[0m\n\u001B[1;32m   1170\u001B[0m             \u001B[0;32mif\u001B[0m \u001B[0mengine\u001B[0m \u001B[0;34m==\u001B[0m \u001B[0;34m\"python\"\u001B[0m\u001B[0;34m:\u001B[0m\u001B[0;34m\u001B[0m\u001B[0;34m\u001B[0m\u001B[0m\n",
      "\u001B[0;32m/usr/local/lib/python3.8/site-packages/pandas/io/parsers.py\u001B[0m in \u001B[0;36m__init__\u001B[0;34m(self, src, **kwds)\u001B[0m\n\u001B[1;32m   1996\u001B[0m         \u001B[0mkwds\u001B[0m\u001B[0;34m[\u001B[0m\u001B[0;34m\"usecols\"\u001B[0m\u001B[0;34m]\u001B[0m \u001B[0;34m=\u001B[0m \u001B[0mself\u001B[0m\u001B[0;34m.\u001B[0m\u001B[0musecols\u001B[0m\u001B[0;34m\u001B[0m\u001B[0;34m\u001B[0m\u001B[0m\n\u001B[1;32m   1997\u001B[0m \u001B[0;34m\u001B[0m\u001B[0m\n\u001B[0;32m-> 1998\u001B[0;31m         \u001B[0mself\u001B[0m\u001B[0;34m.\u001B[0m\u001B[0m_reader\u001B[0m \u001B[0;34m=\u001B[0m \u001B[0mparsers\u001B[0m\u001B[0;34m.\u001B[0m\u001B[0mTextReader\u001B[0m\u001B[0;34m(\u001B[0m\u001B[0msrc\u001B[0m\u001B[0;34m,\u001B[0m \u001B[0;34m**\u001B[0m\u001B[0mkwds\u001B[0m\u001B[0;34m)\u001B[0m\u001B[0;34m\u001B[0m\u001B[0;34m\u001B[0m\u001B[0m\n\u001B[0m\u001B[1;32m   1999\u001B[0m         \u001B[0mself\u001B[0m\u001B[0;34m.\u001B[0m\u001B[0munnamed_cols\u001B[0m \u001B[0;34m=\u001B[0m \u001B[0mself\u001B[0m\u001B[0;34m.\u001B[0m\u001B[0m_reader\u001B[0m\u001B[0;34m.\u001B[0m\u001B[0munnamed_cols\u001B[0m\u001B[0;34m\u001B[0m\u001B[0;34m\u001B[0m\u001B[0m\n\u001B[1;32m   2000\u001B[0m \u001B[0;34m\u001B[0m\u001B[0m\n",
      "\u001B[0;32mpandas/_libs/parsers.pyx\u001B[0m in \u001B[0;36mpandas._libs.parsers.TextReader.__cinit__\u001B[0;34m()\u001B[0m\n",
      "\u001B[0;32mpandas/_libs/parsers.pyx\u001B[0m in \u001B[0;36mpandas._libs.parsers.TextReader._setup_parser_source\u001B[0;34m()\u001B[0m\n",
      "\u001B[0;31mFileNotFoundError\u001B[0m: [Errno 2] No such file or directory: '../Results/ICU_Base_TEST.csv'"
     ]
    }
   ],
   "source": [
    "ldpDF, ldpTrees, ldpRules = cov.loadLDPRuleset(ldpFilename)\n",
    "ldpDF"
   ]
  },
  {
   "cell_type": "markdown",
   "metadata": {},
   "source": [
    "## Complexity Analysis"
   ]
  },
  {
   "cell_type": "code",
   "execution_count": null,
   "metadata": {
    "pycharm": {
     "name": "#%%\n"
    }
   },
   "outputs": [],
   "source": [
    "k = 4 #k-ary tree\n",
    "h = 17 #height\n",
    "k**h"
   ]
  },
  {
   "cell_type": "markdown",
   "metadata": {},
   "source": [
    "## Get Table of Structure Counts - Count of rules above threshold"
   ]
  },
  {
   "cell_type": "code",
   "execution_count": null,
   "metadata": {
    "pycharm": {
     "name": "#%%\n"
    },
    "scrolled": true
   },
   "outputs": [],
   "source": [
    "covDF, countDF, clientTrees = cov.getCoverageTable(popThresh, ldpDF, ldpTrees, clientDF)\n",
    "countDF.to_csv(ldpFilename + \"_CovCountDF.csv\")\n",
    "covDF"
   ]
  },
  {
   "cell_type": "code",
   "execution_count": null,
   "metadata": {
    "pycharm": {
     "name": "#%%\n"
    }
   },
   "outputs": [],
   "source": [
    "countDF"
   ]
  },
  {
   "cell_type": "markdown",
   "metadata": {},
   "source": [
    "## Get number of unique structure types"
   ]
  },
  {
   "cell_type": "code",
   "execution_count": null,
   "metadata": {
    "pycharm": {
     "name": "#%%\n"
    }
   },
   "outputs": [],
   "source": [
    "structDF = cov.countUniqueStructuresNoVars(clientTrees, ldpTrees)\n",
    "structDF"
   ]
  },
  {
   "cell_type": "code",
   "execution_count": null,
   "metadata": {
    "pycharm": {
     "name": "#%%\n"
    }
   },
   "outputs": [],
   "source": []
  },
  {
   "cell_type": "code",
   "execution_count": null,
   "metadata": {
    "pycharm": {
     "name": "#%%\n"
    }
   },
   "outputs": [],
   "source": []
  },
  {
   "cell_type": "code",
   "execution_count": null,
   "metadata": {
    "pycharm": {
     "name": "#%%\n"
    }
   },
   "outputs": [],
   "source": []
  },
  {
   "cell_type": "markdown",
   "metadata": {},
   "source": [
    "## Compare LDP Rules Found vs the Percent Client Counts "
   ]
  },
  {
   "cell_type": "code",
   "execution_count": null,
   "metadata": {
    "pycharm": {
     "name": "#%%\n"
    }
   },
   "outputs": [],
   "source": [
    "#make list of rule counts x population percents\n",
    "\n",
    "lst = []\n",
    "for idx, row in clientDF.iterrows():\n",
    "    lst.extend([row['Percent of Population'] for i in range(row['Rule Count'])])\n",
    "    \n",
    "n_bins = 10\n",
    "\n",
    "plt.figure(figsize=(12, 7))\n",
    "plt.hist([lst, countDF['Client Count'].values], n_bins, density=True, histtype='bar',label=['Client', 'LDP'])\n",
    "plt.xlabel(\"Percentage of Population\")\n",
    "plt.ylabel(\"Number of Rules\")\n",
    "plt.yscale('log')\n",
    "plt.legend()\n"
   ]
  },
  {
   "cell_type": "code",
   "execution_count": null,
   "metadata": {
    "pycharm": {
     "name": "#%%\n"
    }
   },
   "outputs": [],
   "source": []
  },
  {
   "cell_type": "code",
   "execution_count": null,
   "metadata": {},
   "outputs": [],
   "source": [
    "from SignalTemporalLogic.STLFactory import STLFactory\n",
    "from Client import Client\n",
    "from Server import Server"
   ]
  },
  {
   "cell_type": "code",
   "execution_count": null,
   "metadata": {
    "pycharm": {
     "name": "#%%\n"
    }
   },
   "outputs": [],
   "source": [
    "# From client rules, first make client trees\n",
    "clientRules = ['F[0,0]((death <= 0.000 & y >= 0.000))']\n",
    "clientTrees = []\n",
    "stlFac = STLFactory()\n",
    "\n",
    "for c in clientRules:\n",
    "    c = stlFac.constructFormulaTree(c + \"\\n\")\n",
    "    clientTrees.append(c)\n",
    "    \n",
    "clientTrees"
   ]
  },
  {
   "cell_type": "code",
   "execution_count": null,
   "metadata": {},
   "outputs": [],
   "source": [
    "ldpRules = ['F[0,0](death > 0.000 & y = 0.000)']\n",
    "ldpTrees = []\n",
    "stlFac = STLFactory()\n",
    "\n",
    "for c in ldpRules:\n",
    "    c = stlFac.constructFormulaTree(c + \"\\n\")\n",
    "    ldpTrees.append(c)\n",
    "    \n",
    "ldpTrees"
   ]
  },
  {
   "cell_type": "code",
   "execution_count": null,
   "metadata": {
    "pycharm": {
     "name": "#%%\n"
    }
   },
   "outputs": [],
   "source": [
    "def queryStructuralFullMatch(template, clientTrees):\n",
    "\n",
    "    client = Client(clientNum=1, epsilon='inf', ruleSet=clientTrees)\n",
    "    server = Server(clientList=[], varDict={}, params=None)\n",
    "\n",
    "#     print(\"Temp vars\", varList)\n",
    "#     print(\"\\ntemp\", template.toString())\n",
    "    ldpNodes = server.getTemplateNodes(template)\n",
    "    ldpVars = template.getAllVars()\n",
    "\n",
    "#     print(\"templt nodes\", ldpNodes)\n",
    "\n",
    "    r = client.queryStructuralRuleMatchReturn(ldpNodes, ldpVars)\n",
    "\n",
    "    return r"
   ]
  },
  {
   "cell_type": "code",
   "execution_count": null,
   "metadata": {
    "pycharm": {
     "name": "#%%\n"
    }
   },
   "outputs": [],
   "source": [
    "found = queryStructuralFullMatch(ldpTrees[0], clientTrees)\n",
    "print(found)"
   ]
  },
  {
   "cell_type": "code",
   "execution_count": null,
   "metadata": {
    "pycharm": {
     "name": "#%%\n"
    }
   },
   "outputs": [],
   "source": []
  },
  {
   "cell_type": "code",
   "execution_count": null,
   "metadata": {
    "pycharm": {
     "name": "#%%\n"
    }
   },
   "outputs": [],
   "source": [
    "def nodeListMatch(tempList, cList):\n",
    "    relops = ['GT', 'GE', 'LT', 'LE', \"EQ\"]  # , 'NEQ']\n",
    "\n",
    "    i = 0\n",
    "    while i < len(tempList):\n",
    "        # get current branch of nodes\n",
    "        if tempList[i] in cList:\n",
    "            if 'Parameter' not in tempList[i]:  # found a var match\n",
    "                #                 idx = cList.index(tempList[i])  # get idx of element of cList\n",
    "                #                 cList = cList[idx + 1:]\n",
    "                cList.remove(tempList[i])\n",
    "\n",
    "        elif any(item in tempList[i] for item in relops):\n",
    "            # Try all match options\n",
    "            if 'GT' in tempList[i]:\n",
    "                test = [x if x != \"GT\" else \"GE\" for x in tempList[i]]\n",
    "\n",
    "                if test in cList:\n",
    "                    cList.remove(test)\n",
    "                else:\n",
    "                    return False\n",
    "            elif 'GE' in tempList[i]:\n",
    "                test1 = [x if x != \"GE\" else \"GT\" for x in tempList[i]]\n",
    "                test2 = [x if x != \"GE\" else \"EQ\" for x in tempList[i]]\n",
    "\n",
    "                try:\n",
    "                    idx1 = cList.index(test1)\n",
    "                except:\n",
    "                    idx1 = 999999999\n",
    "                try:\n",
    "                    idx2 = cList.index(test2)\n",
    "                except:\n",
    "                    idx2 = 999999999\n",
    "\n",
    "                if test1 in cList and (idx1 < idx2):\n",
    "                    cList.remove(test1)\n",
    "                elif test2 in cList and (idx2 < idx1):\n",
    "                    cList.remove(test2)\n",
    "                else:\n",
    "                    return False\n",
    "            elif 'LT' in tempList[i]:\n",
    "                test = [x if x != \"LT\" else \"LE\" for x in tempList[i]]\n",
    "                if test in cList:\n",
    "                    cList.remove(test)\n",
    "                else:\n",
    "                    return False\n",
    "            elif 'LE' in tempList[i]:\n",
    "                test1 = [x if x != \"LE\" else \"LT\" for x in tempList[i]]\n",
    "                test2 = [x if x != \"LE\" else \"EQ\" for x in tempList[i]]\n",
    "                try:\n",
    "                    idx1 = cList.index(test1)\n",
    "                except:\n",
    "                    idx1 = 999999999\n",
    "                try:\n",
    "                    idx2 = cList.index(test2)\n",
    "                except:\n",
    "                    idx2 = 999999999\n",
    "\n",
    "                if test1 in cList and (idx1 < idx2):\n",
    "                    cList.remove(test1)\n",
    "                elif test2 in cList and (idx2 < idx1):\n",
    "                    cList.remove(test2)\n",
    "                else:\n",
    "                    return False\n",
    "            elif 'EQ' in tempList[i]:\n",
    "                test1 = [x if x != \"EQ\" else \"GE\" for x in tempList[i]]\n",
    "                test2 = [x if x != \"EQ\" else \"LE\" for x in tempList[i]]\n",
    "\n",
    "                try:\n",
    "                    idx1 = cList.index(test1)\n",
    "                except:\n",
    "                    idx1 = 999999999\n",
    "                try:\n",
    "                    idx2 = cList.index(test2)\n",
    "                except:\n",
    "                    idx2 = 999999999\n",
    "\n",
    "                if test1 in cList and (idx1 < idx2):\n",
    "                    cList.remove(test1)\n",
    "                elif test2 in cList and (idx2 < idx1):\n",
    "                    cList.remove(test2)\n",
    "                else:\n",
    "                    return False\n",
    "\n",
    "        else:\n",
    "            return False\n",
    "\n",
    "        i = i + 1\n",
    "\n",
    "    return True"
   ]
  },
  {
   "cell_type": "code",
   "execution_count": null,
   "metadata": {},
   "outputs": [],
   "source": [
    "tempList = [['eval', 0], ['statementList', 1], ['statement', 2], ['boolExpr', 3], ['stlTerm', 4], ['BooleanAtomic', 'F', 5], ['boolExpr', 6], ['stlTerm', 7], ['BooleanAtomic', 8], ['boolExpr', 9], ['AND', 'stlTerm', 'stlTerm', 10], ['BooleanAtomic', 11], ['BooleanAtomic', 11], ['GE', 'ICU_Pt_Days', 'Parameter', 12], ['LE', 'n_edrk', 'Parameter', 12]]\n",
    "cList = [['eval', 0], ['statementList', 1], ['statement', 2], ['boolExpr', 3], ['stlTerm', 4], ['BooleanAtomic', 'F', 5], ['boolExpr', 6], ['stlTerm', 7], ['BooleanAtomic', 8], ['boolExpr', 9], ['AND', 'stlTerm', 'stlTerm', 10], ['BooleanAtomic', 11], ['BooleanAtomic', 11], ['EQ', 'n_edrk', 'Parameter', 12], ['LT', 'ICU_Pt_Days', 'Parameter', 12]]\n",
    "nodeListMatch(tempList, cList)\n"
   ]
  },
  {
   "cell_type": "code",
   "execution_count": null,
   "metadata": {},
   "outputs": [],
   "source": [
    "tempList = [['eval', 0], ['statementList', 1], ['statement', 2], ['boolExpr', 3], ['stlTerm', 4], ['BooleanAtomic', 'F', 5], ['boolExpr', 6], ['AND', 'stlTerm', 'stlTerm', 7], ['BooleanAtomic', 8], ['BooleanAtomic', 8], ['EQ', 'death', 'Parameter', 9], ['GT', 'y', 'Parameter', 9]]\n",
    "cList = [['eval', 0], ['statementList', 1], ['statement', 2], ['boolExpr', 3], ['stlTerm', 4], ['BooleanAtomic', 'F', 5], ['boolExpr', 6], ['AND', 'stlTerm', 'stlTerm', 7], ['BooleanAtomic', 8], ['BooleanAtomic', 8], ['LE', 'death', 'Parameter', 9], ['GE', 'y', 'Parameter', 9]]\n",
    "\n",
    "nodeListMatch(tempList, cList)\n"
   ]
  },
  {
   "cell_type": "code",
   "execution_count": null,
   "metadata": {},
   "outputs": [],
   "source": []
  },
  {
   "cell_type": "code",
   "execution_count": null,
   "metadata": {},
   "outputs": [],
   "source": [
    "stlFac = STLFactory()\n",
    "temp = stlFac.constructFormulaTree(\"F[?,?](y = ? & death > ?)\\n\")\n",
    "\n",
    "server = Server(clientList=[], varDict={}, params=None)\n",
    "server.getTemplateNodes(temp)"
   ]
  },
  {
   "cell_type": "code",
   "execution_count": null,
   "metadata": {},
   "outputs": [],
   "source": [
    "stlFac.constructFormulaTree(temp.toStringWithParams())"
   ]
  },
  {
   "cell_type": "code",
   "execution_count": null,
   "metadata": {},
   "outputs": [],
   "source": [
    "getTemplateNodes(temp)"
   ]
  },
  {
   "cell_type": "code",
   "execution_count": null,
   "metadata": {},
   "outputs": [],
   "source": []
  }
 ],
 "metadata": {
  "kernelspec": {
   "display_name": "Python 3",
   "language": "python",
   "name": "python3"
  },
  "language_info": {
   "codemirror_mode": {
    "name": "ipython",
    "version": 3
   },
   "file_extension": ".py",
   "mimetype": "text/x-python",
   "name": "python",
   "nbconvert_exporter": "python",
   "pygments_lexer": "ipython3",
   "version": "3.8.3"
  }
 },
 "nbformat": 4,
 "nbformat_minor": 1
}