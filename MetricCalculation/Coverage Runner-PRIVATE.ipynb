{
 "cells": [
  {
   "cell_type": "code",
   "execution_count": 1,
   "metadata": {
    "pycharm": {
     "name": "#%%\n"
    }
   },
   "outputs": [],
   "source": [
    "import matplotlib.pyplot as plt\n",
    "plt.rc('font', size=12)\n",
    "import pandas as pd\n",
    "import seaborn as sns\n",
    "import warnings \n",
    "\n",
    "import Coverage as cov\n",
    "\n",
    "warnings.filterwarnings('ignore')\n",
    "%matplotlib inline\n",
    "\n",
    "%load_ext autoreload\n",
    "%autoreload 2"
   ]
  },
  {
   "cell_type": "markdown",
   "metadata": {},
   "source": [
    "## Params"
   ]
  },
  {
   "cell_type": "code",
   "execution_count": 297,
   "metadata": {
    "pycharm": {
     "name": "#%%\n"
    }
   },
   "outputs": [],
   "source": [
    "#get list of client rules sorted by count\n",
    "popSize = 10\n",
    "# clientFilename = \"../Data/ICU/Best/\"\n",
    "# clientFilename = \"../Data/ICU/Test/\"\n",
    "clientFilename = \"../Data/Sepsis/Best/\"\n",
    "\n",
    "ldpFilename = \"../Results/Sepsis_Base_PRIV.csv\"\n",
    "# ldpFilename = \"../Results/ICU_Base_TEST.csv\"\n",
    "\n",
    "# ldpFilename = \"../Results/ICU_Base_TEST_2.csv\"\n",
    "# ldpFilename = \"../Results/ICU_Ruleset_MCTS_TEST.csv\"\n",
    "# ldpFilename = \"../Results/ICU_TEST_2.csv\"\n",
    "# ldpFilename = \"../Results/Sepsis_Ruleset_MCTS_Test.csv\"\n",
    "\n",
    "graphName = '../Results/Graphs/test' #Name of count coverage graphs\n",
    "popThresh = 0.01 #Percentage match count\n"
   ]
  },
  {
   "cell_type": "markdown",
   "metadata": {},
   "source": [
    "## Load Client Rules"
   ]
  },
  {
   "cell_type": "code",
   "execution_count": 298,
   "metadata": {
    "pycharm": {
     "is_executing": true,
     "name": "#%%\n"
    }
   },
   "outputs": [
    {
     "data": {
      "text/html": [
       "<div>\n",
       "<style scoped>\n",
       "    .dataframe tbody tr th:only-of-type {\n",
       "        vertical-align: middle;\n",
       "    }\n",
       "\n",
       "    .dataframe tbody tr th {\n",
       "        vertical-align: top;\n",
       "    }\n",
       "\n",
       "    .dataframe thead th {\n",
       "        text-align: right;\n",
       "    }\n",
       "</style>\n",
       "<table border=\"1\" class=\"dataframe\">\n",
       "  <thead>\n",
       "    <tr style=\"text-align: right;\">\n",
       "      <th></th>\n",
       "      <th>Rule</th>\n",
       "      <th>Rule Count</th>\n",
       "      <th>Percent of Population</th>\n",
       "    </tr>\n",
       "  </thead>\n",
       "  <tbody>\n",
       "    <tr>\n",
       "      <th>22</th>\n",
       "      <td>F[0,0](((Calcium &lt;= 0.000 &amp; Potassium &lt;= 0.000...</td>\n",
       "      <td>39</td>\n",
       "      <td>1.0</td>\n",
       "    </tr>\n",
       "    <tr>\n",
       "      <th>562</th>\n",
       "      <td>F[0,0]((((Calcium &lt; 0.000 &amp; Potassium &lt; 0.000)...</td>\n",
       "      <td>9</td>\n",
       "      <td>0.9</td>\n",
       "    </tr>\n",
       "    <tr>\n",
       "      <th>231</th>\n",
       "      <td>G[0,0]((AST &lt;= 0.000 | O2Sat &gt;= 0.000))</td>\n",
       "      <td>3</td>\n",
       "      <td>0.3</td>\n",
       "    </tr>\n",
       "    <tr>\n",
       "      <th>657</th>\n",
       "      <td>((AST &gt;= 0.000) U[0,0] (SepsisLabel = 0.000))</td>\n",
       "      <td>2</td>\n",
       "      <td>0.2</td>\n",
       "    </tr>\n",
       "    <tr>\n",
       "      <th>516</th>\n",
       "      <td>((MAP &gt;= 0.000) U[0,0] (SBP &lt;= 0.000))</td>\n",
       "      <td>2</td>\n",
       "      <td>0.2</td>\n",
       "    </tr>\n",
       "    <tr>\n",
       "      <th>...</th>\n",
       "      <td>...</td>\n",
       "      <td>...</td>\n",
       "      <td>...</td>\n",
       "    </tr>\n",
       "    <tr>\n",
       "      <th>343</th>\n",
       "      <td>F[0,0](((pH &gt;= 0.000 &amp; BUN &gt;= 0.000) &amp; EtCO2 &lt;...</td>\n",
       "      <td>1</td>\n",
       "      <td>0.1</td>\n",
       "    </tr>\n",
       "    <tr>\n",
       "      <th>344</th>\n",
       "      <td>((Chloride &lt;= 0.000) U[0,0] (Magnesium &gt;= 0.000))</td>\n",
       "      <td>1</td>\n",
       "      <td>0.1</td>\n",
       "    </tr>\n",
       "    <tr>\n",
       "      <th>345</th>\n",
       "      <td>F[0,0]((((WBC &lt;= 0.000 | PTT &lt;= 0.000) -&gt; Resp...</td>\n",
       "      <td>1</td>\n",
       "      <td>0.1</td>\n",
       "    </tr>\n",
       "    <tr>\n",
       "      <th>346</th>\n",
       "      <td>F[0,0]((WBC &gt;= 0.000 &amp; FiO2 &gt;= 0.000))</td>\n",
       "      <td>1</td>\n",
       "      <td>0.1</td>\n",
       "    </tr>\n",
       "    <tr>\n",
       "      <th>998</th>\n",
       "      <td>G[0,0]((Platelets &lt;= 0.000 -&gt; Resp &lt;= 0.000))</td>\n",
       "      <td>1</td>\n",
       "      <td>0.1</td>\n",
       "    </tr>\n",
       "  </tbody>\n",
       "</table>\n",
       "<p>999 rows × 3 columns</p>\n",
       "</div>"
      ],
      "text/plain": [
       "                                                  Rule  Rule Count  \\\n",
       "22   F[0,0](((Calcium <= 0.000 & Potassium <= 0.000...          39   \n",
       "562  F[0,0]((((Calcium < 0.000 & Potassium < 0.000)...           9   \n",
       "231            G[0,0]((AST <= 0.000 | O2Sat >= 0.000))           3   \n",
       "657      ((AST >= 0.000) U[0,0] (SepsisLabel = 0.000))           2   \n",
       "516             ((MAP >= 0.000) U[0,0] (SBP <= 0.000))           2   \n",
       "..                                                 ...         ...   \n",
       "343  F[0,0](((pH >= 0.000 & BUN >= 0.000) & EtCO2 <...           1   \n",
       "344  ((Chloride <= 0.000) U[0,0] (Magnesium >= 0.000))           1   \n",
       "345  F[0,0]((((WBC <= 0.000 | PTT <= 0.000) -> Resp...           1   \n",
       "346             F[0,0]((WBC >= 0.000 & FiO2 >= 0.000))           1   \n",
       "998      G[0,0]((Platelets <= 0.000 -> Resp <= 0.000))           1   \n",
       "\n",
       "     Percent of Population  \n",
       "22                     1.0  \n",
       "562                    0.9  \n",
       "231                    0.3  \n",
       "657                    0.2  \n",
       "516                    0.2  \n",
       "..                     ...  \n",
       "343                    0.1  \n",
       "344                    0.1  \n",
       "345                    0.1  \n",
       "346                    0.1  \n",
       "998                    0.1  \n",
       "\n",
       "[999 rows x 3 columns]"
      ]
     },
     "execution_count": 298,
     "metadata": {},
     "output_type": "execute_result"
    }
   ],
   "source": [
    "# Load Client Rule Trees and Text Rule Structures, and get dataframe of rules and their counts\n",
    "clientTrees, clientRules, clientDF = cov.loadClientRules(popSize, clientFilename)\n",
    "clientDF"
   ]
  },
  {
   "cell_type": "code",
   "execution_count": 299,
   "metadata": {},
   "outputs": [],
   "source": [
    "clientDF.to_csv(\"Client Rules.csv\")"
   ]
  },
  {
   "cell_type": "markdown",
   "metadata": {},
   "source": [
    "## Load LDP Ruleset"
   ]
  },
  {
   "cell_type": "code",
   "execution_count": 300,
   "metadata": {
    "pycharm": {
     "is_executing": true,
     "name": "#%%\n"
    }
   },
   "outputs": [
    {
     "data": {
      "text/html": [
       "<div>\n",
       "<style scoped>\n",
       "    .dataframe tbody tr th:only-of-type {\n",
       "        vertical-align: middle;\n",
       "    }\n",
       "\n",
       "    .dataframe tbody tr th {\n",
       "        vertical-align: top;\n",
       "    }\n",
       "\n",
       "    .dataframe thead th {\n",
       "        text-align: right;\n",
       "    }\n",
       "</style>\n",
       "<table border=\"1\" class=\"dataframe\">\n",
       "  <thead>\n",
       "    <tr style=\"text-align: right;\">\n",
       "      <th></th>\n",
       "      <th>Rule</th>\n",
       "      <th>Percent Count</th>\n",
       "    </tr>\n",
       "  </thead>\n",
       "  <tbody>\n",
       "    <tr>\n",
       "      <th>49</th>\n",
       "      <td>G[0,0]((O2Sat &gt; 0.000 | AST &lt; 0.000))</td>\n",
       "      <td>0.3</td>\n",
       "    </tr>\n",
       "    <tr>\n",
       "      <th>121</th>\n",
       "      <td>G[0,0]((AST = 0.000 | O2Sat = 0.000))</td>\n",
       "      <td>0.3</td>\n",
       "    </tr>\n",
       "    <tr>\n",
       "      <th>25</th>\n",
       "      <td>G[0,0]((AST &lt; 0.000 | O2Sat = 0.000))</td>\n",
       "      <td>0.3</td>\n",
       "    </tr>\n",
       "    <tr>\n",
       "      <th>118</th>\n",
       "      <td>G[0,0]((O2Sat = 0.000 | AST &lt; 0.000))</td>\n",
       "      <td>0.3</td>\n",
       "    </tr>\n",
       "    <tr>\n",
       "      <th>12</th>\n",
       "      <td>G[0,0]((O2Sat = 0.000 | AST = 0.000))</td>\n",
       "      <td>0.3</td>\n",
       "    </tr>\n",
       "    <tr>\n",
       "      <th>...</th>\n",
       "      <td>...</td>\n",
       "      <td>...</td>\n",
       "    </tr>\n",
       "    <tr>\n",
       "      <th>72</th>\n",
       "      <td>G[0,0]((Glucose = 0.000 | SaO2 = 0.000))</td>\n",
       "      <td>0.1</td>\n",
       "    </tr>\n",
       "    <tr>\n",
       "      <th>73</th>\n",
       "      <td>G[0,0]((Calcium = 0.000 | Chloride = 0.000))</td>\n",
       "      <td>0.1</td>\n",
       "    </tr>\n",
       "    <tr>\n",
       "      <th>74</th>\n",
       "      <td>G[0,0]((Glucose &lt; 0.000 | SepsisLabel = 0.000))</td>\n",
       "      <td>0.1</td>\n",
       "    </tr>\n",
       "    <tr>\n",
       "      <th>75</th>\n",
       "      <td>G[0,0]((PTT = 0.000 | Calcium = 0.000))</td>\n",
       "      <td>0.1</td>\n",
       "    </tr>\n",
       "    <tr>\n",
       "      <th>200</th>\n",
       "      <td>G[0,0]((FiO2 = 0.000 | pH &lt; 0.000))</td>\n",
       "      <td>0.1</td>\n",
       "    </tr>\n",
       "  </tbody>\n",
       "</table>\n",
       "<p>201 rows × 2 columns</p>\n",
       "</div>"
      ],
      "text/plain": [
       "                                                Rule  Percent Count\n",
       "49             G[0,0]((O2Sat > 0.000 | AST < 0.000))            0.3\n",
       "121            G[0,0]((AST = 0.000 | O2Sat = 0.000))            0.3\n",
       "25             G[0,0]((AST < 0.000 | O2Sat = 0.000))            0.3\n",
       "118            G[0,0]((O2Sat = 0.000 | AST < 0.000))            0.3\n",
       "12             G[0,0]((O2Sat = 0.000 | AST = 0.000))            0.3\n",
       "..                                               ...            ...\n",
       "72          G[0,0]((Glucose = 0.000 | SaO2 = 0.000))            0.1\n",
       "73      G[0,0]((Calcium = 0.000 | Chloride = 0.000))            0.1\n",
       "74   G[0,0]((Glucose < 0.000 | SepsisLabel = 0.000))            0.1\n",
       "75           G[0,0]((PTT = 0.000 | Calcium = 0.000))            0.1\n",
       "200              G[0,0]((FiO2 = 0.000 | pH < 0.000))            0.1\n",
       "\n",
       "[201 rows x 2 columns]"
      ]
     },
     "execution_count": 300,
     "metadata": {},
     "output_type": "execute_result"
    }
   ],
   "source": [
    "ldpDF, ldpTrees, ldpRules = cov.loadLDPRuleset(ldpFilename)\n",
    "ldpDF"
   ]
  },
  {
   "cell_type": "markdown",
   "metadata": {},
   "source": [
    "## Complexity Analysis"
   ]
  },
  {
   "cell_type": "code",
   "execution_count": 301,
   "metadata": {
    "pycharm": {
     "is_executing": true,
     "name": "#%%\n"
    }
   },
   "outputs": [
    {
     "data": {
      "text/plain": [
       "17179869184"
      ]
     },
     "execution_count": 301,
     "metadata": {},
     "output_type": "execute_result"
    }
   ],
   "source": [
    "k = 4 #k-ary tree\n",
    "h = 17 #height\n",
    "k**h"
   ]
  },
  {
   "cell_type": "markdown",
   "metadata": {},
   "source": [
    "## Get Table of Structure Counts - Count of rules above threshold"
   ]
  },
  {
   "cell_type": "code",
   "execution_count": 302,
   "metadata": {
    "pycharm": {
     "is_executing": true,
     "name": "#%%\n"
    },
    "scrolled": true
   },
   "outputs": [
    {
     "data": {
      "text/html": [
       "<div>\n",
       "<style scoped>\n",
       "    .dataframe tbody tr th:only-of-type {\n",
       "        vertical-align: middle;\n",
       "    }\n",
       "\n",
       "    .dataframe tbody tr th {\n",
       "        vertical-align: top;\n",
       "    }\n",
       "\n",
       "    .dataframe thead th {\n",
       "        text-align: right;\n",
       "    }\n",
       "</style>\n",
       "<table border=\"1\" class=\"dataframe\">\n",
       "  <thead>\n",
       "    <tr style=\"text-align: right;\">\n",
       "      <th></th>\n",
       "      <th>Total Client Rules</th>\n",
       "      <th>Found Rules</th>\n",
       "      <th>Non Rules</th>\n",
       "      <th>Precision</th>\n",
       "    </tr>\n",
       "  </thead>\n",
       "  <tbody>\n",
       "    <tr>\n",
       "      <th>0</th>\n",
       "      <td>999</td>\n",
       "      <td>201</td>\n",
       "      <td>0</td>\n",
       "      <td>1.0</td>\n",
       "    </tr>\n",
       "  </tbody>\n",
       "</table>\n",
       "</div>"
      ],
      "text/plain": [
       "   Total Client Rules  Found Rules  Non Rules  Precision\n",
       "0                 999          201          0        1.0"
      ]
     },
     "execution_count": 302,
     "metadata": {},
     "output_type": "execute_result"
    }
   ],
   "source": [
    "covDF, countDF, clientTrees = cov.getCoverageTable(popThresh, ldpDF, ldpTrees, clientDF)\n",
    "countDF.to_csv(ldpFilename + \"_CovCountDF.csv\")\n",
    "covDF"
   ]
  },
  {
   "cell_type": "code",
   "execution_count": 303,
   "metadata": {
    "pycharm": {
     "is_executing": true,
     "name": "#%%\n"
    }
   },
   "outputs": [
    {
     "data": {
      "text/html": [
       "<div>\n",
       "<style scoped>\n",
       "    .dataframe tbody tr th:only-of-type {\n",
       "        vertical-align: middle;\n",
       "    }\n",
       "\n",
       "    .dataframe tbody tr th {\n",
       "        vertical-align: top;\n",
       "    }\n",
       "\n",
       "    .dataframe thead th {\n",
       "        text-align: right;\n",
       "    }\n",
       "</style>\n",
       "<table border=\"1\" class=\"dataframe\">\n",
       "  <thead>\n",
       "    <tr style=\"text-align: right;\">\n",
       "      <th></th>\n",
       "      <th>LDP Rule</th>\n",
       "      <th>Client Rule</th>\n",
       "      <th>LDP Count</th>\n",
       "      <th>Client Count</th>\n",
       "    </tr>\n",
       "  </thead>\n",
       "  <tbody>\n",
       "    <tr>\n",
       "      <th>0</th>\n",
       "      <td>G[0,0]((Temp = 0.000 | Hct = 0.000))</td>\n",
       "      <td>G[0,0]((Hct &lt;= 0.000 | Temp &gt;= 0.000))</td>\n",
       "      <td>0.1</td>\n",
       "      <td>0.1</td>\n",
       "    </tr>\n",
       "    <tr>\n",
       "      <th>1</th>\n",
       "      <td>G[0,0]((Hct = 0.000 | Temp &gt; 0.000))</td>\n",
       "      <td>G[0,0]((Hct &lt;= 0.000 | Temp &gt;= 0.000))</td>\n",
       "      <td>0.1</td>\n",
       "      <td>0.1</td>\n",
       "    </tr>\n",
       "    <tr>\n",
       "      <th>2</th>\n",
       "      <td>G[0,0]((Glucose &lt; 0.000 | SBP &gt; 0.000))</td>\n",
       "      <td>G[0,0]((Glucose &lt;= 0.000 | SBP &gt;= 0.000))</td>\n",
       "      <td>0.1</td>\n",
       "      <td>0.1</td>\n",
       "    </tr>\n",
       "    <tr>\n",
       "      <th>3</th>\n",
       "      <td>G[0,0]((O2Sat = 0.000 | HR &gt; 0.000))</td>\n",
       "      <td>G[0,0]((HR &gt;= 0.000 | O2Sat &lt;= 0.000))</td>\n",
       "      <td>0.1</td>\n",
       "      <td>0.1</td>\n",
       "    </tr>\n",
       "    <tr>\n",
       "      <th>4</th>\n",
       "      <td>G[0,0]((HCO3 = 0.000 | Chloride &lt; 0.000))</td>\n",
       "      <td>G[0,0]((Chloride &lt;= 0.000 | HCO3 &gt;= 0.000))</td>\n",
       "      <td>0.1</td>\n",
       "      <td>0.1</td>\n",
       "    </tr>\n",
       "    <tr>\n",
       "      <th>...</th>\n",
       "      <td>...</td>\n",
       "      <td>...</td>\n",
       "      <td>...</td>\n",
       "      <td>...</td>\n",
       "    </tr>\n",
       "    <tr>\n",
       "      <th>196</th>\n",
       "      <td>G[0,0]((Alkalinephos = 0.000 | FiO2 = 0.000))</td>\n",
       "      <td>G[0,0]((FiO2 &gt;= 0.000 | Alkalinephos &gt;= 0.000))</td>\n",
       "      <td>0.2</td>\n",
       "      <td>0.1</td>\n",
       "    </tr>\n",
       "    <tr>\n",
       "      <th>197</th>\n",
       "      <td>G[0,0]((EtCO2 &lt; 0.000 | DBP = 0.000))</td>\n",
       "      <td>G[0,0]((EtCO2 &lt;= 0.000 | DBP &gt;= 0.000))</td>\n",
       "      <td>0.1</td>\n",
       "      <td>0.1</td>\n",
       "    </tr>\n",
       "    <tr>\n",
       "      <th>198</th>\n",
       "      <td>G[0,0]((PaCO2 = 0.000 | Phosphate = 0.000))</td>\n",
       "      <td>G[0,0]((PaCO2 &gt;= 0.000 | Phosphate &gt;= 0.000))</td>\n",
       "      <td>0.1</td>\n",
       "      <td>0.1</td>\n",
       "    </tr>\n",
       "    <tr>\n",
       "      <th>199</th>\n",
       "      <td>G[0,0]((HR = 0.000 | Calcium &lt; 0.000))</td>\n",
       "      <td>G[0,0]((Calcium &lt;= 0.000 | HR &gt;= 0.000))</td>\n",
       "      <td>0.1</td>\n",
       "      <td>0.1</td>\n",
       "    </tr>\n",
       "    <tr>\n",
       "      <th>200</th>\n",
       "      <td>G[0,0]((FiO2 = 0.000 | pH &lt; 0.000))</td>\n",
       "      <td>G[0,0]((FiO2 &gt;= 0.000 | pH &lt;= 0.000))</td>\n",
       "      <td>0.1</td>\n",
       "      <td>0.1</td>\n",
       "    </tr>\n",
       "  </tbody>\n",
       "</table>\n",
       "<p>201 rows × 4 columns</p>\n",
       "</div>"
      ],
      "text/plain": [
       "                                          LDP Rule  \\\n",
       "0             G[0,0]((Temp = 0.000 | Hct = 0.000))   \n",
       "1             G[0,0]((Hct = 0.000 | Temp > 0.000))   \n",
       "2          G[0,0]((Glucose < 0.000 | SBP > 0.000))   \n",
       "3             G[0,0]((O2Sat = 0.000 | HR > 0.000))   \n",
       "4        G[0,0]((HCO3 = 0.000 | Chloride < 0.000))   \n",
       "..                                             ...   \n",
       "196  G[0,0]((Alkalinephos = 0.000 | FiO2 = 0.000))   \n",
       "197          G[0,0]((EtCO2 < 0.000 | DBP = 0.000))   \n",
       "198    G[0,0]((PaCO2 = 0.000 | Phosphate = 0.000))   \n",
       "199         G[0,0]((HR = 0.000 | Calcium < 0.000))   \n",
       "200            G[0,0]((FiO2 = 0.000 | pH < 0.000))   \n",
       "\n",
       "                                         Client Rule  LDP Count  Client Count  \n",
       "0             G[0,0]((Hct <= 0.000 | Temp >= 0.000))        0.1           0.1  \n",
       "1             G[0,0]((Hct <= 0.000 | Temp >= 0.000))        0.1           0.1  \n",
       "2          G[0,0]((Glucose <= 0.000 | SBP >= 0.000))        0.1           0.1  \n",
       "3             G[0,0]((HR >= 0.000 | O2Sat <= 0.000))        0.1           0.1  \n",
       "4        G[0,0]((Chloride <= 0.000 | HCO3 >= 0.000))        0.1           0.1  \n",
       "..                                               ...        ...           ...  \n",
       "196  G[0,0]((FiO2 >= 0.000 | Alkalinephos >= 0.000))        0.2           0.1  \n",
       "197          G[0,0]((EtCO2 <= 0.000 | DBP >= 0.000))        0.1           0.1  \n",
       "198    G[0,0]((PaCO2 >= 0.000 | Phosphate >= 0.000))        0.1           0.1  \n",
       "199         G[0,0]((Calcium <= 0.000 | HR >= 0.000))        0.1           0.1  \n",
       "200            G[0,0]((FiO2 >= 0.000 | pH <= 0.000))        0.1           0.1  \n",
       "\n",
       "[201 rows x 4 columns]"
      ]
     },
     "execution_count": 303,
     "metadata": {},
     "output_type": "execute_result"
    }
   ],
   "source": [
    "countDF"
   ]
  },
  {
   "cell_type": "markdown",
   "metadata": {},
   "source": [
    "## Get number of unique structure types"
   ]
  },
  {
   "cell_type": "code",
   "execution_count": 304,
   "metadata": {
    "pycharm": {
     "is_executing": true,
     "name": "#%%\n"
    },
    "scrolled": true
   },
   "outputs": [
    {
     "name": "stdout",
     "output_type": "stream",
     "text": [
      "CLIENT STRUCT NOT FOUND F[0,0](((x <= 0.000 & x <= 0.000) & x >= 0.000))\n",
      "CLIENT STRUCT NOT FOUND F[0,0]((((x < 0.000 & x < 0.000) & x < 0.000) & x < 0.000))\n",
      "CLIENT STRUCT NOT FOUND ((x >= 0.000) U[0,0] (x = 0.000))\n",
      "CLIENT STRUCT NOT FOUND ((x >= 0.000) U[0,0] (x <= 0.000))\n",
      "CLIENT STRUCT NOT FOUND G[0,0]((x < 0.000 & x = 0.000))\n",
      "CLIENT STRUCT NOT FOUND ((x > 0.000) U[0,0] (x = 0.000))\n",
      "CLIENT STRUCT NOT FOUND ((x >= 0.000) U[0,0] (x >= 0.000))\n",
      "CLIENT STRUCT NOT FOUND G[0,0]((x > 0.000 -> x = 0.000))\n",
      "CLIENT STRUCT NOT FOUND G[0,0]((x < 0.000 -> x = 0.000))\n",
      "CLIENT STRUCT NOT FOUND ((x < 0.000) U[0,0] (x = 0.000))\n",
      "CLIENT STRUCT NOT FOUND G[0,0]((x >= 0.000 -> x <= 0.000))\n",
      "CLIENT STRUCT NOT FOUND G[0,0](((x <= 0.000 | x <= 0.000) | x <= 0.000))\n",
      "CLIENT STRUCT NOT FOUND G[0,0](((x <= 0.000 | x >= 0.000) | x <= 0.000))\n",
      "CLIENT STRUCT NOT FOUND G[0,0](((x <= 0.000 -> x <= 0.000) | x <= 0.000))\n",
      "CLIENT STRUCT NOT FOUND F[0,0]((((x >= 0.000 | x >= 0.000) -> x >= 0.000) & x >= 0.000))\n",
      "CLIENT STRUCT NOT FOUND F[0,0](((x <= 0.000 & x <= 0.000) & x <= 0.000))\n",
      "CLIENT STRUCT NOT FOUND G[0,0]((((x <= 0.000 -> x <= 0.000) & x <= 0.000) -> x >= 0.000))\n",
      "CLIENT STRUCT NOT FOUND G[0,0]((((x >= 0.000 -> x <= 0.000) -> x >= 0.000) -> x <= 0.000))\n",
      "CLIENT STRUCT NOT FOUND G[0,0](((x >= 0.000 -> x >= 0.000) | x >= 0.000))\n",
      "CLIENT STRUCT NOT FOUND F[0,0]((((x <= 0.000 & x <= 0.000) | x <= 0.000) & x <= 0.000))\n",
      "CLIENT STRUCT NOT FOUND G[0,0]((x >= 0.000 -> x >= 0.000))\n",
      "CLIENT STRUCT NOT FOUND G[0,0]((x <= 0.000 -> x = 0.000))\n",
      "CLIENT STRUCT NOT FOUND G[0,0]((((x <= 0.000 & x >= 0.000) -> x <= 0.000) | x <= 0.000))\n",
      "CLIENT STRUCT NOT FOUND G[0,0](((x <= 0.000 -> x <= 0.000) & x >= 0.000))\n",
      "CLIENT STRUCT NOT FOUND F[0,0](((x >= 0.000 -> x >= 0.000) -> x >= 0.000))\n",
      "CLIENT STRUCT NOT FOUND G[0,0]((((x >= 0.000 -> x >= 0.000) -> x >= 0.000) -> x >= 0.000))\n",
      "CLIENT STRUCT NOT FOUND G[0,0]((((x <= 0.000 & x <= 0.000) | x <= 0.000) | x <= 0.000))\n",
      "CLIENT STRUCT NOT FOUND G[0,0](((x <= 0.000 -> x >= 0.000) -> x <= 0.000))\n",
      "CLIENT STRUCT NOT FOUND F[0,0]((((x <= 0.000 | x <= 0.000) | x <= 0.000) & x <= 0.000))\n",
      "CLIENT STRUCT NOT FOUND G[0,0](((x <= 0.000 & x >= 0.000) -> x <= 0.000))\n",
      "CLIENT STRUCT NOT FOUND F[0,0](((x >= 0.000 | x <= 0.000) & x >= 0.000))\n",
      "CLIENT STRUCT NOT FOUND F[0,0](((x >= 0.000 & x >= 0.000) & x <= 0.000))\n",
      "CLIENT STRUCT NOT FOUND F[0,0]((((x >= 0.000 | x >= 0.000) & x >= 0.000) | x >= 0.000))\n",
      "CLIENT STRUCT NOT FOUND G[0,0]((((x <= 0.000 | x <= 0.000) | x <= 0.000) -> x <= 0.000))\n",
      "CLIENT STRUCT NOT FOUND G[0,0]((((x <= 0.000 | x <= 0.000) -> x <= 0.000) | x <= 0.000))\n",
      "CLIENT STRUCT NOT FOUND F[0,0]((x >= 0.000 & x <= 0.000))\n",
      "CLIENT STRUCT NOT FOUND F[0,0](((x >= 0.000 & x >= 0.000) & x >= 0.000))\n",
      "CLIENT STRUCT NOT FOUND F[0,0](((x >= 0.000 | x >= 0.000) & x >= 0.000))\n",
      "CLIENT STRUCT NOT FOUND F[0,0](((x <= 0.000 & x >= 0.000) & x >= 0.000))\n",
      "CLIENT STRUCT NOT FOUND G[0,0](((x >= 0.000 & x <= 0.000) | x <= 0.000))\n",
      "CLIENT STRUCT NOT FOUND G[0,0]((((x <= 0.000 -> x >= 0.000) | x <= 0.000) | x >= 0.000))\n",
      "CLIENT STRUCT NOT FOUND G[0,0]((((x >= 0.000 & x <= 0.000) | x <= 0.000) | x >= 0.000))\n",
      "CLIENT STRUCT NOT FOUND F[0,0](((x >= 0.000 -> x >= 0.000) & x >= 0.000))\n",
      "CLIENT STRUCT NOT FOUND G[0,0]((((x <= 0.000 | x <= 0.000) & x <= 0.000) | x >= 0.000))\n",
      "CLIENT STRUCT NOT FOUND G[0,0]((((x <= 0.000 & x >= 0.000) | x <= 0.000) | x >= 0.000))\n",
      "CLIENT STRUCT NOT FOUND G[0,0](((x <= 0.000 & x <= 0.000) & x >= 0.000))\n",
      "CLIENT STRUCT NOT FOUND G[0,0]((((x <= 0.000 | x >= 0.000) & x <= 0.000) -> x <= 0.000))\n",
      "CLIENT STRUCT NOT FOUND F[0,0]((((x >= 0.000 & x <= 0.000) -> x <= 0.000) & x >= 0.000))\n",
      "CLIENT STRUCT NOT FOUND G[0,0]((((x <= 0.000 & x <= 0.000) | x <= 0.000) & x <= 0.000))\n",
      "CLIENT STRUCT NOT FOUND G[0,0]((((x <= 0.000 | x >= 0.000) | x <= 0.000) | x >= 0.000))\n",
      "CLIENT STRUCT NOT FOUND F[0,0]((((x <= 0.000 & x <= 0.000) & x >= 0.000) & x <= 0.000))\n",
      "CLIENT STRUCT NOT FOUND G[0,0](((x >= 0.000 & x >= 0.000) -> x <= 0.000))\n",
      "CLIENT STRUCT NOT FOUND F[0,0]((((x >= 0.000 & x <= 0.000) | x >= 0.000) & x <= 0.000))\n",
      "CLIENT STRUCT NOT FOUND G[0,0](((x >= 0.000 -> x <= 0.000) & x <= 0.000))\n",
      "CLIENT STRUCT NOT FOUND F[0,0]((x >= 0.000 | x >= 0.000))\n",
      "CLIENT STRUCT NOT FOUND F[0,0]((((x >= 0.000 & x >= 0.000) & x <= 0.000) | x >= 0.000))\n",
      "CLIENT STRUCT NOT FOUND ((x <= 0.000) U[0,0] (x >= 0.000))\n",
      "CLIENT STRUCT NOT FOUND G[0,0]((((x <= 0.000 -> x <= 0.000) -> x >= 0.000) | x >= 0.000))\n",
      "CLIENT STRUCT NOT FOUND G[0,0]((((x >= 0.000 -> x >= 0.000) -> x <= 0.000) -> x <= 0.000))\n",
      "CLIENT STRUCT NOT FOUND G[0,0]((((x <= 0.000 -> x >= 0.000) & x >= 0.000) | x >= 0.000))\n",
      "CLIENT STRUCT NOT FOUND G[0,0](((x >= 0.000 -> x >= 0.000) | x <= 0.000))\n",
      "CLIENT STRUCT NOT FOUND G[0,0]((((x >= 0.000 -> x >= 0.000) | x <= 0.000) -> x >= 0.000))\n",
      "CLIENT STRUCT NOT FOUND G[0,0]((((x <= 0.000 | x >= 0.000) & x <= 0.000) | x <= 0.000))\n",
      "CLIENT STRUCT NOT FOUND G[0,0](((x <= 0.000 & x <= 0.000) | x <= 0.000))\n",
      "CLIENT STRUCT NOT FOUND G[0,0](((x <= 0.000 | x >= 0.000) -> x <= 0.000))\n",
      "CLIENT STRUCT NOT FOUND F[0,0](((x <= 0.000 & x >= 0.000) & x <= 0.000))\n",
      "CLIENT STRUCT NOT FOUND F[0,0]((x > 0.000 & x = 0.000))\n",
      "CLIENT STRUCT NOT FOUND F[0,0](((x >= 0.000 | x <= 0.000) & x <= 0.000))\n",
      "CLIENT STRUCT NOT FOUND F[0,0](((x >= 0.000 -> x <= 0.000) & x >= 0.000))\n",
      "CLIENT STRUCT NOT FOUND F[0,0]((((x >= 0.000 & x <= 0.000) | x <= 0.000) & x >= 0.000))\n",
      "CLIENT STRUCT NOT FOUND F[0,0]((((x <= 0.000 | x <= 0.000) & x <= 0.000) & x >= 0.000))\n",
      "CLIENT STRUCT NOT FOUND F[0,0]((((x >= 0.000 | x <= 0.000) | x <= 0.000) -> x >= 0.000))\n",
      "CLIENT STRUCT NOT FOUND F[0,0]((((x >= 0.000 -> x >= 0.000) -> x <= 0.000) -> x >= 0.000))\n",
      "CLIENT STRUCT NOT FOUND G[0,0]((((x >= 0.000 -> x >= 0.000) & x >= 0.000) -> x <= 0.000))\n",
      "CLIENT STRUCT NOT FOUND G[0,0](((x <= 0.000 -> x <= 0.000) | x >= 0.000))\n",
      "CLIENT STRUCT NOT FOUND G[0,0](((x <= 0.000 | x >= 0.000) -> x >= 0.000))\n",
      "CLIENT STRUCT NOT FOUND G[0,0](((x >= 0.000 -> x <= 0.000) -> x <= 0.000))\n",
      "CLIENT STRUCT NOT FOUND G[0,0]((((x <= 0.000 & x >= 0.000) -> x <= 0.000) | x >= 0.000))\n",
      "CLIENT STRUCT NOT FOUND G[0,0]((((x >= 0.000 & x <= 0.000) | x >= 0.000) -> x >= 0.000))\n",
      "CLIENT STRUCT NOT FOUND G[0,0](((x <= 0.000 -> x <= 0.000) -> x >= 0.000))\n",
      "CLIENT STRUCT NOT FOUND G[0,0](((x <= 0.000 & x >= 0.000) | x >= 0.000))\n",
      "CLIENT STRUCT NOT FOUND G[0,0](((x <= 0.000 | x <= 0.000) & x <= 0.000))\n",
      "CLIENT STRUCT NOT FOUND G[0,0](((x <= 0.000 & x >= 0.000) -> x >= 0.000))\n",
      "CLIENT STRUCT NOT FOUND F[0,0]((((x <= 0.000 & x <= 0.000) & x >= 0.000) | x >= 0.000))\n",
      "CLIENT STRUCT NOT FOUND F[0,0](((x >= 0.000 | x >= 0.000) | x >= 0.000))\n",
      "CLIENT STRUCT NOT FOUND F[0,0](((x >= 0.000 & x <= 0.000) & x <= 0.000))\n",
      "CLIENT STRUCT NOT FOUND F[0,0]((x <= 0.000 & x >= 0.000))\n",
      "CLIENT STRUCT NOT FOUND F[0,0](((x <= 0.000 | x >= 0.000) -> x >= 0.000))\n",
      "CLIENT STRUCT NOT FOUND F[0,0](((x <= 0.000 | x <= 0.000) -> x <= 0.000))\n",
      "CLIENT STRUCT NOT FOUND F[0,0]((x >= 0.000 & x >= 0.000))\n",
      "CLIENT STRUCT NOT FOUND G[0,0]((((x <= 0.000 & x >= 0.000) & x >= 0.000) & x <= 0.000))\n",
      "CLIENT STRUCT NOT FOUND G[0,0]((x >= 0.000 & x <= 0.000))\n",
      "CLIENT STRUCT NOT FOUND G[0,0](((x <= 0.000 | x >= 0.000) & x <= 0.000))\n",
      "CLIENT STRUCT NOT FOUND G[0,0]((((x <= 0.000 | x >= 0.000) -> x <= 0.000) & x <= 0.000))\n",
      "CLIENT STRUCT NOT FOUND F[0,0]((((x >= 0.000 -> x >= 0.000) | x <= 0.000) & x >= 0.000))\n",
      "CLIENT STRUCT NOT FOUND G[0,0](((x <= 0.000 | x <= 0.000) -> x <= 0.000))\n",
      "CLIENT STRUCT NOT FOUND G[0,0](((x >= 0.000 | x >= 0.000) | x <= 0.000))\n",
      "CLIENT STRUCT NOT FOUND G[0,0](((x >= 0.000 | x >= 0.000) | x >= 0.000))\n",
      "CLIENT STRUCT NOT FOUND G[0,0]((((x >= 0.000 & x <= 0.000) -> x >= 0.000) | x <= 0.000))\n",
      "CLIENT STRUCT NOT FOUND G[0,0]((x >= 0.000 & x >= 0.000))\n",
      "CLIENT STRUCT NOT FOUND G[0,0]((((x >= 0.000 -> x <= 0.000) & x <= 0.000) | x >= 0.000))\n",
      "CLIENT STRUCT NOT FOUND G[0,0]((((x <= 0.000 & x <= 0.000) | x >= 0.000) -> x >= 0.000))\n",
      "CLIENT STRUCT NOT FOUND G[0,0](((x >= 0.000 -> x >= 0.000) & x >= 0.000))\n",
      "CLIENT STRUCT NOT FOUND G[0,0]((((x <= 0.000 | x >= 0.000) -> x <= 0.000) -> x >= 0.000))\n",
      "CLIENT STRUCT NOT FOUND G[0,0]((((x >= 0.000 -> x <= 0.000) -> x >= 0.000) | x <= 0.000))\n",
      "CLIENT STRUCT NOT FOUND G[0,0](((x >= 0.000 & x >= 0.000) | x <= 0.000))\n",
      "CLIENT STRUCT NOT FOUND G[0,0]((((x >= 0.000 | x <= 0.000) | x >= 0.000) | x >= 0.000))\n",
      "CLIENT STRUCT NOT FOUND G[0,0](((x <= 0.000 & x <= 0.000) -> x <= 0.000))\n",
      "CLIENT STRUCT NOT FOUND G[0,0]((((x >= 0.000 & x >= 0.000) & x >= 0.000) -> x >= 0.000))\n",
      "CLIENT STRUCT NOT FOUND F[0,0](((x <= 0.000 | x <= 0.000) -> x >= 0.000))\n",
      "CLIENT STRUCT NOT FOUND G[0,0]((x >= 0.000 & x = 0.000))\n",
      "CLIENT STRUCT NOT FOUND F[0,0]((x < 0.000 & x = 0.000))\n",
      "CLIENT STRUCT NOT FOUND F[0,0]((((x >= 0.000 -> x >= 0.000) & x >= 0.000) | x >= 0.000))\n",
      "CLIENT STRUCT NOT FOUND G[0,0](((x >= 0.000 | x >= 0.000) -> x >= 0.000))\n",
      "CLIENT STRUCT NOT FOUND G[0,0]((((x <= 0.000 & x >= 0.000) & x >= 0.000) | x <= 0.000))\n",
      "CLIENT STRUCT NOT FOUND G[0,0](((x <= 0.000 -> x <= 0.000) -> x <= 0.000))\n",
      "CLIENT STRUCT NOT FOUND G[0,0]((((x <= 0.000 & x <= 0.000) -> x >= 0.000) -> x >= 0.000))\n",
      "CLIENT STRUCT NOT FOUND G[0,0](((x <= 0.000 & x <= 0.000) & x <= 0.000))\n",
      "CLIENT STRUCT NOT FOUND G[0,0]((x <= 0.000 & x <= 0.000))\n",
      "CLIENT STRUCT NOT FOUND G[0,0]((x <= 0.000 & x >= 0.000))\n",
      "CLIENT STRUCT NOT FOUND G[0,0]((x <= 0.000 & x = 0.000))\n",
      "CLIENT STRUCT NOT FOUND F[0,0](((x <= 0.000 -> x <= 0.000) & x >= 0.000))\n",
      "CLIENT STRUCT NOT FOUND F[0,0](((x >= 0.000 -> x >= 0.000) | x >= 0.000))\n",
      "CLIENT STRUCT NOT FOUND F[0,0]((((x >= 0.000 | x >= 0.000) | x >= 0.000) -> x >= 0.000))\n",
      "CLIENT STRUCT NOT FOUND F[0,0]((((x <= 0.000 -> x >= 0.000) & x <= 0.000) | x >= 0.000))\n",
      "CLIENT STRUCT NOT FOUND F[0,0](((x <= 0.000 & x >= 0.000) | x >= 0.000))\n",
      "CLIENT STRUCT NOT FOUND F[0,0]((((x >= 0.000 | x >= 0.000) & x <= 0.000) & x <= 0.000))\n",
      "CLIENT STRUCT NOT FOUND G[0,0]((((x <= 0.000 -> x >= 0.000) -> x >= 0.000) | x <= 0.000))\n",
      "CLIENT STRUCT NOT FOUND G[0,0](((x <= 0.000 | x >= 0.000) | x >= 0.000))\n",
      "CLIENT STRUCT NOT FOUND G[0,0]((((x <= 0.000 -> x >= 0.000) -> x >= 0.000) & x <= 0.000))\n"
     ]
    },
    {
     "name": "stdout",
     "output_type": "stream",
     "text": [
      "CLIENT STRUCT NOT FOUND G[0,0]((((x <= 0.000 | x >= 0.000) | x >= 0.000) & x <= 0.000))\n",
      "CLIENT STRUCT NOT FOUND G[0,0]((((x >= 0.000 & x <= 0.000) | x >= 0.000) | x >= 0.000))\n",
      "CLIENT STRUCT NOT FOUND G[0,0](((x >= 0.000 | x >= 0.000) & x <= 0.000))\n",
      "CLIENT STRUCT NOT FOUND G[0,0]((((x >= 0.000 -> x >= 0.000) | x <= 0.000) & x <= 0.000))\n",
      "CLIENT STRUCT NOT FOUND G[0,0]((((x >= 0.000 | x >= 0.000) & x >= 0.000) | x <= 0.000))\n",
      "CLIENT STRUCT NOT FOUND F[0,0]((((x >= 0.000 | x <= 0.000) & x <= 0.000) -> x >= 0.000))\n",
      "CLIENT STRUCT NOT FOUND F[0,0]((x >= 0.000 & x = 0.000))\n",
      "CLIENT STRUCT NOT FOUND F[0,0](((x >= 0.000 | x >= 0.000) -> x >= 0.000))\n",
      "CLIENT STRUCT NOT FOUND F[0,0](((x <= 0.000 | x <= 0.000) & x >= 0.000))\n",
      "CLIENT STRUCT NOT FOUND G[0,0]((((x <= 0.000 & x <= 0.000) -> x <= 0.000) -> x >= 0.000))\n",
      "CLIENT STRUCT NOT FOUND F[0,0]((((x >= 0.000 | x <= 0.000) | x <= 0.000) & x >= 0.000))\n",
      "CLIENT STRUCT NOT FOUND G[0,0](((x >= 0.000 -> x <= 0.000) -> x >= 0.000))\n",
      "CLIENT STRUCT NOT FOUND G[0,0]((((x >= 0.000 & x <= 0.000) -> x >= 0.000) & x >= 0.000))\n",
      "CLIENT STRUCT NOT FOUND G[0,0]((((x <= 0.000 -> x <= 0.000) | x <= 0.000) & x <= 0.000))\n",
      "CLIENT STRUCT NOT FOUND F[0,0]((((x >= 0.000 -> x >= 0.000) & x <= 0.000) & x <= 0.000))\n",
      "CLIENT STRUCT NOT FOUND G[0,0](((x <= 0.000 & x >= 0.000) | x <= 0.000))\n",
      "CLIENT STRUCT NOT FOUND G[0,0]((((x >= 0.000 | x >= 0.000) & x >= 0.000) & x >= 0.000))\n",
      "CLIENT STRUCT NOT FOUND G[0,0]((((x >= 0.000 -> x >= 0.000) -> x <= 0.000) | x <= 0.000))\n",
      "CLIENT STRUCT NOT FOUND G[0,0](((x >= 0.000 | x <= 0.000) -> x >= 0.000))\n",
      "CLIENT STRUCT NOT FOUND G[0,0](((x >= 0.000 & x <= 0.000) -> x >= 0.000))\n",
      "CLIENT STRUCT NOT FOUND G[0,0]((((x <= 0.000 | x >= 0.000) | x <= 0.000) | x <= 0.000))\n",
      "CLIENT STRUCT NOT FOUND G[0,0]((((x >= 0.000 -> x >= 0.000) | x <= 0.000) | x <= 0.000))\n",
      "CLIENT STRUCT NOT FOUND G[0,0]((((x <= 0.000 | x <= 0.000) | x >= 0.000) & x >= 0.000))\n",
      "CLIENT STRUCT NOT FOUND G[0,0](((x >= 0.000 -> x <= 0.000) | x >= 0.000))\n",
      "CLIENT STRUCT NOT FOUND G[0,0](((x >= 0.000 | x <= 0.000) | x <= 0.000))\n",
      "CLIENT STRUCT NOT FOUND G[0,0]((((x <= 0.000 & x <= 0.000) | x >= 0.000) & x <= 0.000))\n",
      "CLIENT STRUCT NOT FOUND F[0,0](((x <= 0.000 -> x >= 0.000) & x <= 0.000))\n",
      "CLIENT STRUCT NOT FOUND G[0,0]((((x <= 0.000 | x <= 0.000) | x >= 0.000) & x <= 0.000))\n",
      "CLIENT STRUCT NOT FOUND G[0,0]((((x >= 0.000 -> x >= 0.000) -> x >= 0.000) -> x <= 0.000))\n",
      "CLIENT STRUCT NOT FOUND G[0,0]((((x >= 0.000 | x >= 0.000) -> x >= 0.000) | x <= 0.000))\n",
      "CLIENT STRUCT NOT FOUND G[0,0](((x >= 0.000 -> x <= 0.000) | x <= 0.000))\n",
      "CLIENT STRUCT NOT FOUND G[0,0](((x >= 0.000 | x <= 0.000) | x >= 0.000))\n",
      "CLIENT STRUCT NOT FOUND G[0,0]((((x <= 0.000 & x <= 0.000) & x <= 0.000) | x <= 0.000))\n",
      "CLIENT STRUCT NOT FOUND G[0,0](((x >= 0.000 & x <= 0.000) -> x <= 0.000))\n",
      "CLIENT STRUCT NOT FOUND G[0,0]((((x <= 0.000 & x >= 0.000) | x <= 0.000) & x >= 0.000))\n",
      "CLIENT STRUCT NOT FOUND G[0,0]((((x >= 0.000 -> x >= 0.000) -> x >= 0.000) | x <= 0.000))\n",
      "CLIENT STRUCT NOT FOUND G[0,0]((x >= 0.000 -> x = 0.000))\n",
      "CLIENT STRUCT NOT FOUND F[0,0]((((x <= 0.000 -> x >= 0.000) & x <= 0.000) & x <= 0.000))\n",
      "CLIENT STRUCT NOT FOUND F[0,0]((((x >= 0.000 & x <= 0.000) | x <= 0.000) -> x >= 0.000))\n",
      "CLIENT STRUCT NOT FOUND F[0,0](((x >= 0.000 -> x <= 0.000) & x <= 0.000))\n",
      "CLIENT STRUCT NOT FOUND F[0,0]((((x <= 0.000 -> x <= 0.000) & x >= 0.000) & x >= 0.000))\n",
      "CLIENT STRUCT NOT FOUND G[0,0](((x >= 0.000 | x <= 0.000) -> x <= 0.000))\n",
      "CLIENT STRUCT NOT FOUND F[0,0]((((x <= 0.000 -> x >= 0.000) & x >= 0.000) & x <= 0.000))\n",
      "CLIENT STRUCT NOT FOUND F[0,0]((((x <= 0.000 -> x <= 0.000) | x >= 0.000) -> x >= 0.000))\n",
      "CLIENT STRUCT NOT FOUND F[0,0]((((x <= 0.000 & x <= 0.000) & x >= 0.000) | x <= 0.000))\n",
      "CLIENT STRUCT NOT FOUND G[0,0]((((x >= 0.000 | x >= 0.000) & x <= 0.000) & x <= 0.000))\n",
      "CLIENT STRUCT NOT FOUND G[0,0]((((x >= 0.000 | x <= 0.000) | x >= 0.000) -> x >= 0.000))\n",
      "CLIENT STRUCT NOT FOUND F[0,0]((((x <= 0.000 -> x <= 0.000) -> x >= 0.000) & x <= 0.000))\n",
      "CLIENT STRUCT NOT FOUND G[0,0]((((x >= 0.000 -> x >= 0.000) & x >= 0.000) -> x >= 0.000))\n",
      "CLIENT STRUCT NOT FOUND F[0,0]((((x <= 0.000 -> x <= 0.000) & x <= 0.000) & x <= 0.000))\n",
      "CLIENT STRUCT NOT FOUND F[0,0](((x >= 0.000 & x <= 0.000) | x >= 0.000))\n",
      "CLIENT STRUCT NOT FOUND G[0,0]((((x <= 0.000 & x >= 0.000) & x <= 0.000) & x >= 0.000))\n",
      "CLIENT STRUCT NOT FOUND G[0,0]((((x <= 0.000 -> x >= 0.000) -> x <= 0.000) | x >= 0.000))\n",
      "CLIENT STRUCT NOT FOUND F[0,0]((((x >= 0.000 -> x >= 0.000) | x <= 0.000) -> x <= 0.000))\n",
      "CLIENT STRUCT NOT FOUND G[0,0]((((x >= 0.000 -> x >= 0.000) -> x <= 0.000) & x <= 0.000))\n",
      "CLIENT STRUCT NOT FOUND F[0,0]((((x <= 0.000 | x <= 0.000) | x >= 0.000) -> x >= 0.000))\n",
      "CLIENT STRUCT NOT FOUND F[0,0]((((x <= 0.000 | x >= 0.000) | x >= 0.000) & x <= 0.000))\n",
      "CLIENT STRUCT NOT FOUND G[0,0]((((x >= 0.000 | x >= 0.000) & x <= 0.000) | x >= 0.000))\n",
      "CLIENT STRUCT NOT FOUND G[0,0]((((x <= 0.000 & x >= 0.000) & x >= 0.000) -> x >= 0.000))\n",
      "CLIENT STRUCT NOT FOUND G[0,0]((((x <= 0.000 | x <= 0.000) & x <= 0.000) | x <= 0.000))\n",
      "CLIENT STRUCT NOT FOUND G[0,0]((((x <= 0.000 | x <= 0.000) -> x <= 0.000) -> x <= 0.000))\n",
      "CLIENT STRUCT NOT FOUND G[0,0](((x <= 0.000 & x <= 0.000) | x >= 0.000))\n",
      "CLIENT STRUCT NOT FOUND G[0,0](((x <= 0.000 -> x <= 0.000) & x <= 0.000))\n",
      "CLIENT STRUCT NOT FOUND G[0,0]((((x >= 0.000 & x <= 0.000) | x <= 0.000) -> x <= 0.000))\n",
      "CLIENT STRUCT NOT FOUND G[0,0]((((x >= 0.000 | x <= 0.000) & x <= 0.000) | x <= 0.000))\n",
      "CLIENT STRUCT NOT FOUND G[0,0]((((x >= 0.000 | x <= 0.000) -> x <= 0.000) & x <= 0.000))\n",
      "CLIENT STRUCT NOT FOUND G[0,0]((((x <= 0.000 -> x <= 0.000) -> x >= 0.000) -> x <= 0.000))\n",
      "CLIENT STRUCT NOT FOUND G[0,0]((((x <= 0.000 & x >= 0.000) -> x >= 0.000) | x <= 0.000))\n",
      "CLIENT STRUCT NOT FOUND G[0,0](((x <= 0.000 & x >= 0.000) & x <= 0.000))\n",
      "CLIENT STRUCT NOT FOUND F[0,0]((x <= 0.000 & x <= 0.000))\n",
      "CLIENT STRUCT NOT FOUND F[0,0](((x >= 0.000 -> x <= 0.000) -> x >= 0.000))\n",
      "CLIENT STRUCT NOT FOUND G[0,0]((((x >= 0.000 | x <= 0.000) -> x >= 0.000) | x <= 0.000))\n",
      "CLIENT STRUCT NOT FOUND F[0,0](((x <= 0.000 | x >= 0.000) & x <= 0.000))\n",
      "CLIENT STRUCT NOT FOUND F[0,0]((((x <= 0.000 -> x <= 0.000) | x <= 0.000) -> x >= 0.000))\n",
      "CLIENT STRUCT NOT FOUND G[0,0]((((x <= 0.000 -> x <= 0.000) | x <= 0.000) | x <= 0.000))\n",
      "CLIENT STRUCT NOT FOUND G[0,0](((x >= 0.000 & x >= 0.000) -> x >= 0.000))\n",
      "CLIENT STRUCT NOT FOUND G[0,0]((((x <= 0.000 & x >= 0.000) -> x <= 0.000) & x <= 0.000))\n",
      "CLIENT STRUCT NOT FOUND G[0,0]((((x <= 0.000 -> x <= 0.000) -> x <= 0.000) | x >= 0.000))\n",
      "CLIENT STRUCT NOT FOUND G[0,0]((((x >= 0.000 -> x >= 0.000) & x <= 0.000) & x <= 0.000))\n",
      "CLIENT STRUCT NOT FOUND G[0,0]((((x >= 0.000 & x <= 0.000) & x <= 0.000) -> x >= 0.000))\n",
      "CLIENT STRUCT NOT FOUND G[0,0]((((x <= 0.000 -> x <= 0.000) & x <= 0.000) & x <= 0.000))\n",
      "CLIENT STRUCT NOT FOUND G[0,0]((((x <= 0.000 -> x <= 0.000) & x <= 0.000) | x <= 0.000))\n",
      "CLIENT STRUCT NOT FOUND G[0,0]((((x <= 0.000 & x <= 0.000) -> x >= 0.000) & x >= 0.000))\n",
      "CLIENT STRUCT NOT FOUND G[0,0]((((x >= 0.000 -> x >= 0.000) | x >= 0.000) -> x <= 0.000))\n",
      "CLIENT STRUCT NOT FOUND G[0,0]((((x <= 0.000 -> x <= 0.000) & x >= 0.000) -> x <= 0.000))\n",
      "CLIENT STRUCT NOT FOUND F[0,0]((x >= 0.000 -> x >= 0.000))\n",
      "CLIENT STRUCT NOT FOUND F[0,0](((x >= 0.000 | x <= 0.000) -> x <= 0.000))\n",
      "CLIENT STRUCT NOT FOUND F[0,0]((((x <= 0.000 | x <= 0.000) & x <= 0.000) & x <= 0.000))\n",
      "CLIENT STRUCT NOT FOUND F[0,0]((((x <= 0.000 | x >= 0.000) & x >= 0.000) & x >= 0.000))\n",
      "CLIENT STRUCT NOT FOUND F[0,0](((x >= 0.000 | x <= 0.000) -> x >= 0.000))\n",
      "CLIENT STRUCT NOT FOUND F[0,0]((((x >= 0.000 -> x <= 0.000) & x >= 0.000) & x >= 0.000))\n",
      "CLIENT STRUCT NOT FOUND F[0,0]((((x >= 0.000 -> x >= 0.000) & x >= 0.000) & x >= 0.000))\n",
      "CLIENT STRUCT NOT FOUND G[0,0]((((x <= 0.000 -> x >= 0.000) | x <= 0.000) -> x <= 0.000))\n",
      "CLIENT STRUCT NOT FOUND G[0,0]((((x <= 0.000 -> x >= 0.000) & x <= 0.000) -> x <= 0.000))\n",
      "CLIENT STRUCT NOT FOUND G[0,0]((((x <= 0.000 | x >= 0.000) | x <= 0.000) & x >= 0.000))\n",
      "CLIENT STRUCT NOT FOUND G[0,0]((((x >= 0.000 | x >= 0.000) & x <= 0.000) -> x <= 0.000))\n",
      "CLIENT STRUCT NOT FOUND G[0,0]((((x >= 0.000 | x >= 0.000) | x >= 0.000) | x >= 0.000))\n",
      "CLIENT STRUCT NOT FOUND G[0,0](((x >= 0.000 | x >= 0.000) -> x <= 0.000))\n",
      "CLIENT STRUCT NOT FOUND G[0,0]((((x >= 0.000 & x >= 0.000) -> x >= 0.000) | x <= 0.000))\n",
      "CLIENT STRUCT NOT FOUND G[0,0]((((x <= 0.000 | x >= 0.000) -> x <= 0.000) | x <= 0.000))\n",
      "CLIENT STRUCT NOT FOUND G[0,0]((((x <= 0.000 & x >= 0.000) -> x >= 0.000) -> x <= 0.000))\n",
      "CLIENT STRUCT NOT FOUND G[0,0]((((x >= 0.000 -> x >= 0.000) | x >= 0.000) | x >= 0.000))\n",
      "CLIENT STRUCT NOT FOUND G[0,0]((((x >= 0.000 -> x <= 0.000) & x <= 0.000) | x <= 0.000))\n",
      "CLIENT STRUCT NOT FOUND F[0,0]((x <= 0.000 & x = 0.000))\n",
      "CLIENT STRUCT NOT FOUND F[0,0]((((x <= 0.000 & x <= 0.000) -> x <= 0.000) -> x >= 0.000))\n",
      "CLIENT STRUCT NOT FOUND G[0,0](((x <= 0.000 | x <= 0.000) | x >= 0.000))\n",
      "CLIENT STRUCT NOT FOUND G[0,0]((((x <= 0.000 | x <= 0.000) | x >= 0.000) -> x <= 0.000))\n",
      "CLIENT STRUCT NOT FOUND G[0,0]((x <= 0.000 -> x >= 0.000))\n",
      "CLIENT STRUCT NOT FOUND G[0,0](((x <= 0.000 -> x >= 0.000) -> x >= 0.000))\n"
     ]
    },
    {
     "name": "stdout",
     "output_type": "stream",
     "text": [
      "CLIENT STRUCT NOT FOUND F[0,0]((((x >= 0.000 -> x <= 0.000) & x <= 0.000) -> x >= 0.000))\n",
      "CLIENT STRUCT NOT FOUND F[0,0](((x >= 0.000 | x >= 0.000) & x <= 0.000))\n",
      "CLIENT STRUCT NOT FOUND G[0,0]((((x <= 0.000 | x >= 0.000) & x <= 0.000) & x <= 0.000))\n",
      "CLIENT STRUCT NOT FOUND G[0,0]((((x <= 0.000 & x >= 0.000) & x >= 0.000) -> x <= 0.000))\n",
      "CLIENT STRUCT NOT FOUND ((x <= 0.000) U[0,0] (x = 0.000))\n",
      "CLIENT STRUCT NOT FOUND F[0,0]((((x <= 0.000 & x <= 0.000) | x <= 0.000) & x >= 0.000))\n",
      "CLIENT STRUCT NOT FOUND G[0,0]((((x <= 0.000 & x <= 0.000) | x <= 0.000) | x >= 0.000))\n",
      "CLIENT STRUCT NOT FOUND G[0,0]((((x <= 0.000 & x <= 0.000) | x <= 0.000) -> x <= 0.000))\n",
      "CLIENT STRUCT NOT FOUND G[0,0]((((x >= 0.000 -> x <= 0.000) | x <= 0.000) | x >= 0.000))\n",
      "CLIENT STRUCT NOT FOUND G[0,0]((((x >= 0.000 & x >= 0.000) -> x <= 0.000) | x <= 0.000))\n",
      "CLIENT STRUCT NOT FOUND G[0,0]((((x <= 0.000 & x >= 0.000) -> x >= 0.000) & x <= 0.000))\n",
      "CLIENT STRUCT NOT FOUND G[0,0]((((x >= 0.000 -> x <= 0.000) -> x <= 0.000) | x >= 0.000))\n",
      "CLIENT STRUCT NOT FOUND G[0,0]((((x >= 0.000 | x >= 0.000) & x >= 0.000) | x >= 0.000))\n",
      "CLIENT STRUCT NOT FOUND G[0,0]((((x <= 0.000 -> x >= 0.000) & x >= 0.000) -> x >= 0.000))\n",
      "CLIENT STRUCT NOT FOUND G[0,0]((((x >= 0.000 | x <= 0.000) -> x >= 0.000) -> x <= 0.000))\n",
      "CLIENT STRUCT NOT FOUND G[0,0]((((x <= 0.000 -> x >= 0.000) & x <= 0.000) | x <= 0.000))\n",
      "CLIENT STRUCT NOT FOUND G[0,0]((((x <= 0.000 & x <= 0.000) -> x >= 0.000) | x <= 0.000))\n",
      "CLIENT STRUCT NOT FOUND F[0,0]((x <= 0.000 -> x >= 0.000))\n",
      "CLIENT STRUCT NOT FOUND G[0,0]((((x >= 0.000 & x >= 0.000) -> x >= 0.000) & x <= 0.000))\n",
      "CLIENT STRUCT NOT FOUND G[0,0](((x <= 0.000 -> x >= 0.000) | x <= 0.000))\n",
      "CLIENT STRUCT NOT FOUND G[0,0]((((x <= 0.000 -> x <= 0.000) | x <= 0.000) | x >= 0.000))\n",
      "CLIENT STRUCT NOT FOUND G[0,0]((((x <= 0.000 | x >= 0.000) & x <= 0.000) | x >= 0.000))\n",
      "CLIENT STRUCT NOT FOUND G[0,0](((x <= 0.000 -> x >= 0.000) & x >= 0.000))\n",
      "CLIENT STRUCT NOT FOUND G[0,0]((((x >= 0.000 & x >= 0.000) | x <= 0.000) -> x <= 0.000))\n",
      "CLIENT STRUCT NOT FOUND G[0,0](((x >= 0.000 -> x <= 0.000) & x >= 0.000))\n",
      "CLIENT STRUCT NOT FOUND G[0,0]((((x >= 0.000 & x <= 0.000) -> x <= 0.000) | x <= 0.000))\n",
      "CLIENT STRUCT NOT FOUND G[0,0]((((x >= 0.000 & x >= 0.000) | x >= 0.000) | x >= 0.000))\n",
      "CLIENT STRUCT NOT FOUND G[0,0]((((x >= 0.000 & x >= 0.000) & x >= 0.000) -> x <= 0.000))\n",
      "CLIENT STRUCT NOT FOUND G[0,0]((((x <= 0.000 -> x <= 0.000) & x <= 0.000) & x >= 0.000))\n",
      "CLIENT STRUCT NOT FOUND G[0,0](((x >= 0.000 & x >= 0.000) & x <= 0.000))\n",
      "CLIENT STRUCT NOT FOUND F[0,0](((x <= 0.000 -> x >= 0.000) & x >= 0.000))\n",
      "CLIENT STRUCT NOT FOUND F[0,0]((((x >= 0.000 -> x <= 0.000) -> x <= 0.000) -> x >= 0.000))\n",
      "CLIENT STRUCT NOT FOUND F[0,0]((((x <= 0.000 | x >= 0.000) & x <= 0.000) & x >= 0.000))\n",
      "CLIENT STRUCT NOT FOUND F[0,0](((x >= 0.000 & x <= 0.000) & x >= 0.000))\n",
      "CLIENT STRUCT NOT FOUND G[0,0]((((x <= 0.000 -> x >= 0.000) & x <= 0.000) -> x >= 0.000))\n",
      "CLIENT STRUCT NOT FOUND F[0,0]((((x >= 0.000 | x >= 0.000) & x <= 0.000) -> x >= 0.000))\n",
      "CLIENT STRUCT NOT FOUND G[0,0]((((x <= 0.000 -> x >= 0.000) -> x <= 0.000) -> x <= 0.000))\n",
      "CLIENT STRUCT NOT FOUND G[0,0]((((x >= 0.000 -> x <= 0.000) & x <= 0.000) & x <= 0.000))\n",
      "CLIENT STRUCT NOT FOUND G[0,0]((((x >= 0.000 & x >= 0.000) | x <= 0.000) | x >= 0.000))\n",
      "CLIENT STRUCT NOT FOUND F[0,0]((((x >= 0.000 -> x >= 0.000) -> x <= 0.000) & x >= 0.000))\n",
      "CLIENT STRUCT NOT FOUND F[0,0]((((x >= 0.000 | x <= 0.000) -> x >= 0.000) & x >= 0.000))\n",
      "CLIENT STRUCT NOT FOUND F[0,0]((((x <= 0.000 & x >= 0.000) -> x <= 0.000) & x >= 0.000))\n",
      "CLIENT STRUCT NOT FOUND F[0,0]((((x <= 0.000 | x >= 0.000) | x >= 0.000) & x >= 0.000))\n",
      "CLIENT STRUCT NOT FOUND F[0,0]((((x <= 0.000 -> x >= 0.000) | x >= 0.000) & x <= 0.000))\n",
      "CLIENT STRUCT NOT FOUND G[0,0]((((x <= 0.000 -> x <= 0.000) & x >= 0.000) | x <= 0.000))\n",
      "CLIENT STRUCT NOT FOUND G[0,0](((x >= 0.000 | x <= 0.000) & x >= 0.000))\n",
      "CLIENT STRUCT NOT FOUND G[0,0]((((x <= 0.000 -> x >= 0.000) -> x >= 0.000) | x >= 0.000))\n",
      "CLIENT STRUCT NOT FOUND F[0,0]((((x >= 0.000 & x >= 0.000) -> x >= 0.000) | x >= 0.000))\n",
      "CLIENT STRUCT NOT FOUND F[0,0]((((x <= 0.000 & x <= 0.000) & x <= 0.000) & x <= 0.000))\n",
      "CLIENT STRUCT NOT FOUND F[0,0]((((x <= 0.000 -> x <= 0.000) -> x >= 0.000) | x >= 0.000))\n",
      "CLIENT STRUCT NOT FOUND F[0,0]((((x <= 0.000 | x <= 0.000) | x <= 0.000) & x >= 0.000))\n",
      "CLIENT STRUCT NOT FOUND G[0,0]((((x >= 0.000 & x >= 0.000) & x <= 0.000) -> x >= 0.000))\n",
      "CLIENT STRUCT NOT FOUND G[0,0]((((x <= 0.000 -> x >= 0.000) & x <= 0.000) & x <= 0.000))\n",
      "CLIENT STRUCT NOT FOUND G[0,0]((((x <= 0.000 | x <= 0.000) -> x <= 0.000) & x <= 0.000))\n",
      "CLIENT STRUCT NOT FOUND G[0,0]((((x <= 0.000 | x <= 0.000) | x <= 0.000) & x <= 0.000))\n",
      "CLIENT STRUCT NOT FOUND G[0,0]((((x <= 0.000 -> x <= 0.000) | x >= 0.000) -> x <= 0.000))\n",
      "CLIENT STRUCT NOT FOUND G[0,0](((x >= 0.000 & x <= 0.000) | x >= 0.000))\n",
      "CLIENT STRUCT NOT FOUND G[0,0]((((x >= 0.000 -> x <= 0.000) & x >= 0.000) | x <= 0.000))\n",
      "CLIENT STRUCT NOT FOUND G[0,0]((((x >= 0.000 -> x <= 0.000) -> x <= 0.000) | x <= 0.000))\n",
      "CLIENT STRUCT NOT FOUND G[0,0](((x >= 0.000 & x >= 0.000) | x >= 0.000))\n",
      "CLIENT STRUCT NOT FOUND F[0,0]((((x <= 0.000 -> x >= 0.000) -> x >= 0.000) -> x >= 0.000))\n",
      "CLIENT STRUCT NOT FOUND F[0,0](((x <= 0.000 -> x <= 0.000) -> x >= 0.000))\n",
      "CLIENT STRUCT NOT FOUND G[0,0]((((x <= 0.000 | x <= 0.000) | x >= 0.000) | x >= 0.000))\n",
      "CLIENT STRUCT NOT FOUND G[0,0](((x <= 0.000 | x <= 0.000) & x >= 0.000))\n",
      "CLIENT STRUCT NOT FOUND F[0,0]((((x >= 0.000 & x <= 0.000) & x >= 0.000) & x >= 0.000))\n",
      "CLIENT STRUCT NOT FOUND G[0,0]((((x >= 0.000 -> x <= 0.000) | x >= 0.000) | x >= 0.000))\n",
      "CLIENT STRUCT NOT FOUND F[0,0]((((x >= 0.000 | x >= 0.000) & x >= 0.000) & x <= 0.000))\n",
      "CLIENT STRUCT NOT FOUND F[0,0]((((x <= 0.000 -> x <= 0.000) | x <= 0.000) & x >= 0.000))\n",
      "CLIENT STRUCT NOT FOUND G[0,0]((((x <= 0.000 -> x >= 0.000) | x >= 0.000) | x <= 0.000))\n",
      "CLIENT STRUCT NOT FOUND G[0,0]((((x <= 0.000 -> x >= 0.000) & x >= 0.000) -> x <= 0.000))\n",
      "CLIENT STRUCT NOT FOUND F[0,0]((((x >= 0.000 -> x >= 0.000) -> x >= 0.000) & x <= 0.000))\n",
      "CLIENT STRUCT NOT FOUND G[0,0]((((x <= 0.000 -> x <= 0.000) | x <= 0.000) -> x <= 0.000))\n",
      "CLIENT STRUCT NOT FOUND G[0,0](((x >= 0.000 -> x >= 0.000) & x <= 0.000))\n",
      "CLIENT STRUCT NOT FOUND G[0,0]((((x >= 0.000 & x <= 0.000) -> x >= 0.000) -> x >= 0.000))\n",
      "CLIENT STRUCT NOT FOUND G[0,0]((((x <= 0.000 | x >= 0.000) | x <= 0.000) & x <= 0.000))\n",
      "CLIENT STRUCT NOT FOUND G[0,0]((((x <= 0.000 & x <= 0.000) & x >= 0.000) & x <= 0.000))\n",
      "CLIENT STRUCT NOT FOUND F[0,0]((((x >= 0.000 -> x <= 0.000) & x >= 0.000) | x >= 0.000))\n",
      "CLIENT STRUCT NOT FOUND G[0,0]((((x <= 0.000 -> x <= 0.000) & x >= 0.000) & x <= 0.000))\n",
      "CLIENT STRUCT NOT FOUND G[0,0](((x <= 0.000 -> x >= 0.000) | x >= 0.000))\n",
      "CLIENT STRUCT NOT FOUND G[0,0]((((x <= 0.000 -> x >= 0.000) -> x >= 0.000) -> x <= 0.000))\n",
      "CLIENT STRUCT NOT FOUND G[0,0]((((x <= 0.000 | x <= 0.000) & x >= 0.000) | x <= 0.000))\n",
      "CLIENT STRUCT NOT FOUND G[0,0]((((x >= 0.000 | x <= 0.000) | x <= 0.000) -> x <= 0.000))\n",
      "CLIENT STRUCT NOT FOUND G[0,0](((x >= 0.000 | x <= 0.000) & x <= 0.000))\n",
      "CLIENT STRUCT NOT FOUND G[0,0]((((x <= 0.000 -> x <= 0.000) -> x >= 0.000) -> x >= 0.000))\n",
      "CLIENT STRUCT NOT FOUND G[0,0]((((x <= 0.000 & x >= 0.000) | x <= 0.000) & x <= 0.000))\n",
      "CLIENT STRUCT NOT FOUND F[0,0]((((x >= 0.000 & x <= 0.000) | x <= 0.000) | x <= 0.000))\n",
      "CLIENT STRUCT NOT FOUND F[0,0]((((x >= 0.000 -> x <= 0.000) -> x <= 0.000) & x <= 0.000))\n",
      "CLIENT STRUCT NOT FOUND F[0,0]((((x <= 0.000 | x >= 0.000) -> x >= 0.000) | x >= 0.000))\n",
      "CLIENT STRUCT NOT FOUND G[0,0]((((x <= 0.000 | x <= 0.000) -> x >= 0.000) | x <= 0.000))\n",
      "CLIENT STRUCT NOT FOUND F[0,0]((((x <= 0.000 & x <= 0.000) -> x >= 0.000) & x <= 0.000))\n",
      "CLIENT STRUCT NOT FOUND G[0,0]((((x >= 0.000 | x <= 0.000) -> x <= 0.000) | x >= 0.000))\n",
      "CLIENT STRUCT NOT FOUND G[0,0]((((x <= 0.000 & x <= 0.000) -> x <= 0.000) | x <= 0.000))\n",
      "CLIENT STRUCT NOT FOUND G[0,0](((x <= 0.000 | x <= 0.000) -> x >= 0.000))\n",
      "CLIENT STRUCT NOT FOUND G[0,0]((((x >= 0.000 & x <= 0.000) | x <= 0.000) & x <= 0.000))\n",
      "CLIENT STRUCT NOT FOUND F[0,0]((((x <= 0.000 & x >= 0.000) & x >= 0.000) & x >= 0.000))\n",
      "CLIENT STRUCT NOT FOUND F[0,0]((((x <= 0.000 | x >= 0.000) | x >= 0.000) -> x >= 0.000))\n",
      "CLIENT STRUCT NOT FOUND F[0,0](((x <= 0.000 | x >= 0.000) & x >= 0.000))\n",
      "CLIENT STRUCT NOT FOUND F[0,0]((((x <= 0.000 & x >= 0.000) | x >= 0.000) | x >= 0.000))\n",
      "CLIENT STRUCT NOT FOUND F[0,0]((((x <= 0.000 | x >= 0.000) -> x >= 0.000) & x >= 0.000))\n"
     ]
    },
    {
     "name": "stdout",
     "output_type": "stream",
     "text": [
      "CLIENT STRUCT NOT FOUND F[0,0]((((x >= 0.000 & x <= 0.000) & x >= 0.000) | x >= 0.000))\n",
      "CLIENT STRUCT NOT FOUND F[0,0]((((x >= 0.000 -> x <= 0.000) | x <= 0.000) & x <= 0.000))\n",
      "CLIENT STRUCT NOT FOUND G[0,0]((((x >= 0.000 -> x <= 0.000) | x <= 0.000) -> x <= 0.000))\n",
      "CLIENT STRUCT NOT FOUND F[0,0]((((x >= 0.000 & x <= 0.000) -> x >= 0.000) & x >= 0.000))\n",
      "CLIENT STRUCT NOT FOUND F[0,0]((((x <= 0.000 & x >= 0.000) & x <= 0.000) & x <= 0.000))\n",
      "CLIENT STRUCT NOT FOUND G[0,0](((x >= 0.000 & x <= 0.000) & x >= 0.000))\n",
      "CLIENT STRUCT NOT FOUND G[0,0]((((x <= 0.000 -> x <= 0.000) | x >= 0.000) & x <= 0.000))\n",
      "CLIENT STRUCT NOT FOUND G[0,0]((((x <= 0.000 | x >= 0.000) | x >= 0.000) | x <= 0.000))\n",
      "CLIENT STRUCT NOT FOUND G[0,0]((((x >= 0.000 | x <= 0.000) & x <= 0.000) | x >= 0.000))\n",
      "CLIENT STRUCT NOT FOUND G[0,0]((((x <= 0.000 & x >= 0.000) | x >= 0.000) | x <= 0.000))\n",
      "CLIENT STRUCT NOT FOUND F[0,0]((((x <= 0.000 | x >= 0.000) & x >= 0.000) & x <= 0.000))\n",
      "CLIENT STRUCT NOT FOUND F[0,0]((((x <= 0.000 & x >= 0.000) -> x >= 0.000) & x >= 0.000))\n",
      "CLIENT STRUCT NOT FOUND F[0,0]((((x <= 0.000 -> x >= 0.000) -> x <= 0.000) -> x >= 0.000))\n",
      "CLIENT STRUCT NOT FOUND F[0,0]((((x <= 0.000 -> x >= 0.000) | x <= 0.000) & x >= 0.000))\n",
      "CLIENT STRUCT NOT FOUND G[0,0]((((x >= 0.000 | x >= 0.000) -> x <= 0.000) -> x <= 0.000))\n",
      "CLIENT STRUCT NOT FOUND G[0,0]((((x <= 0.000 & x >= 0.000) | x >= 0.000) -> x >= 0.000))\n",
      "CLIENT STRUCT NOT FOUND G[0,0]((((x >= 0.000 -> x >= 0.000) | x >= 0.000) | x <= 0.000))\n",
      "CLIENT STRUCT NOT FOUND F[0,0]((((x <= 0.000 | x <= 0.000) -> x >= 0.000) & x <= 0.000))\n",
      "CLIENT STRUCT NOT FOUND G[0,0]((((x >= 0.000 | x <= 0.000) -> x <= 0.000) -> x <= 0.000))\n",
      "CLIENT STRUCT NOT FOUND G[0,0]((((x <= 0.000 & x <= 0.000) -> x >= 0.000) | x >= 0.000))\n",
      "CLIENT STRUCT NOT FOUND G[0,0]((((x >= 0.000 & x <= 0.000) -> x <= 0.000) -> x <= 0.000))\n",
      "CLIENT STRUCT NOT FOUND G[0,0]((((x >= 0.000 -> x <= 0.000) | x >= 0.000) & x <= 0.000))\n",
      "CLIENT STRUCT NOT FOUND G[0,0]((((x >= 0.000 & x >= 0.000) & x >= 0.000) | x <= 0.000))\n",
      "CLIENT STRUCT NOT FOUND G[0,0]((((x >= 0.000 -> x >= 0.000) | x >= 0.000) & x <= 0.000))\n",
      "CLIENT STRUCT NOT FOUND G[0,0]((((x >= 0.000 -> x >= 0.000) | x >= 0.000) & x >= 0.000))\n",
      "CLIENT STRUCT NOT FOUND F[0,0]((((x <= 0.000 | x <= 0.000) -> x <= 0.000) -> x >= 0.000))\n",
      "CLIENT STRUCT NOT FOUND F[0,0](((x >= 0.000 & x <= 0.000) -> x >= 0.000))\n",
      "CLIENT STRUCT NOT FOUND ((x <= 0.000) U[0,0] (x <= 0.000))\n",
      "CLIENT STRUCT NOT FOUND G[0,0]((((x <= 0.000 -> x >= 0.000) | x >= 0.000) -> x <= 0.000))\n",
      "CLIENT STRUCT NOT FOUND G[0,0]((((x >= 0.000 & x >= 0.000) | x >= 0.000) -> x <= 0.000))\n",
      "CLIENT STRUCT NOT FOUND G[0,0]((((x >= 0.000 -> x >= 0.000) | x <= 0.000) | x >= 0.000))\n",
      "CLIENT STRUCT NOT FOUND G[0,0]((((x <= 0.000 | x <= 0.000) & x >= 0.000) -> x >= 0.000))\n",
      "CLIENT STRUCT NOT FOUND G[0,0]((((x >= 0.000 -> x <= 0.000) | x >= 0.000) -> x <= 0.000))\n",
      "CLIENT STRUCT NOT FOUND G[0,0]((((x >= 0.000 -> x <= 0.000) & x >= 0.000) -> x <= 0.000))\n",
      "CLIENT STRUCT NOT FOUND G[0,0]((((x >= 0.000 & x <= 0.000) | x <= 0.000) | x <= 0.000))\n",
      "CLIENT STRUCT NOT FOUND G[0,0]((((x <= 0.000 | x >= 0.000) -> x >= 0.000) -> x >= 0.000))\n",
      "CLIENT STRUCT NOT FOUND G[0,0]((((x <= 0.000 -> x <= 0.000) & x >= 0.000) -> x >= 0.000))\n",
      "CLIENT STRUCT NOT FOUND F[0,0]((((x >= 0.000 -> x <= 0.000) | x >= 0.000) & x >= 0.000))\n",
      "CLIENT STRUCT NOT FOUND G[0,0]((((x <= 0.000 | x <= 0.000) | x <= 0.000) | x <= 0.000))\n",
      "CLIENT STRUCT NOT FOUND G[0,0]((((x >= 0.000 -> x >= 0.000) & x >= 0.000) | x <= 0.000))\n",
      "CLIENT STRUCT NOT FOUND G[0,0]((((x >= 0.000 & x >= 0.000) -> x <= 0.000) -> x <= 0.000))\n",
      "CLIENT STRUCT NOT FOUND G[0,0]((((x <= 0.000 | x >= 0.000) -> x <= 0.000) -> x <= 0.000))\n",
      "CLIENT STRUCT NOT FOUND G[0,0]((((x >= 0.000 | x <= 0.000) | x <= 0.000) | x <= 0.000))\n",
      "CLIENT STRUCT NOT FOUND G[0,0]((((x >= 0.000 & x >= 0.000) & x >= 0.000) | x >= 0.000))\n",
      "CLIENT STRUCT NOT FOUND G[0,0](((x >= 0.000 -> x >= 0.000) -> x <= 0.000))\n",
      "CLIENT STRUCT NOT FOUND F[0,0]((((x <= 0.000 | x <= 0.000) & x >= 0.000) & x >= 0.000))\n",
      "CLIENT STRUCT NOT FOUND F[0,0]((((x <= 0.000 | x <= 0.000) -> x <= 0.000) & x >= 0.000))\n"
     ]
    },
    {
     "data": {
      "text/html": [
       "<div>\n",
       "<style scoped>\n",
       "    .dataframe tbody tr th:only-of-type {\n",
       "        vertical-align: middle;\n",
       "    }\n",
       "\n",
       "    .dataframe tbody tr th {\n",
       "        vertical-align: top;\n",
       "    }\n",
       "\n",
       "    .dataframe thead th {\n",
       "        text-align: right;\n",
       "    }\n",
       "</style>\n",
       "<table border=\"1\" class=\"dataframe\">\n",
       "  <thead>\n",
       "    <tr style=\"text-align: right;\">\n",
       "      <th></th>\n",
       "      <th>Total Client Structures</th>\n",
       "      <th>Found Structures</th>\n",
       "      <th>Non Structures</th>\n",
       "      <th>Precision</th>\n",
       "    </tr>\n",
       "  </thead>\n",
       "  <tbody>\n",
       "    <tr>\n",
       "      <th>0</th>\n",
       "      <td>390</td>\n",
       "      <td>5</td>\n",
       "      <td>0</td>\n",
       "      <td>1.0</td>\n",
       "    </tr>\n",
       "  </tbody>\n",
       "</table>\n",
       "</div>"
      ],
      "text/plain": [
       "   Total Client Structures  Found Structures  Non Structures  Precision\n",
       "0                      390                 5               0        1.0"
      ]
     },
     "execution_count": 304,
     "metadata": {},
     "output_type": "execute_result"
    }
   ],
   "source": [
    "structDF = cov.countUniqueStructuresNoVars(clientTrees, ldpTrees)\n",
    "structDF"
   ]
  },
  {
   "cell_type": "code",
   "execution_count": null,
   "metadata": {
    "pycharm": {
     "is_executing": true,
     "name": "#%%\n"
    }
   },
   "outputs": [],
   "source": []
  },
  {
   "cell_type": "code",
   "execution_count": null,
   "metadata": {
    "pycharm": {
     "is_executing": true,
     "name": "#%%\n"
    }
   },
   "outputs": [],
   "source": []
  },
  {
   "cell_type": "code",
   "execution_count": null,
   "metadata": {
    "pycharm": {
     "is_executing": true,
     "name": "#%%\n"
    }
   },
   "outputs": [],
   "source": []
  },
  {
   "cell_type": "markdown",
   "metadata": {},
   "source": [
    "## Compare LDP Rules Found vs the Percent Client Counts "
   ]
  },
  {
   "cell_type": "code",
   "execution_count": 263,
   "metadata": {
    "pycharm": {
     "is_executing": true,
     "name": "#%%\n"
    }
   },
   "outputs": [
    {
     "data": {
      "text/plain": [
       "<matplotlib.legend.Legend at 0x146fb6040>"
      ]
     },
     "execution_count": 263,
     "metadata": {},
     "output_type": "execute_result"
    },
    {
     "data": {
      "image/png": "[encoded data removed]",
      "text/plain": [
       "<Figure size 864x504 with 1 Axes>"
      ]
     },
     "metadata": {
      "needs_background": "light"
     },
     "output_type": "display_data"
    }
   ],
   "source": [
    "#make list of rule counts x population percents\n",
    "\n",
    "lst = []\n",
    "for idx, row in clientDF.iterrows():\n",
    "    lst.extend([row['Percent of Population'] for i in range(row['Rule Count'])])\n",
    "    \n",
    "n_bins = 10\n",
    "\n",
    "plt.figure(figsize=(12, 7))\n",
    "plt.hist([lst, countDF['Client Count'].values], n_bins, density=True, histtype='bar',label=['Client', 'LDP'])\n",
    "plt.xlabel(\"Percentage of Population\")\n",
    "plt.ylabel(\"Number of Rules\")\n",
    "plt.yscale('log')\n",
    "plt.legend()\n"
   ]
  },
  {
   "cell_type": "code",
   "execution_count": 286,
   "metadata": {
    "pycharm": {
     "is_executing": true,
     "name": "#%%\n"
    },
    "scrolled": true
   },
   "outputs": [],
   "source": [
    "lst2 = [\n",
    "1.0,\n",
    " 1.0,\n",
    " 1.0,\n",
    "\n",
    " 1.0,\n",
    " 1.0,\n",
    " 1.0,\n",
    " 1.0,\n",
    " 1.0,\n",
    " 1.0,\n",
    " 1.0,\n",
    " 1.0,\n",
    " 1.0,\n",
    " 1.0,\n",
    " 1.0,\n",
    " 1.0,\n",
    " 1.0,\n",
    " 1.0,\n",
    " 1.0,\n",
    " 1.0,\n",
    " 1.0,\n",
    " 1.0,\n",
    " 1.0,\n",
    " 1.0,\n",
    " 1.0,\n",
    " 1.0,\n",
    " 1.0,\n",
    " 1.0,\n",
    " 1.0,\n",
    " 1.0,\n",
    " 1.0,\n",
    " 1.0,\n",
    " 1.0,\n",
    " 1.0,\n",
    " 1.0,\n",
    " 1.0,\n",
    " 1.0,\n",
    " 1.0,\n",
    " 1.0,\n",
    "    0.9, 0.9, 0.9, 0.9, 0.9,\n",
    " 0.3,\n",
    " 0.3,\n",
    "\n",
    " 0.2,\n",
    " 0.2,\n",
    " 0.2,\n",
    " 0.2,\n",
    " 0.2,\n",
    " 0.2,\n",
    " 0.2,\n",
    "\n",
    "\n",
    " 0.1,\n",
    " 0.1,\n",
    " 0.1,\n",
    " 0.1,\n",
    " 0.1]\n",
    "\n"
   ]
  },
  {
   "cell_type": "code",
   "execution_count": 288,
   "metadata": {
    "pycharm": {
     "is_executing": true,
     "name": "#%%\n"
    }
   },
   "outputs": [
    {
     "data": {
      "text/plain": [
       "<matplotlib.legend.Legend at 0x140e383d0>"
      ]
     },
     "execution_count": 288,
     "metadata": {},
     "output_type": "execute_result"
    },
    {
     "data": {
      "image/png": "[encoded data removed]",
      "text/plain": [
       "<Figure size 864x504 with 1 Axes>"
      ]
     },
     "metadata": {
      "needs_background": "light"
     },
     "output_type": "display_data"
    }
   ],
   "source": [
    "lst = []\n",
    "for idx, row in clientDF.iterrows():\n",
    "    lst.extend([row['Percent of Population'] for i in range(row['Rule Count'])])\n",
    "    \n",
    "n_bins = 10\n",
    "\n",
    "plt.figure(figsize=(12, 7))\n",
    "plt.title('Sepsis Coverage Eps 1000, Queries 5000')\n",
    "plt.hist([lst, lst2], n_bins,  histtype='bar',label=['Client', 'LDP'])\n",
    "plt.xlabel(\"Percentage of Population\")\n",
    "plt.ylabel(\"Number of Rules\")\n",
    "plt.yscale('log')\n",
    "plt.legend()"
   ]
  },
  {
   "cell_type": "code",
   "execution_count": 151,
   "metadata": {
    "pycharm": {
     "name": "#%%\n"
    }
   },
   "outputs": [
    {
     "data": {
      "text/plain": [
       "<matplotlib.legend.Legend at 0x14055a880>"
      ]
     },
     "execution_count": 151,
     "metadata": {},
     "output_type": "execute_result"
    },
    {
     "data": {
      "image/png": "[encoded data removed]",
      "text/plain": [
       "<Figure size 864x504 with 1 Axes>"
      ]
     },
     "metadata": {
      "needs_background": "light"
     },
     "output_type": "display_data"
    }
   ],
   "source": [
    "#queries 3000 icu\n",
    "#queries 5000 sepsis\n",
    "\n",
    "rules = [0, 1, 5, 50, 70, 100, 180, 200, 300, 330, 355, 360, 400, 420, 460, 500, 553]\n",
    "queries = [1, 200, 1300, 1600, 1800, 2000, 2300, 2600, 2800, 3000, 3300, 3600, 3800, 4000, 4300, 4600, 4890]\n",
    "\n",
    "\n",
    "rulesCov = [0, 1, 5, 50, 70, 100, 180, 200, 260, 315, 335, 360, 390, 420, 460, 500, 553]\n",
    "queriesCov = [1, 63, 200, 400, 600, 800, 1000, 1200, 1400, 1600, 1800, 2000, 2200, 2400, 2600, 2800, 3000]\n",
    "\n",
    "\n",
    "plt.figure(figsize=(12, 7))\n",
    "plt.title(\"ICU Query Analysis\")\n",
    "plt.axhline(y=553, color='r', linestyle='-', label='Total Client Rules')\n",
    "plt.plot(queries, rules, label='Baseline')\n",
    "plt.plot(queriesCov, rulesCov, label='Coverage')\n",
    "plt.xlabel(\"Number of Queries\")\n",
    "plt.ylabel(\"Number of Rules\")\n",
    "plt.legend()"
   ]
  },
  {
   "cell_type": "code",
   "execution_count": null,
   "metadata": {
    "pycharm": {
     "name": "#%%\n"
    }
   },
   "outputs": [],
   "source": [
    "rules = [0, 1, 5, 50, 70, 100, 180, 200, 300, 330, 355, 360, 400, 420, 460, 500, 999]\n",
    "queries = [1, 200, 1300, 1600, 1800, 2000, 2300, 2600, 2800, 3000, 3300, 3600, 3800, 4000, 4300, 4600, 4890]\n",
    "\n",
    "rules = [0, 0, 1, 5, 50, 80, 100, 120, 200, 220, 250, 260, 300, 340, 380, 402, 430, 460, \n",
    "              490, 510, 550, 600, 700, 800, 900, 950, 999]\n",
    "queries = [1, 50, 100, 300, 600, 1000, 1300, 1600, 2000, 2300, 2600, 3000, 3300, 3600, 4000, 4300, 4600, 5000, \n",
    "              5300, 5600, 6000, 6300, 6600, 7000, 7300, 7600, 8002]\n",
    "\n",
    "\n",
    "\n",
    "rulesCov = [0, 1, 5, 50, 70, 80, 100, 120, 155, 180, 200, 230, 250, 300, 360, 400, 500, 540, \n",
    "              600, 650, 660, 700, 730, 840, 900, 980, 999]\n",
    "queriesCov = [1, 63, 200, 400, 600, 800, 1000, 1200, 1400, 1600, 1800, 2000, 2200, 2400, 2600, 2800, 3000, 3200, \n",
    "              3400, 3600, 3800, 4000, 4200, 4400, 4600, 4800, 5002]\n",
    "\n",
    "\n",
    "\n",
    "plt.figure(figsize=(12, 7))\n",
    "plt.title(\"Sepsis Query Analysis\")\n",
    "plt.axhline(y=999, color='r', linestyle='-', label='Total Client Rules')\n",
    "plt.plot(queries, rules, label='Baseline')\n",
    "plt.plot(queriesCov, rulesCov, label='Coverage')\n",
    "plt.xlabel(\"Number of Queries\")\n",
    "plt.ylabel(\"Number of Rules\")\n",
    "plt.legend()"
   ]
  },
  {
   "cell_type": "code",
   "execution_count": 52,
   "metadata": {
    "pycharm": {
     "is_executing": true,
     "name": "#%%\n"
    }
   },
   "outputs": [
    {
     "data": {
      "text/plain": [
       "<matplotlib.legend.Legend at 0x138248b20>"
      ]
     },
     "execution_count": 52,
     "metadata": {},
     "output_type": "execute_result"
    },
    {
     "data": {
      "image/png": "[encoded data removed]",
      "text/plain": [
       "<Figure size 864x504 with 1 Axes>"
      ]
     },
     "metadata": {
      "needs_background": "light"
     },
     "output_type": "display_data"
    }
   ],
   "source": []
  },
  {
   "cell_type": "code",
   "execution_count": 58,
   "metadata": {},
   "outputs": [
    {
     "data": {
      "text/plain": [
       "<matplotlib.legend.Legend at 0x1384e1a00>"
      ]
     },
     "execution_count": 58,
     "metadata": {},
     "output_type": "execute_result"
    },
    {
     "data": {
      "image/png": "[encoded data removed]",
      "text/plain": [
       "<Figure size 864x504 with 1 Axes>"
      ]
     },
     "metadata": {
      "needs_background": "light"
     },
     "output_type": "display_data"
    }
   ],
   "source": [
    "rules = [0, 1, 5, 50, 70, 100, 180, 200, 300, 330, 355, 360, 400, 420, 460, 500, 999]\n",
    "queries = [1, 200, 1300, 1600, 1800, 2000, 2300, 2600, 2800, 3000, 3300, 3600, 3800, 4000, 4300, 4600, 4890]\n",
    "\n",
    "rules = [0, 0, 1, 5, 50, 80, 100, 120, 200, 220, 250, 260, 300, 340, 380, 402, 430, 460, \n",
    "              490, 510, 550, 600, 700, 800, 900, 950, 999]\n",
    "queries = [1, 50, 100, 300, 600, 1000, 1300, 1600, 2000, 2300, 2600, 3000, 3300, 3600, 4000, 4300, 4600, 5000, \n",
    "              5300, 5600, 6000, 6300, 6600, 7000, 7300, 7600, 8002]\n",
    "\n",
    "\n",
    "\n",
    "rulesCov = [0, 1, 5, 50, 70, 80, 100, 120, 155, 180, 200, 230, 250, 300, 360, 400, 500, 540, \n",
    "              600, 650, 660, 700, 730, 840, 900, 980, 999]\n",
    "queriesCov = [1, 63, 200, 400, 600, 800, 1000, 1200, 1400, 1600, 1800, 2000, 2200, 2400, 2600, 2800, 3000, 3200, \n",
    "              3400, 3600, 3800, 4000, 4200, 4400, 4600, 4800, 5002]\n",
    "\n",
    "\n",
    "\n",
    "plt.figure(figsize=(12, 7))\n",
    "plt.title(\"Sepsis Query Analysis\")\n",
    "plt.axhline(y=999, color='r', linestyle='-', label='Total Client Rules')\n",
    "plt.plot(queries, rules, label='Baseline')\n",
    "plt.plot(queriesCov, rulesCov, label='Coverage')\n",
    "plt.xlabel(\"Number of Queries\")\n",
    "plt.ylabel(\"Number of Rules\")\n",
    "plt.legend()"
   ]
  },
  {
   "cell_type": "code",
   "execution_count": null,
   "metadata": {},
   "outputs": [],
   "source": []
  }
 ],
 "metadata": {
  "kernelspec": {
   "display_name": "Python 3",
   "language": "python",
   "name": "python3"
  },
  "language_info": {
   "codemirror_mode": {
    "name": "ipython",
    "version": 3
   },
   "file_extension": ".py",
   "mimetype": "text/x-python",
   "name": "python",
   "nbconvert_exporter": "python",
   "pygments_lexer": "ipython3",
   "version": "3.8.3"
  }
 },
 "nbformat": 4,
 "nbformat_minor": 1
}
