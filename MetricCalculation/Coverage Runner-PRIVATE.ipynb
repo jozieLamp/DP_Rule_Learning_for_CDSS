{
 "cells": [
  {
   "cell_type": "code",
   "execution_count": 1,
   "metadata": {
    "pycharm": {
     "name": "#%%\n"
    }
   },
   "outputs": [],
   "source": [
    "import matplotlib.pyplot as plt\n",
    "plt.rc('font', size=12)\n",
    "import pandas as pd\n",
    "import seaborn as sns\n",
    "import warnings \n",
    "\n",
    "import Coverage as cov\n",
    "import RuleQuality as RQ\n",
    "\n",
    "warnings.filterwarnings('ignore')\n",
    "%matplotlib inline\n",
    "\n",
    "%load_ext autoreload\n",
    "%autoreload 2"
   ]
  },
  {
   "cell_type": "markdown",
   "metadata": {},
   "source": [
    "## Params"
   ]
  },
  {
   "cell_type": "code",
   "execution_count": 2,
   "metadata": {
    "pycharm": {
     "name": "#%%\n"
    }
   },
   "outputs": [],
   "source": [
    "#get list of client rules sorted by count\n",
    "popSize = 10\n",
    "clientFilename = \"../Data/ICU/Best/\"\n",
    "# clientFilename = \"../Data/ICU/Test/\"\n",
    "# clientFilename = \"../Data/Sepsis/Best/\"\n",
    "\n",
    "# ldpFilename = \"../Results/TEST/ICU_Base_PRIV.csv\"\n",
    "ldpFilename = \"../Results/TEST/ICU_Base_TEST.csv\"\n",
    "# ldpFilename = \"../Results/Sepsis_Base_TEST.csv\"\n",
    "\n",
    "# ldpFilename = \"../Results/ICU_Base_TEST_2.csv\"\n",
    "# ldpFilename = \"../Results/ICU_Ruleset_MCTS_TEST.csv\"\n",
    "# ldpFilename = \"../Results/ICU_TEST_2.csv\"\n",
    "# ldpFilename = \"../Results/Sepsis_Ruleset_MCTS_Test.csv\"\n",
    "\n",
    "graphName = '../Results/Graphs/test' #Name of count coverage graphs\n",
    "popThresh = 0.01 #Percentage match count\n"
   ]
  },
  {
   "cell_type": "markdown",
   "metadata": {},
   "source": [
    "## Load Client Rules"
   ]
  },
  {
   "cell_type": "code",
   "execution_count": 3,
   "metadata": {
    "pycharm": {
     "name": "#%%\n"
    }
   },
   "outputs": [
    {
     "name": "stdout",
     "output_type": "stream",
     "text": [
      "File not found for Client 8\n"
     ]
    },
    {
     "data": {
      "text/html": [
       "<div>\n",
       "<style scoped>\n",
       "    .dataframe tbody tr th:only-of-type {\n",
       "        vertical-align: middle;\n",
       "    }\n",
       "\n",
       "    .dataframe tbody tr th {\n",
       "        vertical-align: top;\n",
       "    }\n",
       "\n",
       "    .dataframe thead th {\n",
       "        text-align: right;\n",
       "    }\n",
       "</style>\n",
       "<table border=\"1\" class=\"dataframe\">\n",
       "  <thead>\n",
       "    <tr style=\"text-align: right;\">\n",
       "      <th></th>\n",
       "      <th>Rule</th>\n",
       "      <th>Rule Count</th>\n",
       "      <th>Percent of Population</th>\n",
       "    </tr>\n",
       "  </thead>\n",
       "  <tbody>\n",
       "    <tr>\n",
       "      <th>53</th>\n",
       "      <td>((MET &gt;= 0.000) U[0,0] (death = 0.000))</td>\n",
       "      <td>17</td>\n",
       "      <td>1.0</td>\n",
       "    </tr>\n",
       "    <tr>\n",
       "      <th>56</th>\n",
       "      <td>F[0,0]((BLOOD_UREA_NITROGEN &lt;= 0.000 &amp; CREATIN...</td>\n",
       "      <td>13</td>\n",
       "      <td>1.0</td>\n",
       "    </tr>\n",
       "    <tr>\n",
       "      <th>57</th>\n",
       "      <td>G[0,0]((n_evts &lt;= 0.000 -&gt; LOS &gt;= 0.000))</td>\n",
       "      <td>12</td>\n",
       "      <td>1.0</td>\n",
       "    </tr>\n",
       "    <tr>\n",
       "      <th>47</th>\n",
       "      <td>G[0,0]((hr &gt;= 0.000 &amp; Pulse &gt;= 0.000))</td>\n",
       "      <td>3</td>\n",
       "      <td>0.3</td>\n",
       "    </tr>\n",
       "    <tr>\n",
       "      <th>172</th>\n",
       "      <td>((af &gt;= 0.000) U[0,0] (direct &gt;= 0.000))</td>\n",
       "      <td>3</td>\n",
       "      <td>0.3</td>\n",
       "    </tr>\n",
       "    <tr>\n",
       "      <th>...</th>\n",
       "      <td>...</td>\n",
       "      <td>...</td>\n",
       "      <td>...</td>\n",
       "    </tr>\n",
       "    <tr>\n",
       "      <th>188</th>\n",
       "      <td>F[0,0]((HEMOGLOBIN &lt;= 0.000 &amp; O2_Flow &lt;= 0.000))</td>\n",
       "      <td>1</td>\n",
       "      <td>0.1</td>\n",
       "    </tr>\n",
       "    <tr>\n",
       "      <th>187</th>\n",
       "      <td>F[0,0]((dfa &gt;= 0.000 &amp; Mort &gt;= 0.000))</td>\n",
       "      <td>1</td>\n",
       "      <td>0.1</td>\n",
       "    </tr>\n",
       "    <tr>\n",
       "      <th>186</th>\n",
       "      <td>((O2_Flow &lt;= 0.000) U[0,0] (PLATELET_COUNT &gt;= ...</td>\n",
       "      <td>1</td>\n",
       "      <td>0.1</td>\n",
       "    </tr>\n",
       "    <tr>\n",
       "      <th>185</th>\n",
       "      <td>((MET &gt;= 0.000) U[0,0] (PARTIAL_THROMBOPLASTIN...</td>\n",
       "      <td>1</td>\n",
       "      <td>0.1</td>\n",
       "    </tr>\n",
       "    <tr>\n",
       "      <th>552</th>\n",
       "      <td>G[0,0]((death &gt;= 0.000 -&gt; WHITE_BLOOD_CELL_COU...</td>\n",
       "      <td>1</td>\n",
       "      <td>0.1</td>\n",
       "    </tr>\n",
       "  </tbody>\n",
       "</table>\n",
       "<p>553 rows × 3 columns</p>\n",
       "</div>"
      ],
      "text/plain": [
       "                                                  Rule  Rule Count  \\\n",
       "53             ((MET >= 0.000) U[0,0] (death = 0.000))          17   \n",
       "56   F[0,0]((BLOOD_UREA_NITROGEN <= 0.000 & CREATIN...          13   \n",
       "57           G[0,0]((n_evts <= 0.000 -> LOS >= 0.000))          12   \n",
       "47              G[0,0]((hr >= 0.000 & Pulse >= 0.000))           3   \n",
       "172           ((af >= 0.000) U[0,0] (direct >= 0.000))           3   \n",
       "..                                                 ...         ...   \n",
       "188   F[0,0]((HEMOGLOBIN <= 0.000 & O2_Flow <= 0.000))           1   \n",
       "187             F[0,0]((dfa >= 0.000 & Mort >= 0.000))           1   \n",
       "186  ((O2_Flow <= 0.000) U[0,0] (PLATELET_COUNT >= ...           1   \n",
       "185  ((MET >= 0.000) U[0,0] (PARTIAL_THROMBOPLASTIN...           1   \n",
       "552  G[0,0]((death >= 0.000 -> WHITE_BLOOD_CELL_COU...           1   \n",
       "\n",
       "     Percent of Population  \n",
       "53                     1.0  \n",
       "56                     1.0  \n",
       "57                     1.0  \n",
       "47                     0.3  \n",
       "172                    0.3  \n",
       "..                     ...  \n",
       "188                    0.1  \n",
       "187                    0.1  \n",
       "186                    0.1  \n",
       "185                    0.1  \n",
       "552                    0.1  \n",
       "\n",
       "[553 rows x 3 columns]"
      ]
     },
     "execution_count": 3,
     "metadata": {},
     "output_type": "execute_result"
    }
   ],
   "source": [
    "# Load Client Rule Trees and Text Rule Structures, and get dataframe of rules and their counts\n",
    "clientTrees, clientRules, clientDF = cov.loadClientRules(popSize, clientFilename)\n",
    "clientDF"
   ]
  },
  {
   "cell_type": "code",
   "execution_count": 4,
   "metadata": {},
   "outputs": [],
   "source": [
    "clientDF.to_csv(\"Client Rules.csv\")"
   ]
  },
  {
   "cell_type": "markdown",
   "metadata": {},
   "source": [
    "## Load LDP Ruleset"
   ]
  },
  {
   "cell_type": "code",
   "execution_count": 5,
   "metadata": {
    "pycharm": {
     "name": "#%%\n"
    },
    "scrolled": true
   },
   "outputs": [
    {
     "data": {
      "text/html": [
       "<div>\n",
       "<style scoped>\n",
       "    .dataframe tbody tr th:only-of-type {\n",
       "        vertical-align: middle;\n",
       "    }\n",
       "\n",
       "    .dataframe tbody tr th {\n",
       "        vertical-align: top;\n",
       "    }\n",
       "\n",
       "    .dataframe thead th {\n",
       "        text-align: right;\n",
       "    }\n",
       "</style>\n",
       "<table border=\"1\" class=\"dataframe\">\n",
       "  <thead>\n",
       "    <tr style=\"text-align: right;\">\n",
       "      <th></th>\n",
       "      <th>Rule</th>\n",
       "      <th>Percent Count</th>\n",
       "    </tr>\n",
       "  </thead>\n",
       "  <tbody>\n",
       "    <tr>\n",
       "      <th>181</th>\n",
       "      <td>((s24_hr &gt; 0.000) U[0,0] (POTASSIUM &lt; 0.000))</td>\n",
       "      <td>1.0</td>\n",
       "    </tr>\n",
       "    <tr>\n",
       "      <th>149</th>\n",
       "      <td>G[0,0]((BLOOD_UREA_NITROGEN = 0.000 | ICU_Pt_D...</td>\n",
       "      <td>1.0</td>\n",
       "    </tr>\n",
       "    <tr>\n",
       "      <th>139</th>\n",
       "      <td>((death = 0.000) U[0,0] (n_edrk &lt; 0.000))</td>\n",
       "      <td>1.0</td>\n",
       "    </tr>\n",
       "    <tr>\n",
       "      <th>527</th>\n",
       "      <td>F[0,0]((direct &gt; 0.000 &amp; death = 0.000))</td>\n",
       "      <td>1.0</td>\n",
       "    </tr>\n",
       "    <tr>\n",
       "      <th>526</th>\n",
       "      <td>((MAGNESIUM &gt; 0.000) U[0,0] (death &gt; 0.000))</td>\n",
       "      <td>1.0</td>\n",
       "    </tr>\n",
       "    <tr>\n",
       "      <th>...</th>\n",
       "      <td>...</td>\n",
       "      <td>...</td>\n",
       "    </tr>\n",
       "    <tr>\n",
       "      <th>233</th>\n",
       "      <td>G[0,0]((Resp = 0.000 | Mort = 0.000))</td>\n",
       "      <td>0.5</td>\n",
       "    </tr>\n",
       "    <tr>\n",
       "      <th>232</th>\n",
       "      <td>((lds &gt; 0.000) U[0,0] (n_edrk &gt; 0.000))</td>\n",
       "      <td>0.5</td>\n",
       "    </tr>\n",
       "    <tr>\n",
       "      <th>231</th>\n",
       "      <td>((af = 0.000) U[0,0] (dfa = 0.000))</td>\n",
       "      <td>0.5</td>\n",
       "    </tr>\n",
       "    <tr>\n",
       "      <th>230</th>\n",
       "      <td>F[0,0]((ICU_Pt_Days &gt; 0.000 &amp; Mort = 0.000))</td>\n",
       "      <td>0.5</td>\n",
       "    </tr>\n",
       "    <tr>\n",
       "      <th>631</th>\n",
       "      <td>((LOS &gt; 0.000) U[0,0] (n_edrk &gt; 0.000))</td>\n",
       "      <td>0.5</td>\n",
       "    </tr>\n",
       "  </tbody>\n",
       "</table>\n",
       "<p>632 rows × 2 columns</p>\n",
       "</div>"
      ],
      "text/plain": [
       "                                                  Rule  Percent Count\n",
       "181      ((s24_hr > 0.000) U[0,0] (POTASSIUM < 0.000))            1.0\n",
       "149  G[0,0]((BLOOD_UREA_NITROGEN = 0.000 | ICU_Pt_D...            1.0\n",
       "139          ((death = 0.000) U[0,0] (n_edrk < 0.000))            1.0\n",
       "527           F[0,0]((direct > 0.000 & death = 0.000))            1.0\n",
       "526       ((MAGNESIUM > 0.000) U[0,0] (death > 0.000))            1.0\n",
       "..                                                 ...            ...\n",
       "233              G[0,0]((Resp = 0.000 | Mort = 0.000))            0.5\n",
       "232            ((lds > 0.000) U[0,0] (n_edrk > 0.000))            0.5\n",
       "231                ((af = 0.000) U[0,0] (dfa = 0.000))            0.5\n",
       "230       F[0,0]((ICU_Pt_Days > 0.000 & Mort = 0.000))            0.5\n",
       "631            ((LOS > 0.000) U[0,0] (n_edrk > 0.000))            0.5\n",
       "\n",
       "[632 rows x 2 columns]"
      ]
     },
     "execution_count": 5,
     "metadata": {},
     "output_type": "execute_result"
    }
   ],
   "source": [
    "ldpDF, ldpTrees, ldpRules = cov.loadLDPRuleset(ldpFilename)\n",
    "ldpDF"
   ]
  },
  {
   "cell_type": "markdown",
   "metadata": {},
   "source": [
    "## Get Table of Structure Counts - Count of rules above threshold"
   ]
  },
  {
   "cell_type": "code",
   "execution_count": 6,
   "metadata": {
    "pycharm": {
     "name": "#%%\n"
    },
    "scrolled": true
   },
   "outputs": [
    {
     "ename": "ValueError",
     "evalue": "too many values to unpack (expected 3)",
     "output_type": "error",
     "traceback": [
      "\u001b[0;31m---------------------------------------------------------------------------\u001b[0m",
      "\u001b[0;31mValueError\u001b[0m                                Traceback (most recent call last)",
      "\u001b[0;32m<ipython-input-6-1d23e2f04d46>\u001b[0m in \u001b[0;36m<module>\u001b[0;34m\u001b[0m\n\u001b[0;32m----> 1\u001b[0;31m \u001b[0mcovDF\u001b[0m\u001b[0;34m,\u001b[0m \u001b[0mcountDF\u001b[0m\u001b[0;34m,\u001b[0m \u001b[0mclientTrees\u001b[0m \u001b[0;34m=\u001b[0m \u001b[0mcov\u001b[0m\u001b[0;34m.\u001b[0m\u001b[0mgetCoverageTable\u001b[0m\u001b[0;34m(\u001b[0m\u001b[0mpopThresh\u001b[0m\u001b[0;34m,\u001b[0m \u001b[0mldpDF\u001b[0m\u001b[0;34m,\u001b[0m \u001b[0mldpTrees\u001b[0m\u001b[0;34m,\u001b[0m \u001b[0mclientDF\u001b[0m\u001b[0;34m)\u001b[0m\u001b[0;34m\u001b[0m\u001b[0;34m\u001b[0m\u001b[0m\n\u001b[0m\u001b[1;32m      2\u001b[0m \u001b[0mcountDF\u001b[0m\u001b[0;34m.\u001b[0m\u001b[0mto_csv\u001b[0m\u001b[0;34m(\u001b[0m\u001b[0mldpFilename\u001b[0m \u001b[0;34m+\u001b[0m \u001b[0;34m\"_CovCountDF.csv\"\u001b[0m\u001b[0;34m)\u001b[0m\u001b[0;34m\u001b[0m\u001b[0;34m\u001b[0m\u001b[0m\n\u001b[1;32m      3\u001b[0m \u001b[0;34m\u001b[0m\u001b[0m\n",
      "\u001b[0;31mValueError\u001b[0m: too many values to unpack (expected 3)"
     ]
    }
   ],
   "source": [
    "covDF, countDF, clientTrees = cov.getCoverageTable(popThresh, ldpDF, ldpTrees, clientDF)\n",
    "countDF.to_csv(ldpFilename + \"_CovCountDF.csv\")"
   ]
  },
  {
   "cell_type": "code",
   "execution_count": null,
   "metadata": {},
   "outputs": [],
   "source": [
    "covDF"
   ]
  },
  {
   "cell_type": "code",
   "execution_count": null,
   "metadata": {
    "pycharm": {
     "name": "#%%\n"
    },
    "scrolled": true
   },
   "outputs": [],
   "source": [
    "countDF"
   ]
  },
  {
   "cell_type": "markdown",
   "metadata": {},
   "source": [
    "## Get number of unique structure types"
   ]
  },
  {
   "cell_type": "code",
   "execution_count": null,
   "metadata": {
    "pycharm": {
     "name": "#%%\n"
    },
    "scrolled": true
   },
   "outputs": [],
   "source": [
    "structDF = cov.countUniqueStructuresNoVars(clientTrees, ldpTrees)"
   ]
  },
  {
   "cell_type": "code",
   "execution_count": null,
   "metadata": {
    "pycharm": {
     "name": "#%%\n"
    }
   },
   "outputs": [],
   "source": [
    "structDF"
   ]
  },
  {
   "cell_type": "code",
   "execution_count": null,
   "metadata": {
    "pycharm": {
     "name": "#%%\n"
    }
   },
   "outputs": [],
   "source": []
  },
  {
   "cell_type": "code",
   "execution_count": null,
   "metadata": {
    "pycharm": {
     "name": "#%%\n"
    }
   },
   "outputs": [],
   "source": []
  },
  {
   "cell_type": "markdown",
   "metadata": {},
   "source": [
    "## Compare LDP Rules Found vs the Percent Client Counts "
   ]
  },
  {
   "cell_type": "code",
   "execution_count": null,
   "metadata": {
    "pycharm": {
     "name": "#%%\n"
    }
   },
   "outputs": [],
   "source": [
    "#make list of rule counts x population percents\n",
    "\n",
    "lst = []\n",
    "for idx, row in clientDF.iterrows():\n",
    "    lst.extend([row['Percent of Population'] for i in range(row['Rule Count'])])\n",
    "    \n",
    "n_bins = 10\n",
    "\n",
    "plt.figure(figsize=(12, 7))\n",
    "plt.hist([lst, countDF['Client Count'].values], n_bins, density=True, histtype='bar',label=['Client', 'LDP'])\n",
    "plt.xlabel(\"Percentage of Population\")\n",
    "plt.ylabel(\"Number of Rules\")\n",
    "plt.yscale('log')\n",
    "plt.legend()\n"
   ]
  },
  {
   "cell_type": "code",
   "execution_count": null,
   "metadata": {
    "pycharm": {
     "name": "#%%\n"
    },
    "scrolled": true
   },
   "outputs": [],
   "source": [
    "base = pd.read_csv(\"../Results/Nonprivate/ICU/Base_CoverageSummaryDF.csv\")\n",
    "base"
   ]
  },
  {
   "cell_type": "code",
   "execution_count": 3,
   "metadata": {
    "pycharm": {
     "name": "#%%\n"
    }
   },
   "outputs": [
    {
     "ename": "NameError",
     "evalue": "name 'base' is not defined",
     "output_type": "error",
     "traceback": [
      "\u001b[0;31m---------------------------------------------------------------------------\u001b[0m",
      "\u001b[0;31mNameError\u001b[0m                                 Traceback (most recent call last)",
      "Cell \u001b[0;32mIn[3], line 1\u001b[0m\n\u001b[0;32m----> 1\u001b[0m rules \u001b[38;5;241m=\u001b[39m \u001b[43mbase\u001b[49m[\u001b[38;5;124m\"\u001b[39m\u001b[38;5;124mPercentage Found Rules\u001b[39m\u001b[38;5;124m\"\u001b[39m]\n\u001b[1;32m      2\u001b[0m queries \u001b[38;5;241m=\u001b[39m base[\u001b[38;5;124m\"\u001b[39m\u001b[38;5;124mQueries\u001b[39m\u001b[38;5;124m\"\u001b[39m]\n\u001b[1;32m      3\u001b[0m covRules \u001b[38;5;241m=\u001b[39m [\u001b[38;5;241m1.0\u001b[39m,\u001b[38;5;241m1.0\u001b[39m,\u001b[38;5;241m1.0\u001b[39m,\u001b[38;5;241m1.0\u001b[39m,\u001b[38;5;241m1.0\u001b[39m,\u001b[38;5;241m1.0\u001b[39m,\u001b[38;5;241m0.94\u001b[39m,\u001b[38;5;241m0.667\u001b[39m,\u001b[38;5;241m0.56\u001b[39m,\u001b[38;5;241m0.2\u001b[39m]\n",
      "\u001b[0;31mNameError\u001b[0m: name 'base' is not defined"
     ]
    }
   ],
   "source": [
    "rules = base[\"Percentage Found Rules\"]\n",
    "queries = base[\"Queries\"]\n",
    "covRules = [1.0,1.0,1.0,1.0,1.0,1.0,0.94,0.667,0.56,0.2]\n",
    "\n",
    "plt.figure(figsize=(12, 7))\n",
    "plt.title(\"Rule Coverage Query Analysis\")\n",
    "# plt.axhline(y=999, color='r', linestyle='-', label='Total Client Rules')\n",
    "plt.plot(queries, rules, label='Baseline')\n",
    "plt.plot(queries, covRules, label='Improved')\n",
    "# plt.plot(queriesCov, rulesCov, label='Coverage')\n",
    "plt.xlabel(\"Number of Queries\")\n",
    "plt.ylabel(\"Number of Rules\")\n",
    "plt.legend()"
   ]
  },
  {
   "cell_type": "code",
   "execution_count": null,
   "metadata": {},
   "outputs": [],
   "source": [
    "#Plot Structures\n",
    "structs = base[\"Percentage Found Structures\"]\n",
    "covStructs = [1.0,1.0,1.0,1.0,1.0,1.0,1,1,0.955,0.8]\n",
    "\n",
    "plt.figure(figsize=(12, 7))\n",
    "plt.title(\"Structure Coverage Query Analysis\")\n",
    "# plt.axhline(y=999, color='r', linestyle='-', label='Total Client Rules')\n",
    "plt.plot(queries, structs, label='Baseline')\n",
    "plt.plot(queries, covStructs, label='Improved')\n",
    "# plt.plot(queriesCov, rulesCov, label='Coverage')\n",
    "plt.xlabel(\"Number of Queries\")\n",
    "plt.ylabel(\"Number of Structures\")\n",
    "plt.legend()"
   ]
  },
  {
   "cell_type": "code",
   "execution_count": null,
   "metadata": {
    "pycharm": {
     "name": "#%%\n"
    }
   },
   "outputs": [],
   "source": [
    "eps = [1000, 100, 10, 1, 0.1, 0.01, 0.001]\n",
    "basic = [0.340425532,0.357142857,0.409090909,0.406779661,0.35,0.393939394,0.409090909]\n",
    "one = [0.58, 0.475, 0.482758621, 0.433, 0.403846154, 0.4615, 0.45826087]\n",
    "epsDivQueries = [0.714, 0.75, 0.6210526316, 0.65, 0.6, 0.25, 0.111111111]\n",
    "epsOnly = [0.45, 0.45, 0.294736842, 0.35, 0.328571429, 0.181818182, 0.272727273]\n",
    "\n",
    "# epsOnly = [0, 0, 0.394736842, 0.5, 0.428571429, 0.181818182, 0.272727273]\n",
    "\n",
    "plt.figure(figsize=(12, 7))\n",
    "plt.title(\"Comparing Cp Methods- Rule Precision\")\n",
    "plt.plot(eps, basic, label='Cp = 1/sqrt(2)')\n",
    "plt.plot(eps, one, label='Cp = 1')\n",
    "plt.plot(eps, epsDivQueries, label='Cp = epsilon / queries')\n",
    "plt.plot(eps, epsOnly, label='Cp = epsilon')\n",
    "plt.xlabel(\"Epsilon\")\n",
    "plt.xscale('log')\n",
    "plt.ylabel(\"Rule Precision (True / True + Non rules)\")\n",
    "plt.legend()"
   ]
  },
  {
   "cell_type": "code",
   "execution_count": null,
   "metadata": {
    "pycharm": {
     "name": "#%%\n"
    }
   },
   "outputs": [],
   "source": [
    "eps = [1000, 100, 10, 1, 0.1, 0.01, 0.001]\n",
    "basic = [16, 10, 18, 24, 16, 13, 18]\n",
    "one = [25, 19, 14, 13, 13, 12, 11]\n",
    "epsDivQueries = [5, 3, 4, 4, 3, 1, 1]\n",
    "epsOnly = [1, 1 ,3, 2, 3, 2, 3]\n",
    "\n",
    "\n",
    "plt.figure(figsize=(12, 7))\n",
    "plt.title(\"Comparing Cp Methods- Total Found Rules\")\n",
    "plt.plot(eps, basic, label='Cp = 1/sqrt(2)')\n",
    "plt.plot(eps, one, label='Cp = 1')\n",
    "plt.plot(eps, epsDivQueries, label='Cp = epsilon / queries')\n",
    "plt.plot(eps, epsOnly, label='Cp = epsilon')\n",
    "\n",
    "\n",
    "plt.xlabel(\"Epsilon\")\n",
    "plt.xscale('log')\n",
    "plt.ylabel(\"Total Found Rules\")\n",
    "plt.legend()"
   ]
  },
  {
   "cell_type": "code",
   "execution_count": null,
   "metadata": {
    "pycharm": {
     "name": "#%%\n"
    }
   },
   "outputs": [],
   "source": [
    "eps = [1000, 100, 10, 1, 0.1, 0.01, 0.001]\n",
    "basic = [31, 18, 26, 35, 19, 20, 26]\n",
    "one = [18, 21, 15, 22, 17, 14, 13] \n",
    "epsDivQueries = [2, 1, 2, 1, 2, 3, 8]\n",
    "epsOnly = [3, 2, 5, 3, 5, 9, 9]\n",
    "\n",
    "\n",
    "plt.figure(figsize=(12, 7))\n",
    "plt.title(\"Comparing Cp Methods- Total Non Rules\")\n",
    "plt.plot(eps, basic, label='Cp = 1/sqrt(2)')\n",
    "plt.plot(eps, one, label='Cp = 1')\n",
    "plt.plot(eps, epsDivQueries, label='Cp = epsilon / queries')\n",
    "plt.plot(eps, epsOnly, label='Cp = epsilon')\n",
    "\n",
    "\n",
    "plt.xlabel(\"Epsilon\")\n",
    "plt.xscale('log')\n",
    "plt.ylabel(\"Total Non Rules\")\n",
    "plt.legend()"
   ]
  },
  {
   "cell_type": "code",
   "execution_count": null,
   "metadata": {},
   "outputs": [],
   "source": [
    "eps = [1000, 100, 10, 1, 0.1, 0.01, 0.001]\n",
    "basic = [0.922222222,0.722222222,0.855555556,0.855555556,0.855555556,0.722222222,0.655555556]\n",
    "one = [0.855555556,0.922222222,0.922222222,0.922222222,0.922222222,0.788888889,0.922222222] \n",
    "epsDivQueries = [0.988888889,0.988888889,0.922222222,0.988888889,0.922222222,0.855555556, 0.722222222]\n",
    "epsOnly = [0.988888889,0.988888889,0.988888889,0.988888889, 0.855555556,0.988888889,0.788888889 ]\n",
    "\n",
    "\n",
    "plt.figure(figsize=(12, 7))\n",
    "plt.title(\"Rule Quality\")\n",
    "plt.plot(eps, basic, label='Cp = 1/sqrt(2)')\n",
    "plt.plot(eps, one, label='Cp = 1')\n",
    "plt.plot(eps, epsDivQueries, label='Cp = epsilon / queries')\n",
    "plt.plot(eps, epsOnly, label='Cp = epsilon')\n",
    "\n",
    "\n",
    "plt.xlabel(\"Epsilon\")\n",
    "plt.xscale('log')\n",
    "plt.ylabel(\"Precision\")\n",
    "plt.legend()"
   ]
  },
  {
   "cell_type": "code",
   "execution_count": 7,
   "metadata": {},
   "outputs": [
    {
     "data": {
      "text/plain": [
       "<matplotlib.legend.Legend at 0x2afcb28b0>"
      ]
     },
     "execution_count": 7,
     "metadata": {},
     "output_type": "execute_result"
    },
    {
     "data": {
      "image/png": "[encoded data removed]",
      "text/plain": [
       "<Figure size 1200x700 with 1 Axes>"
      ]
     },
     "metadata": {},
     "output_type": "display_data"
    }
   ],
   "source": [
    "eps = [1000, 100, 10, 1, 0.1, 0.01, 0.001]\n",
    "basic = [0.856164384,\n",
    "0.856164384,\n",
    "0.876712329,\n",
    "0.856164384,\n",
    "0.856164384,\n",
    "0.897260274,\n",
    "0.856164384]\n",
    "one = [0.876712329,\n",
    "0.876712329,\n",
    "0.856164384,\n",
    "0.856164384,\n",
    "0.876712329,\n",
    "0.928082192,\n",
    "0.856164384] \n",
    "epsDivQueries = [0.856164384,\n",
    "0.856164384,\n",
    "0.856164384,\n",
    "0.897260274,\n",
    "0.876712329,\n",
    "0.856164384,\n",
    "0.856164384]\n",
    "epsOnly = [0.928082192,\n",
    "0.856164384,\n",
    "0.897260274,\n",
    "0.856164384,\n",
    "0.856164384,\n",
    "0.856164384,\n",
    "0.856164384]\n",
    "\n",
    "\n",
    "plt.figure(figsize=(12, 7))\n",
    "plt.title(\"Rule Quality\")\n",
    "plt.plot(eps, basic, label='Cp = 1/sqrt(2)')\n",
    "plt.plot(eps, one, label='Cp = 1')\n",
    "plt.plot(eps, epsDivQueries, label='Cp = epsilon / queries')\n",
    "plt.plot(eps, epsOnly, label='Cp = epsilon')\n",
    "\n",
    "\n",
    "plt.xlabel(\"Epsilon\")\n",
    "plt.xscale('log')\n",
    "plt.ylabel(\"Accuracy\")\n",
    "plt.legend()"
   ]
  },
  {
   "cell_type": "code",
   "execution_count": null,
   "metadata": {},
   "outputs": [],
   "source": [
    "df = pd.read_csv('../Results/Private/ICU/Base_CoverageSummaryDF.csv')\n",
    "df"
   ]
  },
  {
   "cell_type": "code",
   "execution_count": null,
   "metadata": {},
   "outputs": [],
   "source": [
    "df['Epsilon']"
   ]
  },
  {
   "cell_type": "code",
   "execution_count": null,
   "metadata": {},
   "outputs": [],
   "source": [
    "cov.plotQueryAnalysisPrivate(df, \"test\")"
   ]
  },
  {
   "cell_type": "code",
   "execution_count": null,
   "metadata": {},
   "outputs": [],
   "source": [
    "import RuleQuality as RQ\n",
    "clientCM = pd.read_csv('../Results/NonPrivate/ICU/Base_Client_CM.csv')\n",
    "clientCM"
   ]
  },
  {
   "cell_type": "code",
   "execution_count": null,
   "metadata": {},
   "outputs": [],
   "source": [
    "df = pd.read_csv('../Results/Private/ICU/Base_RuleQualitySummaryDF.csv')\n",
    "df"
   ]
  },
  {
   "cell_type": "code",
   "execution_count": null,
   "metadata": {},
   "outputs": [],
   "source": [
    "RQ.plotPrivatePatientCM(df, clientCM, \"test\")"
   ]
  },
  {
   "cell_type": "markdown",
   "metadata": {},
   "source": [
    "## Complexity Analysis"
   ]
  },
  {
   "cell_type": "code",
   "execution_count": null,
   "metadata": {
    "pycharm": {
     "name": "#%%\n"
    }
   },
   "outputs": [],
   "source": [
    "k = 4 #k-ary tree\n",
    "h = 17 #height\n",
    "k**h"
   ]
  },
  {
   "cell_type": "code",
   "execution_count": null,
   "metadata": {
    "pycharm": {
     "name": "#%%\n"
    }
   },
   "outputs": [],
   "source": []
  },
  {
   "cell_type": "code",
   "execution_count": null,
   "metadata": {
    "pycharm": {
     "name": "#%%\n"
    }
   },
   "outputs": [],
   "source": []
  },
  {
   "cell_type": "code",
   "execution_count": null,
   "metadata": {
    "pycharm": {
     "name": "#%%\n"
    }
   },
   "outputs": [],
   "source": []
  },
  {
   "cell_type": "code",
   "execution_count": 5,
   "metadata": {
    "pycharm": {
     "name": "#%%\n"
    }
   },
   "outputs": [
    {
     "ename": "FileNotFoundError",
     "evalue": "[Errno 2] No such file or directory: '../Results/Private/ICU/Baseline/Coverage/CovSumSmol.csv'",
     "output_type": "error",
     "traceback": [
      "\u001b[0;31m---------------------------------------------------------------------------\u001b[0m",
      "\u001b[0;31mFileNotFoundError\u001b[0m                         Traceback (most recent call last)",
      "Cell \u001b[0;32mIn[5], line 1\u001b[0m\n\u001b[0;32m----> 1\u001b[0m df \u001b[38;5;241m=\u001b[39m \u001b[43mpd\u001b[49m\u001b[38;5;241;43m.\u001b[39;49m\u001b[43mread_csv\u001b[49m\u001b[43m(\u001b[49m\u001b[38;5;124;43m'\u001b[39;49m\u001b[38;5;124;43m../Results/Private/ICU/Baseline/Coverage/CovSumSmol.csv\u001b[39;49m\u001b[38;5;124;43m'\u001b[39;49m\u001b[43m)\u001b[49m\n\u001b[1;32m      2\u001b[0m df\n",
      "File \u001b[0;32m~/PycharmProjects/DifPrivSTLLearning/venv/lib/python3.8/site-packages/pandas/util/_decorators.py:211\u001b[0m, in \u001b[0;36mdeprecate_kwarg.<locals>._deprecate_kwarg.<locals>.wrapper\u001b[0;34m(*args, **kwargs)\u001b[0m\n\u001b[1;32m    209\u001b[0m     \u001b[38;5;28;01melse\u001b[39;00m:\n\u001b[1;32m    210\u001b[0m         kwargs[new_arg_name] \u001b[38;5;241m=\u001b[39m new_arg_value\n\u001b[0;32m--> 211\u001b[0m \u001b[38;5;28;01mreturn\u001b[39;00m \u001b[43mfunc\u001b[49m\u001b[43m(\u001b[49m\u001b[38;5;241;43m*\u001b[39;49m\u001b[43margs\u001b[49m\u001b[43m,\u001b[49m\u001b[43m \u001b[49m\u001b[38;5;241;43m*\u001b[39;49m\u001b[38;5;241;43m*\u001b[39;49m\u001b[43mkwargs\u001b[49m\u001b[43m)\u001b[49m\n",
      "File \u001b[0;32m~/PycharmProjects/DifPrivSTLLearning/venv/lib/python3.8/site-packages/pandas/util/_decorators.py:331\u001b[0m, in \u001b[0;36mdeprecate_nonkeyword_arguments.<locals>.decorate.<locals>.wrapper\u001b[0;34m(*args, **kwargs)\u001b[0m\n\u001b[1;32m    325\u001b[0m \u001b[38;5;28;01mif\u001b[39;00m \u001b[38;5;28mlen\u001b[39m(args) \u001b[38;5;241m>\u001b[39m num_allow_args:\n\u001b[1;32m    326\u001b[0m     warnings\u001b[38;5;241m.\u001b[39mwarn(\n\u001b[1;32m    327\u001b[0m         msg\u001b[38;5;241m.\u001b[39mformat(arguments\u001b[38;5;241m=\u001b[39m_format_argument_list(allow_args)),\n\u001b[1;32m    328\u001b[0m         \u001b[38;5;167;01mFutureWarning\u001b[39;00m,\n\u001b[1;32m    329\u001b[0m         stacklevel\u001b[38;5;241m=\u001b[39mfind_stack_level(),\n\u001b[1;32m    330\u001b[0m     )\n\u001b[0;32m--> 331\u001b[0m \u001b[38;5;28;01mreturn\u001b[39;00m \u001b[43mfunc\u001b[49m\u001b[43m(\u001b[49m\u001b[38;5;241;43m*\u001b[39;49m\u001b[43margs\u001b[49m\u001b[43m,\u001b[49m\u001b[43m \u001b[49m\u001b[38;5;241;43m*\u001b[39;49m\u001b[38;5;241;43m*\u001b[39;49m\u001b[43mkwargs\u001b[49m\u001b[43m)\u001b[49m\n",
      "File \u001b[0;32m~/PycharmProjects/DifPrivSTLLearning/venv/lib/python3.8/site-packages/pandas/io/parsers/readers.py:950\u001b[0m, in \u001b[0;36mread_csv\u001b[0;34m(filepath_or_buffer, sep, delimiter, header, names, index_col, usecols, squeeze, prefix, mangle_dupe_cols, dtype, engine, converters, true_values, false_values, skipinitialspace, skiprows, skipfooter, nrows, na_values, keep_default_na, na_filter, verbose, skip_blank_lines, parse_dates, infer_datetime_format, keep_date_col, date_parser, dayfirst, cache_dates, iterator, chunksize, compression, thousands, decimal, lineterminator, quotechar, quoting, doublequote, escapechar, comment, encoding, encoding_errors, dialect, error_bad_lines, warn_bad_lines, on_bad_lines, delim_whitespace, low_memory, memory_map, float_precision, storage_options)\u001b[0m\n\u001b[1;32m    935\u001b[0m kwds_defaults \u001b[38;5;241m=\u001b[39m _refine_defaults_read(\n\u001b[1;32m    936\u001b[0m     dialect,\n\u001b[1;32m    937\u001b[0m     delimiter,\n\u001b[0;32m   (...)\u001b[0m\n\u001b[1;32m    946\u001b[0m     defaults\u001b[38;5;241m=\u001b[39m{\u001b[38;5;124m\"\u001b[39m\u001b[38;5;124mdelimiter\u001b[39m\u001b[38;5;124m\"\u001b[39m: \u001b[38;5;124m\"\u001b[39m\u001b[38;5;124m,\u001b[39m\u001b[38;5;124m\"\u001b[39m},\n\u001b[1;32m    947\u001b[0m )\n\u001b[1;32m    948\u001b[0m kwds\u001b[38;5;241m.\u001b[39mupdate(kwds_defaults)\n\u001b[0;32m--> 950\u001b[0m \u001b[38;5;28;01mreturn\u001b[39;00m \u001b[43m_read\u001b[49m\u001b[43m(\u001b[49m\u001b[43mfilepath_or_buffer\u001b[49m\u001b[43m,\u001b[49m\u001b[43m \u001b[49m\u001b[43mkwds\u001b[49m\u001b[43m)\u001b[49m\n",
      "File \u001b[0;32m~/PycharmProjects/DifPrivSTLLearning/venv/lib/python3.8/site-packages/pandas/io/parsers/readers.py:605\u001b[0m, in \u001b[0;36m_read\u001b[0;34m(filepath_or_buffer, kwds)\u001b[0m\n\u001b[1;32m    602\u001b[0m _validate_names(kwds\u001b[38;5;241m.\u001b[39mget(\u001b[38;5;124m\"\u001b[39m\u001b[38;5;124mnames\u001b[39m\u001b[38;5;124m\"\u001b[39m, \u001b[38;5;28;01mNone\u001b[39;00m))\n\u001b[1;32m    604\u001b[0m \u001b[38;5;66;03m# Create the parser.\u001b[39;00m\n\u001b[0;32m--> 605\u001b[0m parser \u001b[38;5;241m=\u001b[39m \u001b[43mTextFileReader\u001b[49m\u001b[43m(\u001b[49m\u001b[43mfilepath_or_buffer\u001b[49m\u001b[43m,\u001b[49m\u001b[43m \u001b[49m\u001b[38;5;241;43m*\u001b[39;49m\u001b[38;5;241;43m*\u001b[39;49m\u001b[43mkwds\u001b[49m\u001b[43m)\u001b[49m\n\u001b[1;32m    607\u001b[0m \u001b[38;5;28;01mif\u001b[39;00m chunksize \u001b[38;5;129;01mor\u001b[39;00m iterator:\n\u001b[1;32m    608\u001b[0m     \u001b[38;5;28;01mreturn\u001b[39;00m parser\n",
      "File \u001b[0;32m~/PycharmProjects/DifPrivSTLLearning/venv/lib/python3.8/site-packages/pandas/io/parsers/readers.py:1442\u001b[0m, in \u001b[0;36mTextFileReader.__init__\u001b[0;34m(self, f, engine, **kwds)\u001b[0m\n\u001b[1;32m   1439\u001b[0m     \u001b[38;5;28mself\u001b[39m\u001b[38;5;241m.\u001b[39moptions[\u001b[38;5;124m\"\u001b[39m\u001b[38;5;124mhas_index_names\u001b[39m\u001b[38;5;124m\"\u001b[39m] \u001b[38;5;241m=\u001b[39m kwds[\u001b[38;5;124m\"\u001b[39m\u001b[38;5;124mhas_index_names\u001b[39m\u001b[38;5;124m\"\u001b[39m]\n\u001b[1;32m   1441\u001b[0m \u001b[38;5;28mself\u001b[39m\u001b[38;5;241m.\u001b[39mhandles: IOHandles \u001b[38;5;241m|\u001b[39m \u001b[38;5;28;01mNone\u001b[39;00m \u001b[38;5;241m=\u001b[39m \u001b[38;5;28;01mNone\u001b[39;00m\n\u001b[0;32m-> 1442\u001b[0m \u001b[38;5;28mself\u001b[39m\u001b[38;5;241m.\u001b[39m_engine \u001b[38;5;241m=\u001b[39m \u001b[38;5;28;43mself\u001b[39;49m\u001b[38;5;241;43m.\u001b[39;49m\u001b[43m_make_engine\u001b[49m\u001b[43m(\u001b[49m\u001b[43mf\u001b[49m\u001b[43m,\u001b[49m\u001b[43m \u001b[49m\u001b[38;5;28;43mself\u001b[39;49m\u001b[38;5;241;43m.\u001b[39;49m\u001b[43mengine\u001b[49m\u001b[43m)\u001b[49m\n",
      "File \u001b[0;32m~/PycharmProjects/DifPrivSTLLearning/venv/lib/python3.8/site-packages/pandas/io/parsers/readers.py:1735\u001b[0m, in \u001b[0;36mTextFileReader._make_engine\u001b[0;34m(self, f, engine)\u001b[0m\n\u001b[1;32m   1733\u001b[0m     \u001b[38;5;28;01mif\u001b[39;00m \u001b[38;5;124m\"\u001b[39m\u001b[38;5;124mb\u001b[39m\u001b[38;5;124m\"\u001b[39m \u001b[38;5;129;01mnot\u001b[39;00m \u001b[38;5;129;01min\u001b[39;00m mode:\n\u001b[1;32m   1734\u001b[0m         mode \u001b[38;5;241m+\u001b[39m\u001b[38;5;241m=\u001b[39m \u001b[38;5;124m\"\u001b[39m\u001b[38;5;124mb\u001b[39m\u001b[38;5;124m\"\u001b[39m\n\u001b[0;32m-> 1735\u001b[0m \u001b[38;5;28mself\u001b[39m\u001b[38;5;241m.\u001b[39mhandles \u001b[38;5;241m=\u001b[39m \u001b[43mget_handle\u001b[49m\u001b[43m(\u001b[49m\n\u001b[1;32m   1736\u001b[0m \u001b[43m    \u001b[49m\u001b[43mf\u001b[49m\u001b[43m,\u001b[49m\n\u001b[1;32m   1737\u001b[0m \u001b[43m    \u001b[49m\u001b[43mmode\u001b[49m\u001b[43m,\u001b[49m\n\u001b[1;32m   1738\u001b[0m \u001b[43m    \u001b[49m\u001b[43mencoding\u001b[49m\u001b[38;5;241;43m=\u001b[39;49m\u001b[38;5;28;43mself\u001b[39;49m\u001b[38;5;241;43m.\u001b[39;49m\u001b[43moptions\u001b[49m\u001b[38;5;241;43m.\u001b[39;49m\u001b[43mget\u001b[49m\u001b[43m(\u001b[49m\u001b[38;5;124;43m\"\u001b[39;49m\u001b[38;5;124;43mencoding\u001b[39;49m\u001b[38;5;124;43m\"\u001b[39;49m\u001b[43m,\u001b[49m\u001b[43m \u001b[49m\u001b[38;5;28;43;01mNone\u001b[39;49;00m\u001b[43m)\u001b[49m\u001b[43m,\u001b[49m\n\u001b[1;32m   1739\u001b[0m \u001b[43m    \u001b[49m\u001b[43mcompression\u001b[49m\u001b[38;5;241;43m=\u001b[39;49m\u001b[38;5;28;43mself\u001b[39;49m\u001b[38;5;241;43m.\u001b[39;49m\u001b[43moptions\u001b[49m\u001b[38;5;241;43m.\u001b[39;49m\u001b[43mget\u001b[49m\u001b[43m(\u001b[49m\u001b[38;5;124;43m\"\u001b[39;49m\u001b[38;5;124;43mcompression\u001b[39;49m\u001b[38;5;124;43m\"\u001b[39;49m\u001b[43m,\u001b[49m\u001b[43m \u001b[49m\u001b[38;5;28;43;01mNone\u001b[39;49;00m\u001b[43m)\u001b[49m\u001b[43m,\u001b[49m\n\u001b[1;32m   1740\u001b[0m \u001b[43m    \u001b[49m\u001b[43mmemory_map\u001b[49m\u001b[38;5;241;43m=\u001b[39;49m\u001b[38;5;28;43mself\u001b[39;49m\u001b[38;5;241;43m.\u001b[39;49m\u001b[43moptions\u001b[49m\u001b[38;5;241;43m.\u001b[39;49m\u001b[43mget\u001b[49m\u001b[43m(\u001b[49m\u001b[38;5;124;43m\"\u001b[39;49m\u001b[38;5;124;43mmemory_map\u001b[39;49m\u001b[38;5;124;43m\"\u001b[39;49m\u001b[43m,\u001b[49m\u001b[43m \u001b[49m\u001b[38;5;28;43;01mFalse\u001b[39;49;00m\u001b[43m)\u001b[49m\u001b[43m,\u001b[49m\n\u001b[1;32m   1741\u001b[0m \u001b[43m    \u001b[49m\u001b[43mis_text\u001b[49m\u001b[38;5;241;43m=\u001b[39;49m\u001b[43mis_text\u001b[49m\u001b[43m,\u001b[49m\n\u001b[1;32m   1742\u001b[0m \u001b[43m    \u001b[49m\u001b[43merrors\u001b[49m\u001b[38;5;241;43m=\u001b[39;49m\u001b[38;5;28;43mself\u001b[39;49m\u001b[38;5;241;43m.\u001b[39;49m\u001b[43moptions\u001b[49m\u001b[38;5;241;43m.\u001b[39;49m\u001b[43mget\u001b[49m\u001b[43m(\u001b[49m\u001b[38;5;124;43m\"\u001b[39;49m\u001b[38;5;124;43mencoding_errors\u001b[39;49m\u001b[38;5;124;43m\"\u001b[39;49m\u001b[43m,\u001b[49m\u001b[43m \u001b[49m\u001b[38;5;124;43m\"\u001b[39;49m\u001b[38;5;124;43mstrict\u001b[39;49m\u001b[38;5;124;43m\"\u001b[39;49m\u001b[43m)\u001b[49m\u001b[43m,\u001b[49m\n\u001b[1;32m   1743\u001b[0m \u001b[43m    \u001b[49m\u001b[43mstorage_options\u001b[49m\u001b[38;5;241;43m=\u001b[39;49m\u001b[38;5;28;43mself\u001b[39;49m\u001b[38;5;241;43m.\u001b[39;49m\u001b[43moptions\u001b[49m\u001b[38;5;241;43m.\u001b[39;49m\u001b[43mget\u001b[49m\u001b[43m(\u001b[49m\u001b[38;5;124;43m\"\u001b[39;49m\u001b[38;5;124;43mstorage_options\u001b[39;49m\u001b[38;5;124;43m\"\u001b[39;49m\u001b[43m,\u001b[49m\u001b[43m \u001b[49m\u001b[38;5;28;43;01mNone\u001b[39;49;00m\u001b[43m)\u001b[49m\u001b[43m,\u001b[49m\n\u001b[1;32m   1744\u001b[0m \u001b[43m\u001b[49m\u001b[43m)\u001b[49m\n\u001b[1;32m   1745\u001b[0m \u001b[38;5;28;01massert\u001b[39;00m \u001b[38;5;28mself\u001b[39m\u001b[38;5;241m.\u001b[39mhandles \u001b[38;5;129;01mis\u001b[39;00m \u001b[38;5;129;01mnot\u001b[39;00m \u001b[38;5;28;01mNone\u001b[39;00m\n\u001b[1;32m   1746\u001b[0m f \u001b[38;5;241m=\u001b[39m \u001b[38;5;28mself\u001b[39m\u001b[38;5;241m.\u001b[39mhandles\u001b[38;5;241m.\u001b[39mhandle\n",
      "File \u001b[0;32m~/PycharmProjects/DifPrivSTLLearning/venv/lib/python3.8/site-packages/pandas/io/common.py:856\u001b[0m, in \u001b[0;36mget_handle\u001b[0;34m(path_or_buf, mode, encoding, compression, memory_map, is_text, errors, storage_options)\u001b[0m\n\u001b[1;32m    851\u001b[0m \u001b[38;5;28;01melif\u001b[39;00m \u001b[38;5;28misinstance\u001b[39m(handle, \u001b[38;5;28mstr\u001b[39m):\n\u001b[1;32m    852\u001b[0m     \u001b[38;5;66;03m# Check whether the filename is to be opened in binary mode.\u001b[39;00m\n\u001b[1;32m    853\u001b[0m     \u001b[38;5;66;03m# Binary mode does not support 'encoding' and 'newline'.\u001b[39;00m\n\u001b[1;32m    854\u001b[0m     \u001b[38;5;28;01mif\u001b[39;00m ioargs\u001b[38;5;241m.\u001b[39mencoding \u001b[38;5;129;01mand\u001b[39;00m \u001b[38;5;124m\"\u001b[39m\u001b[38;5;124mb\u001b[39m\u001b[38;5;124m\"\u001b[39m \u001b[38;5;129;01mnot\u001b[39;00m \u001b[38;5;129;01min\u001b[39;00m ioargs\u001b[38;5;241m.\u001b[39mmode:\n\u001b[1;32m    855\u001b[0m         \u001b[38;5;66;03m# Encoding\u001b[39;00m\n\u001b[0;32m--> 856\u001b[0m         handle \u001b[38;5;241m=\u001b[39m \u001b[38;5;28;43mopen\u001b[39;49m\u001b[43m(\u001b[49m\n\u001b[1;32m    857\u001b[0m \u001b[43m            \u001b[49m\u001b[43mhandle\u001b[49m\u001b[43m,\u001b[49m\n\u001b[1;32m    858\u001b[0m \u001b[43m            \u001b[49m\u001b[43mioargs\u001b[49m\u001b[38;5;241;43m.\u001b[39;49m\u001b[43mmode\u001b[49m\u001b[43m,\u001b[49m\n\u001b[1;32m    859\u001b[0m \u001b[43m            \u001b[49m\u001b[43mencoding\u001b[49m\u001b[38;5;241;43m=\u001b[39;49m\u001b[43mioargs\u001b[49m\u001b[38;5;241;43m.\u001b[39;49m\u001b[43mencoding\u001b[49m\u001b[43m,\u001b[49m\n\u001b[1;32m    860\u001b[0m \u001b[43m            \u001b[49m\u001b[43merrors\u001b[49m\u001b[38;5;241;43m=\u001b[39;49m\u001b[43merrors\u001b[49m\u001b[43m,\u001b[49m\n\u001b[1;32m    861\u001b[0m \u001b[43m            \u001b[49m\u001b[43mnewline\u001b[49m\u001b[38;5;241;43m=\u001b[39;49m\u001b[38;5;124;43m\"\u001b[39;49m\u001b[38;5;124;43m\"\u001b[39;49m\u001b[43m,\u001b[49m\n\u001b[1;32m    862\u001b[0m \u001b[43m        \u001b[49m\u001b[43m)\u001b[49m\n\u001b[1;32m    863\u001b[0m     \u001b[38;5;28;01melse\u001b[39;00m:\n\u001b[1;32m    864\u001b[0m         \u001b[38;5;66;03m# Binary mode\u001b[39;00m\n\u001b[1;32m    865\u001b[0m         handle \u001b[38;5;241m=\u001b[39m \u001b[38;5;28mopen\u001b[39m(handle, ioargs\u001b[38;5;241m.\u001b[39mmode)\n",
      "\u001b[0;31mFileNotFoundError\u001b[0m: [Errno 2] No such file or directory: '../Results/Private/ICU/Baseline/Coverage/CovSumSmol.csv'"
     ]
    }
   ],
   "source": [
    "df = pd.read_csv('../Results/Private/ICU/Baseline/Coverage/CovSumSmol.csv')\n",
    "df"
   ]
  },
  {
   "cell_type": "code",
   "execution_count": 6,
   "metadata": {
    "pycharm": {
     "name": "#%%\n"
    }
   },
   "outputs": [
    {
     "ename": "NameError",
     "evalue": "name 'df' is not defined",
     "output_type": "error",
     "traceback": [
      "\u001b[0;31m---------------------------------------------------------------------------\u001b[0m",
      "\u001b[0;31mNameError\u001b[0m                                 Traceback (most recent call last)",
      "Cell \u001b[0;32mIn[6], line 1\u001b[0m\n\u001b[0;32m----> 1\u001b[0m qDF\u001b[38;5;241m=\u001b[39m \u001b[43mdf\u001b[49m\n\u001b[1;32m      2\u001b[0m methods \u001b[38;5;241m=\u001b[39m \u001b[38;5;28msorted\u001b[39m(\u001b[38;5;28mlist\u001b[39m(\u001b[38;5;28mset\u001b[39m(qDF[\u001b[38;5;124m'\u001b[39m\u001b[38;5;124mCp\u001b[39m\u001b[38;5;124m'\u001b[39m])))\n\u001b[1;32m      3\u001b[0m epsilons \u001b[38;5;241m=\u001b[39m \u001b[38;5;28msorted\u001b[39m(\u001b[38;5;28mlist\u001b[39m(\u001b[38;5;28mset\u001b[39m(qDF[\u001b[38;5;124m'\u001b[39m\u001b[38;5;124mEpsilon\u001b[39m\u001b[38;5;124m'\u001b[39m])))\n",
      "\u001b[0;31mNameError\u001b[0m: name 'df' is not defined"
     ]
    }
   ],
   "source": [
    "qDF= df\n",
    "methods = sorted(list(set(qDF['Cp'])))\n",
    "epsilons = sorted(list(set(qDF['Epsilon'])))\n",
    "\n",
    "# plt.figure(figsize=(12, 7))\n",
    "fig, axes = plt.subplots(figsize=(20,7), nrows=1, ncols=len(methods))\n",
    "# plt.title(\"Rule Summary for \" + str(q) + \" Queries\")\n",
    "ax_position = 0\n",
    "for concept in methods:\n",
    "    # idx = pd.IndexSlice\n",
    "    # subset = df.loc[idx[[concept], :],\n",
    "    #                 ['Found Rules', 'Non Rules']]\n",
    "    subset = qDF.loc[qDF['Cp'] == concept][['Found Rules', 'Non Rules']]\n",
    "    # print(subset.info())\n",
    "    # subset = subset.groupby(\n",
    "    #     subset.index.get_level_values('datetime').year).sum()\n",
    "\n",
    "    # ax = subset.plot(kind=\"bar\", stacked=True, colormap=\"Blues\",ax=axes[ax_position])\n",
    "    ax = subset.plot(kind=\"bar\", stacked=True, ax=axes[ax_position])\n",
    "\n",
    "\n",
    "    if concept == methods[0]:\n",
    "        ax.set_ylabel(\"Total Rules\")\n",
    "    if concept == methods[-1]:\n",
    "        ax.legend(['Found Rules', 'Non Rules'], loc='upper right')\n",
    "\n",
    "    ax.set_title(\"Cp: \" + concept)\n",
    "    ax.set_xlabel(\"Epsilon\")\n",
    "    # ax.set_title(\"Concept \\\"\" + concept + \"\\\"\", fontsize=30, alpha=1.0)\n",
    "    # ax.set_ylabel(\"Total Rules\", fontsize=30)\n",
    "    # ax.set_xlabel(\"Concept \\\"\" + concept + \"\\\"\", fontsize=30, alpha=0.0)\n",
    "\n",
    "    ax.set_ylim(0, 80)\n",
    "    # ax.set_yticks(range(0, 9000, 1000))\n",
    "    # ax.set_yticklabels(labels=range(0, 9000, 1000), rotation=0,\n",
    "    #                    minor=False, fontsize=28)\n",
    "    ax.set_xticklabels(labels=epsilons, rotation=0,minor=False)\n",
    "    handles, labels = ax.get_legend_handles_labels()\n",
    "    ax_position += 1"
   ]
  },
  {
   "cell_type": "code",
   "execution_count": null,
   "metadata": {
    "pycharm": {
     "name": "#%%\n"
    }
   },
   "outputs": [],
   "source": [
    "#Plot percentage found rules\n",
    "qDF = df\n",
    "\n",
    "# Plot Rules\n",
    "plt.figure(figsize=(12, 7))\n",
    "plt.title(\"Percentage Found Client Rules\")\n",
    "\n",
    "for method in sorted(list(set(qDF['Cp']))):\n",
    "    miniDF = qDF.loc[qDF['Cp'] == method]\n",
    "    eps = miniDF['Epsilon']\n",
    "    rls = miniDF['Percentage Found Rules']\n",
    "    plt.plot(eps, rls, label=\"Cp: \" + method)\n",
    "\n",
    "plt.xlabel(\"Epsilon\")\n",
    "plt.ylabel(\"Percentage Found Client Client Rules\")\n",
    "plt.xscale('log')\n",
    "plt.legend()"
   ]
  },
  {
   "cell_type": "code",
   "execution_count": null,
   "metadata": {
    "pycharm": {
     "name": "#%%\n"
    }
   },
   "outputs": [],
   "source": [
    "qDF = df\n",
    "\n",
    "# Plot Rules\n",
    "plt.figure(figsize=(12, 7))\n",
    "plt.title(\"Rule Precision\")\n",
    "\n",
    "for method in sorted(list(set(qDF['Cp']))):\n",
    "    miniDF = qDF.loc[qDF['Cp'] == method]\n",
    "    eps = miniDF['Epsilon']\n",
    "    rls = miniDF['Rule Precision']\n",
    "    plt.plot(eps, rls, label=\"Cp: \" + method)\n",
    "\n",
    "plt.xlabel(\"Epsilon\")\n",
    "plt.ylabel(\"Rule Precision\")\n",
    "plt.xscale('log')\n",
    "plt.legend()"
   ]
  },
  {
   "cell_type": "code",
   "execution_count": null,
   "metadata": {
    "pycharm": {
     "name": "#%%\n"
    }
   },
   "outputs": [],
   "source": []
  },
  {
   "cell_type": "code",
   "execution_count": null,
   "metadata": {
    "pycharm": {
     "name": "#%%\n"
    }
   },
   "outputs": [],
   "source": [
    "df = pd.read_csv('../Results/Private/ICU/Baseline/Rule Quality/RuleQualitySumSmol.csv')\n",
    "\n",
    "clientCM = pd.read_csv(\"../Results/Client/Baseline/10 Clients/Client_CM.csv\")\n",
    "clientCM"
   ]
  },
  {
   "cell_type": "code",
   "execution_count": null,
   "metadata": {
    "pycharm": {
     "name": "#%%\n"
    }
   },
   "outputs": [],
   "source": [
    "qDF = df\n",
    "metric = \"Accuracy\"\n",
    "\n",
    "plt.figure(figsize=(12, 7))\n",
    "plt.title(metric)\n",
    "\n",
    "for method in sorted(list(set(qDF['Cp']))):\n",
    "    miniDF = qDF.loc[qDF['Cp'] == method]\n",
    "    eps = miniDF['Epsilon']\n",
    "    met = miniDF[metric]\n",
    "    plt.plot(eps, met, label=\"Cp: \" + method)\n",
    "\n",
    "if metric == \"Patient Accuracy\":\n",
    "    plt.axhline(y=clientCM[\"Accuracy\"].item(), color='r', linestyle='..', label='Client ' + metric)\n",
    "elif metric == \"Patient Precision\":\n",
    "    plt.axhline(y=clientCM[\"Precision\"].item(), color='r', linestyle='..', label='Client ' + metric)\n",
    "else:\n",
    "    plt.axhline(y=clientCM[metric].item(), color='r', linestyle='dotted', label='Client ' + metric)\n",
    "plt.xlabel(\"Epsilon\")\n",
    "plt.ylabel(metric)\n",
    "plt.xscale('log')\n",
    "plt.legend()"
   ]
  },
  {
   "cell_type": "code",
   "execution_count": null,
   "metadata": {
    "pycharm": {
     "name": "#%%\n"
    }
   },
   "outputs": [],
   "source": [
    "qDF = df\n",
    "metric = \"Patient Precision\"\n",
    "clientCM = pd.read_csv(\"../Results/Client/Baseline/10 Clients/Client_Patient_CM.csv\")\n",
    "\n",
    "\n",
    "plt.figure(figsize=(12, 7))\n",
    "plt.title(metric)\n",
    "\n",
    "for method in sorted(list(set(qDF['Cp']))):\n",
    "    miniDF = qDF.loc[qDF['Cp'] == method]\n",
    "    eps = miniDF['Epsilon']\n",
    "    met = miniDF[metric]\n",
    "    plt.plot(eps, met, label=\"Cp: \" + method)\n",
    "\n",
    "if metric == \"Patient Accuracy\":\n",
    "    plt.axhline(y=clientCM[\"Accuracy\"].item(), color='r', linestyle='dotted', label='Client ' + metric)\n",
    "elif metric == \"Patient Precision\":\n",
    "    plt.axhline(y=clientCM[\"Precision\"].item(), color='r', linestyle='dotted', label='Client ' + metric)\n",
    "else:\n",
    "    plt.axhline(y=clientCM[metric].item(), color='r', linestyle='dotted', label='Client ' + metric)\n",
    "plt.xlabel(\"Epsilon\")\n",
    "plt.ylabel(metric)\n",
    "plt.xscale('log')\n",
    "plt.legend()"
   ]
  },
  {
   "cell_type": "code",
   "execution_count": null,
   "metadata": {
    "pycharm": {
     "name": "#%%\n"
    }
   },
   "outputs": [],
   "source": []
  },
  {
   "cell_type": "code",
   "execution_count": null,
   "metadata": {},
   "outputs": [],
   "source": []
  },
  {
   "cell_type": "code",
   "execution_count": null,
   "metadata": {},
   "outputs": [],
   "source": []
  },
  {
   "cell_type": "code",
   "execution_count": null,
   "metadata": {},
   "outputs": [],
   "source": []
  },
  {
   "cell_type": "code",
   "execution_count": null,
   "metadata": {},
   "outputs": [],
   "source": [
    "df = pd.read_csv('../Results/Private/ICU/Baseline/Coverage/CovSumSmol.csv')\n",
    "df"
   ]
  },
  {
   "cell_type": "code",
   "execution_count": null,
   "metadata": {},
   "outputs": [],
   "source": [
    "qDF= df\n",
    "methods = sorted(list(set(qDF['Cp'])))\n",
    "epsilons = sorted(list(set(qDF['Epsilon'])), reverse=True)\n",
    "\n",
    "\n",
    "# plt.figure(figsize=(12, 7))\n",
    "fig, axes = plt.subplots(figsize=(20,7), nrows=1, ncols=len(methods))\n",
    "# plt.title(\"Rule Summary for \" + str(q) + \" Queries\")\n",
    "ax_position = 0\n",
    "for concept in methods:\n",
    "    # idx = pd.IndexSlice\n",
    "    # subset = df.loc[idx[[concept], :],\n",
    "    #                 ['Found Rules', 'Non Rules']]\n",
    "    subset = qDF.loc[qDF['Cp'] == concept][['Found Rules', 'Non Rules']]\n",
    "    # print(subset.info())\n",
    "    # subset = subset.groupby(\n",
    "    #     subset.index.get_level_values('datetime').year).sum()\n",
    "\n",
    "    # ax = subset.plot(kind=\"bar\", stacked=True, colormap=\"Blues\",ax=axes[ax_position])\n",
    "    ax = subset.plot(kind=\"bar\", stacked=True, ax=axes[ax_position])\n",
    "\n",
    "\n",
    "    if concept == methods[0]:\n",
    "        ax.set_ylabel(\"Total Rules\")\n",
    "    if concept == methods[-1]:\n",
    "        ax.legend(['Found Rules', 'Non Rules'], loc='upper right')\n",
    "\n",
    "    ax.set_title(\"Cp: \" + concept)\n",
    "    ax.set_xlabel(\"Epsilon\")\n",
    "    # ax.set_title(\"Concept \\\"\" + concept + \"\\\"\", fontsize=30, alpha=1.0)\n",
    "    # ax.set_ylabel(\"Total Rules\", fontsize=30)\n",
    "    # ax.set_xlabel(\"Concept \\\"\" + concept + \"\\\"\", fontsize=30, alpha=0.0)\n",
    "\n",
    "    ax.set_ylim(0, 80)\n",
    "    # ax.set_yticks(range(0, 9000, 1000))\n",
    "    # ax.set_yticklabels(labels=range(0, 9000, 1000), rotation=0,\n",
    "    #                    minor=False, fontsize=28)\n",
    "    ax.set_xticklabels(labels=epsilons, rotation=0,minor=False)\n",
    "    handles, labels = ax.get_legend_handles_labels()\n",
    "    ax_position += 1"
   ]
  },
  {
   "cell_type": "code",
   "execution_count": null,
   "metadata": {},
   "outputs": [],
   "source": [
    "#Plot percentage found rules\n",
    "qDF = df\n",
    "\n",
    "# Plot Rules\n",
    "plt.figure(figsize=(12, 7))\n",
    "plt.title(\"Percentage Found Client Rules\")\n",
    "\n",
    "for method in sorted(list(set(qDF['Cp']))):\n",
    "    miniDF = qDF.loc[qDF['Cp'] == method]\n",
    "    eps = miniDF['Epsilon']\n",
    "    rls = miniDF['Percentage Found Rules']\n",
    "    plt.plot(eps, rls, label=\"Cp: \" + method)\n",
    "\n",
    "plt.xlabel(\"Epsilon\")\n",
    "plt.ylabel(\"Percentage Found Client Client Rules\")\n",
    "plt.xscale('log')\n",
    "plt.legend()"
   ]
  },
  {
   "cell_type": "code",
   "execution_count": null,
   "metadata": {},
   "outputs": [],
   "source": [
    "qDF = df\n",
    "\n",
    "# Plot Rules\n",
    "plt.figure(figsize=(12, 7))\n",
    "plt.title(\"Rule Precision\")\n",
    "\n",
    "for method in sorted(list(set(qDF['Cp']))):\n",
    "    miniDF = qDF.loc[qDF['Cp'] == method]\n",
    "    eps = miniDF['Epsilon']\n",
    "    rls = miniDF['Rule Precision']\n",
    "    plt.plot(eps, rls, label=\"Cp: \" + method)\n",
    "\n",
    "plt.xlabel(\"Epsilon\")\n",
    "plt.ylabel(\"Rule Precision\")\n",
    "plt.xscale('log')\n",
    "plt.legend()"
   ]
  },
  {
   "cell_type": "code",
   "execution_count": null,
   "metadata": {},
   "outputs": [],
   "source": []
  },
  {
   "cell_type": "code",
   "execution_count": null,
   "metadata": {},
   "outputs": [],
   "source": [
    "df = pd.read_csv('../Results/Private/ICU/Baseline/Rule Quality/RuleQualitySumSmol.csv')\n",
    "\n",
    "clientCM = pd.read_csv(\"../Results/Client/Baseline/10 Clients/Client_CM.csv\")\n",
    "clientCM"
   ]
  },
  {
   "cell_type": "code",
   "execution_count": null,
   "metadata": {},
   "outputs": [],
   "source": [
    "qDF = df\n",
    "metric = \"Accuracy\"\n",
    "\n",
    "plt.figure(figsize=(12, 7))\n",
    "plt.title(metric)\n",
    "\n",
    "for method in sorted(list(set(qDF['Cp']))):\n",
    "    miniDF = qDF.loc[qDF['Cp'] == method]\n",
    "    eps = miniDF['Epsilon']\n",
    "    met = miniDF[metric]\n",
    "    plt.plot(eps, met, label=\"Cp: \" + method)\n",
    "\n",
    "if metric == \"Patient Accuracy\":\n",
    "    plt.axhline(y=clientCM[\"Accuracy\"].item(), color='r', linestyle='..', label='Client ' + metric)\n",
    "elif metric == \"Patient Precision\":\n",
    "    plt.axhline(y=clientCM[\"Precision\"].item(), color='r', linestyle='..', label='Client ' + metric)\n",
    "else:\n",
    "    plt.axhline(y=clientCM[metric].item(), color='r', linestyle='dotted', label='Client ' + metric)\n",
    "plt.xlabel(\"Epsilon\")\n",
    "plt.ylabel(metric)\n",
    "plt.xscale('log')\n",
    "plt.legend()"
   ]
  },
  {
   "cell_type": "code",
   "execution_count": null,
   "metadata": {},
   "outputs": [],
   "source": [
    "qDF = df\n",
    "metric = \"Patient Precision\"\n",
    "clientCM = pd.read_csv(\"../Results/Client/Baseline/10 Clients/Client_Patient_CM.csv\")\n",
    "\n",
    "\n",
    "plt.figure(figsize=(12, 7))\n",
    "plt.title(metric)\n",
    "\n",
    "for method in sorted(list(set(qDF['Cp']))):\n",
    "    miniDF = qDF.loc[qDF['Cp'] == method]\n",
    "    eps = miniDF['Epsilon']\n",
    "    met = miniDF[metric]\n",
    "    plt.plot(eps, met, label=\"Cp: \" + method)\n",
    "\n",
    "if metric == \"Patient Accuracy\":\n",
    "    plt.axhline(y=clientCM[\"Accuracy\"].item(), color='r', linestyle='dotted', label='Client ' + metric)\n",
    "elif metric == \"Patient Precision\":\n",
    "    plt.axhline(y=clientCM[\"Precision\"].item(), color='r', linestyle='dotted', label='Client ' + metric)\n",
    "else:\n",
    "    plt.axhline(y=clientCM[metric].item(), color='r', linestyle='dotted', label='Client ' + metric)\n",
    "plt.xlabel(\"Epsilon\")\n",
    "plt.ylabel(metric)\n",
    "plt.xscale('log')\n",
    "plt.legend()"
   ]
  },
  {
   "cell_type": "code",
   "execution_count": null,
   "metadata": {},
   "outputs": [],
   "source": [
    "df = pd.read_csv('../Results/Private/ICU/Baseline/Coverage/CoverageSummaryDF.csv')\n",
    "df"
   ]
  },
  {
   "cell_type": "code",
   "execution_count": null,
   "metadata": {},
   "outputs": [],
   "source": [
    "cps = sorted(list(set(df['Cp'])))\n",
    "lambdas = sorted(list(set(df['Lambda'])))\n",
    "epsilons = sorted(list(set(df['Epsilon'])))\n",
    "\n",
    "maxFR = max(df['Found Rules'])\n",
    "maxNR = max(df['Non Rules'])\n",
    "maxRules = maxFR + maxNR\n",
    "\n",
    "fig, axes = plt.subplots(figsize=(20, 20), nrows=len(cps), ncols=len(lambdas))\n",
    "row = 0\n",
    "col = 0\n",
    "for c in cps:\n",
    "    col = 0\n",
    "    for l in lambdas:\n",
    "        subset = df.loc[df['Cp'] == c]\n",
    "        subset = subset.loc[df['Lambda'] == l][['Found Rules', 'Non Rules']]\n",
    "\n",
    "        ax = subset.plot(kind=\"bar\", stacked=True, ax=axes[row, col])\n",
    "\n",
    "        ax.set_ylabel(\"Total Rules\")\n",
    "        ax.legend(['Found Rules', 'Non Rules'], loc='upper right')\n",
    "\n",
    "        ax.set_title(\"Cp: \" + c + \"; Lambda: \" + l)\n",
    "        ax.set_xlabel(\"Epsilon\")\n",
    "        ax.set_ylim(0, maxRules)\n",
    "\n",
    "        ax.set_xticklabels(labels=epsilons, rotation=0, minor=False)\n",
    "#         handles, labels = ax.get_legend_handles_labels()\n",
    "        col += 1\n",
    "    row += 1\n",
    "fig.tight_layout()\n",
    "    "
   ]
  },
  {
   "cell_type": "code",
   "execution_count": null,
   "metadata": {},
   "outputs": [],
   "source": []
  },
  {
   "cell_type": "code",
   "execution_count": null,
   "metadata": {},
   "outputs": [],
   "source": [
    "df = pd.read_csv('../Results/Private/ICU/Baseline/Coverage/CoverageSummaryDF.csv')\n",
    "df"
   ]
  },
  {
   "cell_type": "code",
   "execution_count": null,
   "metadata": {},
   "outputs": [],
   "source": [
    "def plotQueryAnalysisPrivate(df, save, value):\n",
    "    cps = sorted(list(set(df['Cp'])))\n",
    "    lambdas = sorted(list(set(df['Lambda'])))\n",
    "\n",
    "    plt.figure(figsize=(12, 7))\n",
    "    plt.title(value)\n",
    "    for cp in cps:\n",
    "        for l in lambdas:\n",
    "            miniDF = df.loc[df['Cp'] == cp]\n",
    "            miniDF = miniDF.loc[df['Lambda'] == l]\n",
    "            eps = miniDF['Epsilon']\n",
    "            rls = miniDF[value]\n",
    "#             plt.plot(eps, rls, label=\"Cp: \" + cp + \"; Lambda: \" + l)\n",
    "            sns.lineplot(data=miniDF, x=\"Epsilon\", y=value, label=\"Cp: \" + cp + \"; Lambda: \" + l)\n",
    "\n",
    "    plt.xlabel(\"Epsilon\")\n",
    "    plt.ylabel(value)\n",
    "    plt.xscale('log')\n",
    "    plt.legend()\n",
    "#     save = save.replace(\".\", \"-\")\n",
    "#     plt.savefig(save + value)\n",
    "#     plt.show()"
   ]
  },
  {
   "cell_type": "code",
   "execution_count": null,
   "metadata": {},
   "outputs": [],
   "source": [
    "plotQueryAnalysisPrivate(df, '', 'Found Rules')\n",
    "plotQueryAnalysisPrivate(df, '', 'Rule Precision')"
   ]
  },
  {
   "cell_type": "code",
   "execution_count": null,
   "metadata": {},
   "outputs": [],
   "source": [
    "df = pd.read_csv('../Results/AveragedCoverageSummaryDF.csv')\n",
    "df"
   ]
  },
  {
   "cell_type": "code",
   "execution_count": null,
   "metadata": {},
   "outputs": [],
   "source": [
    "def summaryPrivRules(df, save):\n",
    "    cps = sorted(list(set(df['Cp'])))\n",
    "    lambdas = sorted(list(set(df['Lambda'])))\n",
    "    epsilons = sorted(list(set(df['Epsilon'])), reverse=True)\n",
    "\n",
    "    maxFR = max(df['Found Rules'])\n",
    "    maxNR = max(df['Non Rules'])\n",
    "    maxRules = maxFR + maxNR\n",
    "\n",
    "    fig, axes = plt.subplots(figsize=(20, 20), nrows=len(cps), ncols=len(lambdas))\n",
    "    row = 0\n",
    "    col = 0\n",
    "    for c in cps:\n",
    "        col = 0\n",
    "        for l in lambdas:\n",
    "            cpdf = df.loc[df['Cp'] == c]\n",
    "            subset = cpdf.loc[df['Lambda'] == l][['Found Rules', 'Non Rules']]\n",
    "            FRErr = cpdf.loc[df['Lambda'] == l]['Found Rules Std']\n",
    "            NRErr = cpdf.loc[df['Lambda'] == l]['Non Rules Std']\n",
    "\n",
    "            ax = subset.plot(kind=\"bar\", stacked=True, yerr=[FRErr, NRErr], ax=axes[row, col])\n",
    "\n",
    "            ax.set_ylabel(\"Total Rules\")\n",
    "            ax.legend(['Found Rules', 'Non Rules'], loc='upper right')\n",
    "\n",
    "            ax.set_title(\"Cp: \" + c + \"; Lambda: \" + l)\n",
    "            ax.set_xlabel(\"Epsilon\")\n",
    "            ax.set_ylim(0, maxRules)\n",
    "\n",
    "            ax.set_xticklabels(labels=epsilons, rotation=0, minor=False)\n",
    "            handles, labels = ax.get_legend_handles_labels()\n",
    "            col += 1\n",
    "        row += 1\n",
    "    fig.tight_layout()\n",
    "#     save = save.replace(\".\", \"-\")\n",
    "#     fig.savefig(save + \"Summary_Rules_Nonrules\")\n",
    "    fig.show()\n",
    "    \n",
    "summaryPrivRules(df, save=None)"
   ]
  },
  {
   "cell_type": "code",
   "execution_count": null,
   "metadata": {
    "scrolled": true
   },
   "outputs": [],
   "source": [
    "df = pd.read_csv('../Results/AveragedCoverageSummaryDF smol.csv')\n",
    "df"
   ]
  },
  {
   "cell_type": "code",
   "execution_count": null,
   "metadata": {},
   "outputs": [],
   "source": [
    "def plotQueryAnalysisPrivate(df, save, value):\n",
    "    cps = sorted(list(set(df['Cp'])))\n",
    "    lambdas = sorted(list(set(df['Lambda'])))\n",
    "\n",
    "    plt.figure(figsize=(12, 7))\n",
    "    plt.title(value)\n",
    "    for cp in cps:\n",
    "        for l in lambdas:\n",
    "            miniDF = df.loc[df['Cp'] == cp]\n",
    "            miniDF = miniDF.loc[df['Lambda'] == l]\n",
    "            # eps = miniDF['Epsilon']\n",
    "            # rls = miniDF[value]\n",
    "            #             plt.plot(eps, rls, label=\"Cp: \" + cp + \"; Lambda: \" + l)\n",
    "            sns.lineplot(data=miniDF, x=\"Epsilon\", y=value, label=\"Cp: \" + cp + \"; Lambda: \" + l)\n",
    "\n",
    "    plt.xlabel(\"Epsilon\")\n",
    "    plt.ylabel(value)\n",
    "    plt.xscale('log')\n",
    "    plt.legend()\n",
    "\n",
    "#     save = save.replace(\".\", \"-\")\n",
    "#     plt.savefig(save + value)\n",
    "    plt.show()"
   ]
  },
  {
   "cell_type": "code",
   "execution_count": null,
   "metadata": {
    "scrolled": false
   },
   "outputs": [],
   "source": [
    "plotQueryAnalysisPrivate(df, save=None, value='Found Rules')\n",
    "# cov.plotQueryAnalysisPrivate(df, save=filepath,value='Percentage Found Structures')\n",
    "# cov.plotQueryAnalysisPrivate(df, save=filepath,value='Rule Precision')\n",
    "# cov.plotQueryAnalysisPrivate(df, save=filepath,value='Structure Precision')\n",
    "# cov.plotQueryAnalysisPrivate(df, save=filepath,value='Found Rules')\n",
    "plotQueryAnalysisPrivate(df, save=None,value='Non Rules')"
   ]
  },
  {
   "cell_type": "code",
   "execution_count": null,
   "metadata": {},
   "outputs": [],
   "source": []
  }
 ],
 "metadata": {
  "kernelspec": {
   "display_name": "Python 3 (ipykernel)",
   "language": "python",
   "name": "python3"
  },
  "language_info": {
   "codemirror_mode": {
    "name": "ipython",
    "version": 3
   },
   "file_extension": ".py",
   "mimetype": "text/x-python",
   "name": "python",
   "nbconvert_exporter": "python",
   "pygments_lexer": "ipython3",
   "version": "3.8.9"
  }
 },
 "nbformat": 4,
 "nbformat_minor": 1
}
