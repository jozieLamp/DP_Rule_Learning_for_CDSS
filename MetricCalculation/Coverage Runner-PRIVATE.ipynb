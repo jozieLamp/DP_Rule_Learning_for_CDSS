{
 "cells": [
  {
   "cell_type": "code",
   "execution_count": 1,
   "metadata": {
    "pycharm": {
     "name": "#%%\n"
    }
   },
   "outputs": [],
   "source": [
    "import matplotlib.pyplot as plt\n",
    "plt.rc('font', size=12)\n",
    "import pandas as pd\n",
    "import seaborn as sns\n",
    "import warnings \n",
    "\n",
    "import Coverage as cov\n",
    "import RuleQuality as RQ\n",
    "\n",
    "warnings.filterwarnings('ignore')\n",
    "%matplotlib inline\n",
    "\n",
    "%load_ext autoreload\n",
    "%autoreload 2"
   ]
  },
  {
   "cell_type": "markdown",
   "metadata": {},
   "source": [
    "## Params"
   ]
  },
  {
   "cell_type": "code",
   "execution_count": 2,
   "metadata": {
    "pycharm": {
     "name": "#%%\n"
    }
   },
   "outputs": [],
   "source": [
    "#get list of client rules sorted by count\n",
    "popSize = 10\n",
    "clientFilename = \"../Data/ICU/Best/\"\n",
    "# clientFilename = \"../Data/ICU/Test/\"\n",
    "# clientFilename = \"../Data/Sepsis/Best/\"\n",
    "\n",
    "# ldpFilename = \"../Results/TEST/ICU_Base_PRIV.csv\"\n",
    "ldpFilename = \"../Results/TEST/ICU_Base_TEST.csv\"\n",
    "# ldpFilename = \"../Results/Sepsis_Base_TEST.csv\"\n",
    "\n",
    "# ldpFilename = \"../Results/ICU_Base_TEST_2.csv\"\n",
    "# ldpFilename = \"../Results/ICU_Ruleset_MCTS_TEST.csv\"\n",
    "# ldpFilename = \"../Results/ICU_TEST_2.csv\"\n",
    "# ldpFilename = \"../Results/Sepsis_Ruleset_MCTS_Test.csv\"\n",
    "\n",
    "graphName = '../Results/Graphs/test' #Name of count coverage graphs\n",
    "popThresh = 0.01 #Percentage match count\n"
   ]
  },
  {
   "cell_type": "markdown",
   "metadata": {},
   "source": [
    "## Load Client Rules"
   ]
  },
  {
   "cell_type": "code",
   "execution_count": 3,
   "metadata": {
    "pycharm": {
     "name": "#%%\n"
    }
   },
   "outputs": [
    {
     "name": "stdout",
     "output_type": "stream",
     "text": [
      "File not found for Client 8\n"
     ]
    },
    {
     "data": {
      "text/plain": "                                                  Rule  Rule Count  \\\n53             ((MET >= 0.000) U[0,0] (death = 0.000))          17   \n56   F[0,0]((BLOOD_UREA_NITROGEN <= 0.000 & CREATIN...          13   \n57           G[0,0]((n_evts <= 0.000 -> LOS >= 0.000))          12   \n47              G[0,0]((hr >= 0.000 & Pulse >= 0.000))           3   \n172           ((af >= 0.000) U[0,0] (direct >= 0.000))           3   \n..                                                 ...         ...   \n188   F[0,0]((HEMOGLOBIN <= 0.000 & O2_Flow <= 0.000))           1   \n187             F[0,0]((dfa >= 0.000 & Mort >= 0.000))           1   \n186  ((O2_Flow <= 0.000) U[0,0] (PLATELET_COUNT >= ...           1   \n185  ((MET >= 0.000) U[0,0] (PARTIAL_THROMBOPLASTIN...           1   \n552  G[0,0]((death >= 0.000 -> WHITE_BLOOD_CELL_COU...           1   \n\n     Percent of Population  \n53                     1.0  \n56                     1.0  \n57                     1.0  \n47                     0.3  \n172                    0.3  \n..                     ...  \n188                    0.1  \n187                    0.1  \n186                    0.1  \n185                    0.1  \n552                    0.1  \n\n[553 rows x 3 columns]",
      "text/html": "<div>\n<style scoped>\n    .dataframe tbody tr th:only-of-type {\n        vertical-align: middle;\n    }\n\n    .dataframe tbody tr th {\n        vertical-align: top;\n    }\n\n    .dataframe thead th {\n        text-align: right;\n    }\n</style>\n<table border=\"1\" class=\"dataframe\">\n  <thead>\n    <tr style=\"text-align: right;\">\n      <th></th>\n      <th>Rule</th>\n      <th>Rule Count</th>\n      <th>Percent of Population</th>\n    </tr>\n  </thead>\n  <tbody>\n    <tr>\n      <th>53</th>\n      <td>((MET &gt;= 0.000) U[0,0] (death = 0.000))</td>\n      <td>17</td>\n      <td>1.0</td>\n    </tr>\n    <tr>\n      <th>56</th>\n      <td>F[0,0]((BLOOD_UREA_NITROGEN &lt;= 0.000 &amp; CREATIN...</td>\n      <td>13</td>\n      <td>1.0</td>\n    </tr>\n    <tr>\n      <th>57</th>\n      <td>G[0,0]((n_evts &lt;= 0.000 -&gt; LOS &gt;= 0.000))</td>\n      <td>12</td>\n      <td>1.0</td>\n    </tr>\n    <tr>\n      <th>47</th>\n      <td>G[0,0]((hr &gt;= 0.000 &amp; Pulse &gt;= 0.000))</td>\n      <td>3</td>\n      <td>0.3</td>\n    </tr>\n    <tr>\n      <th>172</th>\n      <td>((af &gt;= 0.000) U[0,0] (direct &gt;= 0.000))</td>\n      <td>3</td>\n      <td>0.3</td>\n    </tr>\n    <tr>\n      <th>...</th>\n      <td>...</td>\n      <td>...</td>\n      <td>...</td>\n    </tr>\n    <tr>\n      <th>188</th>\n      <td>F[0,0]((HEMOGLOBIN &lt;= 0.000 &amp; O2_Flow &lt;= 0.000))</td>\n      <td>1</td>\n      <td>0.1</td>\n    </tr>\n    <tr>\n      <th>187</th>\n      <td>F[0,0]((dfa &gt;= 0.000 &amp; Mort &gt;= 0.000))</td>\n      <td>1</td>\n      <td>0.1</td>\n    </tr>\n    <tr>\n      <th>186</th>\n      <td>((O2_Flow &lt;= 0.000) U[0,0] (PLATELET_COUNT &gt;= ...</td>\n      <td>1</td>\n      <td>0.1</td>\n    </tr>\n    <tr>\n      <th>185</th>\n      <td>((MET &gt;= 0.000) U[0,0] (PARTIAL_THROMBOPLASTIN...</td>\n      <td>1</td>\n      <td>0.1</td>\n    </tr>\n    <tr>\n      <th>552</th>\n      <td>G[0,0]((death &gt;= 0.000 -&gt; WHITE_BLOOD_CELL_COU...</td>\n      <td>1</td>\n      <td>0.1</td>\n    </tr>\n  </tbody>\n</table>\n<p>553 rows × 3 columns</p>\n</div>"
     },
     "execution_count": 3,
     "metadata": {},
     "output_type": "execute_result"
    }
   ],
   "source": [
    "# Load Client Rule Trees and Text Rule Structures, and get dataframe of rules and their counts\n",
    "clientTrees, clientRules, clientDF = cov.loadClientRules(popSize, clientFilename)\n",
    "clientDF"
   ]
  },
  {
   "cell_type": "code",
   "execution_count": 4,
   "metadata": {},
   "outputs": [],
   "source": [
    "clientDF.to_csv(\"Client Rules.csv\")"
   ]
  },
  {
   "cell_type": "markdown",
   "metadata": {},
   "source": [
    "## Load LDP Ruleset"
   ]
  },
  {
   "cell_type": "code",
   "execution_count": 5,
   "metadata": {
    "pycharm": {
     "name": "#%%\n"
    },
    "scrolled": true
   },
   "outputs": [
    {
     "data": {
      "text/plain": "                                                  Rule  Percent Count\n181      ((s24_hr > 0.000) U[0,0] (POTASSIUM < 0.000))            1.0\n149  G[0,0]((BLOOD_UREA_NITROGEN = 0.000 | ICU_Pt_D...            1.0\n139          ((death = 0.000) U[0,0] (n_edrk < 0.000))            1.0\n527           F[0,0]((direct > 0.000 & death = 0.000))            1.0\n526       ((MAGNESIUM > 0.000) U[0,0] (death > 0.000))            1.0\n..                                                 ...            ...\n233              G[0,0]((Resp = 0.000 | Mort = 0.000))            0.5\n232            ((lds > 0.000) U[0,0] (n_edrk > 0.000))            0.5\n231                ((af = 0.000) U[0,0] (dfa = 0.000))            0.5\n230       F[0,0]((ICU_Pt_Days > 0.000 & Mort = 0.000))            0.5\n631            ((LOS > 0.000) U[0,0] (n_edrk > 0.000))            0.5\n\n[632 rows x 2 columns]",
      "text/html": "<div>\n<style scoped>\n    .dataframe tbody tr th:only-of-type {\n        vertical-align: middle;\n    }\n\n    .dataframe tbody tr th {\n        vertical-align: top;\n    }\n\n    .dataframe thead th {\n        text-align: right;\n    }\n</style>\n<table border=\"1\" class=\"dataframe\">\n  <thead>\n    <tr style=\"text-align: right;\">\n      <th></th>\n      <th>Rule</th>\n      <th>Percent Count</th>\n    </tr>\n  </thead>\n  <tbody>\n    <tr>\n      <th>181</th>\n      <td>((s24_hr &gt; 0.000) U[0,0] (POTASSIUM &lt; 0.000))</td>\n      <td>1.0</td>\n    </tr>\n    <tr>\n      <th>149</th>\n      <td>G[0,0]((BLOOD_UREA_NITROGEN = 0.000 | ICU_Pt_D...</td>\n      <td>1.0</td>\n    </tr>\n    <tr>\n      <th>139</th>\n      <td>((death = 0.000) U[0,0] (n_edrk &lt; 0.000))</td>\n      <td>1.0</td>\n    </tr>\n    <tr>\n      <th>527</th>\n      <td>F[0,0]((direct &gt; 0.000 &amp; death = 0.000))</td>\n      <td>1.0</td>\n    </tr>\n    <tr>\n      <th>526</th>\n      <td>((MAGNESIUM &gt; 0.000) U[0,0] (death &gt; 0.000))</td>\n      <td>1.0</td>\n    </tr>\n    <tr>\n      <th>...</th>\n      <td>...</td>\n      <td>...</td>\n    </tr>\n    <tr>\n      <th>233</th>\n      <td>G[0,0]((Resp = 0.000 | Mort = 0.000))</td>\n      <td>0.5</td>\n    </tr>\n    <tr>\n      <th>232</th>\n      <td>((lds &gt; 0.000) U[0,0] (n_edrk &gt; 0.000))</td>\n      <td>0.5</td>\n    </tr>\n    <tr>\n      <th>231</th>\n      <td>((af = 0.000) U[0,0] (dfa = 0.000))</td>\n      <td>0.5</td>\n    </tr>\n    <tr>\n      <th>230</th>\n      <td>F[0,0]((ICU_Pt_Days &gt; 0.000 &amp; Mort = 0.000))</td>\n      <td>0.5</td>\n    </tr>\n    <tr>\n      <th>631</th>\n      <td>((LOS &gt; 0.000) U[0,0] (n_edrk &gt; 0.000))</td>\n      <td>0.5</td>\n    </tr>\n  </tbody>\n</table>\n<p>632 rows × 2 columns</p>\n</div>"
     },
     "execution_count": 5,
     "metadata": {},
     "output_type": "execute_result"
    }
   ],
   "source": [
    "ldpDF, ldpTrees, ldpRules = cov.loadLDPRuleset(ldpFilename)\n",
    "ldpDF"
   ]
  },
  {
   "cell_type": "markdown",
   "metadata": {},
   "source": [
    "## Get Table of Structure Counts - Count of rules above threshold"
   ]
  },
  {
   "cell_type": "code",
   "execution_count": 6,
   "metadata": {
    "pycharm": {
     "name": "#%%\n"
    },
    "scrolled": true
   },
   "outputs": [
    {
     "ename": "ValueError",
     "evalue": "too many values to unpack (expected 3)",
     "output_type": "error",
     "traceback": [
      "\u001B[0;31m---------------------------------------------------------------------------\u001B[0m",
      "\u001B[0;31mValueError\u001B[0m                                Traceback (most recent call last)",
      "\u001B[0;32m<ipython-input-6-1d23e2f04d46>\u001B[0m in \u001B[0;36m<module>\u001B[0;34m\u001B[0m\n\u001B[0;32m----> 1\u001B[0;31m \u001B[0mcovDF\u001B[0m\u001B[0;34m,\u001B[0m \u001B[0mcountDF\u001B[0m\u001B[0;34m,\u001B[0m \u001B[0mclientTrees\u001B[0m \u001B[0;34m=\u001B[0m \u001B[0mcov\u001B[0m\u001B[0;34m.\u001B[0m\u001B[0mgetCoverageTable\u001B[0m\u001B[0;34m(\u001B[0m\u001B[0mpopThresh\u001B[0m\u001B[0;34m,\u001B[0m \u001B[0mldpDF\u001B[0m\u001B[0;34m,\u001B[0m \u001B[0mldpTrees\u001B[0m\u001B[0;34m,\u001B[0m \u001B[0mclientDF\u001B[0m\u001B[0;34m)\u001B[0m\u001B[0;34m\u001B[0m\u001B[0;34m\u001B[0m\u001B[0m\n\u001B[0m\u001B[1;32m      2\u001B[0m \u001B[0mcountDF\u001B[0m\u001B[0;34m.\u001B[0m\u001B[0mto_csv\u001B[0m\u001B[0;34m(\u001B[0m\u001B[0mldpFilename\u001B[0m \u001B[0;34m+\u001B[0m \u001B[0;34m\"_CovCountDF.csv\"\u001B[0m\u001B[0;34m)\u001B[0m\u001B[0;34m\u001B[0m\u001B[0;34m\u001B[0m\u001B[0m\n\u001B[1;32m      3\u001B[0m \u001B[0;34m\u001B[0m\u001B[0m\n",
      "\u001B[0;31mValueError\u001B[0m: too many values to unpack (expected 3)"
     ]
    }
   ],
   "source": [
    "covDF, countDF, clientTrees = cov.getCoverageTable(popThresh, ldpDF, ldpTrees, clientDF)\n",
    "countDF.to_csv(ldpFilename + \"_CovCountDF.csv\")"
   ]
  },
  {
   "cell_type": "code",
   "execution_count": null,
   "metadata": {},
   "outputs": [],
   "source": [
    "covDF"
   ]
  },
  {
   "cell_type": "code",
   "execution_count": null,
   "metadata": {
    "pycharm": {
     "name": "#%%\n"
    },
    "scrolled": true
   },
   "outputs": [],
   "source": [
    "countDF"
   ]
  },
  {
   "cell_type": "markdown",
   "metadata": {},
   "source": [
    "## Get number of unique structure types"
   ]
  },
  {
   "cell_type": "code",
   "execution_count": null,
   "metadata": {
    "pycharm": {
     "name": "#%%\n"
    },
    "scrolled": true
   },
   "outputs": [],
   "source": [
    "structDF = cov.countUniqueStructuresNoVars(clientTrees, ldpTrees)"
   ]
  },
  {
   "cell_type": "code",
   "execution_count": null,
   "metadata": {
    "pycharm": {
     "name": "#%%\n"
    }
   },
   "outputs": [],
   "source": [
    "structDF"
   ]
  },
  {
   "cell_type": "code",
   "execution_count": null,
   "metadata": {
    "pycharm": {
     "name": "#%%\n"
    }
   },
   "outputs": [],
   "source": []
  },
  {
   "cell_type": "code",
   "execution_count": null,
   "metadata": {
    "pycharm": {
     "name": "#%%\n"
    }
   },
   "outputs": [],
   "source": []
  },
  {
   "cell_type": "markdown",
   "metadata": {},
   "source": [
    "## Compare LDP Rules Found vs the Percent Client Counts "
   ]
  },
  {
   "cell_type": "code",
   "execution_count": null,
   "metadata": {
    "pycharm": {
     "name": "#%%\n"
    }
   },
   "outputs": [],
   "source": [
    "#make list of rule counts x population percents\n",
    "\n",
    "lst = []\n",
    "for idx, row in clientDF.iterrows():\n",
    "    lst.extend([row['Percent of Population'] for i in range(row['Rule Count'])])\n",
    "    \n",
    "n_bins = 10\n",
    "\n",
    "plt.figure(figsize=(12, 7))\n",
    "plt.hist([lst, countDF['Client Count'].values], n_bins, density=True, histtype='bar',label=['Client', 'LDP'])\n",
    "plt.xlabel(\"Percentage of Population\")\n",
    "plt.ylabel(\"Number of Rules\")\n",
    "plt.yscale('log')\n",
    "plt.legend()\n"
   ]
  },
  {
   "cell_type": "code",
   "execution_count": null,
   "metadata": {
    "pycharm": {
     "name": "#%%\n"
    },
    "scrolled": true
   },
   "outputs": [],
   "source": [
    "base = pd.read_csv(\"../Results/Nonprivate/ICU/Base_CoverageSummaryDF.csv\")\n",
    "base"
   ]
  },
  {
   "cell_type": "code",
   "execution_count": null,
   "metadata": {
    "pycharm": {
     "name": "#%%\n"
    }
   },
   "outputs": [],
   "source": [
    "rules = base[\"Percentage Found Rules\"]\n",
    "queries = base[\"Queries\"]\n",
    "covRules = [1.0,1.0,1.0,1.0,1.0,1.0,0.94,0.667,0.56,0.2]\n",
    "\n",
    "plt.figure(figsize=(12, 7))\n",
    "plt.title(\"Rule Coverage Query Analysis\")\n",
    "# plt.axhline(y=999, color='r', linestyle='-', label='Total Client Rules')\n",
    "plt.plot(queries, rules, label='Baseline')\n",
    "plt.plot(queries, covRules, label='Improved')\n",
    "# plt.plot(queriesCov, rulesCov, label='Coverage')\n",
    "plt.xlabel(\"Number of Queries\")\n",
    "plt.ylabel(\"Number of Rules\")\n",
    "plt.legend()"
   ]
  },
  {
   "cell_type": "code",
   "execution_count": null,
   "metadata": {},
   "outputs": [],
   "source": [
    "#Plot Structures\n",
    "structs = base[\"Percentage Found Structures\"]\n",
    "covStructs = [1.0,1.0,1.0,1.0,1.0,1.0,1,1,0.955,0.8]\n",
    "\n",
    "plt.figure(figsize=(12, 7))\n",
    "plt.title(\"Structure Coverage Query Analysis\")\n",
    "# plt.axhline(y=999, color='r', linestyle='-', label='Total Client Rules')\n",
    "plt.plot(queries, structs, label='Baseline')\n",
    "plt.plot(queries, covStructs, label='Improved')\n",
    "# plt.plot(queriesCov, rulesCov, label='Coverage')\n",
    "plt.xlabel(\"Number of Queries\")\n",
    "plt.ylabel(\"Number of Structures\")\n",
    "plt.legend()"
   ]
  },
  {
   "cell_type": "code",
   "execution_count": null,
   "metadata": {
    "pycharm": {
     "name": "#%%\n"
    }
   },
   "outputs": [],
   "source": [
    "eps = [1000, 100, 10, 1, 0.1, 0.01, 0.001]\n",
    "basic = [0.340425532,0.357142857,0.409090909,0.406779661,0.35,0.393939394,0.409090909]\n",
    "one = [0.58, 0.475, 0.482758621, 0.433, 0.403846154, 0.4615, 0.45826087]\n",
    "epsDivQueries = [0.714, 0.75, 0.6210526316, 0.65, 0.6, 0.25, 0.111111111]\n",
    "epsOnly = [0.45, 0.45, 0.294736842, 0.35, 0.328571429, 0.181818182, 0.272727273]\n",
    "\n",
    "# epsOnly = [0, 0, 0.394736842, 0.5, 0.428571429, 0.181818182, 0.272727273]\n",
    "\n",
    "plt.figure(figsize=(12, 7))\n",
    "plt.title(\"Comparing Cp Methods- Rule Precision\")\n",
    "plt.plot(eps, basic, label='Cp = 1/sqrt(2)')\n",
    "plt.plot(eps, one, label='Cp = 1')\n",
    "plt.plot(eps, epsDivQueries, label='Cp = epsilon / queries')\n",
    "plt.plot(eps, epsOnly, label='Cp = epsilon')\n",
    "plt.xlabel(\"Epsilon\")\n",
    "plt.xscale('log')\n",
    "plt.ylabel(\"Rule Precision (True / True + Non rules)\")\n",
    "plt.legend()"
   ]
  },
  {
   "cell_type": "code",
   "execution_count": null,
   "metadata": {
    "pycharm": {
     "name": "#%%\n"
    }
   },
   "outputs": [],
   "source": [
    "eps = [1000, 100, 10, 1, 0.1, 0.01, 0.001]\n",
    "basic = [16, 10, 18, 24, 16, 13, 18]\n",
    "one = [25, 19, 14, 13, 13, 12, 11]\n",
    "epsDivQueries = [5, 3, 4, 4, 3, 1, 1]\n",
    "epsOnly = [1, 1 ,3, 2, 3, 2, 3]\n",
    "\n",
    "\n",
    "plt.figure(figsize=(12, 7))\n",
    "plt.title(\"Comparing Cp Methods- Total Found Rules\")\n",
    "plt.plot(eps, basic, label='Cp = 1/sqrt(2)')\n",
    "plt.plot(eps, one, label='Cp = 1')\n",
    "plt.plot(eps, epsDivQueries, label='Cp = epsilon / queries')\n",
    "plt.plot(eps, epsOnly, label='Cp = epsilon')\n",
    "\n",
    "\n",
    "plt.xlabel(\"Epsilon\")\n",
    "plt.xscale('log')\n",
    "plt.ylabel(\"Total Found Rules\")\n",
    "plt.legend()"
   ]
  },
  {
   "cell_type": "code",
   "execution_count": null,
   "metadata": {
    "pycharm": {
     "name": "#%%\n"
    }
   },
   "outputs": [],
   "source": [
    "eps = [1000, 100, 10, 1, 0.1, 0.01, 0.001]\n",
    "basic = [31, 18, 26, 35, 19, 20, 26]\n",
    "one = [18, 21, 15, 22, 17, 14, 13] \n",
    "epsDivQueries = [2, 1, 2, 1, 2, 3, 8]\n",
    "epsOnly = [3, 2, 5, 3, 5, 9, 9]\n",
    "\n",
    "\n",
    "plt.figure(figsize=(12, 7))\n",
    "plt.title(\"Comparing Cp Methods- Total Non Rules\")\n",
    "plt.plot(eps, basic, label='Cp = 1/sqrt(2)')\n",
    "plt.plot(eps, one, label='Cp = 1')\n",
    "plt.plot(eps, epsDivQueries, label='Cp = epsilon / queries')\n",
    "plt.plot(eps, epsOnly, label='Cp = epsilon')\n",
    "\n",
    "\n",
    "plt.xlabel(\"Epsilon\")\n",
    "plt.xscale('log')\n",
    "plt.ylabel(\"Total Non Rules\")\n",
    "plt.legend()"
   ]
  },
  {
   "cell_type": "code",
   "execution_count": null,
   "metadata": {},
   "outputs": [],
   "source": [
    "eps = [1000, 100, 10, 1, 0.1, 0.01, 0.001]\n",
    "basic = [0.922222222,0.722222222,0.855555556,0.855555556,0.855555556,0.722222222,0.655555556]\n",
    "one = [0.855555556,0.922222222,0.922222222,0.922222222,0.922222222,0.788888889,0.922222222] \n",
    "epsDivQueries = [0.988888889,0.988888889,0.922222222,0.988888889,0.922222222,0.855555556, 0.722222222]\n",
    "epsOnly = [0.988888889,0.988888889,0.988888889,0.988888889, 0.855555556,0.988888889,0.788888889 ]\n",
    "\n",
    "\n",
    "plt.figure(figsize=(12, 7))\n",
    "plt.title(\"Rule Quality\")\n",
    "plt.plot(eps, basic, label='Cp = 1/sqrt(2)')\n",
    "plt.plot(eps, one, label='Cp = 1')\n",
    "plt.plot(eps, epsDivQueries, label='Cp = epsilon / queries')\n",
    "plt.plot(eps, epsOnly, label='Cp = epsilon')\n",
    "\n",
    "\n",
    "plt.xlabel(\"Epsilon\")\n",
    "plt.xscale('log')\n",
    "plt.ylabel(\"Precision\")\n",
    "plt.legend()"
   ]
  },
  {
   "cell_type": "code",
   "execution_count": null,
   "metadata": {},
   "outputs": [],
   "source": [
    "eps = [1000, 100, 10, 1, 0.1, 0.01, 0.001]\n",
    "basic = [0.856164384,\n",
    "0.856164384,\n",
    "0.876712329,\n",
    "0.856164384,\n",
    "0.856164384,\n",
    "0.897260274,\n",
    "0.856164384]\n",
    "one = [0.876712329,\n",
    "0.876712329,\n",
    "0.856164384,\n",
    "0.856164384,\n",
    "0.876712329,\n",
    "0.928082192,\n",
    "0.856164384] \n",
    "epsDivQueries = [0.856164384,\n",
    "0.856164384,\n",
    "0.856164384,\n",
    "0.897260274,\n",
    "0.876712329,\n",
    "0.856164384,\n",
    "0.856164384]\n",
    "epsOnly = [0.928082192,\n",
    "0.856164384,\n",
    "0.897260274,\n",
    "0.856164384,\n",
    "0.856164384,\n",
    "0.856164384,\n",
    "0.856164384]\n",
    "\n",
    "\n",
    "plt.figure(figsize=(12, 7))\n",
    "plt.title(\"Rule Quality\")\n",
    "plt.plot(eps, basic, label='Cp = 1/sqrt(2)')\n",
    "plt.plot(eps, one, label='Cp = 1')\n",
    "plt.plot(eps, epsDivQueries, label='Cp = epsilon / queries')\n",
    "plt.plot(eps, epsOnly, label='Cp = epsilon')\n",
    "\n",
    "\n",
    "plt.xlabel(\"Epsilon\")\n",
    "plt.xscale('log')\n",
    "plt.ylabel(\"Accuracy\")\n",
    "plt.legend()"
   ]
  },
  {
   "cell_type": "code",
   "execution_count": null,
   "metadata": {},
   "outputs": [],
   "source": [
    "df = pd.read_csv('../Results/Private/ICU/Base_CoverageSummaryDF.csv')\n",
    "df"
   ]
  },
  {
   "cell_type": "code",
   "execution_count": null,
   "metadata": {},
   "outputs": [],
   "source": [
    "df['Epsilon']"
   ]
  },
  {
   "cell_type": "code",
   "execution_count": null,
   "metadata": {},
   "outputs": [],
   "source": [
    "cov.plotQueryAnalysisPrivate(df, \"test\")"
   ]
  },
  {
   "cell_type": "code",
   "execution_count": null,
   "metadata": {},
   "outputs": [],
   "source": [
    "import RuleQuality as RQ\n",
    "clientCM = pd.read_csv('../Results/NonPrivate/ICU/Base_Client_CM.csv')\n",
    "clientCM"
   ]
  },
  {
   "cell_type": "code",
   "execution_count": null,
   "metadata": {},
   "outputs": [],
   "source": [
    "df = pd.read_csv('../Results/Private/ICU/Base_RuleQualitySummaryDF.csv')\n",
    "df"
   ]
  },
  {
   "cell_type": "code",
   "execution_count": null,
   "metadata": {},
   "outputs": [],
   "source": [
    "RQ.plotPrivatePatientCM(df, clientCM, \"test\")"
   ]
  },
  {
   "cell_type": "markdown",
   "metadata": {},
   "source": [
    "## Complexity Analysis"
   ]
  },
  {
   "cell_type": "code",
   "execution_count": null,
   "metadata": {
    "pycharm": {
     "name": "#%%\n"
    }
   },
   "outputs": [],
   "source": [
    "k = 4 #k-ary tree\n",
    "h = 17 #height\n",
    "k**h"
   ]
  },
  {
   "cell_type": "code",
   "execution_count": null,
   "metadata": {
    "pycharm": {
     "name": "#%%\n"
    }
   },
   "outputs": [],
   "source": []
  },
  {
   "cell_type": "code",
   "execution_count": null,
   "metadata": {
    "pycharm": {
     "name": "#%%\n"
    }
   },
   "outputs": [],
   "source": []
  },
  {
   "cell_type": "code",
   "execution_count": null,
   "metadata": {
    "pycharm": {
     "name": "#%%\n"
    }
   },
   "outputs": [],
   "source": []
  },
  {
   "cell_type": "code",
   "execution_count": null,
   "metadata": {
    "pycharm": {
     "name": "#%%\n"
    }
   },
   "outputs": [],
   "source": [
    "df = pd.read_csv('../Results/Private/ICU/Baseline/Coverage/CovSumSmol.csv')\n",
    "df"
   ]
  },
  {
   "cell_type": "code",
   "execution_count": null,
   "metadata": {
    "pycharm": {
     "name": "#%%\n"
    }
   },
   "outputs": [],
   "source": [
    "qDF= df\n",
    "methods = sorted(list(set(qDF['Cp'])))\n",
    "epsilons = sorted(list(set(qDF['Epsilon'])))\n",
    "\n",
    "# plt.figure(figsize=(12, 7))\n",
    "fig, axes = plt.subplots(figsize=(20,7), nrows=1, ncols=len(methods))\n",
    "# plt.title(\"Rule Summary for \" + str(q) + \" Queries\")\n",
    "ax_position = 0\n",
    "for concept in methods:\n",
    "    # idx = pd.IndexSlice\n",
    "    # subset = df.loc[idx[[concept], :],\n",
    "    #                 ['Found Rules', 'Non Rules']]\n",
    "    subset = qDF.loc[qDF['Cp'] == concept][['Found Rules', 'Non Rules']]\n",
    "    # print(subset.info())\n",
    "    # subset = subset.groupby(\n",
    "    #     subset.index.get_level_values('datetime').year).sum()\n",
    "\n",
    "    # ax = subset.plot(kind=\"bar\", stacked=True, colormap=\"Blues\",ax=axes[ax_position])\n",
    "    ax = subset.plot(kind=\"bar\", stacked=True, ax=axes[ax_position])\n",
    "\n",
    "\n",
    "    if concept == methods[0]:\n",
    "        ax.set_ylabel(\"Total Rules\")\n",
    "    if concept == methods[-1]:\n",
    "        ax.legend(['Found Rules', 'Non Rules'], loc='upper right')\n",
    "\n",
    "    ax.set_title(\"Cp: \" + concept)\n",
    "    ax.set_xlabel(\"Epsilon\")\n",
    "    # ax.set_title(\"Concept \\\"\" + concept + \"\\\"\", fontsize=30, alpha=1.0)\n",
    "    # ax.set_ylabel(\"Total Rules\", fontsize=30)\n",
    "    # ax.set_xlabel(\"Concept \\\"\" + concept + \"\\\"\", fontsize=30, alpha=0.0)\n",
    "\n",
    "    ax.set_ylim(0, 80)\n",
    "    # ax.set_yticks(range(0, 9000, 1000))\n",
    "    # ax.set_yticklabels(labels=range(0, 9000, 1000), rotation=0,\n",
    "    #                    minor=False, fontsize=28)\n",
    "    ax.set_xticklabels(labels=epsilons, rotation=0,minor=False)\n",
    "    handles, labels = ax.get_legend_handles_labels()\n",
    "    ax_position += 1"
   ]
  },
  {
   "cell_type": "code",
   "execution_count": null,
   "metadata": {
    "pycharm": {
     "name": "#%%\n"
    }
   },
   "outputs": [],
   "source": [
    "#Plot percentage found rules\n",
    "qDF = df\n",
    "\n",
    "# Plot Rules\n",
    "plt.figure(figsize=(12, 7))\n",
    "plt.title(\"Percentage Found Client Rules\")\n",
    "\n",
    "for method in sorted(list(set(qDF['Cp']))):\n",
    "    miniDF = qDF.loc[qDF['Cp'] == method]\n",
    "    eps = miniDF['Epsilon']\n",
    "    rls = miniDF['Percentage Found Rules']\n",
    "    plt.plot(eps, rls, label=\"Cp: \" + method)\n",
    "\n",
    "plt.xlabel(\"Epsilon\")\n",
    "plt.ylabel(\"Percentage Found Client Client Rules\")\n",
    "plt.xscale('log')\n",
    "plt.legend()"
   ]
  },
  {
   "cell_type": "code",
   "execution_count": null,
   "metadata": {
    "pycharm": {
     "name": "#%%\n"
    }
   },
   "outputs": [],
   "source": [
    "qDF = df\n",
    "\n",
    "# Plot Rules\n",
    "plt.figure(figsize=(12, 7))\n",
    "plt.title(\"Rule Precision\")\n",
    "\n",
    "for method in sorted(list(set(qDF['Cp']))):\n",
    "    miniDF = qDF.loc[qDF['Cp'] == method]\n",
    "    eps = miniDF['Epsilon']\n",
    "    rls = miniDF['Rule Precision']\n",
    "    plt.plot(eps, rls, label=\"Cp: \" + method)\n",
    "\n",
    "plt.xlabel(\"Epsilon\")\n",
    "plt.ylabel(\"Rule Precision\")\n",
    "plt.xscale('log')\n",
    "plt.legend()"
   ]
  },
  {
   "cell_type": "code",
   "execution_count": null,
   "metadata": {
    "pycharm": {
     "name": "#%%\n"
    }
   },
   "outputs": [],
   "source": []
  },
  {
   "cell_type": "code",
   "execution_count": null,
   "metadata": {
    "pycharm": {
     "name": "#%%\n"
    }
   },
   "outputs": [],
   "source": [
    "df = pd.read_csv('../Results/Private/ICU/Baseline/Rule Quality/RuleQualitySumSmol.csv')\n",
    "\n",
    "clientCM = pd.read_csv(\"../Results/Client/Baseline/10 Clients/Client_CM.csv\")\n",
    "clientCM"
   ]
  },
  {
   "cell_type": "code",
   "execution_count": null,
   "metadata": {
    "pycharm": {
     "name": "#%%\n"
    }
   },
   "outputs": [],
   "source": [
    "qDF = df\n",
    "metric = \"Accuracy\"\n",
    "\n",
    "plt.figure(figsize=(12, 7))\n",
    "plt.title(metric)\n",
    "\n",
    "for method in sorted(list(set(qDF['Cp']))):\n",
    "    miniDF = qDF.loc[qDF['Cp'] == method]\n",
    "    eps = miniDF['Epsilon']\n",
    "    met = miniDF[metric]\n",
    "    plt.plot(eps, met, label=\"Cp: \" + method)\n",
    "\n",
    "if metric == \"Patient Accuracy\":\n",
    "    plt.axhline(y=clientCM[\"Accuracy\"].item(), color='r', linestyle='..', label='Client ' + metric)\n",
    "elif metric == \"Patient Precision\":\n",
    "    plt.axhline(y=clientCM[\"Precision\"].item(), color='r', linestyle='..', label='Client ' + metric)\n",
    "else:\n",
    "    plt.axhline(y=clientCM[metric].item(), color='r', linestyle='dotted', label='Client ' + metric)\n",
    "plt.xlabel(\"Epsilon\")\n",
    "plt.ylabel(metric)\n",
    "plt.xscale('log')\n",
    "plt.legend()"
   ]
  },
  {
   "cell_type": "code",
   "execution_count": null,
   "metadata": {
    "pycharm": {
     "name": "#%%\n"
    }
   },
   "outputs": [],
   "source": [
    "qDF = df\n",
    "metric = \"Patient Precision\"\n",
    "clientCM = pd.read_csv(\"../Results/Client/Baseline/10 Clients/Client_Patient_CM.csv\")\n",
    "\n",
    "\n",
    "plt.figure(figsize=(12, 7))\n",
    "plt.title(metric)\n",
    "\n",
    "for method in sorted(list(set(qDF['Cp']))):\n",
    "    miniDF = qDF.loc[qDF['Cp'] == method]\n",
    "    eps = miniDF['Epsilon']\n",
    "    met = miniDF[metric]\n",
    "    plt.plot(eps, met, label=\"Cp: \" + method)\n",
    "\n",
    "if metric == \"Patient Accuracy\":\n",
    "    plt.axhline(y=clientCM[\"Accuracy\"].item(), color='r', linestyle='dotted', label='Client ' + metric)\n",
    "elif metric == \"Patient Precision\":\n",
    "    plt.axhline(y=clientCM[\"Precision\"].item(), color='r', linestyle='dotted', label='Client ' + metric)\n",
    "else:\n",
    "    plt.axhline(y=clientCM[metric].item(), color='r', linestyle='dotted', label='Client ' + metric)\n",
    "plt.xlabel(\"Epsilon\")\n",
    "plt.ylabel(metric)\n",
    "plt.xscale('log')\n",
    "plt.legend()"
   ]
  },
  {
   "cell_type": "code",
   "execution_count": null,
   "metadata": {
    "pycharm": {
     "name": "#%%\n"
    }
   },
   "outputs": [],
   "source": []
  },
  {
   "cell_type": "code",
   "execution_count": null,
   "metadata": {},
   "outputs": [],
   "source": []
  },
  {
   "cell_type": "code",
   "execution_count": null,
   "metadata": {},
   "outputs": [],
   "source": []
  },
  {
   "cell_type": "code",
   "execution_count": null,
   "metadata": {},
   "outputs": [],
   "source": []
  },
  {
   "cell_type": "code",
   "execution_count": null,
   "metadata": {},
   "outputs": [],
   "source": [
    "df = pd.read_csv('../Results/Private/ICU/Baseline/Coverage/CovSumSmol.csv')\n",
    "df"
   ]
  },
  {
   "cell_type": "code",
   "execution_count": null,
   "metadata": {},
   "outputs": [],
   "source": [
    "qDF= df\n",
    "methods = sorted(list(set(qDF['Cp'])))\n",
    "epsilons = sorted(list(set(qDF['Epsilon'])), reverse=True)\n",
    "\n",
    "\n",
    "# plt.figure(figsize=(12, 7))\n",
    "fig, axes = plt.subplots(figsize=(20,7), nrows=1, ncols=len(methods))\n",
    "# plt.title(\"Rule Summary for \" + str(q) + \" Queries\")\n",
    "ax_position = 0\n",
    "for concept in methods:\n",
    "    # idx = pd.IndexSlice\n",
    "    # subset = df.loc[idx[[concept], :],\n",
    "    #                 ['Found Rules', 'Non Rules']]\n",
    "    subset = qDF.loc[qDF['Cp'] == concept][['Found Rules', 'Non Rules']]\n",
    "    # print(subset.info())\n",
    "    # subset = subset.groupby(\n",
    "    #     subset.index.get_level_values('datetime').year).sum()\n",
    "\n",
    "    # ax = subset.plot(kind=\"bar\", stacked=True, colormap=\"Blues\",ax=axes[ax_position])\n",
    "    ax = subset.plot(kind=\"bar\", stacked=True, ax=axes[ax_position])\n",
    "\n",
    "\n",
    "    if concept == methods[0]:\n",
    "        ax.set_ylabel(\"Total Rules\")\n",
    "    if concept == methods[-1]:\n",
    "        ax.legend(['Found Rules', 'Non Rules'], loc='upper right')\n",
    "\n",
    "    ax.set_title(\"Cp: \" + concept)\n",
    "    ax.set_xlabel(\"Epsilon\")\n",
    "    # ax.set_title(\"Concept \\\"\" + concept + \"\\\"\", fontsize=30, alpha=1.0)\n",
    "    # ax.set_ylabel(\"Total Rules\", fontsize=30)\n",
    "    # ax.set_xlabel(\"Concept \\\"\" + concept + \"\\\"\", fontsize=30, alpha=0.0)\n",
    "\n",
    "    ax.set_ylim(0, 80)\n",
    "    # ax.set_yticks(range(0, 9000, 1000))\n",
    "    # ax.set_yticklabels(labels=range(0, 9000, 1000), rotation=0,\n",
    "    #                    minor=False, fontsize=28)\n",
    "    ax.set_xticklabels(labels=epsilons, rotation=0,minor=False)\n",
    "    handles, labels = ax.get_legend_handles_labels()\n",
    "    ax_position += 1"
   ]
  },
  {
   "cell_type": "code",
   "execution_count": null,
   "metadata": {},
   "outputs": [],
   "source": [
    "#Plot percentage found rules\n",
    "qDF = df\n",
    "\n",
    "# Plot Rules\n",
    "plt.figure(figsize=(12, 7))\n",
    "plt.title(\"Percentage Found Client Rules\")\n",
    "\n",
    "for method in sorted(list(set(qDF['Cp']))):\n",
    "    miniDF = qDF.loc[qDF['Cp'] == method]\n",
    "    eps = miniDF['Epsilon']\n",
    "    rls = miniDF['Percentage Found Rules']\n",
    "    plt.plot(eps, rls, label=\"Cp: \" + method)\n",
    "\n",
    "plt.xlabel(\"Epsilon\")\n",
    "plt.ylabel(\"Percentage Found Client Client Rules\")\n",
    "plt.xscale('log')\n",
    "plt.legend()"
   ]
  },
  {
   "cell_type": "code",
   "execution_count": null,
   "metadata": {},
   "outputs": [],
   "source": [
    "qDF = df\n",
    "\n",
    "# Plot Rules\n",
    "plt.figure(figsize=(12, 7))\n",
    "plt.title(\"Rule Precision\")\n",
    "\n",
    "for method in sorted(list(set(qDF['Cp']))):\n",
    "    miniDF = qDF.loc[qDF['Cp'] == method]\n",
    "    eps = miniDF['Epsilon']\n",
    "    rls = miniDF['Rule Precision']\n",
    "    plt.plot(eps, rls, label=\"Cp: \" + method)\n",
    "\n",
    "plt.xlabel(\"Epsilon\")\n",
    "plt.ylabel(\"Rule Precision\")\n",
    "plt.xscale('log')\n",
    "plt.legend()"
   ]
  },
  {
   "cell_type": "code",
   "execution_count": null,
   "metadata": {},
   "outputs": [],
   "source": []
  },
  {
   "cell_type": "code",
   "execution_count": null,
   "metadata": {},
   "outputs": [],
   "source": [
    "df = pd.read_csv('../Results/Private/ICU/Baseline/Rule Quality/RuleQualitySumSmol.csv')\n",
    "\n",
    "clientCM = pd.read_csv(\"../Results/Client/Baseline/10 Clients/Client_CM.csv\")\n",
    "clientCM"
   ]
  },
  {
   "cell_type": "code",
   "execution_count": null,
   "metadata": {},
   "outputs": [],
   "source": [
    "qDF = df\n",
    "metric = \"Accuracy\"\n",
    "\n",
    "plt.figure(figsize=(12, 7))\n",
    "plt.title(metric)\n",
    "\n",
    "for method in sorted(list(set(qDF['Cp']))):\n",
    "    miniDF = qDF.loc[qDF['Cp'] == method]\n",
    "    eps = miniDF['Epsilon']\n",
    "    met = miniDF[metric]\n",
    "    plt.plot(eps, met, label=\"Cp: \" + method)\n",
    "\n",
    "if metric == \"Patient Accuracy\":\n",
    "    plt.axhline(y=clientCM[\"Accuracy\"].item(), color='r', linestyle='..', label='Client ' + metric)\n",
    "elif metric == \"Patient Precision\":\n",
    "    plt.axhline(y=clientCM[\"Precision\"].item(), color='r', linestyle='..', label='Client ' + metric)\n",
    "else:\n",
    "    plt.axhline(y=clientCM[metric].item(), color='r', linestyle='dotted', label='Client ' + metric)\n",
    "plt.xlabel(\"Epsilon\")\n",
    "plt.ylabel(metric)\n",
    "plt.xscale('log')\n",
    "plt.legend()"
   ]
  },
  {
   "cell_type": "code",
   "execution_count": null,
   "metadata": {},
   "outputs": [],
   "source": [
    "qDF = df\n",
    "metric = \"Patient Precision\"\n",
    "clientCM = pd.read_csv(\"../Results/Client/Baseline/10 Clients/Client_Patient_CM.csv\")\n",
    "\n",
    "\n",
    "plt.figure(figsize=(12, 7))\n",
    "plt.title(metric)\n",
    "\n",
    "for method in sorted(list(set(qDF['Cp']))):\n",
    "    miniDF = qDF.loc[qDF['Cp'] == method]\n",
    "    eps = miniDF['Epsilon']\n",
    "    met = miniDF[metric]\n",
    "    plt.plot(eps, met, label=\"Cp: \" + method)\n",
    "\n",
    "if metric == \"Patient Accuracy\":\n",
    "    plt.axhline(y=clientCM[\"Accuracy\"].item(), color='r', linestyle='dotted', label='Client ' + metric)\n",
    "elif metric == \"Patient Precision\":\n",
    "    plt.axhline(y=clientCM[\"Precision\"].item(), color='r', linestyle='dotted', label='Client ' + metric)\n",
    "else:\n",
    "    plt.axhline(y=clientCM[metric].item(), color='r', linestyle='dotted', label='Client ' + metric)\n",
    "plt.xlabel(\"Epsilon\")\n",
    "plt.ylabel(metric)\n",
    "plt.xscale('log')\n",
    "plt.legend()"
   ]
  },
  {
   "cell_type": "code",
   "execution_count": null,
   "metadata": {},
   "outputs": [],
   "source": [
    "df = pd.read_csv('../Results/Private/ICU/Baseline/Coverage/CoverageSummaryDF.csv')\n",
    "df"
   ]
  },
  {
   "cell_type": "code",
   "execution_count": null,
   "metadata": {},
   "outputs": [],
   "source": [
    "cps = sorted(list(set(df['Cp'])))\n",
    "lambdas = sorted(list(set(df['Lambda'])))\n",
    "epsilons = sorted(list(set(df['Epsilon'])))\n",
    "\n",
    "maxFR = max(df['Found Rules'])\n",
    "maxNR = max(df['Non Rules'])\n",
    "maxRules = maxFR + maxNR\n",
    "\n",
    "fig, axes = plt.subplots(figsize=(20, 20), nrows=len(cps), ncols=len(lambdas))\n",
    "row = 0\n",
    "col = 0\n",
    "for c in cps:\n",
    "    col = 0\n",
    "    for l in lambdas:\n",
    "        subset = df.loc[df['Cp'] == c]\n",
    "        subset = subset.loc[df['Lambda'] == l][['Found Rules', 'Non Rules']]\n",
    "\n",
    "        ax = subset.plot(kind=\"bar\", stacked=True, ax=axes[row, col])\n",
    "\n",
    "        ax.set_ylabel(\"Total Rules\")\n",
    "        ax.legend(['Found Rules', 'Non Rules'], loc='upper right')\n",
    "\n",
    "        ax.set_title(\"Cp: \" + c + \"; Lambda: \" + l)\n",
    "        ax.set_xlabel(\"Epsilon\")\n",
    "        ax.set_ylim(0, maxRules)\n",
    "\n",
    "        ax.set_xticklabels(labels=epsilons, rotation=0, minor=False)\n",
    "#         handles, labels = ax.get_legend_handles_labels()\n",
    "        col += 1\n",
    "    row += 1\n",
    "fig.tight_layout()\n",
    "    "
   ]
  },
  {
   "cell_type": "code",
   "execution_count": null,
   "metadata": {},
   "outputs": [],
   "source": []
  },
  {
   "cell_type": "code",
   "execution_count": null,
   "metadata": {},
   "outputs": [],
   "source": [
    "df = pd.read_csv('../Results/Private/ICU/Baseline/Coverage/CoverageSummaryDF.csv')\n",
    "df"
   ]
  },
  {
   "cell_type": "code",
   "execution_count": null,
   "metadata": {},
   "outputs": [],
   "source": [
    "def plotQueryAnalysisPrivate(df, save, value):\n",
    "    cps = sorted(list(set(df['Cp'])))\n",
    "    lambdas = sorted(list(set(df['Lambda'])))\n",
    "\n",
    "    plt.figure(figsize=(12, 7))\n",
    "    plt.title(value)\n",
    "    for cp in cps:\n",
    "        for l in lambdas:\n",
    "            miniDF = df.loc[df['Cp'] == cp]\n",
    "            miniDF = miniDF.loc[df['Lambda'] == l]\n",
    "            eps = miniDF['Epsilon']\n",
    "            rls = miniDF[value]\n",
    "#             plt.plot(eps, rls, label=\"Cp: \" + cp + \"; Lambda: \" + l)\n",
    "            sns.lineplot(data=miniDF, x=\"Epsilon\", y=value, label=\"Cp: \" + cp + \"; Lambda: \" + l)\n",
    "\n",
    "    plt.xlabel(\"Epsilon\")\n",
    "    plt.ylabel(value)\n",
    "    plt.xscale('log')\n",
    "    plt.legend()\n",
    "#     save = save.replace(\".\", \"-\")\n",
    "#     plt.savefig(save + value)\n",
    "#     plt.show()"
   ]
  },
  {
   "cell_type": "code",
   "execution_count": null,
   "metadata": {},
   "outputs": [],
   "source": [
    "plotQueryAnalysisPrivate(df, '', 'Found Rules')\n",
    "plotQueryAnalysisPrivate(df, '', 'Rule Precision')"
   ]
  },
  {
   "cell_type": "code",
   "execution_count": null,
   "metadata": {},
   "outputs": [],
   "source": [
    "df = pd.read_csv('../Results/AveragedCoverageSummaryDF.csv')\n",
    "df"
   ]
  },
  {
   "cell_type": "code",
   "execution_count": null,
   "metadata": {},
   "outputs": [],
   "source": [
    "def summaryPrivRules(df, save):\n",
    "    cps = sorted(list(set(df['Cp'])))\n",
    "    lambdas = sorted(list(set(df['Lambda'])))\n",
    "    epsilons = sorted(list(set(df['Epsilon'])), reverse=True)\n",
    "\n",
    "    maxFR = max(df['Found Rules'])\n",
    "    maxNR = max(df['Non Rules'])\n",
    "    maxRules = maxFR + maxNR\n",
    "\n",
    "    fig, axes = plt.subplots(figsize=(20, 20), nrows=len(cps), ncols=len(lambdas))\n",
    "    row = 0\n",
    "    col = 0\n",
    "    for c in cps:\n",
    "        col = 0\n",
    "        for l in lambdas:\n",
    "            cpdf = df.loc[df['Cp'] == c]\n",
    "            subset = cpdf.loc[df['Lambda'] == l][['Found Rules', 'Non Rules']]\n",
    "            FRErr = cpdf.loc[df['Lambda'] == l]['Found Rules Std']\n",
    "            NRErr = cpdf.loc[df['Lambda'] == l]['Non Rules Std']\n",
    "\n",
    "            ax = subset.plot(kind=\"bar\", stacked=True, yerr=[FRErr, NRErr], ax=axes[row, col])\n",
    "\n",
    "            ax.set_ylabel(\"Total Rules\")\n",
    "            ax.legend(['Found Rules', 'Non Rules'], loc='upper right')\n",
    "\n",
    "            ax.set_title(\"Cp: \" + c + \"; Lambda: \" + l)\n",
    "            ax.set_xlabel(\"Epsilon\")\n",
    "            ax.set_ylim(0, maxRules)\n",
    "\n",
    "            ax.set_xticklabels(labels=epsilons, rotation=0, minor=False)\n",
    "            handles, labels = ax.get_legend_handles_labels()\n",
    "            col += 1\n",
    "        row += 1\n",
    "    fig.tight_layout()\n",
    "#     save = save.replace(\".\", \"-\")\n",
    "#     fig.savefig(save + \"Summary_Rules_Nonrules\")\n",
    "    fig.show()\n",
    "    \n",
    "summaryPrivRules(df, save=None)"
   ]
  },
  {
   "cell_type": "code",
   "execution_count": null,
   "metadata": {
    "scrolled": true
   },
   "outputs": [],
   "source": [
    "df = pd.read_csv('../Results/AveragedCoverageSummaryDF smol.csv')\n",
    "df"
   ]
  },
  {
   "cell_type": "code",
   "execution_count": null,
   "metadata": {},
   "outputs": [],
   "source": [
    "def plotQueryAnalysisPrivate(df, save, value):\n",
    "    cps = sorted(list(set(df['Cp'])))\n",
    "    lambdas = sorted(list(set(df['Lambda'])))\n",
    "\n",
    "    plt.figure(figsize=(12, 7))\n",
    "    plt.title(value)\n",
    "    for cp in cps:\n",
    "        for l in lambdas:\n",
    "            miniDF = df.loc[df['Cp'] == cp]\n",
    "            miniDF = miniDF.loc[df['Lambda'] == l]\n",
    "            # eps = miniDF['Epsilon']\n",
    "            # rls = miniDF[value]\n",
    "            #             plt.plot(eps, rls, label=\"Cp: \" + cp + \"; Lambda: \" + l)\n",
    "            sns.lineplot(data=miniDF, x=\"Epsilon\", y=value, label=\"Cp: \" + cp + \"; Lambda: \" + l)\n",
    "\n",
    "    plt.xlabel(\"Epsilon\")\n",
    "    plt.ylabel(value)\n",
    "    plt.xscale('log')\n",
    "    plt.legend()\n",
    "\n",
    "#     save = save.replace(\".\", \"-\")\n",
    "#     plt.savefig(save + value)\n",
    "    plt.show()"
   ]
  },
  {
   "cell_type": "code",
   "execution_count": null,
   "metadata": {
    "scrolled": false
   },
   "outputs": [],
   "source": [
    "plotQueryAnalysisPrivate(df, save=None, value='Found Rules')\n",
    "# cov.plotQueryAnalysisPrivate(df, save=filepath,value='Percentage Found Structures')\n",
    "# cov.plotQueryAnalysisPrivate(df, save=filepath,value='Rule Precision')\n",
    "# cov.plotQueryAnalysisPrivate(df, save=filepath,value='Structure Precision')\n",
    "# cov.plotQueryAnalysisPrivate(df, save=filepath,value='Found Rules')\n",
    "plotQueryAnalysisPrivate(df, save=None,value='Non Rules')"
   ]
  },
  {
   "cell_type": "code",
   "execution_count": null,
   "metadata": {},
   "outputs": [],
   "source": []
  }
 ],
 "metadata": {
  "kernelspec": {
   "display_name": "Python 3",
   "language": "python",
   "name": "python3"
  },
  "language_info": {
   "codemirror_mode": {
    "name": "ipython",
    "version": 3
   },
   "file_extension": ".py",
   "mimetype": "text/x-python",
   "name": "python",
   "nbconvert_exporter": "python",
   "pygments_lexer": "ipython3",
   "version": "3.8.3"
  }
 },
 "nbformat": 4,
 "nbformat_minor": 1
}