{
 "cells": [
  {
   "cell_type": "code",
   "execution_count": 6,
   "metadata": {
    "pycharm": {
     "name": "#%%\n"
    }
   },
   "outputs": [
    {
     "name": "stdout",
     "output_type": "stream",
     "text": [
      "The autoreload extension is already loaded. To reload it, use:\n",
      "  %reload_ext autoreload\n"
     ]
    }
   ],
   "source": [
    "import matplotlib.pyplot as plt\n",
    "plt.rc('font', size=12)\n",
    "import pandas as pd\n",
    "import seaborn as sns\n",
    "import warnings \n",
    "\n",
    "import Coverage as cov\n",
    "\n",
    "warnings.filterwarnings('ignore')\n",
    "%matplotlib inline\n",
    "\n",
    "%load_ext autoreload\n",
    "%autoreload 2"
   ]
  },
  {
   "cell_type": "markdown",
   "metadata": {},
   "source": [
    "## Params"
   ]
  },
  {
   "cell_type": "code",
   "execution_count": 36,
   "metadata": {
    "pycharm": {
     "name": "#%%\n"
    }
   },
   "outputs": [],
   "source": [
    "#get list of client rules sorted by count\n",
    "popSize = 10\n",
    "# clientFilename = \"../Data/ICU/Best/\"\n",
    "clientFilename = \"../Data/ICU/Test/\"\n",
    "# clientFilename = \"../Data/Sepsis/Best/\"\n",
    "\n",
    "ldpFilename = \"../Results/TEST/ICU_Base_PRIV.csv\"\n",
    "# ldpFilename = \"../Results/ICU_Base_TEST.csv\"\n",
    "\n",
    "# ldpFilename = \"../Results/ICU_Base_TEST_2.csv\"\n",
    "# ldpFilename = \"../Results/ICU_Ruleset_MCTS_TEST.csv\"\n",
    "# ldpFilename = \"../Results/ICU_TEST_2.csv\"\n",
    "# ldpFilename = \"../Results/Sepsis_Ruleset_MCTS_Test.csv\"\n",
    "\n",
    "graphName = '../Results/Graphs/test' #Name of count coverage graphs\n",
    "popThresh = 0.01 #Percentage match count\n"
   ]
  },
  {
   "cell_type": "markdown",
   "metadata": {},
   "source": [
    "## Load Client Rules"
   ]
  },
  {
   "cell_type": "code",
   "execution_count": 37,
   "metadata": {
    "pycharm": {
     "is_executing": true,
     "name": "#%%\n"
    }
   },
   "outputs": [
    {
     "name": "stdout",
     "output_type": "stream",
     "text": [
      "File not found for Client 8\n"
     ]
    },
    {
     "data": {
      "text/html": [
       "<div>\n",
       "<style scoped>\n",
       "    .dataframe tbody tr th:only-of-type {\n",
       "        vertical-align: middle;\n",
       "    }\n",
       "\n",
       "    .dataframe tbody tr th {\n",
       "        vertical-align: top;\n",
       "    }\n",
       "\n",
       "    .dataframe thead th {\n",
       "        text-align: right;\n",
       "    }\n",
       "</style>\n",
       "<table border=\"1\" class=\"dataframe\">\n",
       "  <thead>\n",
       "    <tr style=\"text-align: right;\">\n",
       "      <th></th>\n",
       "      <th>Rule</th>\n",
       "      <th>Rule Count</th>\n",
       "      <th>Percent of Population</th>\n",
       "    </tr>\n",
       "  </thead>\n",
       "  <tbody>\n",
       "    <tr>\n",
       "      <th>0</th>\n",
       "      <td>G[0,0](((hr &lt;= 0.000 &amp; Pulse &lt;= 0.000) &amp; AF &lt;=...</td>\n",
       "      <td>6</td>\n",
       "      <td>0.6</td>\n",
       "    </tr>\n",
       "    <tr>\n",
       "      <th>1</th>\n",
       "      <td>G[0,0](((Pulse &lt;= 0.000 &amp; hr &lt;= 0.000) &amp; AF &lt;=...</td>\n",
       "      <td>3</td>\n",
       "      <td>0.3</td>\n",
       "    </tr>\n",
       "    <tr>\n",
       "      <th>2</th>\n",
       "      <td>G[0,0](((Pulse &lt;= 0.000 -&gt; hr &lt;= 0.000) &amp; AF &lt;...</td>\n",
       "      <td>1</td>\n",
       "      <td>0.1</td>\n",
       "    </tr>\n",
       "  </tbody>\n",
       "</table>\n",
       "</div>"
      ],
      "text/plain": [
       "                                                Rule  Rule Count  \\\n",
       "0  G[0,0](((hr <= 0.000 & Pulse <= 0.000) & AF <=...           6   \n",
       "1  G[0,0](((Pulse <= 0.000 & hr <= 0.000) & AF <=...           3   \n",
       "2  G[0,0](((Pulse <= 0.000 -> hr <= 0.000) & AF <...           1   \n",
       "\n",
       "   Percent of Population  \n",
       "0                    0.6  \n",
       "1                    0.3  \n",
       "2                    0.1  "
      ]
     },
     "execution_count": 37,
     "metadata": {},
     "output_type": "execute_result"
    }
   ],
   "source": [
    "# Load Client Rule Trees and Text Rule Structures, and get dataframe of rules and their counts\n",
    "clientTrees, clientRules, clientDF = cov.loadClientRules(popSize, clientFilename)\n",
    "clientDF"
   ]
  },
  {
   "cell_type": "code",
   "execution_count": 38,
   "metadata": {
    "pycharm": {
     "is_executing": true
    }
   },
   "outputs": [],
   "source": [
    "clientDF.to_csv(\"Client Rules.csv\")"
   ]
  },
  {
   "cell_type": "markdown",
   "metadata": {},
   "source": [
    "## Load LDP Ruleset"
   ]
  },
  {
   "cell_type": "code",
   "execution_count": 39,
   "metadata": {
    "pycharm": {
     "is_executing": true,
     "name": "#%%\n"
    }
   },
   "outputs": [
    {
     "data": {
      "text/html": [
       "<div>\n",
       "<style scoped>\n",
       "    .dataframe tbody tr th:only-of-type {\n",
       "        vertical-align: middle;\n",
       "    }\n",
       "\n",
       "    .dataframe tbody tr th {\n",
       "        vertical-align: top;\n",
       "    }\n",
       "\n",
       "    .dataframe thead th {\n",
       "        text-align: right;\n",
       "    }\n",
       "</style>\n",
       "<table border=\"1\" class=\"dataframe\">\n",
       "  <thead>\n",
       "    <tr style=\"text-align: right;\">\n",
       "      <th></th>\n",
       "      <th>Rule</th>\n",
       "      <th>Percent Count</th>\n",
       "    </tr>\n",
       "  </thead>\n",
       "  <tbody>\n",
       "    <tr>\n",
       "      <th>19</th>\n",
       "      <td>G[0,0]((hr = 0.000 &amp; (AF = 0.000 &amp; Pulse &lt; 0.0...</td>\n",
       "      <td>0.6</td>\n",
       "    </tr>\n",
       "    <tr>\n",
       "      <th>22</th>\n",
       "      <td>G[0,0]((hr = 0.000 &amp; (Pulse = 0.000 &amp; AF &lt; 0.0...</td>\n",
       "      <td>0.6</td>\n",
       "    </tr>\n",
       "    <tr>\n",
       "      <th>30</th>\n",
       "      <td>G[0,0]((hr &lt; 0.000 &amp; (AF &lt; 0.000 &amp; Pulse = 0.0...</td>\n",
       "      <td>0.6</td>\n",
       "    </tr>\n",
       "    <tr>\n",
       "      <th>29</th>\n",
       "      <td>G[0,0]((hr &lt; 0.000 &amp; (AF = 0.000 &amp; Pulse &lt; 0.0...</td>\n",
       "      <td>0.6</td>\n",
       "    </tr>\n",
       "    <tr>\n",
       "      <th>4</th>\n",
       "      <td>G[0,0]((hr &lt; 0.000 &amp; (AF &lt; 0.000 &amp; Pulse &lt; 0.0...</td>\n",
       "      <td>0.6</td>\n",
       "    </tr>\n",
       "    <tr>\n",
       "      <th>28</th>\n",
       "      <td>G[0,0]((hr &lt; 0.000 &amp; (Pulse = 0.000 &amp; AF &lt; 0.0...</td>\n",
       "      <td>0.6</td>\n",
       "    </tr>\n",
       "    <tr>\n",
       "      <th>6</th>\n",
       "      <td>G[0,0]((hr &lt; 0.000 &amp; (Pulse &lt; 0.000 &amp; AF = 0.0...</td>\n",
       "      <td>0.6</td>\n",
       "    </tr>\n",
       "    <tr>\n",
       "      <th>27</th>\n",
       "      <td>G[0,0]((hr &lt; 0.000 &amp; (Pulse &lt; 0.000 &amp; AF &lt; 0.0...</td>\n",
       "      <td>0.6</td>\n",
       "    </tr>\n",
       "    <tr>\n",
       "      <th>8</th>\n",
       "      <td>G[0,0]((hr = 0.000 &amp; (Pulse &lt; 0.000 &amp; AF &lt; 0.0...</td>\n",
       "      <td>0.6</td>\n",
       "    </tr>\n",
       "    <tr>\n",
       "      <th>26</th>\n",
       "      <td>G[0,0]((hr = 0.000 &amp; (AF &lt; 0.000 &amp; Pulse &lt; 0.0...</td>\n",
       "      <td>0.6</td>\n",
       "    </tr>\n",
       "    <tr>\n",
       "      <th>18</th>\n",
       "      <td>G[0,0]((hr &lt; 0.000 &amp; (AF = 0.000 &amp; Pulse = 0.0...</td>\n",
       "      <td>0.6</td>\n",
       "    </tr>\n",
       "    <tr>\n",
       "      <th>24</th>\n",
       "      <td>G[0,0]((hr = 0.000 &amp; (Pulse &lt; 0.000 &amp; AF = 0.0...</td>\n",
       "      <td>0.6</td>\n",
       "    </tr>\n",
       "    <tr>\n",
       "      <th>12</th>\n",
       "      <td>G[0,0]((hr &lt; 0.000 &amp; (Pulse = 0.000 &amp; AF = 0.0...</td>\n",
       "      <td>0.6</td>\n",
       "    </tr>\n",
       "    <tr>\n",
       "      <th>13</th>\n",
       "      <td>G[0,0]((hr = 0.000 &amp; (AF = 0.000 &amp; Pulse = 0.0...</td>\n",
       "      <td>0.6</td>\n",
       "    </tr>\n",
       "    <tr>\n",
       "      <th>14</th>\n",
       "      <td>G[0,0]((hr = 0.000 &amp; (AF &lt; 0.000 &amp; Pulse = 0.0...</td>\n",
       "      <td>0.6</td>\n",
       "    </tr>\n",
       "    <tr>\n",
       "      <th>17</th>\n",
       "      <td>G[0,0]((hr = 0.000 &amp; (Pulse = 0.000 &amp; AF = 0.0...</td>\n",
       "      <td>0.6</td>\n",
       "    </tr>\n",
       "    <tr>\n",
       "      <th>0</th>\n",
       "      <td>G[0,0]((Pulse = 0.000 &amp; (hr = 0.000 &amp; AF &lt; 0.0...</td>\n",
       "      <td>0.3</td>\n",
       "    </tr>\n",
       "    <tr>\n",
       "      <th>23</th>\n",
       "      <td>G[0,0]((Pulse = 0.000 &amp; (hr &lt; 0.000 &amp; AF = 0.0...</td>\n",
       "      <td>0.3</td>\n",
       "    </tr>\n",
       "    <tr>\n",
       "      <th>21</th>\n",
       "      <td>G[0,0]((Pulse &lt; 0.000 &amp; (AF = 0.000 &amp; hr = 0.0...</td>\n",
       "      <td>0.3</td>\n",
       "    </tr>\n",
       "    <tr>\n",
       "      <th>25</th>\n",
       "      <td>G[0,0]((Pulse &lt; 0.000 &amp; (hr = 0.000 &amp; AF = 0.0...</td>\n",
       "      <td>0.3</td>\n",
       "    </tr>\n",
       "    <tr>\n",
       "      <th>16</th>\n",
       "      <td>G[0,0]((Pulse &lt; 0.000 &amp; (AF &lt; 0.000 &amp; hr &lt; 0.0...</td>\n",
       "      <td>0.3</td>\n",
       "    </tr>\n",
       "    <tr>\n",
       "      <th>20</th>\n",
       "      <td>G[0,0]((Pulse &lt; 0.000 &amp; (AF &lt; 0.000 &amp; hr = 0.0...</td>\n",
       "      <td>0.3</td>\n",
       "    </tr>\n",
       "    <tr>\n",
       "      <th>1</th>\n",
       "      <td>G[0,0]((Pulse = 0.000 &amp; (AF = 0.000 &amp; hr = 0.0...</td>\n",
       "      <td>0.3</td>\n",
       "    </tr>\n",
       "    <tr>\n",
       "      <th>15</th>\n",
       "      <td>G[0,0]((Pulse &lt; 0.000 &amp; (AF = 0.000 &amp; hr &lt; 0.0...</td>\n",
       "      <td>0.3</td>\n",
       "    </tr>\n",
       "    <tr>\n",
       "      <th>11</th>\n",
       "      <td>G[0,0]((Pulse &lt; 0.000 &amp; (hr &lt; 0.000 &amp; AF &lt; 0.0...</td>\n",
       "      <td>0.3</td>\n",
       "    </tr>\n",
       "    <tr>\n",
       "      <th>10</th>\n",
       "      <td>G[0,0]((Pulse &lt; 0.000 &amp; (hr = 0.000 &amp; AF &lt; 0.0...</td>\n",
       "      <td>0.3</td>\n",
       "    </tr>\n",
       "    <tr>\n",
       "      <th>9</th>\n",
       "      <td>G[0,0]((Pulse = 0.000 &amp; (hr = 0.000 &amp; AF = 0.0...</td>\n",
       "      <td>0.3</td>\n",
       "    </tr>\n",
       "    <tr>\n",
       "      <th>7</th>\n",
       "      <td>G[0,0]((Pulse = 0.000 &amp; (hr &lt; 0.000 &amp; AF &lt; 0.0...</td>\n",
       "      <td>0.3</td>\n",
       "    </tr>\n",
       "    <tr>\n",
       "      <th>5</th>\n",
       "      <td>G[0,0]((Pulse &lt; 0.000 &amp; (hr &lt; 0.000 &amp; AF = 0.0...</td>\n",
       "      <td>0.3</td>\n",
       "    </tr>\n",
       "    <tr>\n",
       "      <th>3</th>\n",
       "      <td>G[0,0]((Pulse = 0.000 &amp; (AF &lt; 0.000 &amp; hr = 0.0...</td>\n",
       "      <td>0.3</td>\n",
       "    </tr>\n",
       "    <tr>\n",
       "      <th>2</th>\n",
       "      <td>G[0,0]((Pulse = 0.000 &amp; (AF &lt; 0.000 &amp; hr &lt; 0.0...</td>\n",
       "      <td>0.3</td>\n",
       "    </tr>\n",
       "    <tr>\n",
       "      <th>31</th>\n",
       "      <td>G[0,0]((Pulse = 0.000 &amp; (AF = 0.000 &amp; hr &lt; 0.0...</td>\n",
       "      <td>0.3</td>\n",
       "    </tr>\n",
       "  </tbody>\n",
       "</table>\n",
       "</div>"
      ],
      "text/plain": [
       "                                                 Rule  Percent Count\n",
       "19  G[0,0]((hr = 0.000 & (AF = 0.000 & Pulse < 0.0...            0.6\n",
       "22  G[0,0]((hr = 0.000 & (Pulse = 0.000 & AF < 0.0...            0.6\n",
       "30  G[0,0]((hr < 0.000 & (AF < 0.000 & Pulse = 0.0...            0.6\n",
       "29  G[0,0]((hr < 0.000 & (AF = 0.000 & Pulse < 0.0...            0.6\n",
       "4   G[0,0]((hr < 0.000 & (AF < 0.000 & Pulse < 0.0...            0.6\n",
       "28  G[0,0]((hr < 0.000 & (Pulse = 0.000 & AF < 0.0...            0.6\n",
       "6   G[0,0]((hr < 0.000 & (Pulse < 0.000 & AF = 0.0...            0.6\n",
       "27  G[0,0]((hr < 0.000 & (Pulse < 0.000 & AF < 0.0...            0.6\n",
       "8   G[0,0]((hr = 0.000 & (Pulse < 0.000 & AF < 0.0...            0.6\n",
       "26  G[0,0]((hr = 0.000 & (AF < 0.000 & Pulse < 0.0...            0.6\n",
       "18  G[0,0]((hr < 0.000 & (AF = 0.000 & Pulse = 0.0...            0.6\n",
       "24  G[0,0]((hr = 0.000 & (Pulse < 0.000 & AF = 0.0...            0.6\n",
       "12  G[0,0]((hr < 0.000 & (Pulse = 0.000 & AF = 0.0...            0.6\n",
       "13  G[0,0]((hr = 0.000 & (AF = 0.000 & Pulse = 0.0...            0.6\n",
       "14  G[0,0]((hr = 0.000 & (AF < 0.000 & Pulse = 0.0...            0.6\n",
       "17  G[0,0]((hr = 0.000 & (Pulse = 0.000 & AF = 0.0...            0.6\n",
       "0   G[0,0]((Pulse = 0.000 & (hr = 0.000 & AF < 0.0...            0.3\n",
       "23  G[0,0]((Pulse = 0.000 & (hr < 0.000 & AF = 0.0...            0.3\n",
       "21  G[0,0]((Pulse < 0.000 & (AF = 0.000 & hr = 0.0...            0.3\n",
       "25  G[0,0]((Pulse < 0.000 & (hr = 0.000 & AF = 0.0...            0.3\n",
       "16  G[0,0]((Pulse < 0.000 & (AF < 0.000 & hr < 0.0...            0.3\n",
       "20  G[0,0]((Pulse < 0.000 & (AF < 0.000 & hr = 0.0...            0.3\n",
       "1   G[0,0]((Pulse = 0.000 & (AF = 0.000 & hr = 0.0...            0.3\n",
       "15  G[0,0]((Pulse < 0.000 & (AF = 0.000 & hr < 0.0...            0.3\n",
       "11  G[0,0]((Pulse < 0.000 & (hr < 0.000 & AF < 0.0...            0.3\n",
       "10  G[0,0]((Pulse < 0.000 & (hr = 0.000 & AF < 0.0...            0.3\n",
       "9   G[0,0]((Pulse = 0.000 & (hr = 0.000 & AF = 0.0...            0.3\n",
       "7   G[0,0]((Pulse = 0.000 & (hr < 0.000 & AF < 0.0...            0.3\n",
       "5   G[0,0]((Pulse < 0.000 & (hr < 0.000 & AF = 0.0...            0.3\n",
       "3   G[0,0]((Pulse = 0.000 & (AF < 0.000 & hr = 0.0...            0.3\n",
       "2   G[0,0]((Pulse = 0.000 & (AF < 0.000 & hr < 0.0...            0.3\n",
       "31  G[0,0]((Pulse = 0.000 & (AF = 0.000 & hr < 0.0...            0.3"
      ]
     },
     "execution_count": 39,
     "metadata": {},
     "output_type": "execute_result"
    }
   ],
   "source": [
    "ldpDF, ldpTrees, ldpRules = cov.loadLDPRuleset(ldpFilename)\n",
    "ldpDF"
   ]
  },
  {
   "cell_type": "markdown",
   "metadata": {},
   "source": [
    "## Complexity Analysis"
   ]
  },
  {
   "cell_type": "code",
   "execution_count": 40,
   "metadata": {
    "pycharm": {
     "is_executing": true,
     "name": "#%%\n"
    }
   },
   "outputs": [
    {
     "data": {
      "text/plain": [
       "17179869184"
      ]
     },
     "execution_count": 40,
     "metadata": {},
     "output_type": "execute_result"
    }
   ],
   "source": [
    "k = 4 #k-ary tree\n",
    "h = 17 #height\n",
    "k**h"
   ]
  },
  {
   "cell_type": "markdown",
   "metadata": {},
   "source": [
    "## Get Table of Structure Counts - Count of rules above threshold"
   ]
  },
  {
   "cell_type": "code",
   "execution_count": 41,
   "metadata": {
    "pycharm": {
     "is_executing": true,
     "name": "#%%\n"
    },
    "scrolled": true
   },
   "outputs": [
    {
     "name": "stdout",
     "output_type": "stream",
     "text": [
      "Missed Client Rules:\n",
      "['G[0,0](((Pulse <= 0.000 -> hr <= 0.000) & AF <= 0.000))']\n"
     ]
    },
    {
     "data": {
      "text/html": [
       "<div>\n",
       "<style scoped>\n",
       "    .dataframe tbody tr th:only-of-type {\n",
       "        vertical-align: middle;\n",
       "    }\n",
       "\n",
       "    .dataframe tbody tr th {\n",
       "        vertical-align: top;\n",
       "    }\n",
       "\n",
       "    .dataframe thead th {\n",
       "        text-align: right;\n",
       "    }\n",
       "</style>\n",
       "<table border=\"1\" class=\"dataframe\">\n",
       "  <thead>\n",
       "    <tr style=\"text-align: right;\">\n",
       "      <th></th>\n",
       "      <th>Total Client Rules</th>\n",
       "      <th>Found Rules</th>\n",
       "      <th>Non Rules</th>\n",
       "      <th>Precision</th>\n",
       "    </tr>\n",
       "  </thead>\n",
       "  <tbody>\n",
       "    <tr>\n",
       "      <th>0</th>\n",
       "      <td>3</td>\n",
       "      <td>2</td>\n",
       "      <td>0</td>\n",
       "      <td>1.0</td>\n",
       "    </tr>\n",
       "  </tbody>\n",
       "</table>\n",
       "</div>"
      ],
      "text/plain": [
       "   Total Client Rules  Found Rules  Non Rules  Precision\n",
       "0                   3            2          0        1.0"
      ]
     },
     "execution_count": 41,
     "metadata": {},
     "output_type": "execute_result"
    }
   ],
   "source": [
    "covDF, countDF, clientTrees = cov.getCoverageTable(popThresh, ldpDF, ldpTrees, clientDF)\n",
    "countDF.to_csv(ldpFilename + \"_CovCountDF.csv\")\n",
    "covDF"
   ]
  },
  {
   "cell_type": "code",
   "execution_count": 42,
   "metadata": {
    "pycharm": {
     "is_executing": true,
     "name": "#%%\n"
    }
   },
   "outputs": [
    {
     "data": {
      "text/html": [
       "<div>\n",
       "<style scoped>\n",
       "    .dataframe tbody tr th:only-of-type {\n",
       "        vertical-align: middle;\n",
       "    }\n",
       "\n",
       "    .dataframe tbody tr th {\n",
       "        vertical-align: top;\n",
       "    }\n",
       "\n",
       "    .dataframe thead th {\n",
       "        text-align: right;\n",
       "    }\n",
       "</style>\n",
       "<table border=\"1\" class=\"dataframe\">\n",
       "  <thead>\n",
       "    <tr style=\"text-align: right;\">\n",
       "      <th></th>\n",
       "      <th>LDP Rule</th>\n",
       "      <th>Client Rule</th>\n",
       "      <th>LDP Count</th>\n",
       "      <th>Client Count</th>\n",
       "    </tr>\n",
       "  </thead>\n",
       "  <tbody>\n",
       "    <tr>\n",
       "      <th>0</th>\n",
       "      <td>G[0,0]((Pulse = 0.000 &amp; (hr = 0.000 &amp; AF &lt; 0.0...</td>\n",
       "      <td>G[0,0](((Pulse &lt;= 0.000 &amp; hr &lt;= 0.000) &amp; AF &lt;=...</td>\n",
       "      <td>0.3</td>\n",
       "      <td>0.3</td>\n",
       "    </tr>\n",
       "    <tr>\n",
       "      <th>1</th>\n",
       "      <td>G[0,0]((hr &lt; 0.000 &amp; (AF &lt; 0.000 &amp; Pulse &lt; 0.0...</td>\n",
       "      <td>G[0,0](((hr &lt;= 0.000 &amp; Pulse &lt;= 0.000) &amp; AF &lt;=...</td>\n",
       "      <td>0.6</td>\n",
       "      <td>0.6</td>\n",
       "    </tr>\n",
       "  </tbody>\n",
       "</table>\n",
       "</div>"
      ],
      "text/plain": [
       "                                            LDP Rule  \\\n",
       "0  G[0,0]((Pulse = 0.000 & (hr = 0.000 & AF < 0.0...   \n",
       "1  G[0,0]((hr < 0.000 & (AF < 0.000 & Pulse < 0.0...   \n",
       "\n",
       "                                         Client Rule  LDP Count  Client Count  \n",
       "0  G[0,0](((Pulse <= 0.000 & hr <= 0.000) & AF <=...        0.3           0.3  \n",
       "1  G[0,0](((hr <= 0.000 & Pulse <= 0.000) & AF <=...        0.6           0.6  "
      ]
     },
     "execution_count": 42,
     "metadata": {},
     "output_type": "execute_result"
    }
   ],
   "source": [
    "countDF"
   ]
  },
  {
   "cell_type": "markdown",
   "metadata": {},
   "source": [
    "## Get number of unique structure types"
   ]
  },
  {
   "cell_type": "code",
   "execution_count": 43,
   "metadata": {
    "pycharm": {
     "is_executing": true,
     "name": "#%%\n"
    },
    "scrolled": true
   },
   "outputs": [
    {
     "name": "stdout",
     "output_type": "stream",
     "text": [
      "CLIENT STRUCT NOT FOUND G[0,0](((x <= 0.000 -> x <= 0.000) & x <= 0.000))\n"
     ]
    },
    {
     "data": {
      "text/html": [
       "<div>\n",
       "<style scoped>\n",
       "    .dataframe tbody tr th:only-of-type {\n",
       "        vertical-align: middle;\n",
       "    }\n",
       "\n",
       "    .dataframe tbody tr th {\n",
       "        vertical-align: top;\n",
       "    }\n",
       "\n",
       "    .dataframe thead th {\n",
       "        text-align: right;\n",
       "    }\n",
       "</style>\n",
       "<table border=\"1\" class=\"dataframe\">\n",
       "  <thead>\n",
       "    <tr style=\"text-align: right;\">\n",
       "      <th></th>\n",
       "      <th>Total Client Structures</th>\n",
       "      <th>Found Structures</th>\n",
       "      <th>Non Structures</th>\n",
       "      <th>Precision</th>\n",
       "    </tr>\n",
       "  </thead>\n",
       "  <tbody>\n",
       "    <tr>\n",
       "      <th>0</th>\n",
       "      <td>2</td>\n",
       "      <td>1</td>\n",
       "      <td>0</td>\n",
       "      <td>1.0</td>\n",
       "    </tr>\n",
       "  </tbody>\n",
       "</table>\n",
       "</div>"
      ],
      "text/plain": [
       "   Total Client Structures  Found Structures  Non Structures  Precision\n",
       "0                        2                 1               0        1.0"
      ]
     },
     "execution_count": 43,
     "metadata": {},
     "output_type": "execute_result"
    }
   ],
   "source": [
    "structDF = cov.countUniqueStructuresNoVars(clientTrees, ldpTrees)\n",
    "structDF"
   ]
  },
  {
   "cell_type": "code",
   "execution_count": null,
   "metadata": {
    "pycharm": {
     "is_executing": true,
     "name": "#%%\n"
    }
   },
   "outputs": [],
   "source": []
  },
  {
   "cell_type": "code",
   "execution_count": null,
   "metadata": {
    "pycharm": {
     "is_executing": true,
     "name": "#%%\n"
    }
   },
   "outputs": [],
   "source": []
  },
  {
   "cell_type": "code",
   "execution_count": null,
   "metadata": {
    "pycharm": {
     "is_executing": true,
     "name": "#%%\n"
    }
   },
   "outputs": [],
   "source": []
  },
  {
   "cell_type": "markdown",
   "metadata": {},
   "source": [
    "## Compare LDP Rules Found vs the Percent Client Counts "
   ]
  },
  {
   "cell_type": "code",
   "execution_count": null,
   "metadata": {
    "pycharm": {
     "is_executing": true,
     "name": "#%%\n"
    }
   },
   "outputs": [],
   "source": [
    "#make list of rule counts x population percents\n",
    "\n",
    "lst = []\n",
    "for idx, row in clientDF.iterrows():\n",
    "    lst.extend([row['Percent of Population'] for i in range(row['Rule Count'])])\n",
    "    \n",
    "n_bins = 10\n",
    "\n",
    "plt.figure(figsize=(12, 7))\n",
    "plt.hist([lst, countDF['Client Count'].values], n_bins, density=True, histtype='bar',label=['Client', 'LDP'])\n",
    "plt.xlabel(\"Percentage of Population\")\n",
    "plt.ylabel(\"Number of Rules\")\n",
    "plt.yscale('log')\n",
    "plt.legend()\n"
   ]
  },
  {
   "cell_type": "code",
   "execution_count": null,
   "metadata": {
    "pycharm": {
     "is_executing": true,
     "name": "#%%\n"
    },
    "scrolled": true
   },
   "outputs": [],
   "source": [
    "lst2 = [\n",
    "1.0,\n",
    " 1.0,\n",
    " 1.0,\n",
    "\n",
    " 1.0,\n",
    " 1.0,\n",
    " 1.0,\n",
    " 1.0,\n",
    " 1.0,\n",
    " 1.0,\n",
    " 1.0,\n",
    " 1.0,\n",
    " 1.0,\n",
    " 1.0,\n",
    " 1.0,\n",
    " 1.0,\n",
    " 1.0,\n",
    " 1.0,\n",
    " 1.0,\n",
    " 1.0,\n",
    " 1.0,\n",
    " 1.0,\n",
    " 1.0,\n",
    " 1.0,\n",
    " 1.0,\n",
    " 1.0,\n",
    " 1.0,\n",
    " 1.0,\n",
    " 1.0,\n",
    " 1.0,\n",
    " 1.0,\n",
    " 1.0,\n",
    " 1.0,\n",
    " 1.0,\n",
    " 1.0,\n",
    " 1.0,\n",
    " 1.0,\n",
    " 1.0,\n",
    " 1.0,\n",
    "    0.9, 0.9, 0.9, 0.9, 0.9,\n",
    " 0.3,\n",
    " 0.3,\n",
    "\n",
    " 0.2,\n",
    " 0.2,\n",
    " 0.2,\n",
    " 0.2,\n",
    " 0.2,\n",
    " 0.2,\n",
    " 0.2,\n",
    "\n",
    "\n",
    " 0.1,\n",
    " 0.1,\n",
    " 0.1,\n",
    " 0.1,\n",
    " 0.1]\n",
    "\n"
   ]
  },
  {
   "cell_type": "code",
   "execution_count": null,
   "metadata": {
    "pycharm": {
     "is_executing": true,
     "name": "#%%\n"
    }
   },
   "outputs": [],
   "source": [
    "lst = []\n",
    "for idx, row in clientDF.iterrows():\n",
    "    lst.extend([row['Percent of Population'] for i in range(row['Rule Count'])])\n",
    "    \n",
    "n_bins = 10\n",
    "\n",
    "plt.figure(figsize=(12, 7))\n",
    "plt.title('Sepsis Coverage Eps 1000, Queries 5000')\n",
    "plt.hist([lst, lst2], n_bins,  histtype='bar',label=['Client', 'LDP'])\n",
    "plt.xlabel(\"Percentage of Population\")\n",
    "plt.ylabel(\"Number of Rules\")\n",
    "plt.yscale('log')\n",
    "plt.legend()"
   ]
  },
  {
   "cell_type": "code",
   "execution_count": null,
   "metadata": {
    "pycharm": {
     "is_executing": true,
     "name": "#%%\n"
    }
   },
   "outputs": [],
   "source": [
    "#queries 3000 icu\n",
    "#queries 5000 sepsis\n",
    "\n",
    "rules = [0, 1, 5, 50, 70, 100, 180, 200, 300, 330, 355, 360, 400, 420, 460, 500, 553]\n",
    "queries = [1, 200, 1300, 1600, 1800, 2000, 2300, 2600, 2800, 3000, 3300, 3600, 3800, 4000, 4300, 4600, 4890]\n",
    "\n",
    "\n",
    "rulesCov = [0, 1, 5, 50, 70, 100, 180, 200, 260, 315, 335, 360, 390, 420, 460, 500, 553]\n",
    "queriesCov = [1, 63, 200, 400, 600, 800, 1000, 1200, 1400, 1600, 1800, 2000, 2200, 2400, 2600, 2800, 3000]\n",
    "\n",
    "\n",
    "plt.figure(figsize=(12, 7))\n",
    "plt.title(\"ICU Query Analysis\")\n",
    "plt.axhline(y=553, color='r', linestyle='-', label='Total Client Rules')\n",
    "plt.plot(queries, rules, label='Baseline')\n",
    "plt.plot(queriesCov, rulesCov, label='Coverage')\n",
    "plt.xlabel(\"Number of Queries\")\n",
    "plt.ylabel(\"Number of Rules\")\n",
    "plt.legend()"
   ]
  },
  {
   "cell_type": "code",
   "execution_count": null,
   "metadata": {
    "pycharm": {
     "is_executing": true,
     "name": "#%%\n"
    }
   },
   "outputs": [],
   "source": [
    "rules = [0, 1, 5, 50, 70, 100, 180, 200, 300, 330, 355, 360, 400, 420, 460, 500, 999]\n",
    "queries = [1, 200, 1300, 1600, 1800, 2000, 2300, 2600, 2800, 3000, 3300, 3600, 3800, 4000, 4300, 4600, 4890]\n",
    "\n",
    "rules = [0, 0, 1, 5, 50, 80, 100, 120, 200, 220, 250, 260, 300, 340, 380, 402, 430, 460, \n",
    "              490, 510, 550, 600, 700, 800, 900, 950, 999]\n",
    "queries = [1, 50, 100, 300, 600, 1000, 1300, 1600, 2000, 2300, 2600, 3000, 3300, 3600, 4000, 4300, 4600, 5000, \n",
    "              5300, 5600, 6000, 6300, 6600, 7000, 7300, 7600, 8002]\n",
    "\n",
    "\n",
    "\n",
    "rulesCov = [0, 1, 5, 50, 70, 80, 100, 120, 155, 180, 200, 230, 250, 300, 360, 400, 500, 540, \n",
    "              600, 650, 660, 700, 730, 840, 900, 980, 999]\n",
    "queriesCov = [1, 63, 200, 400, 600, 800, 1000, 1200, 1400, 1600, 1800, 2000, 2200, 2400, 2600, 2800, 3000, 3200, \n",
    "              3400, 3600, 3800, 4000, 4200, 4400, 4600, 4800, 5002]\n",
    "\n",
    "\n",
    "\n",
    "plt.figure(figsize=(12, 7))\n",
    "plt.title(\"Sepsis Query Analysis\")\n",
    "plt.axhline(y=999, color='r', linestyle='-', label='Total Client Rules')\n",
    "plt.plot(queries, rules, label='Baseline')\n",
    "plt.plot(queriesCov, rulesCov, label='Coverage')\n",
    "plt.xlabel(\"Number of Queries\")\n",
    "plt.ylabel(\"Number of Rules\")\n",
    "plt.legend()"
   ]
  },
  {
   "cell_type": "code",
   "execution_count": null,
   "metadata": {
    "pycharm": {
     "is_executing": true,
     "name": "#%%\n"
    }
   },
   "outputs": [],
   "source": []
  },
  {
   "cell_type": "code",
   "execution_count": null,
   "metadata": {
    "pycharm": {
     "is_executing": true
    }
   },
   "outputs": [],
   "source": [
    "rules = [0, 1, 5, 50, 70, 100, 180, 200, 300, 330, 355, 360, 400, 420, 460, 500, 999]\n",
    "queries = [1, 200, 1300, 1600, 1800, 2000, 2300, 2600, 2800, 3000, 3300, 3600, 3800, 4000, 4300, 4600, 4890]\n",
    "\n",
    "rules = [0, 0, 1, 5, 50, 80, 100, 120, 200, 220, 250, 260, 300, 340, 380, 402, 430, 460, \n",
    "              490, 510, 550, 600, 700, 800, 900, 950, 999]\n",
    "queries = [1, 50, 100, 300, 600, 1000, 1300, 1600, 2000, 2300, 2600, 3000, 3300, 3600, 4000, 4300, 4600, 5000, \n",
    "              5300, 5600, 6000, 6300, 6600, 7000, 7300, 7600, 8002]\n",
    "\n",
    "\n",
    "\n",
    "rulesCov = [0, 1, 5, 50, 70, 80, 100, 120, 155, 180, 200, 230, 250, 300, 360, 400, 500, 540, \n",
    "              600, 650, 660, 700, 730, 840, 900, 980, 999]\n",
    "queriesCov = [1, 63, 200, 400, 600, 800, 1000, 1200, 1400, 1600, 1800, 2000, 2200, 2400, 2600, 2800, 3000, 3200, \n",
    "              3400, 3600, 3800, 4000, 4200, 4400, 4600, 4800, 5002]\n",
    "\n",
    "\n",
    "\n",
    "plt.figure(figsize=(12, 7))\n",
    "plt.title(\"Sepsis Query Analysis\")\n",
    "plt.axhline(y=999, color='r', linestyle='-', label='Total Client Rules')\n",
    "plt.plot(queries, rules, label='Baseline')\n",
    "plt.plot(queriesCov, rulesCov, label='Coverage')\n",
    "plt.xlabel(\"Number of Queries\")\n",
    "plt.ylabel(\"Number of Rules\")\n",
    "plt.legend()"
   ]
  },
  {
   "cell_type": "code",
   "execution_count": null,
   "metadata": {
    "pycharm": {
     "is_executing": true
    }
   },
   "outputs": [],
   "source": []
  }
 ],
 "metadata": {
  "kernelspec": {
   "display_name": "Python 3",
   "language": "python",
   "name": "python3"
  },
  "language_info": {
   "codemirror_mode": {
    "name": "ipython",
    "version": 3
   },
   "file_extension": ".py",
   "mimetype": "text/x-python",
   "name": "python",
   "nbconvert_exporter": "python",
   "pygments_lexer": "ipython3",
   "version": "3.8.3"
  }
 },
 "nbformat": 4,
 "nbformat_minor": 1
}
