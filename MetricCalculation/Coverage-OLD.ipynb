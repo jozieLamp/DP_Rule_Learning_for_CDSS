{
 "cells": [
  {
   "cell_type": "code",
   "execution_count": 1,
   "metadata": {},
   "outputs": [],
   "source": [
    "from SignalTemporalLogic.STLFactory import STLFactory\n",
    "import matplotlib.pyplot as plt\n",
    "plt.rc('font', size=12)\n",
    "import copy\n",
    "import pandas as pd\n",
    "import seaborn as sns\n",
    "import numpy as np\n",
    "from collections import Counter\n",
    "import warnings\n",
    "import treelib\n",
    "import re\n",
    "\n",
    "# warnings.filterwarnings('ignore')\n",
    "%matplotlib inline\n"
   ]
  },
  {
   "cell_type": "code",
   "execution_count": 2,
   "metadata": {},
   "outputs": [],
   "source": [
    "#Helper Functions\n",
    "\n",
    "def loadClientRules(popSize, dataFilename):\n",
    "    clientRules = []\n",
    "    clientTrees = []\n",
    "    num = 1\n",
    "    clientsAdded = 0\n",
    "    while clientsAdded < popSize:\n",
    "        fileName = dataFilename + repr(num) + \"Rules.txt\"\n",
    "        fileFound, trees, rls = loadRuleSet(num, fileName)\n",
    "        # c.logRuleSet()\n",
    "        if fileFound:\n",
    "            clientsAdded += 1\n",
    "            clientTrees.extend(trees)\n",
    "            clientRules.extend(rls)\n",
    "\n",
    "        num += 1   \n",
    "        \n",
    "    #get nonduplicate list of trees\n",
    "    currRls = []\n",
    "    ct = []\n",
    "    for t in clientTrees:\n",
    "        strRl = t.toString()\n",
    "        strRl = re.sub('>=', '>', strRl)\n",
    "        strRl = re.sub('<=', '<', strRl)\n",
    "\n",
    "        if strRl not in currRls:\n",
    "            ct.append(t)\n",
    "            currRls.append(strRl)\n",
    "            \n",
    "    return ct, clientRules\n",
    "\n",
    "\n",
    "def loadRuleSet(num, textfile):\n",
    "    ruleSet = []\n",
    "    ruleTrees = []\n",
    "    stlFac = STLFactory()\n",
    "    try:\n",
    "        file = open(textfile, \"r\")\n",
    "        for line in file:\n",
    "            if line[0] == \"(\" and line[-2] == \")\":\n",
    "                line = line[1:-2] + \"\\n\"\n",
    "\n",
    "            rule = stlFac.constructFormulaTree(line)\n",
    "            rule.getFormulaNoParams()\n",
    "                \n",
    "            ruleTrees.append(rule)\n",
    "            \n",
    "            #fix relop for string rule\n",
    "            strRl = rule.toString()\n",
    "            strRl = re.sub('>=', '>', strRl)\n",
    "            strRl = re.sub('<=', '<', strRl)\n",
    "            ruleSet.append(strRl)\n",
    "\n",
    "        file.close()\n",
    "        return True, ruleTrees, ruleSet\n",
    "\n",
    "    except:\n",
    "        print(\"File not found for Client %d\" % (num) )\n",
    "        return False, ruleTrees, ruleSet\n",
    "            \n"
   ]
  },
  {
   "cell_type": "markdown",
   "metadata": {},
   "source": [
    "## Load Client Rules"
   ]
  },
  {
   "cell_type": "code",
   "execution_count": 3,
   "metadata": {},
   "outputs": [],
   "source": [
    "#get list of client rules sorted by count\n",
    "popSize = 1000\n",
    "dataFilename = \"../Data/ICU/Best/\"\n",
    "# dataFilename = \"../Data/Sepsis/Best/\""
   ]
  },
  {
   "cell_type": "code",
   "execution_count": 4,
   "metadata": {},
   "outputs": [
    {
     "name": "stdout",
     "output_type": "stream",
     "text": [
      "File not found for Client 8\n",
      "File not found for Client 81\n",
      "File not found for Client 230\n",
      "File not found for Client 252\n",
      "File not found for Client 283\n",
      "File not found for Client 335\n",
      "File not found for Client 337\n",
      "File not found for Client 342\n",
      "File not found for Client 366\n",
      "File not found for Client 531\n",
      "File not found for Client 609\n",
      "File not found for Client 639\n",
      "File not found for Client 696\n",
      "File not found for Client 727\n",
      "File not found for Client 730\n",
      "File not found for Client 755\n",
      "File not found for Client 774\n",
      "File not found for Client 963\n",
      "File not found for Client 987\n",
      "File not found for Client 1018\n"
     ]
    }
   ],
   "source": [
    "# Load Client Rule Trees and Text Rule Structures\n",
    "clientTrees, clientRules = loadClientRules(popSize, dataFilename)"
   ]
  },
  {
   "cell_type": "code",
   "execution_count": 5,
   "metadata": {},
   "outputs": [
    {
     "data": {
      "text/plain": "                                                    Rule  Rule Count  \\\n53                ((MET > 0.000) U[0,0] (death = 0.000))        2669   \n57               G[0,0]((n_evts < 0.000 -> LOS > 0.000))        2089   \n56     F[0,0]((BLOOD_UREA_NITROGEN < 0.000 & CREATINI...        1070   \n47                  G[0,0]((hr > 0.000 & Pulse > 0.000))         539   \n229    F[0,0](((af < 0.000 | AF < 0.000) & cosen > 0....         313   \n...                                                  ...         ...   \n11493  G[0,0]((PLATELET_COUNT < 0.000 -> s24_hr > 0.0...           1   \n11491        G[0,0]((CREATININE < 0.000 | SpO2 < 0.000))           1   \n11490              G[0,0]((death > 0.000 | dfa < 0.000))           1   \n11489        G[0,0]((LOS > 0.000 -> TROPONIN_I > 0.000))           1   \n18602         ((POTASSIUM > 0.000) U[0,0] (srr > 0.000))           1   \n\n       Percent of Population  \n53                     2.669  \n57                     2.089  \n56                     1.070  \n47                     0.539  \n229                    0.313  \n...                      ...  \n11493                  0.001  \n11491                  0.001  \n11490                  0.001  \n11489                  0.001  \n18602                  0.001  \n\n[18603 rows x 3 columns]",
      "text/html": "<div>\n<style scoped>\n    .dataframe tbody tr th:only-of-type {\n        vertical-align: middle;\n    }\n\n    .dataframe tbody tr th {\n        vertical-align: top;\n    }\n\n    .dataframe thead th {\n        text-align: right;\n    }\n</style>\n<table border=\"1\" class=\"dataframe\">\n  <thead>\n    <tr style=\"text-align: right;\">\n      <th></th>\n      <th>Rule</th>\n      <th>Rule Count</th>\n      <th>Percent of Population</th>\n    </tr>\n  </thead>\n  <tbody>\n    <tr>\n      <th>53</th>\n      <td>((MET &gt; 0.000) U[0,0] (death = 0.000))</td>\n      <td>2669</td>\n      <td>2.669</td>\n    </tr>\n    <tr>\n      <th>57</th>\n      <td>G[0,0]((n_evts &lt; 0.000 -&gt; LOS &gt; 0.000))</td>\n      <td>2089</td>\n      <td>2.089</td>\n    </tr>\n    <tr>\n      <th>56</th>\n      <td>F[0,0]((BLOOD_UREA_NITROGEN &lt; 0.000 &amp; CREATINI...</td>\n      <td>1070</td>\n      <td>1.070</td>\n    </tr>\n    <tr>\n      <th>47</th>\n      <td>G[0,0]((hr &gt; 0.000 &amp; Pulse &gt; 0.000))</td>\n      <td>539</td>\n      <td>0.539</td>\n    </tr>\n    <tr>\n      <th>229</th>\n      <td>F[0,0](((af &lt; 0.000 | AF &lt; 0.000) &amp; cosen &gt; 0....</td>\n      <td>313</td>\n      <td>0.313</td>\n    </tr>\n    <tr>\n      <th>...</th>\n      <td>...</td>\n      <td>...</td>\n      <td>...</td>\n    </tr>\n    <tr>\n      <th>11493</th>\n      <td>G[0,0]((PLATELET_COUNT &lt; 0.000 -&gt; s24_hr &gt; 0.0...</td>\n      <td>1</td>\n      <td>0.001</td>\n    </tr>\n    <tr>\n      <th>11491</th>\n      <td>G[0,0]((CREATININE &lt; 0.000 | SpO2 &lt; 0.000))</td>\n      <td>1</td>\n      <td>0.001</td>\n    </tr>\n    <tr>\n      <th>11490</th>\n      <td>G[0,0]((death &gt; 0.000 | dfa &lt; 0.000))</td>\n      <td>1</td>\n      <td>0.001</td>\n    </tr>\n    <tr>\n      <th>11489</th>\n      <td>G[0,0]((LOS &gt; 0.000 -&gt; TROPONIN_I &gt; 0.000))</td>\n      <td>1</td>\n      <td>0.001</td>\n    </tr>\n    <tr>\n      <th>18602</th>\n      <td>((POTASSIUM &gt; 0.000) U[0,0] (srr &gt; 0.000))</td>\n      <td>1</td>\n      <td>0.001</td>\n    </tr>\n  </tbody>\n</table>\n<p>18603 rows × 3 columns</p>\n</div>"
     },
     "execution_count": 5,
     "metadata": {},
     "output_type": "execute_result"
    }
   ],
   "source": [
    "#Make dataframe of rules and their counts\n",
    "clientDF = pd.DataFrame.from_dict(dict(Counter(clientRules)), orient='index').reset_index()\n",
    "clientDF.columns=[\"Rule\", \"Rule Count\"]\n",
    "clientDF['Percent of Population'] = clientDF['Rule Count'] / popSize\n",
    "clientDF = clientDF.sort_values(\"Rule Count\", ascending=False)\n",
    "clientDF"
   ]
  },
  {
   "cell_type": "markdown",
   "metadata": {},
   "source": [
    "## Load LDP Ruleset"
   ]
  },
  {
   "cell_type": "code",
   "execution_count": 6,
   "metadata": {
    "scrolled": true
   },
   "outputs": [
    {
     "data": {
      "text/plain": "                        Rule  Percent Count\n0    G[0,0](AST_GOT < 0.000)       0.133333\n1     G[0,0](direct < 0.000)       0.673737\n2      G[0,0](death < 0.000)       0.666667\n3        PROTIME_INR > 0.000       0.546512\n4            AST_GOT < 0.000       0.243000\n..                       ...            ...\n179               AF < 0.000       0.701000\n180  TOTAL_BILIRUBIN < 0.000       0.278000\n181          AST_GOT > 0.000       0.418972\n182        MAGNESIUM > 0.000       0.745473\n183    F[0,0](death > 0.000)       0.484453\n\n[184 rows x 2 columns]",
      "text/html": "<div>\n<style scoped>\n    .dataframe tbody tr th:only-of-type {\n        vertical-align: middle;\n    }\n\n    .dataframe tbody tr th {\n        vertical-align: top;\n    }\n\n    .dataframe thead th {\n        text-align: right;\n    }\n</style>\n<table border=\"1\" class=\"dataframe\">\n  <thead>\n    <tr style=\"text-align: right;\">\n      <th></th>\n      <th>Rule</th>\n      <th>Percent Count</th>\n    </tr>\n  </thead>\n  <tbody>\n    <tr>\n      <th>0</th>\n      <td>G[0,0](AST_GOT &lt; 0.000)</td>\n      <td>0.133333</td>\n    </tr>\n    <tr>\n      <th>1</th>\n      <td>G[0,0](direct &lt; 0.000)</td>\n      <td>0.673737</td>\n    </tr>\n    <tr>\n      <th>2</th>\n      <td>G[0,0](death &lt; 0.000)</td>\n      <td>0.666667</td>\n    </tr>\n    <tr>\n      <th>3</th>\n      <td>PROTIME_INR &gt; 0.000</td>\n      <td>0.546512</td>\n    </tr>\n    <tr>\n      <th>4</th>\n      <td>AST_GOT &lt; 0.000</td>\n      <td>0.243000</td>\n    </tr>\n    <tr>\n      <th>...</th>\n      <td>...</td>\n      <td>...</td>\n    </tr>\n    <tr>\n      <th>179</th>\n      <td>AF &lt; 0.000</td>\n      <td>0.701000</td>\n    </tr>\n    <tr>\n      <th>180</th>\n      <td>TOTAL_BILIRUBIN &lt; 0.000</td>\n      <td>0.278000</td>\n    </tr>\n    <tr>\n      <th>181</th>\n      <td>AST_GOT &gt; 0.000</td>\n      <td>0.418972</td>\n    </tr>\n    <tr>\n      <th>182</th>\n      <td>MAGNESIUM &gt; 0.000</td>\n      <td>0.745473</td>\n    </tr>\n    <tr>\n      <th>183</th>\n      <td>F[0,0](death &gt; 0.000)</td>\n      <td>0.484453</td>\n    </tr>\n  </tbody>\n</table>\n<p>184 rows × 2 columns</p>\n</div>"
     },
     "execution_count": 6,
     "metadata": {},
     "output_type": "execute_result"
    }
   ],
   "source": [
    "resultsFilename = \"../Results/ICU_Ruleset_MCTS_Baseline_1000pop_1000iters.csv\"\n",
    "ldpDF = pd.read_csv(resultsFilename, index_col=0)\n",
    "\n",
    "ldpTrees = []\n",
    "ldpRules = []\n",
    "\n",
    "stlFac = STLFactory()\n",
    "for r in ldpDF['Rule']:\n",
    "    rule = stlFac.constructFormulaTree(r + \"\\n\")\n",
    "    rule.getFormulaNoParams()\n",
    "\n",
    "    ldpTrees.append(rule)\n",
    "    ldpRules.append(rule.toString())\n",
    "\n",
    "\n",
    "ldpDF['Rule'] = ldpRules\n",
    "ldpDF"
   ]
  },
  {
   "cell_type": "code",
   "execution_count": 7,
   "metadata": {},
   "outputs": [],
   "source": [
    "#Get count of the number of true structures matched in client rules\n",
    "\n",
    "def getTemplateNodes(temp):\n",
    "    nodes = []\n",
    "    \n",
    "    for node in temp.expand_tree(mode=treelib.Tree.DEPTH, sorting=True):\n",
    "        n = re.sub('[0-9]', '', node)\n",
    "        nodes.append(n)\n",
    "\n",
    "    return nodes\n",
    "\n",
    "def findRuleMatch(template, clientTrees):\n",
    "    ldpNodes = getTemplateNodes(template)\n",
    "    ldpVars = template.getAllVars()\n",
    "    \n",
    "    \n",
    "    for c in clientTrees:\n",
    "        # check if variables in rule\n",
    "        clVars = c.getAllVars()\n",
    "        hasVars = True\n",
    "        for v in ldpVars:\n",
    "            if v not in clVars:\n",
    "                hasVars = False\n",
    "\n",
    "        if hasVars:\n",
    "            # check for structural match\n",
    "            clientNodes = []\n",
    "\n",
    "            for node in c.expand_tree(mode=treelib.Tree.DEPTH, sorting=True):\n",
    "                n = re.sub('[0-9]', '', node)\n",
    "                clientNodes.append(n)\n",
    "\n",
    "            # print(\"client nodes\", clientNodes)\n",
    "            if nodeListMatch(ldpNodes, clientNodes):\n",
    "                return True, c.toString()  # found match\n",
    "\n",
    "    return False, None\n",
    "\n",
    "# check for match  between two lists of template nodes + client nodes\n",
    "def nodeListMatch(tempList, cList):\n",
    "    #Fix relop matches\n",
    "    tempList[:] = [x if x != \"LT\" else \"LE\" for x in tempList]\n",
    "    tempList[:] = [x if x != \"GT\" else \"GE\" for x in tempList]\n",
    "    cList[:] = [x if x != \"LT\" else \"LE\" for x in cList]\n",
    "    cList[:] = [x if x != \"GT\" else \"GE\" for x in cList]\n",
    "\n",
    "    i = 0\n",
    "    while i < len(tempList):\n",
    "        if tempList[i] in cList:\n",
    "            idx = cList.index(tempList[i]) #get idx of element of cList\n",
    "            cList = cList[idx+1:]\n",
    "        else:\n",
    "            return False\n",
    "\n",
    "        i = i+1\n",
    "\n",
    "    return True\n",
    "\n",
    "def getCoverage(thresh, ldpDF, ldpTrees, clientDF):\n",
    "    \n",
    "    #Get client rules above the threshold\n",
    "    df = clientDF[clientDF['Percent of Population'] >= thresh]\n",
    "    clientRules = df['Rule'].tolist()\n",
    "    \n",
    "    #From client rules, first make client trees\n",
    "    clientTrees = []\n",
    "    for c in clientRules:\n",
    "        c = stlFac.constructFormulaTree(c + \"\\n\")\n",
    "        clientTrees.append(c)\n",
    "    \n",
    "    #Calculate num true rules, num false rules and precision (true rules / total rules found)\n",
    "    foundRules = 0\n",
    "    nonRules = 0\n",
    "    matchLst = []\n",
    "    \n",
    "    for l in ldpTrees:\n",
    "        fnd, cRule = findRuleMatch(l, clientTrees)\n",
    "        if fnd: #check structural match --> will count partial matches as a full match\n",
    "            foundRules += 1\n",
    "            lCount = ldpDF[ldpDF[\"Rule\"] == l.toString()]['Percent Count'].item()\n",
    "            cCount = clientDF[clientDF[\"Rule\"] == cRule]['Percent of Population'].item()\n",
    "            matchLst.append([l.toString(), cRule, lCount, cCount])\n",
    "        else:\n",
    "            nonRules += 1\n",
    "            \n",
    "    \n",
    "    lst = [len(clientRules), foundRules, nonRules, foundRules / (foundRules + nonRules) ]\n",
    "    covDF = pd.DataFrame([lst], columns=[\"Total Client Rules\", \"Found Rules\", \"Non Rules\", \"Precision\"]) \n",
    "    \n",
    "    #Make DF that compares the count percentages of the ldp and client rules that were found\n",
    "    countDF = pd.DataFrame(matchLst, columns=['LDP Rule', 'Client Rule', \"LDP Count\", \"Client Count\"])\n",
    "    \n",
    "    return covDF, countDF"
   ]
  },
  {
   "cell_type": "markdown",
   "metadata": {},
   "source": [
    "## Get Coverage of Rules Above Threshold"
   ]
  },
  {
   "cell_type": "code",
   "execution_count": 8,
   "metadata": {},
   "outputs": [
    {
     "data": {
      "text/plain": "   Total Client Rules  Found Rules  Non Rules  Precision\n0                  34           52        132   0.282609",
      "text/html": "<div>\n<style scoped>\n    .dataframe tbody tr th:only-of-type {\n        vertical-align: middle;\n    }\n\n    .dataframe tbody tr th {\n        vertical-align: top;\n    }\n\n    .dataframe thead th {\n        text-align: right;\n    }\n</style>\n<table border=\"1\" class=\"dataframe\">\n  <thead>\n    <tr style=\"text-align: right;\">\n      <th></th>\n      <th>Total Client Rules</th>\n      <th>Found Rules</th>\n      <th>Non Rules</th>\n      <th>Precision</th>\n    </tr>\n  </thead>\n  <tbody>\n    <tr>\n      <th>0</th>\n      <td>34</td>\n      <td>52</td>\n      <td>132</td>\n      <td>0.282609</td>\n    </tr>\n  </tbody>\n</table>\n</div>"
     },
     "execution_count": 8,
     "metadata": {},
     "output_type": "execute_result"
    }
   ],
   "source": [
    "thresh = 0.05 #Percentage match count\n",
    "\n",
    "#Get Coverage\n",
    "covDF, countDF = getCoverage(thresh, ldpDF, ldpTrees, clientDF)\n",
    "covDF"
   ]
  },
  {
   "cell_type": "code",
   "execution_count": 9,
   "metadata": {
    "scrolled": true
   },
   "outputs": [
    {
     "data": {
      "text/plain": "                       LDP Rule  \\\n0                n_evts > 0.000   \n1                     y = 0.000   \n2                    af > 0.000   \n3                   MET > 0.000   \n4                  Resp > 0.000   \n5   BLOOD_UREA_NITROGEN > 0.000   \n6                  edrk > 0.000   \n7                   dfa > 0.000   \n8                n_evts < 0.000   \n9                  Mort > 0.000   \n10        TOTAL_PROTEIN < 0.000   \n11                cosen < 0.000   \n12                    y > 0.000   \n13           CREATININE > 0.000   \n14          G[0,0](LOS > 0.000)   \n15          PROTIME_INR < 0.000   \n16                cosen > 0.000   \n17       G[0,0](n_evts > 0.000)   \n18                  CO2 > 0.000   \n19                Pulse > 0.000   \n20              s2_edrk > 0.000   \n21                 SpO2 < 0.000   \n22  BLOOD_UREA_NITROGEN < 0.000   \n23                  Sgy > 0.000   \n24                death = 0.000   \n25                  Sgy = 0.000   \n26        G[0,0](Pulse > 0.000)   \n27                Pulse < 0.000   \n28          G[0,0](LOS < 0.000)   \n29    OXYGEN_SATURATION > 0.000   \n30                   hr > 0.000   \n31              ALT_GPT < 0.000   \n32                   AF > 0.000   \n33                  lds > 0.000   \n34       G[0,0](n_evts < 0.000)   \n35                  SBP > 0.000   \n36                   af < 0.000   \n37              GLUCOSE < 0.000   \n38               n_edrk > 0.000   \n39           G[0,0](hr > 0.000)   \n40                  LOS < 0.000   \n41                  LOS > 0.000   \n42              O2_Flow < 0.000   \n43           PHOSPHORUS > 0.000   \n44                death > 0.000   \n45                  tte > 0.000   \n46           CREATININE < 0.000   \n47                    y < 0.000   \n48               n_evts = 0.000   \n49                  tte = 0.000   \n50                   AF < 0.000   \n51            MAGNESIUM > 0.000   \n\n                                          Client Rule  LDP Count  Client Count  \n0             G[0,0]((n_evts < 0.000 -> LOS > 0.000))   0.991522         2.089  \n1                  ((MET > 0.000) U[0,0] (y = 0.000))   1.000000         0.058  \n2   F[0,0](((af < 0.000 | AF < 0.000) & cosen > 0....   0.827354         0.313  \n3              ((MET > 0.000) U[0,0] (death = 0.000))   0.928311         2.669  \n4                 ((Resp > 0.000) U[0,0] (y = 0.000))   0.924586         0.051  \n5   F[0,0]((BLOOD_UREA_NITROGEN < 0.000 & CREATINI...   0.810662         1.070  \n6                 ((edrk > 0.000) U[0,0] (y = 0.000))   0.923455         0.050  \n7                  ((dfa > 0.000) U[0,0] (y = 0.000))   0.839207         0.050  \n8             G[0,0]((n_evts < 0.000 -> LOS > 0.000))   0.956000         2.089  \n9                 ((Mort > 0.000) U[0,0] (y = 0.000))   0.961828         0.053  \n10       ((TOTAL_PROTEIN < 0.000) U[0,0] (y = 0.000))   0.297000         0.051  \n11  F[0,0](((af < 0.000 | AF < 0.000) & cosen > 0....   0.767000         0.313  \n12                 ((MET > 0.000) U[0,0] (y = 0.000))   0.996141         0.058  \n13  F[0,0]((BLOOD_UREA_NITROGEN < 0.000 & CREATINI...   0.825540         1.070  \n14            G[0,0]((n_evts < 0.000 -> LOS > 0.000))   0.549797         2.089  \n15         ((PROTIME_INR < 0.000) U[0,0] (y = 0.000))   0.390000         0.050  \n16  F[0,0](((af < 0.000 | AF < 0.000) & cosen > 0....   0.929048         0.313  \n17            G[0,0]((n_evts < 0.000 -> LOS > 0.000))   0.782520         2.089  \n18                 ((CO2 > 0.000) U[0,0] (y = 0.000))   0.767578         0.057  \n19               G[0,0]((hr > 0.000 & Pulse > 0.000))   0.947977         0.539  \n20             ((s2_edrk > 0.000) U[0,0] (y = 0.000))   0.838041         0.053  \n21                ((SpO2 < 0.000) U[0,0] (y = 0.000))   0.635000         0.056  \n22  F[0,0]((BLOOD_UREA_NITROGEN < 0.000 & CREATINI...   0.657000         1.070  \n23                 ((Sgy > 0.000) U[0,0] (y = 0.000))   0.099000         0.051  \n24             ((MET > 0.000) U[0,0] (death = 0.000))   0.733967         2.669  \n25                 ((Sgy > 0.000) U[0,0] (y = 0.000))   0.222090         0.051  \n26               G[0,0]((hr > 0.000 & Pulse > 0.000))   0.661585         0.539  \n27               ((Pulse < 0.000) U[0,0] (y = 0.000))   0.788000         0.054  \n28            G[0,0]((n_evts < 0.000 -> LOS > 0.000))   0.750505         2.089  \n29   ((OXYGEN_SATURATION > 0.000) U[0,0] (y = 0.000))   0.128000         0.054  \n30               G[0,0]((hr > 0.000 & Pulse > 0.000))   0.970620         0.539  \n31             ((ALT_GPT < 0.000) U[0,0] (y = 0.000))   0.256000         0.051  \n32  F[0,0](((af < 0.000 | AF < 0.000) & cosen > 0....   0.896461         0.313  \n33                 ((lds > 0.000) U[0,0] (y = 0.000))   0.899870         0.050  \n34            G[0,0]((n_evts < 0.000 -> LOS > 0.000))   0.870707         2.089  \n35                 ((SBP > 0.000) U[0,0] (y = 0.000))   0.917706         0.050  \n36  F[0,0](((af < 0.000 | AF < 0.000) & cosen > 0....   0.586000         0.313  \n37             ((GLUCOSE < 0.000) U[0,0] (y = 0.000))   0.498000         0.051  \n38              ((n_edrk > 0.000) U[0,0] (y = 0.000))   0.980138         0.051  \n39               G[0,0]((hr > 0.000 & Pulse > 0.000))   0.712398         0.539  \n40            G[0,0]((n_evts < 0.000 -> LOS > 0.000))   0.885000         2.089  \n41            G[0,0]((n_evts < 0.000 -> LOS > 0.000))   0.956473         2.089  \n42             ((O2_Flow < 0.000) U[0,0] (y = 0.000))   0.742000         0.056  \n43          ((PHOSPHORUS > 0.000) U[0,0] (y = 0.000))   0.628258         0.050  \n44             ((MET > 0.000) U[0,0] (death = 0.000))   0.965821         2.669  \n45                 ((tte > 0.000) U[0,0] (y = 0.000))   0.978261         0.050  \n46  F[0,0]((BLOOD_UREA_NITROGEN < 0.000 & CREATINI...   0.675000         1.070  \n47             ((O2_Flow < 0.000) U[0,0] (y = 0.000))   0.967000         0.056  \n48              ((n_evts > 0.000) U[0,0] (y = 0.000))   0.266033         0.051  \n49                 ((tte > 0.000) U[0,0] (y = 0.000))   0.250594         0.050  \n50  F[0,0](((af < 0.000 | AF < 0.000) & cosen > 0....   0.701000         0.313  \n51           ((MAGNESIUM > 0.000) U[0,0] (y = 0.000))   0.745473         0.056  ",
      "text/html": "<div>\n<style scoped>\n    .dataframe tbody tr th:only-of-type {\n        vertical-align: middle;\n    }\n\n    .dataframe tbody tr th {\n        vertical-align: top;\n    }\n\n    .dataframe thead th {\n        text-align: right;\n    }\n</style>\n<table border=\"1\" class=\"dataframe\">\n  <thead>\n    <tr style=\"text-align: right;\">\n      <th></th>\n      <th>LDP Rule</th>\n      <th>Client Rule</th>\n      <th>LDP Count</th>\n      <th>Client Count</th>\n    </tr>\n  </thead>\n  <tbody>\n    <tr>\n      <th>0</th>\n      <td>n_evts &gt; 0.000</td>\n      <td>G[0,0]((n_evts &lt; 0.000 -&gt; LOS &gt; 0.000))</td>\n      <td>0.991522</td>\n      <td>2.089</td>\n    </tr>\n    <tr>\n      <th>1</th>\n      <td>y = 0.000</td>\n      <td>((MET &gt; 0.000) U[0,0] (y = 0.000))</td>\n      <td>1.000000</td>\n      <td>0.058</td>\n    </tr>\n    <tr>\n      <th>2</th>\n      <td>af &gt; 0.000</td>\n      <td>F[0,0](((af &lt; 0.000 | AF &lt; 0.000) &amp; cosen &gt; 0....</td>\n      <td>0.827354</td>\n      <td>0.313</td>\n    </tr>\n    <tr>\n      <th>3</th>\n      <td>MET &gt; 0.000</td>\n      <td>((MET &gt; 0.000) U[0,0] (death = 0.000))</td>\n      <td>0.928311</td>\n      <td>2.669</td>\n    </tr>\n    <tr>\n      <th>4</th>\n      <td>Resp &gt; 0.000</td>\n      <td>((Resp &gt; 0.000) U[0,0] (y = 0.000))</td>\n      <td>0.924586</td>\n      <td>0.051</td>\n    </tr>\n    <tr>\n      <th>5</th>\n      <td>BLOOD_UREA_NITROGEN &gt; 0.000</td>\n      <td>F[0,0]((BLOOD_UREA_NITROGEN &lt; 0.000 &amp; CREATINI...</td>\n      <td>0.810662</td>\n      <td>1.070</td>\n    </tr>\n    <tr>\n      <th>6</th>\n      <td>edrk &gt; 0.000</td>\n      <td>((edrk &gt; 0.000) U[0,0] (y = 0.000))</td>\n      <td>0.923455</td>\n      <td>0.050</td>\n    </tr>\n    <tr>\n      <th>7</th>\n      <td>dfa &gt; 0.000</td>\n      <td>((dfa &gt; 0.000) U[0,0] (y = 0.000))</td>\n      <td>0.839207</td>\n      <td>0.050</td>\n    </tr>\n    <tr>\n      <th>8</th>\n      <td>n_evts &lt; 0.000</td>\n      <td>G[0,0]((n_evts &lt; 0.000 -&gt; LOS &gt; 0.000))</td>\n      <td>0.956000</td>\n      <td>2.089</td>\n    </tr>\n    <tr>\n      <th>9</th>\n      <td>Mort &gt; 0.000</td>\n      <td>((Mort &gt; 0.000) U[0,0] (y = 0.000))</td>\n      <td>0.961828</td>\n      <td>0.053</td>\n    </tr>\n    <tr>\n      <th>10</th>\n      <td>TOTAL_PROTEIN &lt; 0.000</td>\n      <td>((TOTAL_PROTEIN &lt; 0.000) U[0,0] (y = 0.000))</td>\n      <td>0.297000</td>\n      <td>0.051</td>\n    </tr>\n    <tr>\n      <th>11</th>\n      <td>cosen &lt; 0.000</td>\n      <td>F[0,0](((af &lt; 0.000 | AF &lt; 0.000) &amp; cosen &gt; 0....</td>\n      <td>0.767000</td>\n      <td>0.313</td>\n    </tr>\n    <tr>\n      <th>12</th>\n      <td>y &gt; 0.000</td>\n      <td>((MET &gt; 0.000) U[0,0] (y = 0.000))</td>\n      <td>0.996141</td>\n      <td>0.058</td>\n    </tr>\n    <tr>\n      <th>13</th>\n      <td>CREATININE &gt; 0.000</td>\n      <td>F[0,0]((BLOOD_UREA_NITROGEN &lt; 0.000 &amp; CREATINI...</td>\n      <td>0.825540</td>\n      <td>1.070</td>\n    </tr>\n    <tr>\n      <th>14</th>\n      <td>G[0,0](LOS &gt; 0.000)</td>\n      <td>G[0,0]((n_evts &lt; 0.000 -&gt; LOS &gt; 0.000))</td>\n      <td>0.549797</td>\n      <td>2.089</td>\n    </tr>\n    <tr>\n      <th>15</th>\n      <td>PROTIME_INR &lt; 0.000</td>\n      <td>((PROTIME_INR &lt; 0.000) U[0,0] (y = 0.000))</td>\n      <td>0.390000</td>\n      <td>0.050</td>\n    </tr>\n    <tr>\n      <th>16</th>\n      <td>cosen &gt; 0.000</td>\n      <td>F[0,0](((af &lt; 0.000 | AF &lt; 0.000) &amp; cosen &gt; 0....</td>\n      <td>0.929048</td>\n      <td>0.313</td>\n    </tr>\n    <tr>\n      <th>17</th>\n      <td>G[0,0](n_evts &gt; 0.000)</td>\n      <td>G[0,0]((n_evts &lt; 0.000 -&gt; LOS &gt; 0.000))</td>\n      <td>0.782520</td>\n      <td>2.089</td>\n    </tr>\n    <tr>\n      <th>18</th>\n      <td>CO2 &gt; 0.000</td>\n      <td>((CO2 &gt; 0.000) U[0,0] (y = 0.000))</td>\n      <td>0.767578</td>\n      <td>0.057</td>\n    </tr>\n    <tr>\n      <th>19</th>\n      <td>Pulse &gt; 0.000</td>\n      <td>G[0,0]((hr &gt; 0.000 &amp; Pulse &gt; 0.000))</td>\n      <td>0.947977</td>\n      <td>0.539</td>\n    </tr>\n    <tr>\n      <th>20</th>\n      <td>s2_edrk &gt; 0.000</td>\n      <td>((s2_edrk &gt; 0.000) U[0,0] (y = 0.000))</td>\n      <td>0.838041</td>\n      <td>0.053</td>\n    </tr>\n    <tr>\n      <th>21</th>\n      <td>SpO2 &lt; 0.000</td>\n      <td>((SpO2 &lt; 0.000) U[0,0] (y = 0.000))</td>\n      <td>0.635000</td>\n      <td>0.056</td>\n    </tr>\n    <tr>\n      <th>22</th>\n      <td>BLOOD_UREA_NITROGEN &lt; 0.000</td>\n      <td>F[0,0]((BLOOD_UREA_NITROGEN &lt; 0.000 &amp; CREATINI...</td>\n      <td>0.657000</td>\n      <td>1.070</td>\n    </tr>\n    <tr>\n      <th>23</th>\n      <td>Sgy &gt; 0.000</td>\n      <td>((Sgy &gt; 0.000) U[0,0] (y = 0.000))</td>\n      <td>0.099000</td>\n      <td>0.051</td>\n    </tr>\n    <tr>\n      <th>24</th>\n      <td>death = 0.000</td>\n      <td>((MET &gt; 0.000) U[0,0] (death = 0.000))</td>\n      <td>0.733967</td>\n      <td>2.669</td>\n    </tr>\n    <tr>\n      <th>25</th>\n      <td>Sgy = 0.000</td>\n      <td>((Sgy &gt; 0.000) U[0,0] (y = 0.000))</td>\n      <td>0.222090</td>\n      <td>0.051</td>\n    </tr>\n    <tr>\n      <th>26</th>\n      <td>G[0,0](Pulse &gt; 0.000)</td>\n      <td>G[0,0]((hr &gt; 0.000 &amp; Pulse &gt; 0.000))</td>\n      <td>0.661585</td>\n      <td>0.539</td>\n    </tr>\n    <tr>\n      <th>27</th>\n      <td>Pulse &lt; 0.000</td>\n      <td>((Pulse &lt; 0.000) U[0,0] (y = 0.000))</td>\n      <td>0.788000</td>\n      <td>0.054</td>\n    </tr>\n    <tr>\n      <th>28</th>\n      <td>G[0,0](LOS &lt; 0.000)</td>\n      <td>G[0,0]((n_evts &lt; 0.000 -&gt; LOS &gt; 0.000))</td>\n      <td>0.750505</td>\n      <td>2.089</td>\n    </tr>\n    <tr>\n      <th>29</th>\n      <td>OXYGEN_SATURATION &gt; 0.000</td>\n      <td>((OXYGEN_SATURATION &gt; 0.000) U[0,0] (y = 0.000))</td>\n      <td>0.128000</td>\n      <td>0.054</td>\n    </tr>\n    <tr>\n      <th>30</th>\n      <td>hr &gt; 0.000</td>\n      <td>G[0,0]((hr &gt; 0.000 &amp; Pulse &gt; 0.000))</td>\n      <td>0.970620</td>\n      <td>0.539</td>\n    </tr>\n    <tr>\n      <th>31</th>\n      <td>ALT_GPT &lt; 0.000</td>\n      <td>((ALT_GPT &lt; 0.000) U[0,0] (y = 0.000))</td>\n      <td>0.256000</td>\n      <td>0.051</td>\n    </tr>\n    <tr>\n      <th>32</th>\n      <td>AF &gt; 0.000</td>\n      <td>F[0,0](((af &lt; 0.000 | AF &lt; 0.000) &amp; cosen &gt; 0....</td>\n      <td>0.896461</td>\n      <td>0.313</td>\n    </tr>\n    <tr>\n      <th>33</th>\n      <td>lds &gt; 0.000</td>\n      <td>((lds &gt; 0.000) U[0,0] (y = 0.000))</td>\n      <td>0.899870</td>\n      <td>0.050</td>\n    </tr>\n    <tr>\n      <th>34</th>\n      <td>G[0,0](n_evts &lt; 0.000)</td>\n      <td>G[0,0]((n_evts &lt; 0.000 -&gt; LOS &gt; 0.000))</td>\n      <td>0.870707</td>\n      <td>2.089</td>\n    </tr>\n    <tr>\n      <th>35</th>\n      <td>SBP &gt; 0.000</td>\n      <td>((SBP &gt; 0.000) U[0,0] (y = 0.000))</td>\n      <td>0.917706</td>\n      <td>0.050</td>\n    </tr>\n    <tr>\n      <th>36</th>\n      <td>af &lt; 0.000</td>\n      <td>F[0,0](((af &lt; 0.000 | AF &lt; 0.000) &amp; cosen &gt; 0....</td>\n      <td>0.586000</td>\n      <td>0.313</td>\n    </tr>\n    <tr>\n      <th>37</th>\n      <td>GLUCOSE &lt; 0.000</td>\n      <td>((GLUCOSE &lt; 0.000) U[0,0] (y = 0.000))</td>\n      <td>0.498000</td>\n      <td>0.051</td>\n    </tr>\n    <tr>\n      <th>38</th>\n      <td>n_edrk &gt; 0.000</td>\n      <td>((n_edrk &gt; 0.000) U[0,0] (y = 0.000))</td>\n      <td>0.980138</td>\n      <td>0.051</td>\n    </tr>\n    <tr>\n      <th>39</th>\n      <td>G[0,0](hr &gt; 0.000)</td>\n      <td>G[0,0]((hr &gt; 0.000 &amp; Pulse &gt; 0.000))</td>\n      <td>0.712398</td>\n      <td>0.539</td>\n    </tr>\n    <tr>\n      <th>40</th>\n      <td>LOS &lt; 0.000</td>\n      <td>G[0,0]((n_evts &lt; 0.000 -&gt; LOS &gt; 0.000))</td>\n      <td>0.885000</td>\n      <td>2.089</td>\n    </tr>\n    <tr>\n      <th>41</th>\n      <td>LOS &gt; 0.000</td>\n      <td>G[0,0]((n_evts &lt; 0.000 -&gt; LOS &gt; 0.000))</td>\n      <td>0.956473</td>\n      <td>2.089</td>\n    </tr>\n    <tr>\n      <th>42</th>\n      <td>O2_Flow &lt; 0.000</td>\n      <td>((O2_Flow &lt; 0.000) U[0,0] (y = 0.000))</td>\n      <td>0.742000</td>\n      <td>0.056</td>\n    </tr>\n    <tr>\n      <th>43</th>\n      <td>PHOSPHORUS &gt; 0.000</td>\n      <td>((PHOSPHORUS &gt; 0.000) U[0,0] (y = 0.000))</td>\n      <td>0.628258</td>\n      <td>0.050</td>\n    </tr>\n    <tr>\n      <th>44</th>\n      <td>death &gt; 0.000</td>\n      <td>((MET &gt; 0.000) U[0,0] (death = 0.000))</td>\n      <td>0.965821</td>\n      <td>2.669</td>\n    </tr>\n    <tr>\n      <th>45</th>\n      <td>tte &gt; 0.000</td>\n      <td>((tte &gt; 0.000) U[0,0] (y = 0.000))</td>\n      <td>0.978261</td>\n      <td>0.050</td>\n    </tr>\n    <tr>\n      <th>46</th>\n      <td>CREATININE &lt; 0.000</td>\n      <td>F[0,0]((BLOOD_UREA_NITROGEN &lt; 0.000 &amp; CREATINI...</td>\n      <td>0.675000</td>\n      <td>1.070</td>\n    </tr>\n    <tr>\n      <th>47</th>\n      <td>y &lt; 0.000</td>\n      <td>((O2_Flow &lt; 0.000) U[0,0] (y = 0.000))</td>\n      <td>0.967000</td>\n      <td>0.056</td>\n    </tr>\n    <tr>\n      <th>48</th>\n      <td>n_evts = 0.000</td>\n      <td>((n_evts &gt; 0.000) U[0,0] (y = 0.000))</td>\n      <td>0.266033</td>\n      <td>0.051</td>\n    </tr>\n    <tr>\n      <th>49</th>\n      <td>tte = 0.000</td>\n      <td>((tte &gt; 0.000) U[0,0] (y = 0.000))</td>\n      <td>0.250594</td>\n      <td>0.050</td>\n    </tr>\n    <tr>\n      <th>50</th>\n      <td>AF &lt; 0.000</td>\n      <td>F[0,0](((af &lt; 0.000 | AF &lt; 0.000) &amp; cosen &gt; 0....</td>\n      <td>0.701000</td>\n      <td>0.313</td>\n    </tr>\n    <tr>\n      <th>51</th>\n      <td>MAGNESIUM &gt; 0.000</td>\n      <td>((MAGNESIUM &gt; 0.000) U[0,0] (y = 0.000))</td>\n      <td>0.745473</td>\n      <td>0.056</td>\n    </tr>\n  </tbody>\n</table>\n</div>"
     },
     "execution_count": 9,
     "metadata": {},
     "output_type": "execute_result"
    }
   ],
   "source": [
    "countDF"
   ]
  },
  {
   "cell_type": "markdown",
   "metadata": {
    "pycharm": {
     "is_executing": true
    }
   },
   "source": [
    "## Calculate Rules / Query\n",
    "Found rules / total queries"
   ]
  },
  {
   "cell_type": "code",
   "execution_count": 10,
   "metadata": {},
   "outputs": [
    {
     "data": {
      "text/plain": "1.84"
     },
     "execution_count": 10,
     "metadata": {},
     "output_type": "execute_result"
    }
   ],
   "source": [
    "92 / 50"
   ]
  },
  {
   "cell_type": "code",
   "execution_count": 11,
   "metadata": {},
   "outputs": [
    {
     "data": {
      "text/plain": "                                                    Rule  Rule Count  \\\n53                ((MET > 0.000) U[0,0] (death = 0.000))        2669   \n57               G[0,0]((n_evts < 0.000 -> LOS > 0.000))        2089   \n56     F[0,0]((BLOOD_UREA_NITROGEN < 0.000 & CREATINI...        1070   \n47                  G[0,0]((hr > 0.000 & Pulse > 0.000))         539   \n229    F[0,0](((af < 0.000 | AF < 0.000) & cosen > 0....         313   \n...                                                  ...         ...   \n11493  G[0,0]((PLATELET_COUNT < 0.000 -> s24_hr > 0.0...           1   \n11491        G[0,0]((CREATININE < 0.000 | SpO2 < 0.000))           1   \n11490              G[0,0]((death > 0.000 | dfa < 0.000))           1   \n11489        G[0,0]((LOS > 0.000 -> TROPONIN_I > 0.000))           1   \n18602         ((POTASSIUM > 0.000) U[0,0] (srr > 0.000))           1   \n\n       Percent of Population  \n53                     2.669  \n57                     2.089  \n56                     1.070  \n47                     0.539  \n229                    0.313  \n...                      ...  \n11493                  0.001  \n11491                  0.001  \n11490                  0.001  \n11489                  0.001  \n18602                  0.001  \n\n[18603 rows x 3 columns]",
      "text/html": "<div>\n<style scoped>\n    .dataframe tbody tr th:only-of-type {\n        vertical-align: middle;\n    }\n\n    .dataframe tbody tr th {\n        vertical-align: top;\n    }\n\n    .dataframe thead th {\n        text-align: right;\n    }\n</style>\n<table border=\"1\" class=\"dataframe\">\n  <thead>\n    <tr style=\"text-align: right;\">\n      <th></th>\n      <th>Rule</th>\n      <th>Rule Count</th>\n      <th>Percent of Population</th>\n    </tr>\n  </thead>\n  <tbody>\n    <tr>\n      <th>53</th>\n      <td>((MET &gt; 0.000) U[0,0] (death = 0.000))</td>\n      <td>2669</td>\n      <td>2.669</td>\n    </tr>\n    <tr>\n      <th>57</th>\n      <td>G[0,0]((n_evts &lt; 0.000 -&gt; LOS &gt; 0.000))</td>\n      <td>2089</td>\n      <td>2.089</td>\n    </tr>\n    <tr>\n      <th>56</th>\n      <td>F[0,0]((BLOOD_UREA_NITROGEN &lt; 0.000 &amp; CREATINI...</td>\n      <td>1070</td>\n      <td>1.070</td>\n    </tr>\n    <tr>\n      <th>47</th>\n      <td>G[0,0]((hr &gt; 0.000 &amp; Pulse &gt; 0.000))</td>\n      <td>539</td>\n      <td>0.539</td>\n    </tr>\n    <tr>\n      <th>229</th>\n      <td>F[0,0](((af &lt; 0.000 | AF &lt; 0.000) &amp; cosen &gt; 0....</td>\n      <td>313</td>\n      <td>0.313</td>\n    </tr>\n    <tr>\n      <th>...</th>\n      <td>...</td>\n      <td>...</td>\n      <td>...</td>\n    </tr>\n    <tr>\n      <th>11493</th>\n      <td>G[0,0]((PLATELET_COUNT &lt; 0.000 -&gt; s24_hr &gt; 0.0...</td>\n      <td>1</td>\n      <td>0.001</td>\n    </tr>\n    <tr>\n      <th>11491</th>\n      <td>G[0,0]((CREATININE &lt; 0.000 | SpO2 &lt; 0.000))</td>\n      <td>1</td>\n      <td>0.001</td>\n    </tr>\n    <tr>\n      <th>11490</th>\n      <td>G[0,0]((death &gt; 0.000 | dfa &lt; 0.000))</td>\n      <td>1</td>\n      <td>0.001</td>\n    </tr>\n    <tr>\n      <th>11489</th>\n      <td>G[0,0]((LOS &gt; 0.000 -&gt; TROPONIN_I &gt; 0.000))</td>\n      <td>1</td>\n      <td>0.001</td>\n    </tr>\n    <tr>\n      <th>18602</th>\n      <td>((POTASSIUM &gt; 0.000) U[0,0] (srr &gt; 0.000))</td>\n      <td>1</td>\n      <td>0.001</td>\n    </tr>\n  </tbody>\n</table>\n<p>18603 rows × 3 columns</p>\n</div>"
     },
     "execution_count": 11,
     "metadata": {},
     "output_type": "execute_result"
    }
   ],
   "source": [
    "clientDF"
   ]
  },
  {
   "cell_type": "code",
   "execution_count": 11,
   "metadata": {
    "scrolled": true
   },
   "outputs": [],
   "source": []
  },
  {
   "cell_type": "markdown",
   "metadata": {},
   "source": [
    "## Calculate Likelihood of Finding Rule given Client Percent count\n",
    "graph that shows the likelihood of learning a rule vs the # of clients who actually have the rule"
   ]
  },
  {
   "cell_type": "code",
   "execution_count": 12,
   "metadata": {
    "scrolled": true
   },
   "outputs": [
    {
     "name": "stderr",
     "output_type": "stream",
     "text": [
      "<ipython-input-12-ee9cd7e4d5fb>:4: SettingWithCopyWarning: \n",
      "A value is trying to be set on a copy of a slice from a DataFrame\n",
      "\n",
      "See the caveats in the documentation: https://pandas.pydata.org/pandas-docs/stable/user_guide/indexing.html#returning-a-view-versus-a-copy\n",
      "  cdf[cdf>1.0]=1.0\n"
     ]
    },
    {
     "data": {
      "text/plain": "{0.001: 7998,\n 0.002: 3544,\n 0.003: 1969,\n 0.004: 1264,\n 0.005: 884,\n 0.006: 611,\n 0.007: 506,\n 0.008: 374,\n 0.009: 243,\n 0.01: 173,\n 0.011: 124,\n 0.012: 100,\n 0.013: 87,\n 0.014: 76,\n 0.015: 59,\n 0.017: 51,\n 0.016: 49,\n 0.019: 42,\n 0.023: 34,\n 0.021: 32,\n 0.02: 32,\n 0.018: 30,\n 0.022: 29,\n 0.027: 26,\n 0.024: 26,\n 0.028: 19,\n 0.025: 16,\n 0.03: 14,\n 0.026: 13,\n 0.033: 12,\n 0.043: 11,\n 0.032: 11,\n 0.046: 10,\n 0.044: 10,\n 0.051: 9,\n 0.05: 9,\n 0.048: 8,\n 0.045: 8,\n 0.037: 8,\n 0.031: 8,\n 0.029: 8,\n 0.04: 7,\n 0.038: 7,\n 0.049: 6,\n 0.042: 6,\n 0.034: 6,\n 0.035: 5,\n 0.047: 4,\n 0.036: 4,\n 1.0: 3,\n 0.056: 3,\n 0.053: 3,\n 0.039: 3,\n 0.054: 2,\n 0.041: 2,\n 0.539: 1,\n 0.313: 1,\n 0.058: 1,\n 0.057: 1,\n 0.052: 1}"
     },
     "execution_count": 12,
     "metadata": {},
     "output_type": "execute_result"
    }
   ],
   "source": [
    "from collections import Counter\n",
    "import operator\n",
    "cdf = clientDF['Percent of Population']\n",
    "cdf[cdf>1.0]=1.0\n",
    "dct = dict(Counter(cdf))\n",
    "dct = dict(sorted(dct.items(), key=operator.itemgetter(1), reverse=True))\n",
    "dct"
   ]
  },
  {
   "cell_type": "code",
   "execution_count": 13,
   "metadata": {
    "scrolled": true
   },
   "outputs": [
    {
     "name": "stderr",
     "output_type": "stream",
     "text": [
      "<ipython-input-13-7a1f587f99c1>:2: SettingWithCopyWarning: \n",
      "A value is trying to be set on a copy of a slice from a DataFrame\n",
      "\n",
      "See the caveats in the documentation: https://pandas.pydata.org/pandas-docs/stable/user_guide/indexing.html#returning-a-view-versus-a-copy\n",
      "  ldf[ldf>1.0]=1.0\n"
     ]
    },
    {
     "data": {
      "text/plain": "{0.61: 7,\n 0.55: 6,\n 0.44: 6,\n 0.13: 5,\n 0.48: 5,\n 0.93: 5,\n 0.96: 4,\n 0.84: 4,\n 0.75: 4,\n 0.56: 4,\n 0.5: 4,\n 0.67: 3,\n 0.98: 3,\n 0.83: 3,\n 0.71: 3,\n 0.88: 3,\n 0.92: 3,\n 0.81: 3,\n 0.54: 3,\n 0.28: 3,\n 0.1: 3,\n 0.9: 3,\n 0.77: 3,\n 0.45: 3,\n 0.85: 3,\n 0.74: 3,\n 0.66: 3,\n 0.8: 3,\n 0.25: 3,\n 0.97: 3,\n 0.41: 2,\n 0.16: 2,\n 1.0: 2,\n 0.3: 2,\n 0.01: 2,\n 0.27: 2,\n 0.91: 2,\n 0.64: 2,\n 0.15: 2,\n 0.51: 2,\n 0.62: 2,\n 0.32: 2,\n 0.35: 2,\n 0.14: 2,\n 0.33: 2,\n 0.58: 2,\n 0.78: 2,\n 0.82: 2,\n 0.73: 2,\n 0.42: 2,\n 0.52: 2,\n 0.59: 2,\n 0.4: 2,\n 0.24: 1,\n 0.99: 1,\n 0.04: 1,\n 0.6: 1,\n 0.76: 1,\n 0.89: 1,\n 0.36: 1,\n 0.53: 1,\n 0.11: 1,\n 0.39: 1,\n 0.69: 1,\n 0.95: 1,\n 0.57: 1,\n 0.49: 1,\n 0.22: 1,\n 0.79: 1,\n 0.47: 1,\n 0.86: 1,\n 0.17: 1,\n 0.26: 1,\n 0.87: 1,\n 0.03: 1,\n 0.43: 1,\n 0.65: 1,\n 0.63: 1,\n 0.68: 1,\n 0.7: 1}"
     },
     "execution_count": 13,
     "metadata": {},
     "output_type": "execute_result"
    }
   ],
   "source": [
    "ldf = ldpDF['Percent Count']\n",
    "ldf[ldf>1.0]=1.0\n",
    "ldf = ldf.round(2)\n",
    "\n",
    "lct = dict(Counter(ldf))\n",
    "lct = dict(sorted(lct.items(), key=operator.itemgetter(1), reverse=True))\n",
    "lct"
   ]
  },
  {
   "cell_type": "code",
   "execution_count": 14,
   "metadata": {},
   "outputs": [
    {
     "data": {
      "text/plain": "Text(0.5, 0, 'Fraction of Clients')"
     },
     "execution_count": 14,
     "metadata": {},
     "output_type": "execute_result"
    },
    {
     "data": {
      "text/plain": "<Figure size 864x504 with 1 Axes>",
      "image/png": "[encoded data removed]"
     },
     "metadata": {
      "needs_background": "light"
     },
     "output_type": "display_data"
    }
   ],
   "source": [
    "\n",
    "plt.figure(figsize=(12,7))\n",
    "# plt.xscale('log')\n",
    "# plt.yscale('log')\n",
    "plt.plot(dct.keys(), dct.values(), label='Client')\n",
    "# plt.plot(lct.keys(), lct.values(), label='LDP Baseline')\n",
    "plt.ylim([0, 50])\n",
    "plt.ylabel(\"Cumulative Count of Rules\")\n",
    "plt.xlabel(\"Fraction of Clients\")"
   ]
  },
  {
   "cell_type": "code",
   "execution_count": 14,
   "metadata": {},
   "outputs": [],
   "source": []
  },
  {
   "cell_type": "code",
   "execution_count": 14,
   "metadata": {},
   "outputs": [],
   "source": []
  },
  {
   "cell_type": "code",
   "execution_count": 14,
   "metadata": {},
   "outputs": [],
   "source": []
  },
  {
   "cell_type": "code",
   "execution_count": 15,
   "metadata": {},
   "outputs": [
    {
     "ename": "NameError",
     "evalue": "name 'stats' is not defined",
     "output_type": "error",
     "traceback": [
      "\u001B[0;31m---------------------------------------------------------------------------\u001B[0m",
      "\u001B[0;31mNameError\u001B[0m                                 Traceback (most recent call last)",
      "\u001B[0;32m<ipython-input-15-b598b35b02a6>\u001B[0m in \u001B[0;36m<module>\u001B[0;34m\u001B[0m\n\u001B[0;32m----> 1\u001B[0;31m \u001B[0mLL\u001B[0m \u001B[0;34m=\u001B[0m \u001B[0mnp\u001B[0m\u001B[0;34m.\u001B[0m\u001B[0msum\u001B[0m\u001B[0;34m(\u001B[0m\u001B[0mstats\u001B[0m\u001B[0;34m.\u001B[0m\u001B[0mnorm\u001B[0m\u001B[0;34m.\u001B[0m\u001B[0mlogpdf\u001B[0m\u001B[0;34m(\u001B[0m\u001B[0my\u001B[0m\u001B[0;34m,\u001B[0m \u001B[0mpred\u001B[0m\u001B[0;34m,\u001B[0m \u001B[0mstd_dev\u001B[0m\u001B[0;34m)\u001B[0m\u001B[0;34m)\u001B[0m\u001B[0;34m\u001B[0m\u001B[0;34m\u001B[0m\u001B[0m\n\u001B[0m\u001B[1;32m      2\u001B[0m \u001B[0;34m\u001B[0m\u001B[0m\n",
      "\u001B[0;31mNameError\u001B[0m: name 'stats' is not defined"
     ]
    }
   ],
   "source": [
    "LL = np.sum(stats.norm.logpdf(y, pred, std_dev))"
   ]
  },
  {
   "cell_type": "code",
   "execution_count": null,
   "metadata": {
    "scrolled": true
   },
   "outputs": [],
   "source": [
    "clientDF"
   ]
  },
  {
   "cell_type": "code",
   "execution_count": null,
   "metadata": {},
   "outputs": [],
   "source": [
    "#Might need to add the rules in clientDF that arent in the countDF --> for ldp count those would have 0\n"
   ]
  },
  {
   "cell_type": "code",
   "execution_count": null,
   "metadata": {},
   "outputs": [],
   "source": [
    "# countDF = countDF.sort_values(\"Client Count\", ascending=False)\n",
    "cdf = clientDF['Percent of Population']\n",
    "cdf[cdf>1.0]=1.0\n",
    "cdf"
   ]
  },
  {
   "cell_type": "code",
   "execution_count": null,
   "metadata": {
    "pycharm": {
     "name": "#%%\n"
    }
   },
   "outputs": [],
   "source": [
    "countDF = countDF.sort_values(\"Client Count\", ascending=False)\n",
    "df = countDF['Client Count']\n",
    "df[df>1.0]=1.0\n",
    "df"
   ]
  },
  {
   "cell_type": "code",
   "execution_count": null,
   "metadata": {
    "pycharm": {
     "name": "#%%\n"
    }
   },
   "outputs": [],
   "source": [
    "plt.figure(figsize=(12,7))\n",
    "plt.plot(cdf.values, '.', label = 'Client')\n",
    "plt.plot(df.values, '.', label = 'LDP')\n",
    "plt.xlabel(\"Rule Number\")\n",
    "plt.ylabel(\"Percent Count\")\n",
    "plt.title(\"Baseline Comparison of Found STL Structures\")\n",
    "plt.legend()"
   ]
  },
  {
   "cell_type": "code",
   "execution_count": null,
   "metadata": {
    "pycharm": {
     "name": "#%%\n"
    }
   },
   "outputs": [],
   "source": [
    "plt.figure(figsize=(12,7))\n",
    "plt.plot(cdf.values, label = 'Client Rule Structures')\n",
    "# plt.plot(df.values, '.', label = 'LDP')\n",
    "plt.vlines(x=490, ymin=0, ymax=1.0, colors='red', ls=':', lw=2, label='Learned By LDP')\n",
    "plt.xlabel(\"Rule Number\")\n",
    "plt.ylabel(\"Percent Count\")\n",
    "plt.title(\"Rules Found by LDP\")\n",
    "plt.legend()"
   ]
  },
  {
   "cell_type": "code",
   "execution_count": null,
   "metadata": {
    "pycharm": {
     "name": "#%%\n"
    }
   },
   "outputs": [],
   "source": [
    "plt.figure(figsize=(12,7))\n",
    "plt.plot(cdf-df)\n",
    "plt.xlabel(\"Rule Number\")\n",
    "plt.ylabel(\"Error Percentage\")\n",
    "plt.title(\"Error Calculation of Found STL Structures\")\n",
    "# plt.legend()"
   ]
  },
  {
   "cell_type": "code",
   "execution_count": null,
   "metadata": {},
   "outputs": [],
   "source": []
  },
  {
   "cell_type": "code",
   "execution_count": null,
   "metadata": {},
   "outputs": [],
   "source": [
    "plt.figure(figsize=(12,7))\n",
    "plt.plot(cdf.values, '.', label = 'Client')\n",
    "plt.plot(df.values, '.', label = 'LDP')\n",
    "plt.xlabel(\"Rule Number\")\n",
    "plt.ylabel(\"Percent Count\")\n",
    "plt.title(\"Baseline Comparison of Found STL Structures\")\n",
    "plt.legend()"
   ]
  },
  {
   "cell_type": "code",
   "execution_count": null,
   "metadata": {},
   "outputs": [],
   "source": [
    "plt.figure(figsize=(12,7))\n",
    "plt.plot(cdf.values, label = 'Client Rule Structures')\n",
    "# plt.plot(df.values, '.', label = 'LDP')\n",
    "plt.vlines(x=490, ymin=0, ymax=1.0, colors='red', ls=':', lw=2, label='Learned By LDP')\n",
    "plt.xlabel(\"Rule Number\")\n",
    "plt.ylabel(\"Percent Count\")\n",
    "plt.title(\"Rules Found by LDP\")\n",
    "plt.legend()"
   ]
  },
  {
   "cell_type": "code",
   "execution_count": null,
   "metadata": {},
   "outputs": [],
   "source": [
    "plt.figure(figsize=(12,7))\n",
    "plt.plot(cdf-df)\n",
    "plt.xlabel(\"Rule Number\")\n",
    "plt.ylabel(\"Error Percentage\")\n",
    "plt.title(\"Error Calculation of Found STL Structures\")\n",
    "# plt.legend()"
   ]
  },
  {
   "cell_type": "code",
   "execution_count": null,
   "metadata": {},
   "outputs": [],
   "source": []
  }
 ],
 "metadata": {
  "kernelspec": {
   "display_name": "Python 3",
   "language": "python",
   "name": "python3"
  },
  "language_info": {
   "codemirror_mode": {
    "name": "ipython",
    "version": 3
   },
   "file_extension": ".py",
   "mimetype": "text/x-python",
   "name": "python",
   "nbconvert_exporter": "python",
   "pygments_lexer": "ipython3",
   "version": "3.8.3"
  }
 },
 "nbformat": 4,
 "nbformat_minor": 1
}