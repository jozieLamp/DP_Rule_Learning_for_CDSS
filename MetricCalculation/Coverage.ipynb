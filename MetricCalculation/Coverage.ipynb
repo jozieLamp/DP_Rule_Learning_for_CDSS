{
 "cells": [
  {
   "cell_type": "code",
   "execution_count": 1,
   "metadata": {
    "pycharm": {
     "is_executing": true
    }
   },
   "outputs": [],
   "source": [
    "from SignalTemporalLogic.STLFactory import STLFactory\n",
    "import matplotlib.pyplot as plt\n",
    "plt.rc('font', size=12)\n",
    "import copy\n",
    "import pandas as pd\n",
    "import seaborn as sns\n",
    "import numpy as np\n",
    "from collections import Counter\n",
    "import warnings\n",
    "import treelib\n",
    "import re\n",
    "\n",
    "# warnings.filterwarnings('ignore')\n",
    "%matplotlib inline\n"
   ]
  },
  {
   "cell_type": "code",
   "execution_count": 2,
   "metadata": {
    "pycharm": {
     "is_executing": true
    }
   },
   "outputs": [],
   "source": [
    "#Helper Functions\n",
    "\n",
    "def loadClientRules(popSize, dataFilename):\n",
    "    clientRules = []\n",
    "    clientTrees = []\n",
    "    num = 1\n",
    "    clientsAdded = 0\n",
    "    while clientsAdded < popSize:\n",
    "        fileName = dataFilename + repr(num) + \"Rules.txt\"\n",
    "        fileFound, trees, rls = loadRuleSet(num, fileName)\n",
    "        # c.logRuleSet()\n",
    "        if fileFound:\n",
    "            clientsAdded += 1\n",
    "            clientTrees.extend(trees)\n",
    "            clientRules.extend(rls)\n",
    "\n",
    "        num += 1   \n",
    "        \n",
    "    #get nonduplicate list of trees\n",
    "    currRls = []\n",
    "    ct = []\n",
    "    for t in clientTrees:\n",
    "        strRl = t.toString()\n",
    "        strRl = re.sub('>=', '>', strRl)\n",
    "        strRl = re.sub('<=', '<', strRl)\n",
    "\n",
    "        if strRl not in currRls:\n",
    "            ct.append(t)\n",
    "            currRls.append(strRl)\n",
    "            \n",
    "    return ct, clientRules\n",
    "\n",
    "\n",
    "def loadRuleSet(num, textfile):\n",
    "    ruleSet = []\n",
    "    ruleTrees = []\n",
    "    stlFac = STLFactory()\n",
    "    try:\n",
    "        file = open(textfile, \"r\")\n",
    "        for line in file:\n",
    "            if line[0] == \"(\" and line[-2] == \")\":\n",
    "                line = line[1:-2] + \"\\n\"\n",
    "\n",
    "            rule = stlFac.constructFormulaTree(line)\n",
    "            rule.getFormulaNoParams()\n",
    "                \n",
    "            ruleTrees.append(rule)\n",
    "            \n",
    "            #fix relop for string rule\n",
    "            strRl = rule.toString()\n",
    "            strRl = re.sub('>=', '>', strRl)\n",
    "            strRl = re.sub('<=', '<', strRl)\n",
    "            ruleSet.append(strRl)\n",
    "\n",
    "        file.close()\n",
    "        return True, ruleTrees, ruleSet\n",
    "\n",
    "    except:\n",
    "        print(\"File not found for Client %d\" % (num) )\n",
    "        return False, ruleTrees, ruleSet\n",
    "            \n"
   ]
  },
  {
   "cell_type": "markdown",
   "metadata": {},
   "source": [
    "## Load Client Rules"
   ]
  },
  {
   "cell_type": "code",
   "execution_count": 3,
   "metadata": {
    "pycharm": {
     "is_executing": true
    }
   },
   "outputs": [],
   "source": [
    "#get list of client rules sorted by count\n",
    "popSize = 100\n",
    "dataFilename = \"../Data/ICU/Best/\"\n",
    "# dataFilename = \"../Data/Sepsis/Best/\""
   ]
  },
  {
   "cell_type": "code",
   "execution_count": 4,
   "metadata": {
    "pycharm": {
     "is_executing": true
    }
   },
   "outputs": [
    {
     "name": "stdout",
     "output_type": "stream",
     "text": [
      "File not found for Client 8\n",
      "File not found for Client 81\n"
     ]
    }
   ],
   "source": [
    "# Load Client Rule Trees and Text Rule Structures\n",
    "clientTrees, clientRules = loadClientRules(popSize, dataFilename)"
   ]
  },
  {
   "cell_type": "code",
   "execution_count": 5,
   "metadata": {
    "pycharm": {
     "is_executing": true
    }
   },
   "outputs": [
    {
     "data": {
      "text/html": [
       "<div>\n",
       "<style scoped>\n",
       "    .dataframe tbody tr th:only-of-type {\n",
       "        vertical-align: middle;\n",
       "    }\n",
       "\n",
       "    .dataframe tbody tr th {\n",
       "        vertical-align: top;\n",
       "    }\n",
       "\n",
       "    .dataframe thead th {\n",
       "        text-align: right;\n",
       "    }\n",
       "</style>\n",
       "<table border=\"1\" class=\"dataframe\">\n",
       "  <thead>\n",
       "    <tr style=\"text-align: right;\">\n",
       "      <th></th>\n",
       "      <th>Rule</th>\n",
       "      <th>Rule Count</th>\n",
       "      <th>Percent of Population</th>\n",
       "    </tr>\n",
       "  </thead>\n",
       "  <tbody>\n",
       "    <tr>\n",
       "      <th>69</th>\n",
       "      <td>((MET &gt; 0.000) U[0,0] (death = 0.000))</td>\n",
       "      <td>230</td>\n",
       "      <td>2.30</td>\n",
       "    </tr>\n",
       "    <tr>\n",
       "      <th>79</th>\n",
       "      <td>G[0,0]((n_evts &lt; 0.000 -&gt; LOS &gt; 0.000))</td>\n",
       "      <td>195</td>\n",
       "      <td>1.95</td>\n",
       "    </tr>\n",
       "    <tr>\n",
       "      <th>62</th>\n",
       "      <td>F[0,0]((BLOOD_UREA_NITROGEN &lt; 0.000 &amp; CREATINI...</td>\n",
       "      <td>77</td>\n",
       "      <td>0.77</td>\n",
       "    </tr>\n",
       "    <tr>\n",
       "      <th>102</th>\n",
       "      <td>G[0,0]((hr &gt; 0.000 &amp; Pulse &gt; 0.000))</td>\n",
       "      <td>46</td>\n",
       "      <td>0.46</td>\n",
       "    </tr>\n",
       "    <tr>\n",
       "      <th>619</th>\n",
       "      <td>((Mort &gt; 0.000) U[0,0] (y = 0.000))</td>\n",
       "      <td>8</td>\n",
       "      <td>0.08</td>\n",
       "    </tr>\n",
       "    <tr>\n",
       "      <th>...</th>\n",
       "      <td>...</td>\n",
       "      <td>...</td>\n",
       "      <td>...</td>\n",
       "    </tr>\n",
       "    <tr>\n",
       "      <th>1766</th>\n",
       "      <td>F[0,0]((CREATININE &lt; 0.000 -&gt; y = 0.000))</td>\n",
       "      <td>1</td>\n",
       "      <td>0.01</td>\n",
       "    </tr>\n",
       "    <tr>\n",
       "      <th>1768</th>\n",
       "      <td>G[0,0]((CHLORIDE &gt; 0.000 | GLUCOSE &lt; 0.000))</td>\n",
       "      <td>1</td>\n",
       "      <td>0.01</td>\n",
       "    </tr>\n",
       "    <tr>\n",
       "      <th>1769</th>\n",
       "      <td>F[0,0]((BLOOD_UREA_NITROGEN &lt; 0.000 -&gt; direct ...</td>\n",
       "      <td>1</td>\n",
       "      <td>0.01</td>\n",
       "    </tr>\n",
       "    <tr>\n",
       "      <th>1771</th>\n",
       "      <td>G[0,0]((s2_hr &lt; 0.000 &amp; s8_hr &gt; 0.000))</td>\n",
       "      <td>1</td>\n",
       "      <td>0.01</td>\n",
       "    </tr>\n",
       "    <tr>\n",
       "      <th>4084</th>\n",
       "      <td>G[0,0]((af &lt; 0.000 &amp; Mort &lt; 0.000))</td>\n",
       "      <td>1</td>\n",
       "      <td>0.01</td>\n",
       "    </tr>\n",
       "  </tbody>\n",
       "</table>\n",
       "<p>4085 rows × 3 columns</p>\n",
       "</div>"
      ],
      "text/plain": [
       "                                                   Rule  Rule Count  \\\n",
       "69               ((MET > 0.000) U[0,0] (death = 0.000))         230   \n",
       "79              G[0,0]((n_evts < 0.000 -> LOS > 0.000))         195   \n",
       "62    F[0,0]((BLOOD_UREA_NITROGEN < 0.000 & CREATINI...          77   \n",
       "102                G[0,0]((hr > 0.000 & Pulse > 0.000))          46   \n",
       "619                 ((Mort > 0.000) U[0,0] (y = 0.000))           8   \n",
       "...                                                 ...         ...   \n",
       "1766          F[0,0]((CREATININE < 0.000 -> y = 0.000))           1   \n",
       "1768       G[0,0]((CHLORIDE > 0.000 | GLUCOSE < 0.000))           1   \n",
       "1769  F[0,0]((BLOOD_UREA_NITROGEN < 0.000 -> direct ...           1   \n",
       "1771            G[0,0]((s2_hr < 0.000 & s8_hr > 0.000))           1   \n",
       "4084                G[0,0]((af < 0.000 & Mort < 0.000))           1   \n",
       "\n",
       "      Percent of Population  \n",
       "69                     2.30  \n",
       "79                     1.95  \n",
       "62                     0.77  \n",
       "102                    0.46  \n",
       "619                    0.08  \n",
       "...                     ...  \n",
       "1766                   0.01  \n",
       "1768                   0.01  \n",
       "1769                   0.01  \n",
       "1771                   0.01  \n",
       "4084                   0.01  \n",
       "\n",
       "[4085 rows x 3 columns]"
      ]
     },
     "execution_count": 5,
     "metadata": {},
     "output_type": "execute_result"
    }
   ],
   "source": [
    "#Make dataframe of rules and their counts\n",
    "clientDF = pd.DataFrame.from_dict(dict(Counter(clientRules)), orient='index').reset_index()\n",
    "clientDF.columns=[\"Rule\", \"Rule Count\"]\n",
    "clientDF['Percent of Population'] = clientDF['Rule Count'] / popSize\n",
    "clientDF = clientDF.sort_values(\"Rule Count\", ascending=False)\n",
    "clientDF"
   ]
  },
  {
   "cell_type": "markdown",
   "metadata": {},
   "source": [
    "## Load LDP Ruleset"
   ]
  },
  {
   "cell_type": "code",
   "execution_count": 6,
   "metadata": {
    "pycharm": {
     "is_executing": true
    },
    "scrolled": true
   },
   "outputs": [
    {
     "data": {
      "text/html": [
       "<div>\n",
       "<style scoped>\n",
       "    .dataframe tbody tr th:only-of-type {\n",
       "        vertical-align: middle;\n",
       "    }\n",
       "\n",
       "    .dataframe tbody tr th {\n",
       "        vertical-align: top;\n",
       "    }\n",
       "\n",
       "    .dataframe thead th {\n",
       "        text-align: right;\n",
       "    }\n",
       "</style>\n",
       "<table border=\"1\" class=\"dataframe\">\n",
       "  <thead>\n",
       "    <tr style=\"text-align: right;\">\n",
       "      <th></th>\n",
       "      <th>Rule</th>\n",
       "      <th>Percent Count</th>\n",
       "    </tr>\n",
       "  </thead>\n",
       "  <tbody>\n",
       "    <tr>\n",
       "      <th>0</th>\n",
       "      <td>F[0,0](O_Flow &lt; 0.000)</td>\n",
       "      <td>0.500000</td>\n",
       "    </tr>\n",
       "    <tr>\n",
       "      <th>1</th>\n",
       "      <td>F[0,0](ICU_Pt_Days = 0.000)</td>\n",
       "      <td>0.345000</td>\n",
       "    </tr>\n",
       "    <tr>\n",
       "      <th>2</th>\n",
       "      <td>F[0,0](Pulse &lt; 0.000)</td>\n",
       "      <td>0.500000</td>\n",
       "    </tr>\n",
       "    <tr>\n",
       "      <th>3</th>\n",
       "      <td>F[0,0](ALKALINE_PHOSPHATASE &gt; 0.000)</td>\n",
       "      <td>0.500000</td>\n",
       "    </tr>\n",
       "    <tr>\n",
       "      <th>4</th>\n",
       "      <td>ALKALINE_PHOSPHATASE &lt; 0.000</td>\n",
       "      <td>0.333333</td>\n",
       "    </tr>\n",
       "    <tr>\n",
       "      <th>...</th>\n",
       "      <td>...</td>\n",
       "      <td>...</td>\n",
       "    </tr>\n",
       "    <tr>\n",
       "      <th>460</th>\n",
       "      <td>G[0,0](n_evts &lt; 0.000)</td>\n",
       "      <td>0.490000</td>\n",
       "    </tr>\n",
       "    <tr>\n",
       "      <th>461</th>\n",
       "      <td>F[0,0](edrk = 0.000)</td>\n",
       "      <td>0.345000</td>\n",
       "    </tr>\n",
       "    <tr>\n",
       "      <th>462</th>\n",
       "      <td>CHLORIDE &gt; 0.000</td>\n",
       "      <td>0.333333</td>\n",
       "    </tr>\n",
       "    <tr>\n",
       "      <th>463</th>\n",
       "      <td>G[0,0](y = 0.000)</td>\n",
       "      <td>0.185000</td>\n",
       "    </tr>\n",
       "    <tr>\n",
       "      <th>464</th>\n",
       "      <td>s_hr &gt; 0.000</td>\n",
       "      <td>0.333333</td>\n",
       "    </tr>\n",
       "  </tbody>\n",
       "</table>\n",
       "<p>465 rows × 2 columns</p>\n",
       "</div>"
      ],
      "text/plain": [
       "                                     Rule  Percent Count\n",
       "0                  F[0,0](O_Flow < 0.000)       0.500000\n",
       "1             F[0,0](ICU_Pt_Days = 0.000)       0.345000\n",
       "2                   F[0,0](Pulse < 0.000)       0.500000\n",
       "3    F[0,0](ALKALINE_PHOSPHATASE > 0.000)       0.500000\n",
       "4            ALKALINE_PHOSPHATASE < 0.000       0.333333\n",
       "..                                    ...            ...\n",
       "460                G[0,0](n_evts < 0.000)       0.490000\n",
       "461                  F[0,0](edrk = 0.000)       0.345000\n",
       "462                      CHLORIDE > 0.000       0.333333\n",
       "463                     G[0,0](y = 0.000)       0.185000\n",
       "464                          s_hr > 0.000       0.333333\n",
       "\n",
       "[465 rows x 2 columns]"
      ]
     },
     "execution_count": 6,
     "metadata": {},
     "output_type": "execute_result"
    }
   ],
   "source": [
    "resultsFilename = \"../Results/ICU_Ruleset_MCTS_Baseline.csv\"\n",
    "ldpDF = pd.read_csv(resultsFilename, index_col=0)\n",
    "\n",
    "ldpTrees = []\n",
    "ldpRules = []\n",
    "\n",
    "stlFac = STLFactory()\n",
    "for r in ldpDF['Rule']:\n",
    "    rule = stlFac.constructFormulaTree(r + \"\\n\")\n",
    "    rule.getFormulaNoParams()\n",
    "\n",
    "    ldpTrees.append(rule)\n",
    "    ldpRules.append(rule.toString())\n",
    "\n",
    "\n",
    "ldpDF['Rule'] = ldpRules\n",
    "ldpDF"
   ]
  },
  {
   "cell_type": "code",
   "execution_count": 7,
   "metadata": {
    "pycharm": {
     "is_executing": true
    }
   },
   "outputs": [],
   "source": [
    "#Get count of the number of true structures matched in client rules\n",
    "\n",
    "def getTemplateNodes(temp):\n",
    "    nodes = []\n",
    "    \n",
    "    for node in temp.expand_tree(mode=treelib.Tree.DEPTH, sorting=True):\n",
    "        n = re.sub('[0-9]', '', node)\n",
    "        nodes.append(n)\n",
    "\n",
    "    return nodes\n",
    "\n",
    "def findRuleMatch(template, clientTrees):\n",
    "    ldpNodes = getTemplateNodes(template)\n",
    "    ldpVars = template.getAllVars()\n",
    "    \n",
    "    \n",
    "    for c in clientTrees:\n",
    "        # check if variables in rule\n",
    "        clVars = c.getAllVars()\n",
    "        hasVars = True\n",
    "        for v in ldpVars:\n",
    "            if v not in clVars:\n",
    "                hasVars = False\n",
    "\n",
    "        if hasVars:\n",
    "            # check for structural match\n",
    "            clientNodes = []\n",
    "\n",
    "            for node in c.expand_tree(mode=treelib.Tree.DEPTH, sorting=True):\n",
    "                n = re.sub('[0-9]', '', node)\n",
    "                clientNodes.append(n)\n",
    "\n",
    "            # print(\"client nodes\", clientNodes)\n",
    "            if nodeListMatch(ldpNodes, clientNodes):\n",
    "                return True, c.toString()  # found match\n",
    "\n",
    "    return False, None\n",
    "\n",
    "# check for match  between two lists of template nodes + client nodes\n",
    "def nodeListMatch(tempList, cList):\n",
    "    #Fix relop matches\n",
    "    tempList[:] = [x if x != \"LT\" else \"LE\" for x in tempList]\n",
    "    tempList[:] = [x if x != \"GT\" else \"GE\" for x in tempList]\n",
    "    cList[:] = [x if x != \"LT\" else \"LE\" for x in cList]\n",
    "    cList[:] = [x if x != \"GT\" else \"GE\" for x in cList]\n",
    "\n",
    "    i = 0\n",
    "    while i < len(tempList):\n",
    "        if tempList[i] in cList:\n",
    "            idx = cList.index(tempList[i]) #get idx of element of cList\n",
    "            cList = cList[idx+1:]\n",
    "        else:\n",
    "            return False\n",
    "\n",
    "        i = i+1\n",
    "\n",
    "    return True\n",
    "\n",
    "def getCoverage(thresh, ldpDF, ldpTrees, clientDF):\n",
    "    \n",
    "    #Get client rules above the threshold\n",
    "    df = clientDF[clientDF['Percent of Population'] >= thresh]\n",
    "    clientRules = df['Rule'].tolist()\n",
    "    \n",
    "    #From client rules, first make client trees\n",
    "    clientTrees = []\n",
    "    for c in clientRules:\n",
    "        c = stlFac.constructFormulaTree(c + \"\\n\")\n",
    "        clientTrees.append(c)\n",
    "    \n",
    "    #Calculate num true rules, num false rules and precision (true rules / total rules found)\n",
    "    foundRules = 0\n",
    "    nonRules = 0\n",
    "    matchLst = []\n",
    "    \n",
    "    for l in ldpTrees:\n",
    "        fnd, cRule = findRuleMatch(l, clientTrees)\n",
    "        if fnd: #check structural match --> will count partial matches as a full match\n",
    "            foundRules += 1\n",
    "            lCount = ldpDF[ldpDF[\"Rule\"] == l.toString()]['Percent Count'].item()\n",
    "            cCount = clientDF[clientDF[\"Rule\"] == cRule]['Percent of Population'].item()\n",
    "            matchLst.append([l.toString(), cRule, lCount, cCount])\n",
    "        else:\n",
    "            nonRules += 1\n",
    "            \n",
    "    \n",
    "    lst = [len(clientRules), foundRules, nonRules, foundRules / (foundRules + nonRules) ]\n",
    "    covDF = pd.DataFrame([lst], columns=[\"Total Client Rules\", \"Found Rules\", \"Non Rules\", \"Precision\"]) \n",
    "    \n",
    "    #Make DF that compares the count percentages of the ldp and client rules that were found\n",
    "    countDF = pd.DataFrame(matchLst, columns=['LDP Rule', 'Client Rule', \"LDP Count\", \"Client Count\"])\n",
    "    \n",
    "    return covDF, countDF"
   ]
  },
  {
   "cell_type": "markdown",
   "metadata": {},
   "source": [
    "## Get Coverage of Rules Above Threshold"
   ]
  },
  {
   "cell_type": "code",
   "execution_count": 9,
   "metadata": {
    "pycharm": {
     "is_executing": true
    }
   },
   "outputs": [
    {
     "data": {
      "text/html": [
       "<div>\n",
       "<style scoped>\n",
       "    .dataframe tbody tr th:only-of-type {\n",
       "        vertical-align: middle;\n",
       "    }\n",
       "\n",
       "    .dataframe tbody tr th {\n",
       "        vertical-align: top;\n",
       "    }\n",
       "\n",
       "    .dataframe thead th {\n",
       "        text-align: right;\n",
       "    }\n",
       "</style>\n",
       "<table border=\"1\" class=\"dataframe\">\n",
       "  <thead>\n",
       "    <tr style=\"text-align: right;\">\n",
       "      <th></th>\n",
       "      <th>Total Client Rules</th>\n",
       "      <th>Found Rules</th>\n",
       "      <th>Non Rules</th>\n",
       "      <th>Precision</th>\n",
       "    </tr>\n",
       "  </thead>\n",
       "  <tbody>\n",
       "    <tr>\n",
       "      <th>0</th>\n",
       "      <td>4085</td>\n",
       "      <td>387</td>\n",
       "      <td>78</td>\n",
       "      <td>0.832258</td>\n",
       "    </tr>\n",
       "  </tbody>\n",
       "</table>\n",
       "</div>"
      ],
      "text/plain": [
       "   Total Client Rules  Found Rules  Non Rules  Precision\n",
       "0                4085          387         78   0.832258"
      ]
     },
     "execution_count": 9,
     "metadata": {},
     "output_type": "execute_result"
    }
   ],
   "source": [
    "thresh = 0.01 #Percentage match count\n",
    "\n",
    "#Get Coverage\n",
    "covDF, countDF = getCoverage(thresh, ldpDF, ldpTrees, clientDF)\n",
    "covDF"
   ]
  },
  {
   "cell_type": "code",
   "execution_count": 10,
   "metadata": {
    "pycharm": {
     "is_executing": true
    },
    "scrolled": false
   },
   "outputs": [
    {
     "data": {
      "text/html": [
       "<div>\n",
       "<style scoped>\n",
       "    .dataframe tbody tr th:only-of-type {\n",
       "        vertical-align: middle;\n",
       "    }\n",
       "\n",
       "    .dataframe tbody tr th {\n",
       "        vertical-align: top;\n",
       "    }\n",
       "\n",
       "    .dataframe thead th {\n",
       "        text-align: right;\n",
       "    }\n",
       "</style>\n",
       "<table border=\"1\" class=\"dataframe\">\n",
       "  <thead>\n",
       "    <tr style=\"text-align: right;\">\n",
       "      <th></th>\n",
       "      <th>LDP Rule</th>\n",
       "      <th>Client Rule</th>\n",
       "      <th>LDP Count</th>\n",
       "      <th>Client Count</th>\n",
       "    </tr>\n",
       "  </thead>\n",
       "  <tbody>\n",
       "    <tr>\n",
       "      <th>0</th>\n",
       "      <td>F[0,0](ICU_Pt_Days = 0.000)</td>\n",
       "      <td>F[0,0]((ICU_Pt_Days &gt; 0.000 &amp; y = 0.000))</td>\n",
       "      <td>0.345000</td>\n",
       "      <td>0.04</td>\n",
       "    </tr>\n",
       "    <tr>\n",
       "      <th>1</th>\n",
       "      <td>F[0,0](Pulse &lt; 0.000)</td>\n",
       "      <td>F[0,0]((Pulse &lt; 0.000 -&gt; y &gt; 0.000))</td>\n",
       "      <td>0.500000</td>\n",
       "      <td>0.02</td>\n",
       "    </tr>\n",
       "    <tr>\n",
       "      <th>2</th>\n",
       "      <td>F[0,0](ALKALINE_PHOSPHATASE &gt; 0.000)</td>\n",
       "      <td>F[0,0]((ALKALINE_PHOSPHATASE &lt; 0.000 &amp; lds &gt; 0...</td>\n",
       "      <td>0.500000</td>\n",
       "      <td>0.01</td>\n",
       "    </tr>\n",
       "    <tr>\n",
       "      <th>3</th>\n",
       "      <td>ALKALINE_PHOSPHATASE &lt; 0.000</td>\n",
       "      <td>((ALKALINE_PHOSPHATASE &lt; 0.000) U[0,0] (y = 0....</td>\n",
       "      <td>0.333333</td>\n",
       "      <td>0.03</td>\n",
       "    </tr>\n",
       "    <tr>\n",
       "      <th>4</th>\n",
       "      <td>n_edrk &gt; 0.000</td>\n",
       "      <td>((death &gt; 0.000) U[0,0] (n_edrk &lt; 0.000))</td>\n",
       "      <td>0.333333</td>\n",
       "      <td>0.07</td>\n",
       "    </tr>\n",
       "    <tr>\n",
       "      <th>...</th>\n",
       "      <td>...</td>\n",
       "      <td>...</td>\n",
       "      <td>...</td>\n",
       "      <td>...</td>\n",
       "    </tr>\n",
       "    <tr>\n",
       "      <th>382</th>\n",
       "      <td>F[0,0](ALT_GPT &lt; 0.000)</td>\n",
       "      <td>F[0,0]((ALT_GPT &lt; 0.000 &amp; y = 0.000))</td>\n",
       "      <td>0.500000</td>\n",
       "      <td>0.02</td>\n",
       "    </tr>\n",
       "    <tr>\n",
       "      <th>383</th>\n",
       "      <td>G[0,0](n_evts &lt; 0.000)</td>\n",
       "      <td>G[0,0]((n_evts &lt; 0.000 -&gt; LOS &gt; 0.000))</td>\n",
       "      <td>0.490000</td>\n",
       "      <td>1.95</td>\n",
       "    </tr>\n",
       "    <tr>\n",
       "      <th>384</th>\n",
       "      <td>F[0,0](edrk = 0.000)</td>\n",
       "      <td>F[0,0]((edrk &gt; 0.000 -&gt; y = 0.000))</td>\n",
       "      <td>0.345000</td>\n",
       "      <td>0.03</td>\n",
       "    </tr>\n",
       "    <tr>\n",
       "      <th>385</th>\n",
       "      <td>CHLORIDE &gt; 0.000</td>\n",
       "      <td>((CHLORIDE &gt; 0.000) U[0,0] (Mort &gt; 0.000))</td>\n",
       "      <td>0.333333</td>\n",
       "      <td>0.05</td>\n",
       "    </tr>\n",
       "    <tr>\n",
       "      <th>386</th>\n",
       "      <td>G[0,0](y = 0.000)</td>\n",
       "      <td>G[0,0]((Glasgow_Coma_Scale_Total &lt; 0.000 -&gt; y ...</td>\n",
       "      <td>0.185000</td>\n",
       "      <td>0.06</td>\n",
       "    </tr>\n",
       "  </tbody>\n",
       "</table>\n",
       "<p>387 rows × 4 columns</p>\n",
       "</div>"
      ],
      "text/plain": [
       "                                 LDP Rule  \\\n",
       "0             F[0,0](ICU_Pt_Days = 0.000)   \n",
       "1                   F[0,0](Pulse < 0.000)   \n",
       "2    F[0,0](ALKALINE_PHOSPHATASE > 0.000)   \n",
       "3            ALKALINE_PHOSPHATASE < 0.000   \n",
       "4                          n_edrk > 0.000   \n",
       "..                                    ...   \n",
       "382               F[0,0](ALT_GPT < 0.000)   \n",
       "383                G[0,0](n_evts < 0.000)   \n",
       "384                  F[0,0](edrk = 0.000)   \n",
       "385                      CHLORIDE > 0.000   \n",
       "386                     G[0,0](y = 0.000)   \n",
       "\n",
       "                                           Client Rule  LDP Count  \\\n",
       "0            F[0,0]((ICU_Pt_Days > 0.000 & y = 0.000))   0.345000   \n",
       "1                 F[0,0]((Pulse < 0.000 -> y > 0.000))   0.500000   \n",
       "2    F[0,0]((ALKALINE_PHOSPHATASE < 0.000 & lds > 0...   0.500000   \n",
       "3    ((ALKALINE_PHOSPHATASE < 0.000) U[0,0] (y = 0....   0.333333   \n",
       "4            ((death > 0.000) U[0,0] (n_edrk < 0.000))   0.333333   \n",
       "..                                                 ...        ...   \n",
       "382              F[0,0]((ALT_GPT < 0.000 & y = 0.000))   0.500000   \n",
       "383            G[0,0]((n_evts < 0.000 -> LOS > 0.000))   0.490000   \n",
       "384                F[0,0]((edrk > 0.000 -> y = 0.000))   0.345000   \n",
       "385         ((CHLORIDE > 0.000) U[0,0] (Mort > 0.000))   0.333333   \n",
       "386  G[0,0]((Glasgow_Coma_Scale_Total < 0.000 -> y ...   0.185000   \n",
       "\n",
       "     Client Count  \n",
       "0            0.04  \n",
       "1            0.02  \n",
       "2            0.01  \n",
       "3            0.03  \n",
       "4            0.07  \n",
       "..            ...  \n",
       "382          0.02  \n",
       "383          1.95  \n",
       "384          0.03  \n",
       "385          0.05  \n",
       "386          0.06  \n",
       "\n",
       "[387 rows x 4 columns]"
      ]
     },
     "execution_count": 10,
     "metadata": {},
     "output_type": "execute_result"
    }
   ],
   "source": [
    "countDF"
   ]
  },
  {
   "cell_type": "markdown",
   "metadata": {
    "pycharm": {
     "is_executing": true
    }
   },
   "source": [
    "## Calculate Rules / Query\n",
    "Found rules / total queries"
   ]
  },
  {
   "cell_type": "code",
   "execution_count": null,
   "metadata": {
    "pycharm": {
     "is_executing": true
    }
   },
   "outputs": [],
   "source": [
    "92 / 50"
   ]
  },
  {
   "cell_type": "code",
   "execution_count": null,
   "metadata": {
    "pycharm": {
     "is_executing": true
    }
   },
   "outputs": [],
   "source": [
    "clientDF"
   ]
  },
  {
   "cell_type": "code",
   "execution_count": null,
   "metadata": {
    "pycharm": {
     "is_executing": true
    },
    "scrolled": true
   },
   "outputs": [],
   "source": []
  },
  {
   "cell_type": "markdown",
   "metadata": {},
   "source": [
    "## Calculate Likelihood of Finding Rule given Client Percent count\n",
    "graph that shows the likelihood of learning a rule vs the # of clients who actually have the rule"
   ]
  },
  {
   "cell_type": "code",
   "execution_count": null,
   "metadata": {
    "pycharm": {
     "is_executing": true
    }
   },
   "outputs": [],
   "source": [
    "LL = np.sum(stats.norm.logpdf(y, pred, std_dev))"
   ]
  },
  {
   "cell_type": "code",
   "execution_count": 26,
   "metadata": {
    "pycharm": {
     "is_executing": true
    },
    "scrolled": true
   },
   "outputs": [
    {
     "data": {
      "text/html": [
       "<div>\n",
       "<style scoped>\n",
       "    .dataframe tbody tr th:only-of-type {\n",
       "        vertical-align: middle;\n",
       "    }\n",
       "\n",
       "    .dataframe tbody tr th {\n",
       "        vertical-align: top;\n",
       "    }\n",
       "\n",
       "    .dataframe thead th {\n",
       "        text-align: right;\n",
       "    }\n",
       "</style>\n",
       "<table border=\"1\" class=\"dataframe\">\n",
       "  <thead>\n",
       "    <tr style=\"text-align: right;\">\n",
       "      <th></th>\n",
       "      <th>Rule</th>\n",
       "      <th>Rule Count</th>\n",
       "      <th>Percent of Population</th>\n",
       "    </tr>\n",
       "  </thead>\n",
       "  <tbody>\n",
       "    <tr>\n",
       "      <th>69</th>\n",
       "      <td>((MET &gt; 0.000) U[0,0] (death = 0.000))</td>\n",
       "      <td>230</td>\n",
       "      <td>2.30</td>\n",
       "    </tr>\n",
       "    <tr>\n",
       "      <th>79</th>\n",
       "      <td>G[0,0]((n_evts &lt; 0.000 -&gt; LOS &gt; 0.000))</td>\n",
       "      <td>195</td>\n",
       "      <td>1.95</td>\n",
       "    </tr>\n",
       "    <tr>\n",
       "      <th>62</th>\n",
       "      <td>F[0,0]((BLOOD_UREA_NITROGEN &lt; 0.000 &amp; CREATINI...</td>\n",
       "      <td>77</td>\n",
       "      <td>0.77</td>\n",
       "    </tr>\n",
       "    <tr>\n",
       "      <th>102</th>\n",
       "      <td>G[0,0]((hr &gt; 0.000 &amp; Pulse &gt; 0.000))</td>\n",
       "      <td>46</td>\n",
       "      <td>0.46</td>\n",
       "    </tr>\n",
       "    <tr>\n",
       "      <th>619</th>\n",
       "      <td>((Mort &gt; 0.000) U[0,0] (y = 0.000))</td>\n",
       "      <td>8</td>\n",
       "      <td>0.08</td>\n",
       "    </tr>\n",
       "    <tr>\n",
       "      <th>...</th>\n",
       "      <td>...</td>\n",
       "      <td>...</td>\n",
       "      <td>...</td>\n",
       "    </tr>\n",
       "    <tr>\n",
       "      <th>1766</th>\n",
       "      <td>F[0,0]((CREATININE &lt; 0.000 -&gt; y = 0.000))</td>\n",
       "      <td>1</td>\n",
       "      <td>0.01</td>\n",
       "    </tr>\n",
       "    <tr>\n",
       "      <th>1768</th>\n",
       "      <td>G[0,0]((CHLORIDE &gt; 0.000 | GLUCOSE &lt; 0.000))</td>\n",
       "      <td>1</td>\n",
       "      <td>0.01</td>\n",
       "    </tr>\n",
       "    <tr>\n",
       "      <th>1769</th>\n",
       "      <td>F[0,0]((BLOOD_UREA_NITROGEN &lt; 0.000 -&gt; direct ...</td>\n",
       "      <td>1</td>\n",
       "      <td>0.01</td>\n",
       "    </tr>\n",
       "    <tr>\n",
       "      <th>1771</th>\n",
       "      <td>G[0,0]((s2_hr &lt; 0.000 &amp; s8_hr &gt; 0.000))</td>\n",
       "      <td>1</td>\n",
       "      <td>0.01</td>\n",
       "    </tr>\n",
       "    <tr>\n",
       "      <th>4084</th>\n",
       "      <td>G[0,0]((af &lt; 0.000 &amp; Mort &lt; 0.000))</td>\n",
       "      <td>1</td>\n",
       "      <td>0.01</td>\n",
       "    </tr>\n",
       "  </tbody>\n",
       "</table>\n",
       "<p>4085 rows × 3 columns</p>\n",
       "</div>"
      ],
      "text/plain": [
       "                                                   Rule  Rule Count  \\\n",
       "69               ((MET > 0.000) U[0,0] (death = 0.000))         230   \n",
       "79              G[0,0]((n_evts < 0.000 -> LOS > 0.000))         195   \n",
       "62    F[0,0]((BLOOD_UREA_NITROGEN < 0.000 & CREATINI...          77   \n",
       "102                G[0,0]((hr > 0.000 & Pulse > 0.000))          46   \n",
       "619                 ((Mort > 0.000) U[0,0] (y = 0.000))           8   \n",
       "...                                                 ...         ...   \n",
       "1766          F[0,0]((CREATININE < 0.000 -> y = 0.000))           1   \n",
       "1768       G[0,0]((CHLORIDE > 0.000 | GLUCOSE < 0.000))           1   \n",
       "1769  F[0,0]((BLOOD_UREA_NITROGEN < 0.000 -> direct ...           1   \n",
       "1771            G[0,0]((s2_hr < 0.000 & s8_hr > 0.000))           1   \n",
       "4084                G[0,0]((af < 0.000 & Mort < 0.000))           1   \n",
       "\n",
       "      Percent of Population  \n",
       "69                     2.30  \n",
       "79                     1.95  \n",
       "62                     0.77  \n",
       "102                    0.46  \n",
       "619                    0.08  \n",
       "...                     ...  \n",
       "1766                   0.01  \n",
       "1768                   0.01  \n",
       "1769                   0.01  \n",
       "1771                   0.01  \n",
       "4084                   0.01  \n",
       "\n",
       "[4085 rows x 3 columns]"
      ]
     },
     "execution_count": 26,
     "metadata": {},
     "output_type": "execute_result"
    }
   ],
   "source": [
    "clientDF"
   ]
  },
  {
   "cell_type": "code",
   "execution_count": null,
   "metadata": {
    "pycharm": {
     "is_executing": true
    }
   },
   "outputs": [],
   "source": [
    "#Might need to add the rules in clientDF that arent in the countDF --> for ldp count those would have 0\n"
   ]
  },
  {
   "cell_type": "code",
   "execution_count": 27,
   "metadata": {},
   "outputs": [
    {
     "name": "stderr",
     "output_type": "stream",
     "text": [
      "<ipython-input-27-a7c0823d566e>:3: SettingWithCopyWarning: \n",
      "A value is trying to be set on a copy of a slice from a DataFrame\n",
      "\n",
      "See the caveats in the documentation: https://pandas.pydata.org/pandas-docs/stable/user_guide/indexing.html#returning-a-view-versus-a-copy\n",
      "  cdf[cdf>1.0]=1.0\n"
     ]
    },
    {
     "data": {
      "text/plain": [
       "69      1.00\n",
       "79      1.00\n",
       "62      0.77\n",
       "102     0.46\n",
       "619     0.08\n",
       "        ... \n",
       "1766    0.01\n",
       "1768    0.01\n",
       "1769    0.01\n",
       "1771    0.01\n",
       "4084    0.01\n",
       "Name: Percent of Population, Length: 4085, dtype: float64"
      ]
     },
     "execution_count": 27,
     "metadata": {},
     "output_type": "execute_result"
    }
   ],
   "source": [
    "# countDF = countDF.sort_values(\"Client Count\", ascending=False)\n",
    "cdf = clientDF['Percent of Population']\n",
    "cdf[cdf>1.0]=1.0\n",
    "cdf"
   ]
  },
  {
   "cell_type": "code",
   "execution_count": 17,
   "metadata": {
    "pycharm": {
     "is_executing": true
    }
   },
   "outputs": [
    {
     "name": "stderr",
     "output_type": "stream",
     "text": [
      "<ipython-input-17-0c1f5b647e99>:3: SettingWithCopyWarning: \n",
      "A value is trying to be set on a copy of a slice from a DataFrame\n",
      "\n",
      "See the caveats in the documentation: https://pandas.pydata.org/pandas-docs/stable/user_guide/indexing.html#returning-a-view-versus-a-copy\n",
      "  df[df>1.0]=1.0\n"
     ]
    },
    {
     "data": {
      "text/plain": [
       "194    1.00\n",
       "238    1.00\n",
       "228    1.00\n",
       "207    1.00\n",
       "97     1.00\n",
       "       ... \n",
       "221    0.01\n",
       "209    0.01\n",
       "280    0.01\n",
       "134    0.01\n",
       "193    0.01\n",
       "Name: Client Count, Length: 387, dtype: float64"
      ]
     },
     "execution_count": 17,
     "metadata": {},
     "output_type": "execute_result"
    }
   ],
   "source": [
    "countDF = countDF.sort_values(\"Client Count\", ascending=False)\n",
    "df = countDF['Client Count']\n",
    "df[df>1.0]=1.0\n",
    "df"
   ]
  },
  {
   "cell_type": "code",
   "execution_count": 34,
   "metadata": {
    "pycharm": {
     "is_executing": true
    }
   },
   "outputs": [
    {
     "data": {
      "text/plain": [
       "<matplotlib.legend.Legend at 0x1478623d0>"
      ]
     },
     "execution_count": 34,
     "metadata": {},
     "output_type": "execute_result"
    },
    {
     "data": {
      "image/png": "[encoded data removed]",
      "text/plain": [
       "<Figure size 864x504 with 1 Axes>"
      ]
     },
     "metadata": {
      "needs_background": "light"
     },
     "output_type": "display_data"
    }
   ],
   "source": [
    "plt.figure(figsize=(12,7))\n",
    "plt.plot(cdf.values, '.', label = 'Client')\n",
    "plt.plot(df.values, '.', label = 'LDP')\n",
    "plt.xlabel(\"Rule Number\")\n",
    "plt.ylabel(\"Percent Count\")\n",
    "plt.title(\"Baseline Comparison of Found STL Structures\")\n",
    "plt.legend()"
   ]
  },
  {
   "cell_type": "code",
   "execution_count": 39,
   "metadata": {},
   "outputs": [
    {
     "data": {
      "text/plain": [
       "<matplotlib.legend.Legend at 0x148830520>"
      ]
     },
     "execution_count": 39,
     "metadata": {},
     "output_type": "execute_result"
    },
    {
     "data": {
      "image/png": "[encoded data removed]",
      "text/plain": [
       "<Figure size 864x504 with 1 Axes>"
      ]
     },
     "metadata": {
      "needs_background": "light"
     },
     "output_type": "display_data"
    }
   ],
   "source": [
    "plt.figure(figsize=(12,7))\n",
    "plt.plot(cdf.values, label = 'Client Rule Structures')\n",
    "# plt.plot(df.values, '.', label = 'LDP')\n",
    "plt.vlines(x=490, ymin=0, ymax=1.0, colors='red', ls=':', lw=2, label='Learned By LDP')\n",
    "plt.xlabel(\"Rule Number\")\n",
    "plt.ylabel(\"Percent Count\")\n",
    "plt.title(\"Rules Found by LDP\")\n",
    "plt.legend()"
   ]
  },
  {
   "cell_type": "code",
   "execution_count": 44,
   "metadata": {},
   "outputs": [
    {
     "data": {
      "text/plain": [
       "Text(0.5, 1.0, 'Error Calculation of Found STL Structures')"
      ]
     },
     "execution_count": 44,
     "metadata": {},
     "output_type": "execute_result"
    },
    {
     "data": {
      "image/png": "[encoded data removed]",
      "text/plain": [
       "<Figure size 864x504 with 1 Axes>"
      ]
     },
     "metadata": {
      "needs_background": "light"
     },
     "output_type": "display_data"
    }
   ],
   "source": [
    "plt.figure(figsize=(12,7))\n",
    "plt.plot(cdf-df)\n",
    "plt.xlabel(\"Rule Number\")\n",
    "plt.ylabel(\"Error Percentage\")\n",
    "plt.title(\"Error Calculation of Found STL Structures\")\n",
    "# plt.legend()"
   ]
  },
  {
   "cell_type": "code",
   "execution_count": null,
   "metadata": {},
   "outputs": [],
   "source": []
  }
 ],
 "metadata": {
  "kernelspec": {
   "display_name": "Python 3",
   "language": "python",
   "name": "python3"
  },
  "language_info": {
   "codemirror_mode": {
    "name": "ipython",
    "version": 3
   },
   "file_extension": ".py",
   "mimetype": "text/x-python",
   "name": "python",
   "nbconvert_exporter": "python",
   "pygments_lexer": "ipython3",
   "version": "3.8.3"
  }
 },
 "nbformat": 4,
 "nbformat_minor": 1
}
