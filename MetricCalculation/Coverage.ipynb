{
 "cells": [
  {
   "cell_type": "code",
   "execution_count": 10,
   "metadata": {
    "pycharm": {
     "is_executing": true
    }
   },
   "outputs": [],
   "source": [
    "from SignalTemporalLogic.STLFactory import STLFactory\n",
    "import matplotlib.pyplot as plt\n",
    "plt.rc('font', size=12)\n",
    "import copy\n",
    "import pandas as pd\n",
    "import seaborn as sns\n",
    "import numpy as np\n",
    "from collections import Counter\n",
    "import warnings\n",
    "import treelib\n",
    "import re\n",
    "\n",
    "# warnings.filterwarnings('ignore')\n",
    "%matplotlib inline\n"
   ]
  },
  {
   "cell_type": "code",
   "execution_count": 12,
   "metadata": {
    "pycharm": {
     "is_executing": true
    }
   },
   "outputs": [],
   "source": [
    "#Helper Functions\n",
    "\n",
    "def loadClientRules(popSize, dataFilename):\n",
    "    clientRules = []\n",
    "    clientTrees = []\n",
    "    num = 1\n",
    "    clientsAdded = 0\n",
    "    while clientsAdded < popSize:\n",
    "        fileName = dataFilename + repr(num) + \"Rules.txt\"\n",
    "        fileFound, trees, rls = loadRuleSet(num, fileName)\n",
    "        # c.logRuleSet()\n",
    "        if fileFound:\n",
    "            clientsAdded += 1\n",
    "            clientTrees.extend(trees)\n",
    "            clientRules.extend(rls)\n",
    "\n",
    "        num += 1   \n",
    "        \n",
    "    #get nonduplicate list of trees\n",
    "    currRls = []\n",
    "    ct = []\n",
    "    for t in clientTrees:\n",
    "        strRl = t.toString()\n",
    "        strRl = re.sub('>=', '>', strRl)\n",
    "        strRl = re.sub('<=', '<', strRl)\n",
    "\n",
    "        if strRl not in currRls:\n",
    "            ct.append(t)\n",
    "            currRls.append(strRl)\n",
    "            \n",
    "    return ct, clientRules\n",
    "\n",
    "\n",
    "def loadRuleSet(num, textfile):\n",
    "    ruleSet = []\n",
    "    ruleTrees = []\n",
    "    stlFac = STLFactory()\n",
    "    try:\n",
    "        file = open(textfile, \"r\")\n",
    "        for line in file:\n",
    "            if line[0] == \"(\" and line[-2] == \")\":\n",
    "                line = line[1:-2] + \"\\n\"\n",
    "\n",
    "            rule = stlFac.constructFormulaTree(line)\n",
    "            rule.getFormulaNoParams()\n",
    "                \n",
    "            ruleTrees.append(rule)\n",
    "            \n",
    "            #fix relop for string rule\n",
    "            strRl = rule.toString()\n",
    "            strRl = re.sub('>=', '>', strRl)\n",
    "            strRl = re.sub('<=', '<', strRl)\n",
    "            ruleSet.append(strRl)\n",
    "\n",
    "        file.close()\n",
    "        return True, ruleTrees, ruleSet\n",
    "\n",
    "    except:\n",
    "        print(\"File not found for Client %d\" % (num) )\n",
    "        return False, ruleTrees, ruleSet\n",
    "            \n"
   ]
  },
  {
   "cell_type": "markdown",
   "metadata": {},
   "source": [
    "## Load Client Rules"
   ]
  },
  {
   "cell_type": "code",
   "execution_count": 13,
   "metadata": {
    "pycharm": {
     "is_executing": true
    }
   },
   "outputs": [],
   "source": [
    "#get list of client rules sorted by count\n",
    "popSize = 100\n",
    "dataFilename = \"../Data/ICU/Best/\"\n",
    "# dataFilename = \"../Data/Sepsis/Best/\""
   ]
  },
  {
   "cell_type": "code",
   "execution_count": 14,
   "metadata": {
    "pycharm": {
     "is_executing": true
    }
   },
   "outputs": [
    {
     "name": "stdout",
     "output_type": "stream",
     "text": [
      "File not found for Client 8\n",
      "File not found for Client 81\n"
     ]
    }
   ],
   "source": [
    "# Load Client Rule Trees and Text Rule Structures\n",
    "clientTrees, clientRules = loadClientRules(popSize, dataFilename)"
   ]
  },
  {
   "cell_type": "code",
   "execution_count": 15,
   "metadata": {
    "pycharm": {
     "is_executing": true
    }
   },
   "outputs": [
    {
     "data": {
      "text/html": [
       "<div>\n",
       "<style scoped>\n",
       "    .dataframe tbody tr th:only-of-type {\n",
       "        vertical-align: middle;\n",
       "    }\n",
       "\n",
       "    .dataframe tbody tr th {\n",
       "        vertical-align: top;\n",
       "    }\n",
       "\n",
       "    .dataframe thead th {\n",
       "        text-align: right;\n",
       "    }\n",
       "</style>\n",
       "<table border=\"1\" class=\"dataframe\">\n",
       "  <thead>\n",
       "    <tr style=\"text-align: right;\">\n",
       "      <th></th>\n",
       "      <th>Rule</th>\n",
       "      <th>Rule Count</th>\n",
       "      <th>Percent of Population</th>\n",
       "    </tr>\n",
       "  </thead>\n",
       "  <tbody>\n",
       "    <tr>\n",
       "      <th>69</th>\n",
       "      <td>((MET &gt; 0.000) U[0,0] (death = 0.000))</td>\n",
       "      <td>230</td>\n",
       "      <td>230.0</td>\n",
       "    </tr>\n",
       "    <tr>\n",
       "      <th>79</th>\n",
       "      <td>G[0,0]((n_evts &lt; 0.000 -&gt; LOS &gt; 0.000))</td>\n",
       "      <td>195</td>\n",
       "      <td>195.0</td>\n",
       "    </tr>\n",
       "    <tr>\n",
       "      <th>62</th>\n",
       "      <td>F[0,0]((BLOOD_UREA_NITROGEN &lt; 0.000 &amp; CREATINI...</td>\n",
       "      <td>77</td>\n",
       "      <td>77.0</td>\n",
       "    </tr>\n",
       "    <tr>\n",
       "      <th>102</th>\n",
       "      <td>G[0,0]((hr &gt; 0.000 &amp; Pulse &gt; 0.000))</td>\n",
       "      <td>46</td>\n",
       "      <td>46.0</td>\n",
       "    </tr>\n",
       "    <tr>\n",
       "      <th>619</th>\n",
       "      <td>((Mort &gt; 0.000) U[0,0] (y = 0.000))</td>\n",
       "      <td>8</td>\n",
       "      <td>8.0</td>\n",
       "    </tr>\n",
       "    <tr>\n",
       "      <th>...</th>\n",
       "      <td>...</td>\n",
       "      <td>...</td>\n",
       "      <td>...</td>\n",
       "    </tr>\n",
       "    <tr>\n",
       "      <th>1766</th>\n",
       "      <td>F[0,0]((CREATININE &lt; 0.000 -&gt; y = 0.000))</td>\n",
       "      <td>1</td>\n",
       "      <td>1.0</td>\n",
       "    </tr>\n",
       "    <tr>\n",
       "      <th>1768</th>\n",
       "      <td>G[0,0]((CHLORIDE &gt; 0.000 | GLUCOSE &lt; 0.000))</td>\n",
       "      <td>1</td>\n",
       "      <td>1.0</td>\n",
       "    </tr>\n",
       "    <tr>\n",
       "      <th>1769</th>\n",
       "      <td>F[0,0]((BLOOD_UREA_NITROGEN &lt; 0.000 -&gt; direct ...</td>\n",
       "      <td>1</td>\n",
       "      <td>1.0</td>\n",
       "    </tr>\n",
       "    <tr>\n",
       "      <th>1771</th>\n",
       "      <td>G[0,0]((s2_hr &lt; 0.000 &amp; s8_hr &gt; 0.000))</td>\n",
       "      <td>1</td>\n",
       "      <td>1.0</td>\n",
       "    </tr>\n",
       "    <tr>\n",
       "      <th>4084</th>\n",
       "      <td>G[0,0]((af &lt; 0.000 &amp; Mort &lt; 0.000))</td>\n",
       "      <td>1</td>\n",
       "      <td>1.0</td>\n",
       "    </tr>\n",
       "  </tbody>\n",
       "</table>\n",
       "<p>4085 rows × 3 columns</p>\n",
       "</div>"
      ],
      "text/plain": [
       "                                                   Rule  Rule Count  \\\n",
       "69               ((MET > 0.000) U[0,0] (death = 0.000))         230   \n",
       "79              G[0,0]((n_evts < 0.000 -> LOS > 0.000))         195   \n",
       "62    F[0,0]((BLOOD_UREA_NITROGEN < 0.000 & CREATINI...          77   \n",
       "102                G[0,0]((hr > 0.000 & Pulse > 0.000))          46   \n",
       "619                 ((Mort > 0.000) U[0,0] (y = 0.000))           8   \n",
       "...                                                 ...         ...   \n",
       "1766          F[0,0]((CREATININE < 0.000 -> y = 0.000))           1   \n",
       "1768       G[0,0]((CHLORIDE > 0.000 | GLUCOSE < 0.000))           1   \n",
       "1769  F[0,0]((BLOOD_UREA_NITROGEN < 0.000 -> direct ...           1   \n",
       "1771            G[0,0]((s2_hr < 0.000 & s8_hr > 0.000))           1   \n",
       "4084                G[0,0]((af < 0.000 & Mort < 0.000))           1   \n",
       "\n",
       "      Percent of Population  \n",
       "69                    230.0  \n",
       "79                    195.0  \n",
       "62                     77.0  \n",
       "102                    46.0  \n",
       "619                     8.0  \n",
       "...                     ...  \n",
       "1766                    1.0  \n",
       "1768                    1.0  \n",
       "1769                    1.0  \n",
       "1771                    1.0  \n",
       "4084                    1.0  \n",
       "\n",
       "[4085 rows x 3 columns]"
      ]
     },
     "execution_count": 15,
     "metadata": {},
     "output_type": "execute_result"
    }
   ],
   "source": [
    "#Make dataframe of rules and their counts\n",
    "clientDF = pd.DataFrame.from_dict(dict(Counter(clientRules)), orient='index').reset_index()\n",
    "clientDF.columns=[\"Rule\", \"Rule Count\"]\n",
    "clientDF['Percent of Population'] = clientDF['Rule Count'] / popSize * 100\n",
    "clientDF = clientDF.sort_values(\"Rule Count\", ascending=False)\n",
    "clientDF"
   ]
  },
  {
   "cell_type": "markdown",
   "metadata": {},
   "source": [
    "## Load LDP Ruleset"
   ]
  },
  {
   "cell_type": "code",
   "execution_count": 16,
   "metadata": {
    "pycharm": {
     "is_executing": true
    }
   },
   "outputs": [
    {
     "data": {
      "text/plain": [
       "['ALT_GPT > 0.000',\n",
       " 'CREATININE > 0.000',\n",
       " 'ALKALINE_PHOSPHATASE > 0.000',\n",
       " 'CHLORIDE > 0.000',\n",
       " 'CO > 0.000',\n",
       " 'Temp > 0.000',\n",
       " 'F[0,0](SBP > 0.000)',\n",
       " 'F[0,0](CREATININE > 0.000)',\n",
       " 'PARTIAL_THROMBOPLASTIN_TIME > 0.000',\n",
       " 'CALCIUM > 0.000',\n",
       " 'F[0,0](srr > 0.000)',\n",
       " 'death > 0.000',\n",
       " 'F[0,0](cosen > 0.000)',\n",
       " 'tte > 0.000',\n",
       " 'Pulse > 0.000',\n",
       " 'F[0,0](GLUCOSE > 0.000)',\n",
       " 'F[0,0](dfa > 0.000)',\n",
       " 'BLOOD_UREA_NITROGEN > 0.000',\n",
       " 'F[0,0](MAGNESIUM > 0.000)',\n",
       " 's_hr > 0.000',\n",
       " 'F[0,0](ICU_Pt_Days > 0.000)',\n",
       " 'F[0,0](CO > 0.000)',\n",
       " 'SBP > 0.000',\n",
       " 'AST_GOT > 0.000',\n",
       " 'F[0,0](CHLORIDE > 0.000)',\n",
       " 'F[0,0](SpO > 0.000)',\n",
       " 'SpO > 0.000',\n",
       " 'n_edrk > 0.000',\n",
       " 'F[0,0](lds > 0.000)',\n",
       " 'ICU_Pt_Days > 0.000',\n",
       " 'ALBUMIN > 0.000',\n",
       " 'TROPONIN_I > 0.000',\n",
       " 'F[0,0](Temp > 0.000)',\n",
       " 'F[0,0](POTASSIUM > 0.000)',\n",
       " 'edrk > 0.000',\n",
       " 'Mort > 0.000',\n",
       " 'F[0,0](Mort > 0.000)',\n",
       " 'F[0,0](Resp > 0.000)',\n",
       " 'LOS > 0.000',\n",
       " 'y > 0.000',\n",
       " 'F[0,0](LOS > 0.000)',\n",
       " 'WHITE_BLOOD_CELL_COUNT > 0.000',\n",
       " 'F[0,0](O_Flow > 0.000)',\n",
       " 'F[0,0](CALCIUM > 0.000)',\n",
       " 's_edrk > 0.000',\n",
       " 'F[0,0](PARTIAL_THROMBOPLASTIN_TIME > 0.000)',\n",
       " 'F[0,0](Pulse > 0.000)',\n",
       " 'Glasgow_Coma_Scale_Total > 0.000',\n",
       " 's_hr > 0.000',\n",
       " 's_edrk > 0.000',\n",
       " 'n_evts > 0.000',\n",
       " 'F[0,0](AF > 0.000)',\n",
       " 'hr > 0.000',\n",
       " 'srr > 0.000',\n",
       " 'F[0,0](OXYGEN_SATURATION > 0.000)',\n",
       " 's_edrk > 0.000',\n",
       " 's_hr > 0.000',\n",
       " 'F[0,0](AST_GOT > 0.000)',\n",
       " 'O_Flow > 0.000',\n",
       " 'TOTAL_PROTEIN > 0.000',\n",
       " 'F[0,0](BLOOD_UREA_NITROGEN > 0.000)',\n",
       " 'Resp > 0.000',\n",
       " 'F[0,0](Sgy > 0.000)',\n",
       " 'PROTIME_INR > 0.000',\n",
       " 'TOTAL_BILIRUBIN > 0.000',\n",
       " 'F[0,0](direct > 0.000)',\n",
       " 'F[0,0](MET > 0.000)',\n",
       " 'F[0,0](Glasgow_Coma_Scale_Total > 0.000)',\n",
       " 'MAGNESIUM > 0.000',\n",
       " 'POTASSIUM > 0.000',\n",
       " 'F[0,0](s_hr > 0.000)',\n",
       " 'af > 0.000',\n",
       " 'F[0,0](TOTAL_BILIRUBIN > 0.000)',\n",
       " 'F[0,0](n_edrk > 0.000)',\n",
       " 'Sgy > 0.000',\n",
       " 'OXYGEN_SATURATION > 0.000',\n",
       " 'F[0,0](tte > 0.000)',\n",
       " 'HEMOGLOBIN > 0.000',\n",
       " 'F[0,0](ALT_GPT > 0.000)',\n",
       " 'PLATELET_COUNT > 0.000',\n",
       " 'F[0,0](s_edrk > 0.000)',\n",
       " 'MET > 0.000',\n",
       " 'F[0,0](s_edrk > 0.000)',\n",
       " 'F[0,0](PHOSPHORUS > 0.000)',\n",
       " 'F[0,0](TOTAL_PROTEIN > 0.000)',\n",
       " 'GLUCOSE > 0.000',\n",
       " 'F[0,0](PCO > 0.000)',\n",
       " 'SODIUM > 0.000',\n",
       " 'PHOSPHORUS > 0.000',\n",
       " 'F[0,0](ALKALINE_PHOSPHATASE > 0.000)',\n",
       " 'lds > 0.000',\n",
       " 'F[0,0](s_hr > 0.000)',\n",
       " 'direct > 0.000',\n",
       " 'F[0,0](LACTIC_ACID > 0.000)',\n",
       " 'PCO > 0.000',\n",
       " 'F[0,0](PLATELET_COUNT > 0.000)',\n",
       " 'F[0,0](HEMOGLOBIN > 0.000)',\n",
       " 'F[0,0](TROPONIN_I > 0.000)',\n",
       " 'F[0,0](hr > 0.000)',\n",
       " 'F[0,0](WHITE_BLOOD_CELL_COUNT > 0.000)',\n",
       " 'AF > 0.000',\n",
       " 'cosen > 0.000',\n",
       " 'F[0,0](ALBUMIN > 0.000)',\n",
       " 'dfa > 0.000',\n",
       " 'F[0,0](y > 0.000)',\n",
       " 'F[0,0](s_hr > 0.000)',\n",
       " 'F[0,0](s_edrk > 0.000)',\n",
       " 'F[0,0](n_evts > 0.000)',\n",
       " 'F[0,0](af > 0.000)',\n",
       " 'F[0,0](SODIUM > 0.000)',\n",
       " 'F[0,0](PROTIME_INR > 0.000)',\n",
       " 'F[0,0](edrk > 0.000)']"
      ]
     },
     "execution_count": 16,
     "metadata": {},
     "output_type": "execute_result"
    }
   ],
   "source": [
    "resultsFilename = \"../Results/ICU_Ruleset_MCTS_Baseline.txt\"\n",
    "# resultsFilename = \"../Results/ICU_Ruleset_MCTS_Baseline_8000pts_100iters.txt\"\n",
    "# resultsFilename = \"../Results/Sepsis_Ruleset_MCTS_Baseline_1000pts_100iters.txt\"\n",
    "\n",
    "ldpTrees = []\n",
    "ldpRules = []\n",
    "\n",
    "file = open(resultsFilename, \"r\")\n",
    "stlFac = STLFactory()\n",
    "for line in file:\n",
    "    if line[0] == \"(\" and line[-2] == \")\":\n",
    "        line = line[1:-2] + \"\\n\"\n",
    "\n",
    "    rule = stlFac.constructFormulaTree(line)\n",
    "    rule.getFormulaNoParams()\n",
    "\n",
    "    ldpTrees.append(rule)\n",
    "    ldpRules.append(rule.toString())\n",
    "\n",
    "file.close()\n",
    "\n",
    "ldpRules"
   ]
  },
  {
   "cell_type": "code",
   "execution_count": 26,
   "metadata": {},
   "outputs": [
    {
     "data": {
      "text/html": [
       "<div>\n",
       "<style scoped>\n",
       "    .dataframe tbody tr th:only-of-type {\n",
       "        vertical-align: middle;\n",
       "    }\n",
       "\n",
       "    .dataframe tbody tr th {\n",
       "        vertical-align: top;\n",
       "    }\n",
       "\n",
       "    .dataframe thead th {\n",
       "        text-align: right;\n",
       "    }\n",
       "</style>\n",
       "<table border=\"1\" class=\"dataframe\">\n",
       "  <thead>\n",
       "    <tr style=\"text-align: right;\">\n",
       "      <th></th>\n",
       "      <th>Unnamed: 0</th>\n",
       "      <th>Rule</th>\n",
       "      <th>Percent Count</th>\n",
       "    </tr>\n",
       "  </thead>\n",
       "  <tbody>\n",
       "  </tbody>\n",
       "</table>\n",
       "</div>"
      ],
      "text/plain": [
       "Empty DataFrame\n",
       "Columns: [Unnamed: 0, Rule, Percent Count]\n",
       "Index: []"
      ]
     },
     "execution_count": 26,
     "metadata": {},
     "output_type": "execute_result"
    }
   ],
   "source": [
    "#TODO here- add \n",
    "resultsFilename = \"../Results/ICU_Ruleset_MCTS_Baseline.csv\"\n",
    "ldpDF = pd.read_csv(resultsFilename)\n",
    "\n",
    "ldpTrees = []\n",
    "ldpRules = []\n",
    "\n",
    "stlFac = STLFactory()\n",
    "for r in ldpDF['Rule']:\n",
    "    rule = stlFac.constructFormulaTree(r)\n",
    "    rule.getFormulaNoParams()\n",
    "\n",
    "    ldpTrees.append(rule)\n",
    "    ldpRules.append(rule.toString())\n",
    "\n",
    "\n",
    "ldpDF"
   ]
  },
  {
   "cell_type": "code",
   "execution_count": 17,
   "metadata": {
    "pycharm": {
     "is_executing": true,
     "name": "#%%\n"
    }
   },
   "outputs": [],
   "source": [
    "#Get count of the number of true structures matched in client rules\n",
    "\n",
    "def getTemplateNodes(temp):\n",
    "    nodes = []\n",
    "    \n",
    "    for node in temp.expand_tree(mode=treelib.Tree.DEPTH, sorting=True):\n",
    "        n = re.sub('[0-9]', '', node)\n",
    "        nodes.append(n)\n",
    "\n",
    "    return nodes\n",
    "\n",
    "def findRuleMatch(template, clientTrees):\n",
    "    ldpNodes = getTemplateNodes(template)\n",
    "    ldpVars = template.getAllVars()\n",
    "    \n",
    "    \n",
    "    for c in clientTrees:\n",
    "        # check if variables in rule\n",
    "        clVars = c.getAllVars()\n",
    "        hasVars = True\n",
    "        for v in ldpVars:\n",
    "            if v not in clVars:\n",
    "                hasVars = False\n",
    "\n",
    "        if hasVars:\n",
    "            # check for structural match\n",
    "            clientNodes = []\n",
    "\n",
    "            for node in c.expand_tree(mode=treelib.Tree.DEPTH, sorting=True):\n",
    "                n = re.sub('[0-9]', '', node)\n",
    "                clientNodes.append(n)\n",
    "\n",
    "            # print(\"client nodes\", clientNodes)\n",
    "            if nodeListMatch(ldpNodes, clientNodes):\n",
    "                return True  # found match\n",
    "\n",
    "    return False\n",
    "\n",
    "# check for match  between two lists of template nodes + client nodes\n",
    "def nodeListMatch(tempList, cList):\n",
    "    #Fix relop matches\n",
    "    tempList[:] = [x if x != \"LT\" else \"LE\" for x in tempList]\n",
    "    tempList[:] = [x if x != \"GT\" else \"GE\" for x in tempList]\n",
    "    cList[:] = [x if x != \"LT\" else \"LE\" for x in cList]\n",
    "    cList[:] = [x if x != \"GT\" else \"GE\" for x in cList]\n",
    "\n",
    "    i = 0\n",
    "    while i < len(tempList):\n",
    "        if tempList[i] in cList:\n",
    "            idx = cList.index(tempList[i]) #get idx of element of cList\n",
    "            cList = cList[idx+1:]\n",
    "        else:\n",
    "            return False\n",
    "\n",
    "        i = i+1\n",
    "\n",
    "    return True\n",
    "\n",
    "def getCoverage(ldpTrees, clientRules):\n",
    "    \n",
    "    #From client rules, first make client trees\n",
    "    clientTrees = []\n",
    "    for c in clientRules:\n",
    "        c = stlFac.constructFormulaTree(c + \"\\n\")\n",
    "        clientTrees.append(c)\n",
    "    \n",
    "    #Calculate num true rules, num false rules and precision (true rules / total rules found)\n",
    "    foundRules = 0\n",
    "    nonRules = 0\n",
    "    \n",
    "    for l in ldpTrees:\n",
    "        if findRuleMatch(l, clientTrees): #check structural match --> will count partial matches as a full match\n",
    "            foundRules += 1\n",
    "        else:\n",
    "            nonRules += 1\n",
    "            \n",
    "    \n",
    "    lst = [len(clientRules), foundRules, nonRules, foundRules / (foundRules + nonRules) ]\n",
    "    df = pd.DataFrame([lst], columns=[\"Total Client Rules\", \"Found Rules\", \"Non Rules\", \"Precision\"])        \n",
    "    \n",
    "    return df\n"
   ]
  },
  {
   "cell_type": "markdown",
   "metadata": {
    "pycharm": {
     "name": "#%% md\n"
    }
   },
   "source": [
    "## Get Coverage of Rules Above Threshold"
   ]
  },
  {
   "cell_type": "code",
   "execution_count": 23,
   "metadata": {
    "pycharm": {
     "is_executing": true
    }
   },
   "outputs": [
    {
     "data": {
      "text/html": [
       "<div>\n",
       "<style scoped>\n",
       "    .dataframe tbody tr th:only-of-type {\n",
       "        vertical-align: middle;\n",
       "    }\n",
       "\n",
       "    .dataframe tbody tr th {\n",
       "        vertical-align: top;\n",
       "    }\n",
       "\n",
       "    .dataframe thead th {\n",
       "        text-align: right;\n",
       "    }\n",
       "</style>\n",
       "<table border=\"1\" class=\"dataframe\">\n",
       "  <thead>\n",
       "    <tr style=\"text-align: right;\">\n",
       "      <th></th>\n",
       "      <th>Total Client Rules</th>\n",
       "      <th>Found Rules</th>\n",
       "      <th>Non Rules</th>\n",
       "      <th>Precision</th>\n",
       "    </tr>\n",
       "  </thead>\n",
       "  <tbody>\n",
       "    <tr>\n",
       "      <th>0</th>\n",
       "      <td>4085</td>\n",
       "      <td>92</td>\n",
       "      <td>20</td>\n",
       "      <td>0.821429</td>\n",
       "    </tr>\n",
       "  </tbody>\n",
       "</table>\n",
       "</div>"
      ],
      "text/plain": [
       "   Total Client Rules  Found Rules  Non Rules  Precision\n",
       "0                4085           92         20   0.821429"
      ]
     },
     "execution_count": 23,
     "metadata": {},
     "output_type": "execute_result"
    }
   ],
   "source": [
    "thresh = 1 #Percentage match count\n",
    "\n",
    "#Get client rules above the threshold\n",
    "df = clientDF[clientDF['Percent of Population'] >= thresh]\n",
    "clientThreshRules = df['Rule'].tolist()\n",
    "\n",
    "#Get Coverage\n",
    "getCoverage(ldpTrees, clientThreshRules)"
   ]
  },
  {
   "cell_type": "markdown",
   "metadata": {
    "pycharm": {
     "is_executing": true,
     "name": "#%% md\n"
    }
   },
   "source": [
    "## Calculate Rules / Query\n",
    "Found rules / total queries"
   ]
  },
  {
   "cell_type": "code",
   "execution_count": 20,
   "metadata": {},
   "outputs": [
    {
     "data": {
      "text/plain": [
       "1.84"
      ]
     },
     "execution_count": 20,
     "metadata": {},
     "output_type": "execute_result"
    }
   ],
   "source": [
    "92 / 50"
   ]
  },
  {
   "cell_type": "code",
   "execution_count": null,
   "outputs": [],
   "source": [
    "clientDF"
   ],
   "metadata": {
    "collapsed": false,
    "pycharm": {
     "name": "#%%\n"
    }
   }
  },
  {
   "cell_type": "code",
   "execution_count": null,
   "outputs": [],
   "source": [],
   "metadata": {
    "collapsed": false,
    "pycharm": {
     "name": "#%%\n"
    }
   }
  },
  {
   "cell_type": "markdown",
   "source": [
    "## Calculate Likelihood of Finding Rule given Client Percent count\n",
    "graph that shows the likelihood of learning a rule vs the # of clients who actually have the rule"
   ],
   "metadata": {
    "collapsed": false
   }
  },
  {
   "cell_type": "code",
   "execution_count": null,
   "outputs": [],
   "source": [
    "LL = np.sum(stats.norm.logpdf(y, pred, std_dev))"
   ],
   "metadata": {
    "collapsed": false,
    "pycharm": {
     "name": "#%%\n"
    }
   }
  },
  {
   "cell_type": "code",
   "execution_count": null,
   "outputs": [],
   "source": [],
   "metadata": {
    "collapsed": false,
    "pycharm": {
     "name": "#%%\n"
    }
   }
  },
  {
   "cell_type": "code",
   "execution_count": null,
   "outputs": [],
   "source": [],
   "metadata": {
    "collapsed": false,
    "pycharm": {
     "name": "#%%\n"
    }
   }
  },
  {
   "cell_type": "code",
   "execution_count": null,
   "outputs": [],
   "source": [],
   "metadata": {
    "collapsed": false,
    "pycharm": {
     "name": "#%%\n"
    }
   }
  },
  {
   "cell_type": "code",
   "execution_count": null,
   "outputs": [],
   "source": [],
   "metadata": {
    "collapsed": false,
    "pycharm": {
     "name": "#%%\n"
    }
   }
  },
  {
   "cell_type": "code",
   "execution_count": 19,
   "metadata": {
    "pycharm": {
     "is_executing": true
    }
   },
   "outputs": [
    {
     "data": {
      "text/html": [
       "<div>\n",
       "<style scoped>\n",
       "    .dataframe tbody tr th:only-of-type {\n",
       "        vertical-align: middle;\n",
       "    }\n",
       "\n",
       "    .dataframe tbody tr th {\n",
       "        vertical-align: top;\n",
       "    }\n",
       "\n",
       "    .dataframe thead th {\n",
       "        text-align: right;\n",
       "    }\n",
       "</style>\n",
       "<table border=\"1\" class=\"dataframe\">\n",
       "  <thead>\n",
       "    <tr style=\"text-align: right;\">\n",
       "      <th></th>\n",
       "      <th>Rule</th>\n",
       "      <th>Rule Count</th>\n",
       "      <th>Percent of Population</th>\n",
       "    </tr>\n",
       "  </thead>\n",
       "  <tbody>\n",
       "    <tr>\n",
       "      <th>69</th>\n",
       "      <td>((MET &gt; 0.000) U[0,0] (death = 0.000))</td>\n",
       "      <td>230</td>\n",
       "      <td>230.0</td>\n",
       "    </tr>\n",
       "    <tr>\n",
       "      <th>79</th>\n",
       "      <td>G[0,0]((n_evts &lt; 0.000 -&gt; LOS &gt; 0.000))</td>\n",
       "      <td>195</td>\n",
       "      <td>195.0</td>\n",
       "    </tr>\n",
       "    <tr>\n",
       "      <th>62</th>\n",
       "      <td>F[0,0]((BLOOD_UREA_NITROGEN &lt; 0.000 &amp; CREATINI...</td>\n",
       "      <td>77</td>\n",
       "      <td>77.0</td>\n",
       "    </tr>\n",
       "    <tr>\n",
       "      <th>102</th>\n",
       "      <td>G[0,0]((hr &gt; 0.000 &amp; Pulse &gt; 0.000))</td>\n",
       "      <td>46</td>\n",
       "      <td>46.0</td>\n",
       "    </tr>\n",
       "    <tr>\n",
       "      <th>619</th>\n",
       "      <td>((Mort &gt; 0.000) U[0,0] (y = 0.000))</td>\n",
       "      <td>8</td>\n",
       "      <td>8.0</td>\n",
       "    </tr>\n",
       "    <tr>\n",
       "      <th>...</th>\n",
       "      <td>...</td>\n",
       "      <td>...</td>\n",
       "      <td>...</td>\n",
       "    </tr>\n",
       "    <tr>\n",
       "      <th>1766</th>\n",
       "      <td>F[0,0]((CREATININE &lt; 0.000 -&gt; y = 0.000))</td>\n",
       "      <td>1</td>\n",
       "      <td>1.0</td>\n",
       "    </tr>\n",
       "    <tr>\n",
       "      <th>1768</th>\n",
       "      <td>G[0,0]((CHLORIDE &gt; 0.000 | GLUCOSE &lt; 0.000))</td>\n",
       "      <td>1</td>\n",
       "      <td>1.0</td>\n",
       "    </tr>\n",
       "    <tr>\n",
       "      <th>1769</th>\n",
       "      <td>F[0,0]((BLOOD_UREA_NITROGEN &lt; 0.000 -&gt; direct ...</td>\n",
       "      <td>1</td>\n",
       "      <td>1.0</td>\n",
       "    </tr>\n",
       "    <tr>\n",
       "      <th>1771</th>\n",
       "      <td>G[0,0]((s2_hr &lt; 0.000 &amp; s8_hr &gt; 0.000))</td>\n",
       "      <td>1</td>\n",
       "      <td>1.0</td>\n",
       "    </tr>\n",
       "    <tr>\n",
       "      <th>4084</th>\n",
       "      <td>G[0,0]((af &lt; 0.000 &amp; Mort &lt; 0.000))</td>\n",
       "      <td>1</td>\n",
       "      <td>1.0</td>\n",
       "    </tr>\n",
       "  </tbody>\n",
       "</table>\n",
       "<p>4085 rows × 3 columns</p>\n",
       "</div>"
      ],
      "text/plain": [
       "                                                   Rule  Rule Count  \\\n",
       "69               ((MET > 0.000) U[0,0] (death = 0.000))         230   \n",
       "79              G[0,0]((n_evts < 0.000 -> LOS > 0.000))         195   \n",
       "62    F[0,0]((BLOOD_UREA_NITROGEN < 0.000 & CREATINI...          77   \n",
       "102                G[0,0]((hr > 0.000 & Pulse > 0.000))          46   \n",
       "619                 ((Mort > 0.000) U[0,0] (y = 0.000))           8   \n",
       "...                                                 ...         ...   \n",
       "1766          F[0,0]((CREATININE < 0.000 -> y = 0.000))           1   \n",
       "1768       G[0,0]((CHLORIDE > 0.000 | GLUCOSE < 0.000))           1   \n",
       "1769  F[0,0]((BLOOD_UREA_NITROGEN < 0.000 -> direct ...           1   \n",
       "1771            G[0,0]((s2_hr < 0.000 & s8_hr > 0.000))           1   \n",
       "4084                G[0,0]((af < 0.000 & Mort < 0.000))           1   \n",
       "\n",
       "      Percent of Population  \n",
       "69                    230.0  \n",
       "79                    195.0  \n",
       "62                     77.0  \n",
       "102                    46.0  \n",
       "619                     8.0  \n",
       "...                     ...  \n",
       "1766                    1.0  \n",
       "1768                    1.0  \n",
       "1769                    1.0  \n",
       "1771                    1.0  \n",
       "4084                    1.0  \n",
       "\n",
       "[4085 rows x 3 columns]"
      ]
     },
     "execution_count": 19,
     "metadata": {},
     "output_type": "execute_result"
    }
   ],
   "source": []
  },
  {
   "cell_type": "code",
   "execution_count": null,
   "metadata": {
    "pycharm": {
     "is_executing": true
    }
   },
   "outputs": [],
   "source": []
  },
  {
   "cell_type": "markdown",
   "metadata": {},
   "source": [
    "## Calculate Likelihood of Finding Rule given Client Percent count\n",
    "graph that shows the likelihood of learning a rule vs the # of clients who actually have the rule"
   ]
  },
  {
   "cell_type": "code",
   "execution_count": null,
   "metadata": {},
   "outputs": [],
   "source": [
    "LL = np.sum(stats.norm.logpdf(y, pred, std_dev))"
   ]
  },
  {
   "cell_type": "code",
   "execution_count": null,
   "metadata": {},
   "outputs": [],
   "source": []
  },
  {
   "cell_type": "code",
   "execution_count": null,
   "metadata": {},
   "outputs": [],
   "source": []
  },
  {
   "cell_type": "code",
   "execution_count": null,
   "metadata": {},
   "outputs": [],
   "source": []
  },
  {
   "cell_type": "code",
   "execution_count": null,
   "metadata": {},
   "outputs": [],
   "source": []
  }
 ],
 "metadata": {
  "kernelspec": {
   "display_name": "Python 3",
   "language": "python",
   "name": "python3"
  },
  "language_info": {
   "codemirror_mode": {
    "name": "ipython",
    "version": 3
   },
   "file_extension": ".py",
   "mimetype": "text/x-python",
   "name": "python",
   "nbconvert_exporter": "python",
   "pygments_lexer": "ipython3",
   "version": "3.8.3"
  }
 },
 "nbformat": 4,
 "nbformat_minor": 1
}