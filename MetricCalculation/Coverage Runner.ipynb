{
 "cells": [
  {
   "cell_type": "code",
   "execution_count": 1,
   "metadata": {
    "pycharm": {
     "is_executing": true
    }
   },
   "outputs": [],
   "source": [
    "import matplotlib.pyplot as plt\n",
    "plt.rc('font', size=12)\n",
    "import pandas as pd\n",
    "import seaborn as sns\n",
    "import warnings \n",
    "\n",
    "import Coverage as cov\n",
    "\n",
    "warnings.filterwarnings('ignore')\n",
    "%matplotlib inline\n",
    "\n",
    "%load_ext autoreload\n",
    "%autoreload 2"
   ]
  },
  {
   "cell_type": "markdown",
   "metadata": {},
   "source": [
    "## Params"
   ]
  },
  {
   "cell_type": "code",
   "execution_count": 7,
   "metadata": {
    "pycharm": {
     "is_executing": true
    }
   },
   "outputs": [],
   "source": [
    "#get list of client rules sorted by count\n",
    "popSize = 100\n",
    "clientFilename = \"../Data/ICU/Best/\"\n",
    "# dataFilename = \"../Data/Sepsis/Best/\"\n",
    "\n",
    "ldpFilename = \"../Results/ICU_Ruleset_MCTS_Test.csv\"\n",
    "graphName = '../Results/Graphs/test' #Name of count coverage graphs\n",
    "popThresh = 0.01 #Percentage match count\n"
   ]
  },
  {
   "cell_type": "markdown",
   "metadata": {},
   "source": [
    "## Load Client Rules"
   ]
  },
  {
   "cell_type": "code",
   "execution_count": 3,
   "metadata": {
    "pycharm": {
     "is_executing": true
    }
   },
   "outputs": [
    {
     "name": "stdout",
     "output_type": "stream",
     "text": [
      "File not found for Client 8\n",
      "File not found for Client 81\n"
     ]
    },
    {
     "data": {
      "text/html": [
       "<div>\n",
       "<style scoped>\n",
       "    .dataframe tbody tr th:only-of-type {\n",
       "        vertical-align: middle;\n",
       "    }\n",
       "\n",
       "    .dataframe tbody tr th {\n",
       "        vertical-align: top;\n",
       "    }\n",
       "\n",
       "    .dataframe thead th {\n",
       "        text-align: right;\n",
       "    }\n",
       "</style>\n",
       "<table border=\"1\" class=\"dataframe\">\n",
       "  <thead>\n",
       "    <tr style=\"text-align: right;\">\n",
       "      <th></th>\n",
       "      <th>Rule</th>\n",
       "      <th>Rule Count</th>\n",
       "      <th>Percent of Population</th>\n",
       "    </tr>\n",
       "  </thead>\n",
       "  <tbody>\n",
       "    <tr>\n",
       "      <th>53</th>\n",
       "      <td>((MET &gt; 0.000) U[0,0] (death = 0.000))</td>\n",
       "      <td>231</td>\n",
       "      <td>1.00</td>\n",
       "    </tr>\n",
       "    <tr>\n",
       "      <th>57</th>\n",
       "      <td>G[0,0]((n_evts &lt; 0.000 -&gt; LOS &gt; 0.000))</td>\n",
       "      <td>203</td>\n",
       "      <td>1.00</td>\n",
       "    </tr>\n",
       "    <tr>\n",
       "      <th>56</th>\n",
       "      <td>F[0,0]((BLOOD_UREA_NITROGEN &lt; 0.000 &amp; CREATINI...</td>\n",
       "      <td>74</td>\n",
       "      <td>0.74</td>\n",
       "    </tr>\n",
       "    <tr>\n",
       "      <th>229</th>\n",
       "      <td>F[0,0](((af &lt; 0.000 | AF &lt; 0.000) &amp; cosen &gt; 0....</td>\n",
       "      <td>42</td>\n",
       "      <td>0.42</td>\n",
       "    </tr>\n",
       "    <tr>\n",
       "      <th>47</th>\n",
       "      <td>G[0,0]((hr &gt; 0.000 &amp; Pulse &gt; 0.000))</td>\n",
       "      <td>39</td>\n",
       "      <td>0.39</td>\n",
       "    </tr>\n",
       "    <tr>\n",
       "      <th>...</th>\n",
       "      <td>...</td>\n",
       "      <td>...</td>\n",
       "      <td>...</td>\n",
       "    </tr>\n",
       "    <tr>\n",
       "      <th>1831</th>\n",
       "      <td>G[0,0]((edrk &gt; 0.000 -&gt; ICU_Pt_Days &lt; 0.000))</td>\n",
       "      <td>1</td>\n",
       "      <td>0.01</td>\n",
       "    </tr>\n",
       "    <tr>\n",
       "      <th>1832</th>\n",
       "      <td>F[0,0]((af &lt; 0.000 &amp; Mort &lt; 0.000))</td>\n",
       "      <td>1</td>\n",
       "      <td>0.01</td>\n",
       "    </tr>\n",
       "    <tr>\n",
       "      <th>1834</th>\n",
       "      <td>G[0,0]((s24_edrk &lt; 0.000 &amp; s8_edrk &gt; 0.000))</td>\n",
       "      <td>1</td>\n",
       "      <td>0.01</td>\n",
       "    </tr>\n",
       "    <tr>\n",
       "      <th>1835</th>\n",
       "      <td>G[0,0]((death &lt; 0.000 &amp; s2_edrk &gt; 0.000))</td>\n",
       "      <td>1</td>\n",
       "      <td>0.01</td>\n",
       "    </tr>\n",
       "    <tr>\n",
       "      <th>4210</th>\n",
       "      <td>G[0,0]((hr &gt; 0.000 -&gt; SBP &gt; 0.000))</td>\n",
       "      <td>1</td>\n",
       "      <td>0.01</td>\n",
       "    </tr>\n",
       "  </tbody>\n",
       "</table>\n",
       "<p>4211 rows × 3 columns</p>\n",
       "</div>"
      ],
      "text/plain": [
       "                                                   Rule  Rule Count  \\\n",
       "53               ((MET > 0.000) U[0,0] (death = 0.000))         231   \n",
       "57              G[0,0]((n_evts < 0.000 -> LOS > 0.000))         203   \n",
       "56    F[0,0]((BLOOD_UREA_NITROGEN < 0.000 & CREATINI...          74   \n",
       "229   F[0,0](((af < 0.000 | AF < 0.000) & cosen > 0....          42   \n",
       "47                 G[0,0]((hr > 0.000 & Pulse > 0.000))          39   \n",
       "...                                                 ...         ...   \n",
       "1831      G[0,0]((edrk > 0.000 -> ICU_Pt_Days < 0.000))           1   \n",
       "1832                F[0,0]((af < 0.000 & Mort < 0.000))           1   \n",
       "1834       G[0,0]((s24_edrk < 0.000 & s8_edrk > 0.000))           1   \n",
       "1835          G[0,0]((death < 0.000 & s2_edrk > 0.000))           1   \n",
       "4210                G[0,0]((hr > 0.000 -> SBP > 0.000))           1   \n",
       "\n",
       "      Percent of Population  \n",
       "53                     1.00  \n",
       "57                     1.00  \n",
       "56                     0.74  \n",
       "229                    0.42  \n",
       "47                     0.39  \n",
       "...                     ...  \n",
       "1831                   0.01  \n",
       "1832                   0.01  \n",
       "1834                   0.01  \n",
       "1835                   0.01  \n",
       "4210                   0.01  \n",
       "\n",
       "[4211 rows x 3 columns]"
      ]
     },
     "execution_count": 3,
     "metadata": {},
     "output_type": "execute_result"
    }
   ],
   "source": [
    "# Load Client Rule Trees and Text Rule Structures, and get dataframe of rules and their counts\n",
    "clientTrees, clientRules, clientDF = cov.loadClientRules(popSize, clientFilename)\n",
    "clientDF"
   ]
  },
  {
   "cell_type": "markdown",
   "metadata": {},
   "source": [
    "## Load LDP Ruleset"
   ]
  },
  {
   "cell_type": "code",
   "execution_count": 8,
   "metadata": {
    "pycharm": {
     "is_executing": true
    },
    "scrolled": false
   },
   "outputs": [
    {
     "data": {
      "text/html": [
       "<div>\n",
       "<style scoped>\n",
       "    .dataframe tbody tr th:only-of-type {\n",
       "        vertical-align: middle;\n",
       "    }\n",
       "\n",
       "    .dataframe tbody tr th {\n",
       "        vertical-align: top;\n",
       "    }\n",
       "\n",
       "    .dataframe thead th {\n",
       "        text-align: right;\n",
       "    }\n",
       "</style>\n",
       "<table border=\"1\" class=\"dataframe\">\n",
       "  <thead>\n",
       "    <tr style=\"text-align: right;\">\n",
       "      <th></th>\n",
       "      <th>Rule</th>\n",
       "      <th>Percent Count</th>\n",
       "    </tr>\n",
       "  </thead>\n",
       "  <tbody>\n",
       "    <tr>\n",
       "      <th>4</th>\n",
       "      <td>G[0,0]((n_evts &lt; 0.000 | lds &gt; 0.000))</td>\n",
       "      <td>0.489</td>\n",
       "    </tr>\n",
       "    <tr>\n",
       "      <th>6</th>\n",
       "      <td>G[0,0]((n_evts &lt; 0.000 | hr = 0.000))</td>\n",
       "      <td>0.489</td>\n",
       "    </tr>\n",
       "    <tr>\n",
       "      <th>0</th>\n",
       "      <td>F[0,0]((death &gt; 0.000 &amp; n_evts = 0.000))</td>\n",
       "      <td>0.375</td>\n",
       "    </tr>\n",
       "    <tr>\n",
       "      <th>7</th>\n",
       "      <td>F[0,0]((death &gt; 0.000 &amp; Sgy &gt; 0.000))</td>\n",
       "      <td>0.364</td>\n",
       "    </tr>\n",
       "    <tr>\n",
       "      <th>1</th>\n",
       "      <td>G[0,0]((direct &lt; 0.000 &amp; SBP = 0.000))</td>\n",
       "      <td>0.298</td>\n",
       "    </tr>\n",
       "    <tr>\n",
       "      <th>5</th>\n",
       "      <td>G[0,0]((direct &lt; 0.000 &amp; SBP &lt; 0.000))</td>\n",
       "      <td>0.298</td>\n",
       "    </tr>\n",
       "    <tr>\n",
       "      <th>2</th>\n",
       "      <td>G[0,0]((edrk = 0.000 &amp; SBP = 0.000))</td>\n",
       "      <td>0.234</td>\n",
       "    </tr>\n",
       "    <tr>\n",
       "      <th>3</th>\n",
       "      <td>G[0,0]((s8_hr &gt; 0.000 &amp; SBP = 0.000))</td>\n",
       "      <td>0.234</td>\n",
       "    </tr>\n",
       "    <tr>\n",
       "      <th>8</th>\n",
       "      <td>G[0,0]((edrk = 0.000 &amp; SBP &lt; 0.000))</td>\n",
       "      <td>0.234</td>\n",
       "    </tr>\n",
       "    <tr>\n",
       "      <th>9</th>\n",
       "      <td>G[0,0]((s8_hr &gt; 0.000 &amp; SBP &lt; 0.000))</td>\n",
       "      <td>0.234</td>\n",
       "    </tr>\n",
       "  </tbody>\n",
       "</table>\n",
       "</div>"
      ],
      "text/plain": [
       "                                       Rule  Percent Count\n",
       "4    G[0,0]((n_evts < 0.000 | lds > 0.000))          0.489\n",
       "6     G[0,0]((n_evts < 0.000 | hr = 0.000))          0.489\n",
       "0  F[0,0]((death > 0.000 & n_evts = 0.000))          0.375\n",
       "7     F[0,0]((death > 0.000 & Sgy > 0.000))          0.364\n",
       "1    G[0,0]((direct < 0.000 & SBP = 0.000))          0.298\n",
       "5    G[0,0]((direct < 0.000 & SBP < 0.000))          0.298\n",
       "2      G[0,0]((edrk = 0.000 & SBP = 0.000))          0.234\n",
       "3     G[0,0]((s8_hr > 0.000 & SBP = 0.000))          0.234\n",
       "8      G[0,0]((edrk = 0.000 & SBP < 0.000))          0.234\n",
       "9     G[0,0]((s8_hr > 0.000 & SBP < 0.000))          0.234"
      ]
     },
     "execution_count": 8,
     "metadata": {},
     "output_type": "execute_result"
    }
   ],
   "source": [
    "ldpDF, ldpTrees, ldpRules = cov.loadLDPRuleset(ldpFilename)\n",
    "ldpDF"
   ]
  },
  {
   "cell_type": "markdown",
   "metadata": {},
   "source": [
    "## Compare Counts Graphically"
   ]
  },
  {
   "cell_type": "code",
   "execution_count": 14,
   "metadata": {
    "pycharm": {
     "is_executing": true
    }
   },
   "outputs": [
    {
     "data": {
      "image/png": "[encoded data removed]",
      "text/plain": [
       "<Figure size 864x504 with 1 Axes>"
      ]
     },
     "metadata": {
      "needs_background": "light"
     },
     "output_type": "display_data"
    },
    {
     "data": {
      "image/png": "[encoded data removed]",
      "text/plain": [
       "<Figure size 864x504 with 1 Axes>"
      ]
     },
     "metadata": {
      "needs_background": "light"
     },
     "output_type": "display_data"
    }
   ],
   "source": [
    "cov.graphRuleCounts(clientDF, ldpDF, graphName)"
   ]
  },
  {
   "cell_type": "markdown",
   "metadata": {},
   "source": [
    "## Get Table of Structure Counts - Count of rules above threshold"
   ]
  },
  {
   "cell_type": "code",
   "execution_count": 10,
   "metadata": {
    "pycharm": {
     "is_executing": true
    }
   },
   "outputs": [
    {
     "data": {
      "text/html": [
       "<div>\n",
       "<style scoped>\n",
       "    .dataframe tbody tr th:only-of-type {\n",
       "        vertical-align: middle;\n",
       "    }\n",
       "\n",
       "    .dataframe tbody tr th {\n",
       "        vertical-align: top;\n",
       "    }\n",
       "\n",
       "    .dataframe thead th {\n",
       "        text-align: right;\n",
       "    }\n",
       "</style>\n",
       "<table border=\"1\" class=\"dataframe\">\n",
       "  <thead>\n",
       "    <tr style=\"text-align: right;\">\n",
       "      <th></th>\n",
       "      <th>Total Client Rules</th>\n",
       "      <th>Found Rules</th>\n",
       "      <th>Non Rules</th>\n",
       "      <th>Precision</th>\n",
       "    </tr>\n",
       "  </thead>\n",
       "  <tbody>\n",
       "    <tr>\n",
       "      <th>0</th>\n",
       "      <td>4211</td>\n",
       "      <td>10</td>\n",
       "      <td>0</td>\n",
       "      <td>1.0</td>\n",
       "    </tr>\n",
       "  </tbody>\n",
       "</table>\n",
       "</div>"
      ],
      "text/plain": [
       "   Total Client Rules  Found Rules  Non Rules  Precision\n",
       "0                4211           10          0        1.0"
      ]
     },
     "execution_count": 10,
     "metadata": {},
     "output_type": "execute_result"
    }
   ],
   "source": [
    "covDF, countDF = cov.getCoverageTable(popThresh, ldpDF, ldpTrees, clientDF)\n",
    "countDF.to_csv(ldpFilename + \"_CovCountDF.csv\")\n",
    "covDF"
   ]
  },
  {
   "cell_type": "code",
   "execution_count": 11,
   "metadata": {
    "pycharm": {
     "is_executing": true
    },
    "scrolled": false
   },
   "outputs": [
    {
     "data": {
      "text/html": [
       "<div>\n",
       "<style scoped>\n",
       "    .dataframe tbody tr th:only-of-type {\n",
       "        vertical-align: middle;\n",
       "    }\n",
       "\n",
       "    .dataframe tbody tr th {\n",
       "        vertical-align: top;\n",
       "    }\n",
       "\n",
       "    .dataframe thead th {\n",
       "        text-align: right;\n",
       "    }\n",
       "</style>\n",
       "<table border=\"1\" class=\"dataframe\">\n",
       "  <thead>\n",
       "    <tr style=\"text-align: right;\">\n",
       "      <th></th>\n",
       "      <th>LDP Rule</th>\n",
       "      <th>Client Rule</th>\n",
       "      <th>LDP Count</th>\n",
       "      <th>Client Count</th>\n",
       "    </tr>\n",
       "  </thead>\n",
       "  <tbody>\n",
       "    <tr>\n",
       "      <th>0</th>\n",
       "      <td>F[0,0]((death &gt; 0.000 &amp; n_evts = 0.000))</td>\n",
       "      <td>F[0,0]((death &gt; 0.000 &amp; n_evts &lt; 0.000))</td>\n",
       "      <td>0.375</td>\n",
       "      <td>0.03</td>\n",
       "    </tr>\n",
       "    <tr>\n",
       "      <th>1</th>\n",
       "      <td>G[0,0]((direct &lt; 0.000 &amp; SBP = 0.000))</td>\n",
       "      <td>G[0,0]((direct &lt; 0.000 &amp; SBP &lt; 0.000))</td>\n",
       "      <td>0.298</td>\n",
       "      <td>0.01</td>\n",
       "    </tr>\n",
       "    <tr>\n",
       "      <th>2</th>\n",
       "      <td>G[0,0]((edrk = 0.000 &amp; SBP = 0.000))</td>\n",
       "      <td>G[0,0]((Mort &lt; 0.000 &amp; SBP &lt; 0.000))</td>\n",
       "      <td>0.234</td>\n",
       "      <td>0.02</td>\n",
       "    </tr>\n",
       "    <tr>\n",
       "      <th>3</th>\n",
       "      <td>G[0,0]((s8_hr &gt; 0.000 &amp; SBP = 0.000))</td>\n",
       "      <td>G[0,0]((death &lt; 0.000 &amp; s8_hr &gt; 0.000))</td>\n",
       "      <td>0.234</td>\n",
       "      <td>0.02</td>\n",
       "    </tr>\n",
       "    <tr>\n",
       "      <th>4</th>\n",
       "      <td>G[0,0]((n_evts &lt; 0.000 | lds &gt; 0.000))</td>\n",
       "      <td>G[0,0]((ICU_Pt_Days &gt; 0.000 | n_evts &lt; 0.000))</td>\n",
       "      <td>0.489</td>\n",
       "      <td>0.02</td>\n",
       "    </tr>\n",
       "    <tr>\n",
       "      <th>5</th>\n",
       "      <td>G[0,0]((direct &lt; 0.000 &amp; SBP &lt; 0.000))</td>\n",
       "      <td>G[0,0]((direct &lt; 0.000 &amp; SBP &lt; 0.000))</td>\n",
       "      <td>0.298</td>\n",
       "      <td>0.01</td>\n",
       "    </tr>\n",
       "    <tr>\n",
       "      <th>6</th>\n",
       "      <td>G[0,0]((n_evts &lt; 0.000 | hr = 0.000))</td>\n",
       "      <td>G[0,0]((hr &lt; 0.000 | n_evts &lt; 0.000))</td>\n",
       "      <td>0.489</td>\n",
       "      <td>0.02</td>\n",
       "    </tr>\n",
       "    <tr>\n",
       "      <th>7</th>\n",
       "      <td>F[0,0]((death &gt; 0.000 &amp; Sgy &gt; 0.000))</td>\n",
       "      <td>F[0,0]((death &gt; 0.000 &amp; Pulse &gt; 0.000))</td>\n",
       "      <td>0.364</td>\n",
       "      <td>0.01</td>\n",
       "    </tr>\n",
       "    <tr>\n",
       "      <th>8</th>\n",
       "      <td>G[0,0]((edrk = 0.000 &amp; SBP &lt; 0.000))</td>\n",
       "      <td>G[0,0]((Mort &lt; 0.000 &amp; SBP &lt; 0.000))</td>\n",
       "      <td>0.234</td>\n",
       "      <td>0.02</td>\n",
       "    </tr>\n",
       "    <tr>\n",
       "      <th>9</th>\n",
       "      <td>G[0,0]((s8_hr &gt; 0.000 &amp; SBP &lt; 0.000))</td>\n",
       "      <td>G[0,0]((death &lt; 0.000 &amp; s8_hr &gt; 0.000))</td>\n",
       "      <td>0.234</td>\n",
       "      <td>0.02</td>\n",
       "    </tr>\n",
       "  </tbody>\n",
       "</table>\n",
       "</div>"
      ],
      "text/plain": [
       "                                   LDP Rule  \\\n",
       "0  F[0,0]((death > 0.000 & n_evts = 0.000))   \n",
       "1    G[0,0]((direct < 0.000 & SBP = 0.000))   \n",
       "2      G[0,0]((edrk = 0.000 & SBP = 0.000))   \n",
       "3     G[0,0]((s8_hr > 0.000 & SBP = 0.000))   \n",
       "4    G[0,0]((n_evts < 0.000 | lds > 0.000))   \n",
       "5    G[0,0]((direct < 0.000 & SBP < 0.000))   \n",
       "6     G[0,0]((n_evts < 0.000 | hr = 0.000))   \n",
       "7     F[0,0]((death > 0.000 & Sgy > 0.000))   \n",
       "8      G[0,0]((edrk = 0.000 & SBP < 0.000))   \n",
       "9     G[0,0]((s8_hr > 0.000 & SBP < 0.000))   \n",
       "\n",
       "                                      Client Rule  LDP Count  Client Count  \n",
       "0        F[0,0]((death > 0.000 & n_evts < 0.000))      0.375          0.03  \n",
       "1          G[0,0]((direct < 0.000 & SBP < 0.000))      0.298          0.01  \n",
       "2            G[0,0]((Mort < 0.000 & SBP < 0.000))      0.234          0.02  \n",
       "3         G[0,0]((death < 0.000 & s8_hr > 0.000))      0.234          0.02  \n",
       "4  G[0,0]((ICU_Pt_Days > 0.000 | n_evts < 0.000))      0.489          0.02  \n",
       "5          G[0,0]((direct < 0.000 & SBP < 0.000))      0.298          0.01  \n",
       "6           G[0,0]((hr < 0.000 | n_evts < 0.000))      0.489          0.02  \n",
       "7         F[0,0]((death > 0.000 & Pulse > 0.000))      0.364          0.01  \n",
       "8            G[0,0]((Mort < 0.000 & SBP < 0.000))      0.234          0.02  \n",
       "9         G[0,0]((death < 0.000 & s8_hr > 0.000))      0.234          0.02  "
      ]
     },
     "execution_count": 11,
     "metadata": {},
     "output_type": "execute_result"
    }
   ],
   "source": [
    "countDF"
   ]
  },
  {
   "cell_type": "code",
   "execution_count": 12,
   "metadata": {
    "pycharm": {
     "is_executing": true
    }
   },
   "outputs": [
    {
     "ename": "AttributeError",
     "evalue": "module 'Coverage' has no attribute 'compareFoundRuleCounts'",
     "output_type": "error",
     "traceback": [
      "\u001B[0;31m---------------------------------------------------------------------------\u001B[0m",
      "\u001B[0;31mAttributeError\u001B[0m                            Traceback (most recent call last)",
      "\u001B[0;32m<ipython-input-12-843504901a2c>\u001B[0m in \u001B[0;36m<module>\u001B[0;34m\u001B[0m\n\u001B[1;32m      1\u001B[0m \u001B[0;31m#Look at found rules and compare percent counts\u001B[0m\u001B[0;34m\u001B[0m\u001B[0;34m\u001B[0m\u001B[0;34m\u001B[0m\u001B[0m\n\u001B[0;32m----> 2\u001B[0;31m \u001B[0mcov\u001B[0m\u001B[0;34m.\u001B[0m\u001B[0mcompareFoundRuleCounts\u001B[0m\u001B[0;34m(\u001B[0m\u001B[0mcountDF\u001B[0m\u001B[0;34m,\u001B[0m \u001B[0mgraphName\u001B[0m\u001B[0;34m)\u001B[0m\u001B[0;34m\u001B[0m\u001B[0;34m\u001B[0m\u001B[0m\n\u001B[0m",
      "\u001B[0;31mAttributeError\u001B[0m: module 'Coverage' has no attribute 'compareFoundRuleCounts'"
     ]
    }
   ],
   "source": [
    "#Look at found rules and compare percent counts\n",
    "cov.compareFoundRuleCounts(countDF, graphName)"
   ]
  },
  {
   "cell_type": "markdown",
   "metadata": {
    "pycharm": {
     "is_executing": true
    }
   },
   "source": [
    "## Get number of unique structure types"
   ]
  },
  {
   "cell_type": "code",
   "execution_count": 13,
   "metadata": {
    "pycharm": {
     "is_executing": true
    }
   },
   "outputs": [
    {
     "name": "stdout",
     "output_type": "stream",
     "text": [
      "Total Unique Structures: 10\n"
     ]
    }
   ],
   "source": [
    "#get number of unique structure types, ignoring vars to get sense of coverage\n",
    "numUniqueStructs = cov.countUniqueStructuresNoVars(ldpTrees)\n",
    "print(\"Total Unique Structures:\", numUniqueStructs)"
   ]
  },
  {
   "cell_type": "code",
   "execution_count": null,
   "metadata": {
    "pycharm": {
     "is_executing": true
    }
   },
   "outputs": [],
   "source": []
  },
  {
   "cell_type": "code",
   "execution_count": null,
   "metadata": {
    "pycharm": {
     "is_executing": true
    }
   },
   "outputs": [],
   "source": []
  },
  {
   "cell_type": "code",
   "execution_count": null,
   "metadata": {
    "pycharm": {
     "is_executing": true
    }
   },
   "outputs": [],
   "source": []
  }
 ],
 "metadata": {
  "kernelspec": {
   "display_name": "Python 3",
   "language": "python",
   "name": "python3"
  },
  "language_info": {
   "codemirror_mode": {
    "name": "ipython",
    "version": 3
   },
   "file_extension": ".py",
   "mimetype": "text/x-python",
   "name": "python",
   "nbconvert_exporter": "python",
   "pygments_lexer": "ipython3",
   "version": "3.8.3"
  }
 },
 "nbformat": 4,
 "nbformat_minor": 1
}