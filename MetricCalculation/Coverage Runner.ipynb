{
 "cells": [
  {
   "cell_type": "code",
   "execution_count": 1,
   "metadata": {
    "pycharm": {
     "is_executing": true
    }
   },
   "outputs": [],
   "source": [
    "import matplotlib.pyplot as plt\n",
    "plt.rc('font', size=12)\n",
    "import pandas as pd\n",
    "import seaborn as sns\n",
    "import warnings \n",
    "\n",
    "import Coverage as cov\n",
    "\n",
    "warnings.filterwarnings('ignore')\n",
    "%matplotlib inline\n",
    "\n",
    "%load_ext autoreload\n",
    "%autoreload 2"
   ]
  },
  {
   "cell_type": "markdown",
   "metadata": {},
   "source": [
    "## Params"
   ]
  },
  {
   "cell_type": "code",
   "execution_count": 2,
   "metadata": {
    "pycharm": {
     "is_executing": true
    }
   },
   "outputs": [],
   "source": [
    "#get list of client rules sorted by count\n",
    "popSize = 100\n",
    "clientFilename = \"../Data/ICU/Best/\"\n",
    "# clientFilename = \"../Data/ICU/Test/\"\n",
    "# clientFilename = \"../Data/Sepsis/Best/\"\n",
    "\n",
    "ldpFilename = \"../Results/ICU_Base_TEST.csv\"\n",
    "# ldpFilename = \"../Results/ICU_Ruleset_MCTS_TEST.csv\"\n",
    "# ldpFilename = \"../Results/ICU_TEST_2.csv\"\n",
    "# ldpFilename = \"../Results/Sepsis_Ruleset_MCTS_Test.csv\"\n",
    "\n",
    "graphName = '../Results/Graphs/test' #Name of count coverage graphs\n",
    "popThresh = 0.01 #Percentage match count\n"
   ]
  },
  {
   "cell_type": "markdown",
   "metadata": {},
   "source": [
    "## Load Client Rules"
   ]
  },
  {
   "cell_type": "code",
   "execution_count": 3,
   "metadata": {
    "pycharm": {
     "is_executing": true
    }
   },
   "outputs": [
    {
     "name": "stdout",
     "output_type": "stream",
     "text": [
      "File not found for Client 8\n"
     ]
    },
    {
     "data": {
      "text/html": [
       "<div>\n",
       "<style scoped>\n",
       "    .dataframe tbody tr th:only-of-type {\n",
       "        vertical-align: middle;\n",
       "    }\n",
       "\n",
       "    .dataframe tbody tr th {\n",
       "        vertical-align: top;\n",
       "    }\n",
       "\n",
       "    .dataframe thead th {\n",
       "        text-align: right;\n",
       "    }\n",
       "</style>\n",
       "<table border=\"1\" class=\"dataframe\">\n",
       "  <thead>\n",
       "    <tr style=\"text-align: right;\">\n",
       "      <th></th>\n",
       "      <th>Rule</th>\n",
       "      <th>Rule Count</th>\n",
       "      <th>Percent of Population</th>\n",
       "    </tr>\n",
       "  </thead>\n",
       "  <tbody>\n",
       "    <tr>\n",
       "      <th>2</th>\n",
       "      <td>F[0,0]((hr &lt;= 0.000 | hr &lt;= 0.000))</td>\n",
       "      <td>8</td>\n",
       "      <td>0.8</td>\n",
       "    </tr>\n",
       "    <tr>\n",
       "      <th>0</th>\n",
       "      <td>G[0,0]((hr &lt;= 0.000 &amp; Pulse &lt;= 0.000))</td>\n",
       "      <td>6</td>\n",
       "      <td>0.6</td>\n",
       "    </tr>\n",
       "    <tr>\n",
       "      <th>3</th>\n",
       "      <td>((death &gt;= 0.000) U[0,0] (mort &lt;= 0.000))</td>\n",
       "      <td>6</td>\n",
       "      <td>0.6</td>\n",
       "    </tr>\n",
       "    <tr>\n",
       "      <th>4</th>\n",
       "      <td>((death &gt;= 0.000) U[0,0] (tte &lt;= 0.000))</td>\n",
       "      <td>6</td>\n",
       "      <td>0.6</td>\n",
       "    </tr>\n",
       "    <tr>\n",
       "      <th>1</th>\n",
       "      <td>F[0,0]((Pulse &lt;= 0.000 -&gt; hr &lt;= 0.000))</td>\n",
       "      <td>4</td>\n",
       "      <td>0.4</td>\n",
       "    </tr>\n",
       "    <tr>\n",
       "      <th>5</th>\n",
       "      <td>((n_evts &gt;= 0.000) U[0,0] (tte &lt;= 0.000))</td>\n",
       "      <td>4</td>\n",
       "      <td>0.4</td>\n",
       "    </tr>\n",
       "    <tr>\n",
       "      <th>6</th>\n",
       "      <td>((tte &gt;= 0.000) U[0,0] (death &lt;= 0.000))</td>\n",
       "      <td>4</td>\n",
       "      <td>0.4</td>\n",
       "    </tr>\n",
       "    <tr>\n",
       "      <th>11</th>\n",
       "      <td>F[0,0]((hr &lt;= 0.000 -&gt; Pulse &lt;= 0.000))</td>\n",
       "      <td>4</td>\n",
       "      <td>0.4</td>\n",
       "    </tr>\n",
       "    <tr>\n",
       "      <th>12</th>\n",
       "      <td>((mort &gt;= 0.000) U[0,0] (mort &lt;= 0.000))</td>\n",
       "      <td>4</td>\n",
       "      <td>0.4</td>\n",
       "    </tr>\n",
       "    <tr>\n",
       "      <th>13</th>\n",
       "      <td>((n_evts &lt;= 0.000) U[0,0] (tte &gt;= 0.000))</td>\n",
       "      <td>4</td>\n",
       "      <td>0.4</td>\n",
       "    </tr>\n",
       "    <tr>\n",
       "      <th>10</th>\n",
       "      <td>G[0,0]((Pulse &lt;= 0.000 &amp; hr &lt;= 0.000))</td>\n",
       "      <td>3</td>\n",
       "      <td>0.3</td>\n",
       "    </tr>\n",
       "    <tr>\n",
       "      <th>7</th>\n",
       "      <td>F[0,0]((Pulse &lt;= 0.000 &amp; hr &lt;= 0.000))</td>\n",
       "      <td>2</td>\n",
       "      <td>0.2</td>\n",
       "    </tr>\n",
       "    <tr>\n",
       "      <th>8</th>\n",
       "      <td>G[0,0]((hr &lt;= 0.000 | hr &lt;= 0.000))</td>\n",
       "      <td>2</td>\n",
       "      <td>0.2</td>\n",
       "    </tr>\n",
       "    <tr>\n",
       "      <th>9</th>\n",
       "      <td>((n_evts &gt;= 0.000) U[0,0] (hr = 0.000))</td>\n",
       "      <td>2</td>\n",
       "      <td>0.2</td>\n",
       "    </tr>\n",
       "    <tr>\n",
       "      <th>14</th>\n",
       "      <td>G[0,0]((Pulse &lt;= 0.000 -&gt; hr &lt;= 0.000))</td>\n",
       "      <td>1</td>\n",
       "      <td>0.1</td>\n",
       "    </tr>\n",
       "  </tbody>\n",
       "</table>\n",
       "</div>"
      ],
      "text/plain": [
       "                                         Rule  Rule Count  \\\n",
       "2         F[0,0]((hr <= 0.000 | hr <= 0.000))           8   \n",
       "0      G[0,0]((hr <= 0.000 & Pulse <= 0.000))           6   \n",
       "3   ((death >= 0.000) U[0,0] (mort <= 0.000))           6   \n",
       "4    ((death >= 0.000) U[0,0] (tte <= 0.000))           6   \n",
       "1     F[0,0]((Pulse <= 0.000 -> hr <= 0.000))           4   \n",
       "5   ((n_evts >= 0.000) U[0,0] (tte <= 0.000))           4   \n",
       "6    ((tte >= 0.000) U[0,0] (death <= 0.000))           4   \n",
       "11    F[0,0]((hr <= 0.000 -> Pulse <= 0.000))           4   \n",
       "12   ((mort >= 0.000) U[0,0] (mort <= 0.000))           4   \n",
       "13  ((n_evts <= 0.000) U[0,0] (tte >= 0.000))           4   \n",
       "10     G[0,0]((Pulse <= 0.000 & hr <= 0.000))           3   \n",
       "7      F[0,0]((Pulse <= 0.000 & hr <= 0.000))           2   \n",
       "8         G[0,0]((hr <= 0.000 | hr <= 0.000))           2   \n",
       "9     ((n_evts >= 0.000) U[0,0] (hr = 0.000))           2   \n",
       "14    G[0,0]((Pulse <= 0.000 -> hr <= 0.000))           1   \n",
       "\n",
       "    Percent of Population  \n",
       "2                     0.8  \n",
       "0                     0.6  \n",
       "3                     0.6  \n",
       "4                     0.6  \n",
       "1                     0.4  \n",
       "5                     0.4  \n",
       "6                     0.4  \n",
       "11                    0.4  \n",
       "12                    0.4  \n",
       "13                    0.4  \n",
       "10                    0.3  \n",
       "7                     0.2  \n",
       "8                     0.2  \n",
       "9                     0.2  \n",
       "14                    0.1  "
      ]
     },
     "execution_count": 3,
     "metadata": {},
     "output_type": "execute_result"
    }
   ],
   "source": [
    "# Load Client Rule Trees and Text Rule Structures, and get dataframe of rules and their counts\n",
    "clientTrees, clientRules, clientDF = cov.loadClientRules(popSize, clientFilename)\n",
    "clientDF"
   ]
  },
  {
   "cell_type": "markdown",
   "metadata": {},
   "source": [
    "## Load LDP Ruleset"
   ]
  },
  {
   "cell_type": "code",
   "execution_count": 4,
   "metadata": {
    "pycharm": {
     "is_executing": true
    },
    "scrolled": false
   },
   "outputs": [
    {
     "data": {
      "text/html": [
       "<div>\n",
       "<style scoped>\n",
       "    .dataframe tbody tr th:only-of-type {\n",
       "        vertical-align: middle;\n",
       "    }\n",
       "\n",
       "    .dataframe tbody tr th {\n",
       "        vertical-align: top;\n",
       "    }\n",
       "\n",
       "    .dataframe thead th {\n",
       "        text-align: right;\n",
       "    }\n",
       "</style>\n",
       "<table border=\"1\" class=\"dataframe\">\n",
       "  <thead>\n",
       "    <tr style=\"text-align: right;\">\n",
       "      <th></th>\n",
       "      <th>Rule</th>\n",
       "      <th>Percent Count</th>\n",
       "    </tr>\n",
       "  </thead>\n",
       "  <tbody>\n",
       "    <tr>\n",
       "      <th>0</th>\n",
       "      <td>F[0,0]((hr = 0.000 &amp; Pulse = 0.000))</td>\n",
       "      <td>1.0</td>\n",
       "    </tr>\n",
       "    <tr>\n",
       "      <th>24</th>\n",
       "      <td>G[0,0]((hr &lt; 0.000 &amp; Pulse = 0.000))</td>\n",
       "      <td>1.0</td>\n",
       "    </tr>\n",
       "    <tr>\n",
       "      <th>26</th>\n",
       "      <td>F[0,0]((Pulse = 0.000 -&gt; hr = 0.000))</td>\n",
       "      <td>1.0</td>\n",
       "    </tr>\n",
       "    <tr>\n",
       "      <th>29</th>\n",
       "      <td>G[0,0]((Pulse &lt; 0.000 &amp; hr &lt; 0.000))</td>\n",
       "      <td>1.0</td>\n",
       "    </tr>\n",
       "    <tr>\n",
       "      <th>30</th>\n",
       "      <td>G[0,0]((hr &lt; 0.000 | hr = 0.000))</td>\n",
       "      <td>1.0</td>\n",
       "    </tr>\n",
       "    <tr>\n",
       "      <th>...</th>\n",
       "      <td>...</td>\n",
       "      <td>...</td>\n",
       "    </tr>\n",
       "    <tr>\n",
       "      <th>52</th>\n",
       "      <td>((n_evts = 0.000) U[0,0] (hr = 0.000))</td>\n",
       "      <td>0.2</td>\n",
       "    </tr>\n",
       "    <tr>\n",
       "      <th>61</th>\n",
       "      <td>((n_evts &gt; 0.000) U[0,0] (hr = 0.000))</td>\n",
       "      <td>0.2</td>\n",
       "    </tr>\n",
       "    <tr>\n",
       "      <th>39</th>\n",
       "      <td>((hr = 0.000) U[0,0] (hr = 0.000))</td>\n",
       "      <td>0.2</td>\n",
       "    </tr>\n",
       "    <tr>\n",
       "      <th>46</th>\n",
       "      <td>((hr = 0.000) U[0,0] (n_evts = 0.000))</td>\n",
       "      <td>0.2</td>\n",
       "    </tr>\n",
       "    <tr>\n",
       "      <th>50</th>\n",
       "      <td>((hr = 0.000) U[0,0] (n_evts &gt; 0.000))</td>\n",
       "      <td>0.2</td>\n",
       "    </tr>\n",
       "  </tbody>\n",
       "</table>\n",
       "<p>73 rows × 2 columns</p>\n",
       "</div>"
      ],
      "text/plain": [
       "                                      Rule  Percent Count\n",
       "0     F[0,0]((hr = 0.000 & Pulse = 0.000))            1.0\n",
       "24    G[0,0]((hr < 0.000 & Pulse = 0.000))            1.0\n",
       "26   F[0,0]((Pulse = 0.000 -> hr = 0.000))            1.0\n",
       "29    G[0,0]((Pulse < 0.000 & hr < 0.000))            1.0\n",
       "30       G[0,0]((hr < 0.000 | hr = 0.000))            1.0\n",
       "..                                     ...            ...\n",
       "52  ((n_evts = 0.000) U[0,0] (hr = 0.000))            0.2\n",
       "61  ((n_evts > 0.000) U[0,0] (hr = 0.000))            0.2\n",
       "39      ((hr = 0.000) U[0,0] (hr = 0.000))            0.2\n",
       "46  ((hr = 0.000) U[0,0] (n_evts = 0.000))            0.2\n",
       "50  ((hr = 0.000) U[0,0] (n_evts > 0.000))            0.2\n",
       "\n",
       "[73 rows x 2 columns]"
      ]
     },
     "execution_count": 4,
     "metadata": {},
     "output_type": "execute_result"
    }
   ],
   "source": [
    "ldpDF, ldpTrees, ldpRules = cov.loadLDPRuleset(ldpFilename)\n",
    "ldpDF"
   ]
  },
  {
   "cell_type": "markdown",
   "metadata": {},
   "source": [
    "## Complexity Analysis"
   ]
  },
  {
   "cell_type": "code",
   "execution_count": 5,
   "metadata": {
    "pycharm": {
     "is_executing": true
    }
   },
   "outputs": [
    {
     "data": {
      "text/plain": [
       "17179869184"
      ]
     },
     "execution_count": 5,
     "metadata": {},
     "output_type": "execute_result"
    }
   ],
   "source": [
    "k = 4 #k-ary tree\n",
    "h = 17 #height\n",
    "k**h"
   ]
  },
  {
   "cell_type": "markdown",
   "metadata": {},
   "source": [
    "## Get Table of Structure Counts - Count of rules above threshold"
   ]
  },
  {
   "cell_type": "code",
   "execution_count": 13,
   "metadata": {
    "pycharm": {
     "is_executing": true
    },
    "scrolled": true
   },
   "outputs": [
    {
     "data": {
      "text/html": [
       "<div>\n",
       "<style scoped>\n",
       "    .dataframe tbody tr th:only-of-type {\n",
       "        vertical-align: middle;\n",
       "    }\n",
       "\n",
       "    .dataframe tbody tr th {\n",
       "        vertical-align: top;\n",
       "    }\n",
       "\n",
       "    .dataframe thead th {\n",
       "        text-align: right;\n",
       "    }\n",
       "</style>\n",
       "<table border=\"1\" class=\"dataframe\">\n",
       "  <thead>\n",
       "    <tr style=\"text-align: right;\">\n",
       "      <th></th>\n",
       "      <th>Total Client Rules</th>\n",
       "      <th>Found Rules</th>\n",
       "      <th>Non Rules</th>\n",
       "      <th>Precision</th>\n",
       "    </tr>\n",
       "  </thead>\n",
       "  <tbody>\n",
       "    <tr>\n",
       "      <th>0</th>\n",
       "      <td>15</td>\n",
       "      <td>73</td>\n",
       "      <td>0</td>\n",
       "      <td>1.0</td>\n",
       "    </tr>\n",
       "  </tbody>\n",
       "</table>\n",
       "</div>"
      ],
      "text/plain": [
       "   Total Client Rules  Found Rules  Non Rules  Precision\n",
       "0                  15           73          0        1.0"
      ]
     },
     "execution_count": 13,
     "metadata": {},
     "output_type": "execute_result"
    }
   ],
   "source": [
    "covDF, countDF = cov.getCoverageTable(popThresh, ldpDF, ldpTrees, clientDF)\n",
    "countDF.to_csv(ldpFilename + \"_CovCountDF.csv\")\n",
    "covDF"
   ]
  },
  {
   "cell_type": "code",
   "execution_count": 7,
   "metadata": {
    "pycharm": {
     "is_executing": true
    },
    "scrolled": false
   },
   "outputs": [
    {
     "data": {
      "text/html": [
       "<div>\n",
       "<style scoped>\n",
       "    .dataframe tbody tr th:only-of-type {\n",
       "        vertical-align: middle;\n",
       "    }\n",
       "\n",
       "    .dataframe tbody tr th {\n",
       "        vertical-align: top;\n",
       "    }\n",
       "\n",
       "    .dataframe thead th {\n",
       "        text-align: right;\n",
       "    }\n",
       "</style>\n",
       "<table border=\"1\" class=\"dataframe\">\n",
       "  <thead>\n",
       "    <tr style=\"text-align: right;\">\n",
       "      <th></th>\n",
       "      <th>LDP Rule</th>\n",
       "      <th>Client Rule</th>\n",
       "      <th>LDP Count</th>\n",
       "      <th>Client Count</th>\n",
       "    </tr>\n",
       "  </thead>\n",
       "  <tbody>\n",
       "    <tr>\n",
       "      <th>0</th>\n",
       "      <td>F[0,0]((hr = 0.000 &amp; Pulse = 0.000))</td>\n",
       "      <td>F[0,0]((Pulse &lt;= 0.000 &amp; hr &lt;= 0.000))</td>\n",
       "      <td>1.0</td>\n",
       "      <td>0.2</td>\n",
       "    </tr>\n",
       "    <tr>\n",
       "      <th>1</th>\n",
       "      <td>((tte = 0.000) U[0,0] (n_evts &lt; 0.000))</td>\n",
       "      <td>((n_evts &lt;= 0.000) U[0,0] (tte &gt;= 0.000))</td>\n",
       "      <td>0.4</td>\n",
       "      <td>0.4</td>\n",
       "    </tr>\n",
       "    <tr>\n",
       "      <th>2</th>\n",
       "      <td>((tte = 0.000) U[0,0] (death = 0.000))</td>\n",
       "      <td>((death &gt;= 0.000) U[0,0] (tte &lt;= 0.000))</td>\n",
       "      <td>1.0</td>\n",
       "      <td>0.6</td>\n",
       "    </tr>\n",
       "    <tr>\n",
       "      <th>3</th>\n",
       "      <td>((tte &lt; 0.000) U[0,0] (n_evts &gt; 0.000))</td>\n",
       "      <td>((n_evts &gt;= 0.000) U[0,0] (tte &lt;= 0.000))</td>\n",
       "      <td>0.4</td>\n",
       "      <td>0.4</td>\n",
       "    </tr>\n",
       "    <tr>\n",
       "      <th>4</th>\n",
       "      <td>((death = 0.000) U[0,0] (tte = 0.000))</td>\n",
       "      <td>((death &gt;= 0.000) U[0,0] (tte &lt;= 0.000))</td>\n",
       "      <td>1.0</td>\n",
       "      <td>0.6</td>\n",
       "    </tr>\n",
       "    <tr>\n",
       "      <th>...</th>\n",
       "      <td>...</td>\n",
       "      <td>...</td>\n",
       "      <td>...</td>\n",
       "      <td>...</td>\n",
       "    </tr>\n",
       "    <tr>\n",
       "      <th>68</th>\n",
       "      <td>((tte = 0.000) U[0,0] (n_evts &gt; 0.000))</td>\n",
       "      <td>((n_evts &gt;= 0.000) U[0,0] (tte &lt;= 0.000))</td>\n",
       "      <td>0.4</td>\n",
       "      <td>0.4</td>\n",
       "    </tr>\n",
       "    <tr>\n",
       "      <th>69</th>\n",
       "      <td>F[0,0]((hr = 0.000 &amp; Pulse &lt; 0.000))</td>\n",
       "      <td>F[0,0]((Pulse &lt;= 0.000 &amp; hr &lt;= 0.000))</td>\n",
       "      <td>1.0</td>\n",
       "      <td>0.2</td>\n",
       "    </tr>\n",
       "    <tr>\n",
       "      <th>70</th>\n",
       "      <td>((tte &lt; 0.000) U[0,0] (n_evts = 0.000))</td>\n",
       "      <td>((n_evts &gt;= 0.000) U[0,0] (tte &lt;= 0.000))</td>\n",
       "      <td>0.4</td>\n",
       "      <td>0.4</td>\n",
       "    </tr>\n",
       "    <tr>\n",
       "      <th>71</th>\n",
       "      <td>((tte &lt; 0.000) U[0,0] (death &gt; 0.000))</td>\n",
       "      <td>((death &gt;= 0.000) U[0,0] (tte &lt;= 0.000))</td>\n",
       "      <td>0.6</td>\n",
       "      <td>0.6</td>\n",
       "    </tr>\n",
       "    <tr>\n",
       "      <th>72</th>\n",
       "      <td>((tte = 0.000) U[0,0] (death &lt; 0.000))</td>\n",
       "      <td>((tte &gt;= 0.000) U[0,0] (death &lt;= 0.000))</td>\n",
       "      <td>0.4</td>\n",
       "      <td>0.4</td>\n",
       "    </tr>\n",
       "  </tbody>\n",
       "</table>\n",
       "<p>73 rows × 4 columns</p>\n",
       "</div>"
      ],
      "text/plain": [
       "                                   LDP Rule  \\\n",
       "0      F[0,0]((hr = 0.000 & Pulse = 0.000))   \n",
       "1   ((tte = 0.000) U[0,0] (n_evts < 0.000))   \n",
       "2    ((tte = 0.000) U[0,0] (death = 0.000))   \n",
       "3   ((tte < 0.000) U[0,0] (n_evts > 0.000))   \n",
       "4    ((death = 0.000) U[0,0] (tte = 0.000))   \n",
       "..                                      ...   \n",
       "68  ((tte = 0.000) U[0,0] (n_evts > 0.000))   \n",
       "69     F[0,0]((hr = 0.000 & Pulse < 0.000))   \n",
       "70  ((tte < 0.000) U[0,0] (n_evts = 0.000))   \n",
       "71   ((tte < 0.000) U[0,0] (death > 0.000))   \n",
       "72   ((tte = 0.000) U[0,0] (death < 0.000))   \n",
       "\n",
       "                                  Client Rule  LDP Count  Client Count  \n",
       "0      F[0,0]((Pulse <= 0.000 & hr <= 0.000))        1.0           0.2  \n",
       "1   ((n_evts <= 0.000) U[0,0] (tte >= 0.000))        0.4           0.4  \n",
       "2    ((death >= 0.000) U[0,0] (tte <= 0.000))        1.0           0.6  \n",
       "3   ((n_evts >= 0.000) U[0,0] (tte <= 0.000))        0.4           0.4  \n",
       "4    ((death >= 0.000) U[0,0] (tte <= 0.000))        1.0           0.6  \n",
       "..                                        ...        ...           ...  \n",
       "68  ((n_evts >= 0.000) U[0,0] (tte <= 0.000))        0.4           0.4  \n",
       "69     F[0,0]((Pulse <= 0.000 & hr <= 0.000))        1.0           0.2  \n",
       "70  ((n_evts >= 0.000) U[0,0] (tte <= 0.000))        0.4           0.4  \n",
       "71   ((death >= 0.000) U[0,0] (tte <= 0.000))        0.6           0.6  \n",
       "72   ((tte >= 0.000) U[0,0] (death <= 0.000))        0.4           0.4  \n",
       "\n",
       "[73 rows x 4 columns]"
      ]
     },
     "execution_count": 7,
     "metadata": {},
     "output_type": "execute_result"
    }
   ],
   "source": [
    "countDF"
   ]
  },
  {
   "cell_type": "markdown",
   "metadata": {
    "pycharm": {
     "is_executing": true,
     "name": "#%% md\n"
    }
   },
   "source": [
    "## Get number of unique structure types"
   ]
  },
  {
   "cell_type": "code",
   "execution_count": null,
   "metadata": {},
   "outputs": [],
   "source": [
    "# TODO - gonna need to do some type of matching here to make sure unique structs are matched ..."
   ]
  },
  {
   "cell_type": "code",
   "execution_count": 8,
   "metadata": {
    "pycharm": {
     "is_executing": true,
     "name": "#%%\n"
    }
   },
   "outputs": [],
   "source": [
    "#get client trees from table\n",
    "clTrees = cov.getClientTreesFromCountDF(countDF)"
   ]
  },
  {
   "cell_type": "code",
   "execution_count": 9,
   "metadata": {
    "pycharm": {
     "is_executing": true
    }
   },
   "outputs": [
    {
     "name": "stdout",
     "output_type": "stream",
     "text": [
      "Total Unique Structures in Client Rules: 9\n"
     ]
    }
   ],
   "source": [
    "#get number of unique structure types, ignoring vars to get sense of coverage\n",
    "numUniqueStructs = cov.countUniqueStructuresNoVars(clTrees)\n",
    "print(\"Total Unique Structures in Client Rules:\", numUniqueStructs)"
   ]
  },
  {
   "cell_type": "code",
   "execution_count": 10,
   "metadata": {
    "pycharm": {
     "is_executing": true,
     "name": "#%%\n"
    }
   },
   "outputs": [
    {
     "name": "stdout",
     "output_type": "stream",
     "text": [
      "Total Unique Structures in LDP Rules: 31\n"
     ]
    }
   ],
   "source": [
    "#get number of unique structure types, ignoring vars to get sense of coverage\n",
    "numUniqueStructs = cov.countUniqueStructuresNoVars(ldpTrees)\n",
    "print(\"Total Unique Structures in LDP Rules:\", numUniqueStructs)"
   ]
  },
  {
   "cell_type": "markdown",
   "metadata": {},
   "source": [
    "## Compare LDP Rules Found vs the Percent Client Counts "
   ]
  },
  {
   "cell_type": "code",
   "execution_count": 24,
   "metadata": {
    "pycharm": {
     "is_executing": true,
     "name": "#%%\n"
    }
   },
   "outputs": [
    {
     "data": {
      "text/plain": [
       "<matplotlib.legend.Legend at 0x1415a3ca0>"
      ]
     },
     "execution_count": 24,
     "metadata": {},
     "output_type": "execute_result"
    },
    {
     "data": {
      "image/png": "[encoded data removed]",
      "text/plain": [
       "<Figure size 864x504 with 1 Axes>"
      ]
     },
     "metadata": {
      "needs_background": "light"
     },
     "output_type": "display_data"
    }
   ],
   "source": [
    "#make list of rule counts x population percents\n",
    "\n",
    "lst = []\n",
    "for idx, row in clientDF.iterrows():\n",
    "    lst.extend([row['Percent of Population'] for i in range(row['Rule Count'])])\n",
    "    \n",
    "n_bins = 10\n",
    "\n",
    "plt.figure(figsize=(12, 7))\n",
    "plt.hist([lst, countDF['Client Count'].values], n_bins, density=True, histtype='bar',label=['Client', 'LDP'])\n",
    "plt.xlabel(\"Percentage of Population\")\n",
    "plt.ylabel(\"Number of Rules\")\n",
    "plt.yscale('log')\n",
    "plt.legend()\n"
   ]
  },
  {
   "cell_type": "code",
   "execution_count": null,
   "metadata": {
    "pycharm": {
     "is_executing": true,
     "name": "#%%\n"
    }
   },
   "outputs": [],
   "source": []
  },
  {
   "cell_type": "code",
   "execution_count": null,
   "metadata": {
    "pycharm": {
     "is_executing": true,
     "name": "#%%\n"
    }
   },
   "outputs": [],
   "source": []
  },
  {
   "cell_type": "code",
   "execution_count": null,
   "metadata": {
    "pycharm": {
     "is_executing": true,
     "name": "#%%\n"
    }
   },
   "outputs": [],
   "source": []
  },
  {
   "cell_type": "code",
   "execution_count": null,
   "metadata": {
    "pycharm": {
     "is_executing": true
    }
   },
   "outputs": [],
   "source": []
  },
  {
   "cell_type": "code",
   "execution_count": null,
   "metadata": {
    "pycharm": {
     "is_executing": true
    }
   },
   "outputs": [],
   "source": []
  },
  {
   "cell_type": "code",
   "execution_count": null,
   "metadata": {
    "pycharm": {
     "is_executing": true
    }
   },
   "outputs": [],
   "source": []
  }
 ],
 "metadata": {
  "kernelspec": {
   "display_name": "Python 3",
   "language": "python",
   "name": "python3"
  },
  "language_info": {
   "codemirror_mode": {
    "name": "ipython",
    "version": 3
   },
   "file_extension": ".py",
   "mimetype": "text/x-python",
   "name": "python",
   "nbconvert_exporter": "python",
   "pygments_lexer": "ipython3",
   "version": "3.8.3"
  }
 },
 "nbformat": 4,
 "nbformat_minor": 1
}
