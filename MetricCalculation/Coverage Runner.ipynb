{
 "cells": [
  {
   "cell_type": "code",
   "execution_count": 1,
   "metadata": {},
   "outputs": [],
   "source": [
    "import matplotlib.pyplot as plt\n",
    "plt.rc('font', size=12)\n",
    "import pandas as pd\n",
    "import seaborn as sns\n",
    "import warnings \n",
    "\n",
    "import Coverage as cov\n",
    "\n",
    "warnings.filterwarnings('ignore')\n",
    "%matplotlib inline\n",
    "\n",
    "%load_ext autoreload\n",
    "%autoreload 2"
   ]
  },
  {
   "cell_type": "markdown",
   "metadata": {},
   "source": [
    "## Params"
   ]
  },
  {
   "cell_type": "code",
   "execution_count": 2,
   "metadata": {},
   "outputs": [],
   "source": [
    "#get list of client rules sorted by count\n",
    "popSize = 1000\n",
    "clientFilename = \"../Data/ICU/Best/\"\n",
    "# clientFilename = \"../Data/Sepsis/Best/\"\n",
    "\n",
    "ldpFilename = \"../Results/ICU_baseline.csv\"\n",
    "# ldpFilename = \"../Results/ICU_TEST_2.csv\"\n",
    "# ldpFilename = \"../Results/Sepsis_Ruleset_MCTS_Test.csv\"\n",
    "\n",
    "graphName = '../Results/Graphs/test' #Name of count coverage graphs\n",
    "popThresh = 0.001 #Percentage match count\n"
   ]
  },
  {
   "cell_type": "markdown",
   "metadata": {},
   "source": [
    "## Load Client Rules"
   ]
  },
  {
   "cell_type": "code",
   "execution_count": 3,
   "metadata": {
    "pycharm": {
     "is_executing": true
    }
   },
   "outputs": [
    {
     "name": "stdout",
     "output_type": "stream",
     "text": [
      "File not found for Client 8\n",
      "File not found for Client 81\n",
      "File not found for Client 230\n",
      "File not found for Client 252\n",
      "File not found for Client 283\n",
      "File not found for Client 335\n",
      "File not found for Client 337\n",
      "File not found for Client 342\n",
      "File not found for Client 366\n",
      "File not found for Client 531\n",
      "File not found for Client 609\n",
      "File not found for Client 639\n",
      "File not found for Client 696\n",
      "File not found for Client 727\n",
      "File not found for Client 730\n",
      "File not found for Client 755\n",
      "File not found for Client 774\n",
      "File not found for Client 963\n",
      "File not found for Client 987\n",
      "File not found for Client 1018\n"
     ]
    },
    {
     "data": {
      "text/html": [
       "<div>\n",
       "<style scoped>\n",
       "    .dataframe tbody tr th:only-of-type {\n",
       "        vertical-align: middle;\n",
       "    }\n",
       "\n",
       "    .dataframe tbody tr th {\n",
       "        vertical-align: top;\n",
       "    }\n",
       "\n",
       "    .dataframe thead th {\n",
       "        text-align: right;\n",
       "    }\n",
       "</style>\n",
       "<table border=\"1\" class=\"dataframe\">\n",
       "  <thead>\n",
       "    <tr style=\"text-align: right;\">\n",
       "      <th></th>\n",
       "      <th>Rule</th>\n",
       "      <th>Rule Count</th>\n",
       "      <th>Percent of Population</th>\n",
       "    </tr>\n",
       "  </thead>\n",
       "  <tbody>\n",
       "    <tr>\n",
       "      <th>53</th>\n",
       "      <td>((MET &gt; 0.000) U[0,0] (death = 0.000))</td>\n",
       "      <td>2669</td>\n",
       "      <td>1.000</td>\n",
       "    </tr>\n",
       "    <tr>\n",
       "      <th>57</th>\n",
       "      <td>G[0,0]((n_evts &lt; 0.000 -&gt; LOS &gt; 0.000))</td>\n",
       "      <td>2089</td>\n",
       "      <td>1.000</td>\n",
       "    </tr>\n",
       "    <tr>\n",
       "      <th>56</th>\n",
       "      <td>F[0,0]((BLOOD_UREA_NITROGEN &lt; 0.000 &amp; CREATINI...</td>\n",
       "      <td>1070</td>\n",
       "      <td>1.000</td>\n",
       "    </tr>\n",
       "    <tr>\n",
       "      <th>47</th>\n",
       "      <td>G[0,0]((hr &gt; 0.000 &amp; Pulse &gt; 0.000))</td>\n",
       "      <td>539</td>\n",
       "      <td>0.539</td>\n",
       "    </tr>\n",
       "    <tr>\n",
       "      <th>229</th>\n",
       "      <td>F[0,0](((af &lt; 0.000 | AF &lt; 0.000) &amp; cosen &gt; 0....</td>\n",
       "      <td>313</td>\n",
       "      <td>0.313</td>\n",
       "    </tr>\n",
       "    <tr>\n",
       "      <th>...</th>\n",
       "      <td>...</td>\n",
       "      <td>...</td>\n",
       "      <td>...</td>\n",
       "    </tr>\n",
       "    <tr>\n",
       "      <th>11493</th>\n",
       "      <td>G[0,0]((PLATELET_COUNT &lt; 0.000 -&gt; s24_hr &gt; 0.0...</td>\n",
       "      <td>1</td>\n",
       "      <td>0.001</td>\n",
       "    </tr>\n",
       "    <tr>\n",
       "      <th>11491</th>\n",
       "      <td>G[0,0]((CREATININE &lt; 0.000 | SpO2 &lt; 0.000))</td>\n",
       "      <td>1</td>\n",
       "      <td>0.001</td>\n",
       "    </tr>\n",
       "    <tr>\n",
       "      <th>11490</th>\n",
       "      <td>G[0,0]((death &gt; 0.000 | dfa &lt; 0.000))</td>\n",
       "      <td>1</td>\n",
       "      <td>0.001</td>\n",
       "    </tr>\n",
       "    <tr>\n",
       "      <th>11489</th>\n",
       "      <td>G[0,0]((LOS &gt; 0.000 -&gt; TROPONIN_I &gt; 0.000))</td>\n",
       "      <td>1</td>\n",
       "      <td>0.001</td>\n",
       "    </tr>\n",
       "    <tr>\n",
       "      <th>18602</th>\n",
       "      <td>((POTASSIUM &gt; 0.000) U[0,0] (srr &gt; 0.000))</td>\n",
       "      <td>1</td>\n",
       "      <td>0.001</td>\n",
       "    </tr>\n",
       "  </tbody>\n",
       "</table>\n",
       "<p>18603 rows × 3 columns</p>\n",
       "</div>"
      ],
      "text/plain": [
       "                                                    Rule  Rule Count  \\\n",
       "53                ((MET > 0.000) U[0,0] (death = 0.000))        2669   \n",
       "57               G[0,0]((n_evts < 0.000 -> LOS > 0.000))        2089   \n",
       "56     F[0,0]((BLOOD_UREA_NITROGEN < 0.000 & CREATINI...        1070   \n",
       "47                  G[0,0]((hr > 0.000 & Pulse > 0.000))         539   \n",
       "229    F[0,0](((af < 0.000 | AF < 0.000) & cosen > 0....         313   \n",
       "...                                                  ...         ...   \n",
       "11493  G[0,0]((PLATELET_COUNT < 0.000 -> s24_hr > 0.0...           1   \n",
       "11491        G[0,0]((CREATININE < 0.000 | SpO2 < 0.000))           1   \n",
       "11490              G[0,0]((death > 0.000 | dfa < 0.000))           1   \n",
       "11489        G[0,0]((LOS > 0.000 -> TROPONIN_I > 0.000))           1   \n",
       "18602         ((POTASSIUM > 0.000) U[0,0] (srr > 0.000))           1   \n",
       "\n",
       "       Percent of Population  \n",
       "53                     1.000  \n",
       "57                     1.000  \n",
       "56                     1.000  \n",
       "47                     0.539  \n",
       "229                    0.313  \n",
       "...                      ...  \n",
       "11493                  0.001  \n",
       "11491                  0.001  \n",
       "11490                  0.001  \n",
       "11489                  0.001  \n",
       "18602                  0.001  \n",
       "\n",
       "[18603 rows x 3 columns]"
      ]
     },
     "execution_count": 3,
     "metadata": {},
     "output_type": "execute_result"
    }
   ],
   "source": [
    "# Load Client Rule Trees and Text Rule Structures, and get dataframe of rules and their counts\n",
    "clientTrees, clientRules, clientDF = cov.loadClientRules(popSize, clientFilename)\n",
    "clientDF"
   ]
  },
  {
   "cell_type": "markdown",
   "metadata": {},
   "source": [
    "## Load LDP Ruleset"
   ]
  },
  {
   "cell_type": "code",
   "execution_count": 4,
   "metadata": {
    "pycharm": {
     "is_executing": true
    },
    "scrolled": false
   },
   "outputs": [
    {
     "data": {
      "text/html": [
       "<div>\n",
       "<style scoped>\n",
       "    .dataframe tbody tr th:only-of-type {\n",
       "        vertical-align: middle;\n",
       "    }\n",
       "\n",
       "    .dataframe tbody tr th {\n",
       "        vertical-align: top;\n",
       "    }\n",
       "\n",
       "    .dataframe thead th {\n",
       "        text-align: right;\n",
       "    }\n",
       "</style>\n",
       "<table border=\"1\" class=\"dataframe\">\n",
       "  <thead>\n",
       "    <tr style=\"text-align: right;\">\n",
       "      <th></th>\n",
       "      <th>Rule</th>\n",
       "      <th>Percent Count</th>\n",
       "    </tr>\n",
       "  </thead>\n",
       "  <tbody>\n",
       "    <tr>\n",
       "      <th>29</th>\n",
       "      <td>((y &gt; 0.000) U[0,0] (y &gt; 0.000))</td>\n",
       "      <td>0.910</td>\n",
       "    </tr>\n",
       "    <tr>\n",
       "      <th>220</th>\n",
       "      <td>((tte = 0.000) U[0,0] (y &gt; 0.000))</td>\n",
       "      <td>0.910</td>\n",
       "    </tr>\n",
       "    <tr>\n",
       "      <th>87</th>\n",
       "      <td>((n_evts &gt; 0.000) U[0,0] (y &gt; 0.000))</td>\n",
       "      <td>0.910</td>\n",
       "    </tr>\n",
       "    <tr>\n",
       "      <th>199</th>\n",
       "      <td>((ICU_Pt_Days = 0.000) U[0,0] (y &gt; 0.000))</td>\n",
       "      <td>0.910</td>\n",
       "    </tr>\n",
       "    <tr>\n",
       "      <th>104</th>\n",
       "      <td>((y &gt; 0.000) U[0,0] (tte &gt; 0.000))</td>\n",
       "      <td>0.910</td>\n",
       "    </tr>\n",
       "    <tr>\n",
       "      <th>...</th>\n",
       "      <td>...</td>\n",
       "      <td>...</td>\n",
       "    </tr>\n",
       "    <tr>\n",
       "      <th>150</th>\n",
       "      <td>G[0,0]((Temp &gt; 0.000 &amp; BLOOD_UREA_NITROGEN &lt; 0...</td>\n",
       "      <td>0.147</td>\n",
       "    </tr>\n",
       "    <tr>\n",
       "      <th>341</th>\n",
       "      <td>G[0,0]((GLUCOSE &lt; 0.000 -&gt; tte = 0.000))</td>\n",
       "      <td>0.146</td>\n",
       "    </tr>\n",
       "    <tr>\n",
       "      <th>82</th>\n",
       "      <td>F[0,0]((BLOOD_UREA_NITROGEN &lt; 0.000 -&gt; direct ...</td>\n",
       "      <td>0.118</td>\n",
       "    </tr>\n",
       "    <tr>\n",
       "      <th>145</th>\n",
       "      <td>F[0,0]((BLOOD_UREA_NITROGEN &lt; 0.000 -&gt; hr &lt; 0....</td>\n",
       "      <td>0.097</td>\n",
       "    </tr>\n",
       "    <tr>\n",
       "      <th>255</th>\n",
       "      <td>F[0,0]((Pulse &lt; 0.000 &amp; SODIUM &gt; 0.000))</td>\n",
       "      <td>0.083</td>\n",
       "    </tr>\n",
       "  </tbody>\n",
       "</table>\n",
       "<p>350 rows × 2 columns</p>\n",
       "</div>"
      ],
      "text/plain": [
       "                                                  Rule  Percent Count\n",
       "29                    ((y > 0.000) U[0,0] (y > 0.000))          0.910\n",
       "220                 ((tte = 0.000) U[0,0] (y > 0.000))          0.910\n",
       "87               ((n_evts > 0.000) U[0,0] (y > 0.000))          0.910\n",
       "199         ((ICU_Pt_Days = 0.000) U[0,0] (y > 0.000))          0.910\n",
       "104                 ((y > 0.000) U[0,0] (tte > 0.000))          0.910\n",
       "..                                                 ...            ...\n",
       "150  G[0,0]((Temp > 0.000 & BLOOD_UREA_NITROGEN < 0...          0.147\n",
       "341           G[0,0]((GLUCOSE < 0.000 -> tte = 0.000))          0.146\n",
       "82   F[0,0]((BLOOD_UREA_NITROGEN < 0.000 -> direct ...          0.118\n",
       "145  F[0,0]((BLOOD_UREA_NITROGEN < 0.000 -> hr < 0....          0.097\n",
       "255           F[0,0]((Pulse < 0.000 & SODIUM > 0.000))          0.083\n",
       "\n",
       "[350 rows x 2 columns]"
      ]
     },
     "execution_count": 4,
     "metadata": {},
     "output_type": "execute_result"
    }
   ],
   "source": [
    "ldpDF, ldpTrees, ldpRules = cov.loadLDPRuleset(ldpFilename)\n",
    "ldpDF"
   ]
  },
  {
   "cell_type": "markdown",
   "metadata": {},
   "source": [
    "## Complexity Analysis"
   ]
  },
  {
   "cell_type": "code",
   "execution_count": 5,
   "metadata": {},
   "outputs": [
    {
     "data": {
      "text/plain": [
       "17179869184"
      ]
     },
     "execution_count": 5,
     "metadata": {},
     "output_type": "execute_result"
    }
   ],
   "source": [
    "k = 4 #k-ary tree\n",
    "h = 17 #height\n",
    "k**h"
   ]
  },
  {
   "cell_type": "markdown",
   "metadata": {},
   "source": [
    "## Get Table of Structure Counts - Count of rules above threshold"
   ]
  },
  {
   "cell_type": "code",
   "execution_count": 6,
   "metadata": {
    "pycharm": {
     "is_executing": true
    },
    "scrolled": true
   },
   "outputs": [
    {
     "data": {
      "text/html": [
       "<div>\n",
       "<style scoped>\n",
       "    .dataframe tbody tr th:only-of-type {\n",
       "        vertical-align: middle;\n",
       "    }\n",
       "\n",
       "    .dataframe tbody tr th {\n",
       "        vertical-align: top;\n",
       "    }\n",
       "\n",
       "    .dataframe thead th {\n",
       "        text-align: right;\n",
       "    }\n",
       "</style>\n",
       "<table border=\"1\" class=\"dataframe\">\n",
       "  <thead>\n",
       "    <tr style=\"text-align: right;\">\n",
       "      <th></th>\n",
       "      <th>Total Client Rules</th>\n",
       "      <th>Found Rules</th>\n",
       "      <th>Non Rules</th>\n",
       "      <th>Precision</th>\n",
       "    </tr>\n",
       "  </thead>\n",
       "  <tbody>\n",
       "    <tr>\n",
       "      <th>0</th>\n",
       "      <td>18603</td>\n",
       "      <td>350</td>\n",
       "      <td>0</td>\n",
       "      <td>1.0</td>\n",
       "    </tr>\n",
       "  </tbody>\n",
       "</table>\n",
       "</div>"
      ],
      "text/plain": [
       "   Total Client Rules  Found Rules  Non Rules  Precision\n",
       "0               18603          350          0        1.0"
      ]
     },
     "execution_count": 6,
     "metadata": {},
     "output_type": "execute_result"
    }
   ],
   "source": [
    "covDF, countDF = cov.getCoverageTable(popThresh, ldpDF, ldpTrees, clientDF)\n",
    "countDF.to_csv(ldpFilename + \"_CovCountDF.csv\")\n",
    "covDF"
   ]
  },
  {
   "cell_type": "code",
   "execution_count": 7,
   "metadata": {
    "pycharm": {
     "is_executing": true
    },
    "scrolled": false
   },
   "outputs": [
    {
     "data": {
      "text/html": [
       "<div>\n",
       "<style scoped>\n",
       "    .dataframe tbody tr th:only-of-type {\n",
       "        vertical-align: middle;\n",
       "    }\n",
       "\n",
       "    .dataframe tbody tr th {\n",
       "        vertical-align: top;\n",
       "    }\n",
       "\n",
       "    .dataframe thead th {\n",
       "        text-align: right;\n",
       "    }\n",
       "</style>\n",
       "<table border=\"1\" class=\"dataframe\">\n",
       "  <thead>\n",
       "    <tr style=\"text-align: right;\">\n",
       "      <th></th>\n",
       "      <th>LDP Rule</th>\n",
       "      <th>Client Rule</th>\n",
       "      <th>LDP Count</th>\n",
       "      <th>Client Count</th>\n",
       "    </tr>\n",
       "  </thead>\n",
       "  <tbody>\n",
       "    <tr>\n",
       "      <th>0</th>\n",
       "      <td>((LOS &lt; 0.000) U[0,0] (y &lt; 0.000))</td>\n",
       "      <td>((LOS &lt; 0.000) U[0,0] (y = 0.000))</td>\n",
       "      <td>0.53</td>\n",
       "      <td>0.050</td>\n",
       "    </tr>\n",
       "    <tr>\n",
       "      <th>1</th>\n",
       "      <td>((y &gt; 0.000) U[0,0] (ICU_Pt_Days &gt; 0.000))</td>\n",
       "      <td>((ICU_Pt_Days &gt; 0.000) U[0,0] (y &gt; 0.000))</td>\n",
       "      <td>0.91</td>\n",
       "      <td>0.037</td>\n",
       "    </tr>\n",
       "    <tr>\n",
       "      <th>2</th>\n",
       "      <td>((ICU_Pt_Days &lt; 0.000) U[0,0] (y &lt; 0.000))</td>\n",
       "      <td>((ICU_Pt_Days &lt; 0.000) U[0,0] (y = 0.000))</td>\n",
       "      <td>0.53</td>\n",
       "      <td>0.048</td>\n",
       "    </tr>\n",
       "    <tr>\n",
       "      <th>3</th>\n",
       "      <td>((death &gt; 0.000) U[0,0] (Mort &lt; 0.000))</td>\n",
       "      <td>((death &gt; 0.000) U[0,0] (Mort &lt; 0.000))</td>\n",
       "      <td>0.64</td>\n",
       "      <td>0.009</td>\n",
       "    </tr>\n",
       "    <tr>\n",
       "      <th>4</th>\n",
       "      <td>((LOS &gt; 0.000) U[0,0] (ICU_Pt_Days &gt; 0.000))</td>\n",
       "      <td>((ICU_Pt_Days &gt; 0.000) U[0,0] (LOS &gt; 0.000))</td>\n",
       "      <td>0.66</td>\n",
       "      <td>0.019</td>\n",
       "    </tr>\n",
       "    <tr>\n",
       "      <th>...</th>\n",
       "      <td>...</td>\n",
       "      <td>...</td>\n",
       "      <td>...</td>\n",
       "      <td>...</td>\n",
       "    </tr>\n",
       "    <tr>\n",
       "      <th>345</th>\n",
       "      <td>((n_evts &lt; 0.000) U[0,0] (ALBUMIN &gt; 0.000))</td>\n",
       "      <td>((ALBUMIN &lt; 0.000) U[0,0] (n_evts &gt; 0.000))</td>\n",
       "      <td>0.20</td>\n",
       "      <td>0.005</td>\n",
       "    </tr>\n",
       "    <tr>\n",
       "      <th>346</th>\n",
       "      <td>((tte &gt; 0.000) U[0,0] (CALCIUM &lt; 0.000))</td>\n",
       "      <td>((CALCIUM &gt; 0.000) U[0,0] (tte &lt; 0.000))</td>\n",
       "      <td>0.19</td>\n",
       "      <td>0.011</td>\n",
       "    </tr>\n",
       "    <tr>\n",
       "      <th>347</th>\n",
       "      <td>((y = 0.000) U[0,0] (y &gt; 0.000))</td>\n",
       "      <td>((Pulse &lt; 0.000) U[0,0] (y &gt; 0.000))</td>\n",
       "      <td>0.91</td>\n",
       "      <td>0.038</td>\n",
       "    </tr>\n",
       "    <tr>\n",
       "      <th>348</th>\n",
       "      <td>((LOS &gt; 0.000) U[0,0] (LOS = 0.000))</td>\n",
       "      <td>((LOS &gt; 0.000) U[0,0] (y = 0.000))</td>\n",
       "      <td>0.46</td>\n",
       "      <td>0.045</td>\n",
       "    </tr>\n",
       "    <tr>\n",
       "      <th>349</th>\n",
       "      <td>((Mort &lt; 0.000) U[0,0] (ICU_Pt_Days &gt; 0.000))</td>\n",
       "      <td>((ICU_Pt_Days &lt; 0.000) U[0,0] (Mort &gt; 0.000))</td>\n",
       "      <td>0.66</td>\n",
       "      <td>0.027</td>\n",
       "    </tr>\n",
       "  </tbody>\n",
       "</table>\n",
       "<p>350 rows × 4 columns</p>\n",
       "</div>"
      ],
      "text/plain": [
       "                                          LDP Rule  \\\n",
       "0               ((LOS < 0.000) U[0,0] (y < 0.000))   \n",
       "1       ((y > 0.000) U[0,0] (ICU_Pt_Days > 0.000))   \n",
       "2       ((ICU_Pt_Days < 0.000) U[0,0] (y < 0.000))   \n",
       "3          ((death > 0.000) U[0,0] (Mort < 0.000))   \n",
       "4     ((LOS > 0.000) U[0,0] (ICU_Pt_Days > 0.000))   \n",
       "..                                             ...   \n",
       "345    ((n_evts < 0.000) U[0,0] (ALBUMIN > 0.000))   \n",
       "346       ((tte > 0.000) U[0,0] (CALCIUM < 0.000))   \n",
       "347               ((y = 0.000) U[0,0] (y > 0.000))   \n",
       "348           ((LOS > 0.000) U[0,0] (LOS = 0.000))   \n",
       "349  ((Mort < 0.000) U[0,0] (ICU_Pt_Days > 0.000))   \n",
       "\n",
       "                                       Client Rule  LDP Count  Client Count  \n",
       "0               ((LOS < 0.000) U[0,0] (y = 0.000))       0.53         0.050  \n",
       "1       ((ICU_Pt_Days > 0.000) U[0,0] (y > 0.000))       0.91         0.037  \n",
       "2       ((ICU_Pt_Days < 0.000) U[0,0] (y = 0.000))       0.53         0.048  \n",
       "3          ((death > 0.000) U[0,0] (Mort < 0.000))       0.64         0.009  \n",
       "4     ((ICU_Pt_Days > 0.000) U[0,0] (LOS > 0.000))       0.66         0.019  \n",
       "..                                             ...        ...           ...  \n",
       "345    ((ALBUMIN < 0.000) U[0,0] (n_evts > 0.000))       0.20         0.005  \n",
       "346       ((CALCIUM > 0.000) U[0,0] (tte < 0.000))       0.19         0.011  \n",
       "347           ((Pulse < 0.000) U[0,0] (y > 0.000))       0.91         0.038  \n",
       "348             ((LOS > 0.000) U[0,0] (y = 0.000))       0.46         0.045  \n",
       "349  ((ICU_Pt_Days < 0.000) U[0,0] (Mort > 0.000))       0.66         0.027  \n",
       "\n",
       "[350 rows x 4 columns]"
      ]
     },
     "execution_count": 7,
     "metadata": {},
     "output_type": "execute_result"
    }
   ],
   "source": [
    "countDF"
   ]
  },
  {
   "cell_type": "markdown",
   "metadata": {
    "pycharm": {
     "is_executing": true,
     "name": "#%% md\n"
    }
   },
   "source": [
    "## Get number of unique structure types"
   ]
  },
  {
   "cell_type": "code",
   "execution_count": 8,
   "metadata": {
    "pycharm": {
     "name": "#%%\n"
    }
   },
   "outputs": [],
   "source": [
    "#get client trees from table\n",
    "clTrees = cov.getClientTreesFromCountDF(countDF)"
   ]
  },
  {
   "cell_type": "code",
   "execution_count": 9,
   "metadata": {},
   "outputs": [
    {
     "name": "stdout",
     "output_type": "stream",
     "text": [
      "Total Unique Structures in Client Rules: 14\n"
     ]
    }
   ],
   "source": [
    "#get number of unique structure types, ignoring vars to get sense of coverage\n",
    "numUniqueStructs = cov.countUniqueStructuresNoVars(clTrees)\n",
    "print(\"Total Unique Structures in Client Rules:\", numUniqueStructs)"
   ]
  },
  {
   "cell_type": "code",
   "execution_count": null,
   "outputs": [],
   "source": [
    "#get number of unique structure types, ignoring vars to get sense of coverage\n",
    "numUniqueStructs = cov.countUniqueStructuresNoVars(ldpTrees)\n",
    "print(\"Total Unique Structures in LDP Rules:\", numUniqueStructs)"
   ],
   "metadata": {
    "collapsed": false,
    "pycharm": {
     "name": "#%%\n"
    }
   }
  },
  {
   "cell_type": "markdown",
   "source": [
    "## Compare LDP Rules Found vs the Percent Client Counts "
   ],
   "metadata": {
    "collapsed": false
   }
  },
  {
   "cell_type": "code",
   "execution_count": null,
   "outputs": [],
   "source": [
    "#make list of rule counts x population percents\n",
    "\n",
    "lst = []\n",
    "for idx, row in clientDF.iterrows():\n",
    "    lst.extend([row['Percent of Population'] for i in range(row['Rule Count'])])\n",
    "\n",
    "plt.figure(figsize=(12, 7))\n",
    "sns.distplot(lst, bins=10, kde=False, label='Client')\n",
    "sns.distplot(countDF['Client Count'].values, bins=10, kde=False, label='LDP')\n",
    "plt.xlabel(\"Percentage of Population\")\n",
    "plt.ylabel(\"Number of Rules\")\n",
    "plt.yscale('log')\n",
    "plt.legend()\n"
   ],
   "metadata": {
    "collapsed": false,
    "pycharm": {
     "name": "#%%\n"
    }
   }
  },
  {
   "cell_type": "code",
   "execution_count": null,
   "outputs": [],
   "source": [],
   "metadata": {
    "collapsed": false,
    "pycharm": {
     "name": "#%%\n"
    }
   }
  },
  {
   "cell_type": "code",
   "execution_count": null,
   "outputs": [],
   "source": [],
   "metadata": {
    "collapsed": false,
    "pycharm": {
     "name": "#%%\n"
    }
   }
  },
  {
   "cell_type": "code",
   "execution_count": null,
   "outputs": [],
   "source": [],
   "metadata": {
    "collapsed": false,
    "pycharm": {
     "name": "#%%\n"
    }
   }
  },
  {
   "cell_type": "code",
   "execution_count": null,
   "outputs": [],
   "source": [],
   "metadata": {
    "collapsed": false,
    "pycharm": {
     "name": "#%%\n"
    }
   }
  },
  {
   "cell_type": "code",
   "execution_count": null,
   "outputs": [],
   "source": [
    "#61 rules\n",
    "cLst = [1] * 4\n",
    "cLst.extend([0.9] * 3)\n",
    "cLst.extend([0.8] * 6)\n",
    "cLst.extend([0.7] * 5)\n",
    "cLst.extend([0.6] * 1)\n",
    "cLst.extend([0.5] * 2)\n",
    "cLst.extend([0.4] * 2)\n",
    "cLst.extend([0.3] * 5)\n",
    "cLst.extend([0.2] * 10)\n",
    "cLst.extend([0.1] * 10)\n",
    "cLst.extend([0.05] * 13)\n",
    "\n",
    "len(cLst)"
   ],
   "metadata": {
    "collapsed": false,
    "pycharm": {
     "name": "#%%\n"
    }
   }
  },
  {
   "cell_type": "code",
   "execution_count": null,
   "outputs": [],
   "source": [
    "\n",
    "lLst = [1] * 3\n",
    "lLst.extend([0.9] * 1)\n",
    "lLst.extend([0.8] * 4)\n",
    "lLst.extend([0.7] * 4)\n",
    "lLst.extend([0.3] * 3)\n",
    "lLst.extend([0.2] * 2)\n",
    "# lLst.extend([0.1] * 10)\n",
    "lLst.extend([0.05] * 1)\n",
    "\n",
    "len(lLst)"
   ],
   "metadata": {
    "collapsed": false,
    "pycharm": {
     "name": "#%%\n"
    }
   }
  },
  {
   "cell_type": "code",
   "execution_count": null,
   "outputs": [],
   "source": [
    "#34 rules\n",
    "cLst = [1] * 2\n",
    "cLst.extend([0.9] * 1)\n",
    "cLst.extend([0.8] * 1)\n",
    "cLst.extend([0.7] * 1)\n",
    "cLst.extend([0.6] * 2)\n",
    "cLst.extend([0.5] * 2)\n",
    "cLst.extend([0.4] * 3)\n",
    "cLst.extend([0.3] * 4)\n",
    "cLst.extend([0.2] * 5)\n",
    "cLst.extend([0.1] * 6)\n",
    "cLst.extend([0.05] * 7)\n",
    "\n",
    "len(cLst)"
   ],
   "metadata": {
    "collapsed": false,
    "pycharm": {
     "name": "#%%\n"
    }
   }
  },
  {
   "cell_type": "code",
   "execution_count": null,
   "outputs": [],
   "source": [
    "#27\n",
    "lLst = [1] * 2\n",
    "lLst.extend([0.9] * 1)\n",
    "lLst.extend([0.8] * 1)\n",
    "lLst.extend([0.7] * 1)\n",
    "lLst.extend([0.6] * 2)\n",
    "lLst.extend([0.5] * 1)\n",
    "\n",
    "lLst.extend([0.4] * 2)\n",
    "lLst.extend([0.3] * 4)\n",
    "lLst.extend([0.2] * 4)\n",
    "lLst.extend([0.1] * 3)\n",
    "lLst.extend([0.05] * 6)\n",
    "\n",
    "len(lLst)"
   ],
   "metadata": {
    "collapsed": false,
    "pycharm": {
     "name": "#%%\n"
    }
   }
  },
  {
   "cell_type": "code",
   "execution_count": null,
   "outputs": [],
   "source": [
    "plt.figure(figsize=(12, 7))\n",
    "sns.distplot(cLst, bins=10, kde=False, label='Client')\n",
    "sns.distplot(cLst, bins=10, kde=False, label='LDP')\n",
    "plt.xlabel(\"Percentage of Population\")\n",
    "plt.ylabel(\"Number of Rules\")\n",
    "plt.title(\"ICU Coverage\")\n",
    "# plt.yscale('log')\n",
    "plt.legend()"
   ],
   "metadata": {
    "collapsed": false,
    "pycharm": {
     "name": "#%%\n"
    }
   }
  },
  {
   "cell_type": "code",
   "execution_count": null,
   "outputs": [],
   "source": [],
   "metadata": {
    "collapsed": false,
    "pycharm": {
     "name": "#%%\n"
    }
   }
  },
  {
   "cell_type": "code",
   "execution_count": null,
   "outputs": [],
   "source": [],
   "metadata": {
    "collapsed": false,
    "pycharm": {
     "name": "#%%\n"
    }
   }
  },
  {
   "cell_type": "code",
   "execution_count": null,
   "outputs": [],
   "source": [
    "#Look at found rules and compare percent counts\n",
    "cov.compareFoundRuleCounts(countDF, graphName)"
   ],
   "metadata": {
    "collapsed": false,
    "pycharm": {
     "name": "#%%\n"
    }
   }
  },
  {
   "cell_type": "code",
   "execution_count": 10,
   "metadata": {
    "pycharm": {
     "is_executing": true
    }
   },
   "outputs": [
    {
     "name": "stdout",
     "output_type": "stream",
     "text": [
      "Total Unique Structures in LDP Rules: 17\n"
     ]
    }
   ],
   "source": []
  },
  {
   "cell_type": "markdown",
   "metadata": {},
   "source": [
    "## Compare LDP Rules Found vs the Percent Client Counts "
   ]
  },
  {
   "cell_type": "code",
   "execution_count": 11,
   "metadata": {},
   "outputs": [
    {
     "data": {
      "text/plain": [
       "<matplotlib.legend.Legend at 0x13ab72a60>"
      ]
     },
     "execution_count": 11,
     "metadata": {},
     "output_type": "execute_result"
    },
    {
     "data": {
      "image/png": "[encoded data removed]",
      "text/plain": [
       "<Figure size 864x504 with 1 Axes>"
      ]
     },
     "metadata": {
      "needs_background": "light"
     },
     "output_type": "display_data"
    }
   ],
   "source": [
    "#make list of rule counts x population percents\n",
    "\n",
    "lst = []\n",
    "for idx, row in clientDF.iterrows():\n",
    "    lst.extend([row['Percent of Population'] for i in range(row['Rule Count'])])\n",
    "\n",
    "plt.figure(figsize=(12, 7))\n",
    "sns.distplot(lst, bins=10, kde=False, label='Client')\n",
    "sns.distplot(countDF['Client Count'].values, bins=10, kde=False, label='LDP')\n",
    "plt.xlabel(\"Percentage of Population\")\n",
    "plt.ylabel(\"Number of Rules\")\n",
    "plt.yscale('log')\n",
    "plt.legend()\n"
   ]
  },
  {
   "cell_type": "code",
   "execution_count": null,
   "metadata": {},
   "outputs": [],
   "source": []
  },
  {
   "cell_type": "code",
   "execution_count": null,
   "metadata": {},
   "outputs": [],
   "source": []
  },
  {
   "cell_type": "code",
   "execution_count": null,
   "metadata": {},
   "outputs": [],
   "source": []
  },
  {
   "cell_type": "code",
   "execution_count": null,
   "metadata": {},
   "outputs": [],
   "source": []
  },
  {
   "cell_type": "code",
   "execution_count": 97,
   "metadata": {
    "scrolled": true
   },
   "outputs": [
    {
     "data": {
      "text/plain": [
       "61"
      ]
     },
     "execution_count": 97,
     "metadata": {},
     "output_type": "execute_result"
    }
   ],
   "source": [
    "#61 rules\n",
    "cLst = [1] * 4\n",
    "cLst.extend([0.9] * 3)\n",
    "cLst.extend([0.8] * 6)\n",
    "cLst.extend([0.7] * 5)\n",
    "cLst.extend([0.6] * 1)\n",
    "cLst.extend([0.5] * 2)\n",
    "cLst.extend([0.4] * 2)\n",
    "cLst.extend([0.3] * 5)\n",
    "cLst.extend([0.2] * 10)\n",
    "cLst.extend([0.1] * 10)\n",
    "cLst.extend([0.05] * 13)\n",
    "\n",
    "len(cLst)"
   ]
  },
  {
   "cell_type": "code",
   "execution_count": 118,
   "metadata": {},
   "outputs": [
    {
     "data": {
      "text/plain": [
       "18"
      ]
     },
     "execution_count": 118,
     "metadata": {},
     "output_type": "execute_result"
    }
   ],
   "source": [
    "\n",
    "lLst = [1] * 3\n",
    "lLst.extend([0.9] * 1)\n",
    "lLst.extend([0.8] * 4)\n",
    "lLst.extend([0.7] * 4)\n",
    "lLst.extend([0.3] * 3)\n",
    "lLst.extend([0.2] * 2)\n",
    "# lLst.extend([0.1] * 10)\n",
    "lLst.extend([0.05] * 1)\n",
    "\n",
    "len(lLst)"
   ]
  },
  {
   "cell_type": "code",
   "execution_count": 139,
   "metadata": {},
   "outputs": [
    {
     "data": {
      "text/plain": [
       "34"
      ]
     },
     "execution_count": 139,
     "metadata": {},
     "output_type": "execute_result"
    }
   ],
   "source": [
    "#34 rules\n",
    "cLst = [1] * 2\n",
    "cLst.extend([0.9] * 1)\n",
    "cLst.extend([0.8] * 1)\n",
    "cLst.extend([0.7] * 1)\n",
    "cLst.extend([0.6] * 2)\n",
    "cLst.extend([0.5] * 2)\n",
    "cLst.extend([0.4] * 3)\n",
    "cLst.extend([0.3] * 4)\n",
    "cLst.extend([0.2] * 5)\n",
    "cLst.extend([0.1] * 6)\n",
    "cLst.extend([0.05] * 7)\n",
    "\n",
    "len(cLst)"
   ]
  },
  {
   "cell_type": "code",
   "execution_count": 156,
   "metadata": {},
   "outputs": [
    {
     "data": {
      "text/plain": [
       "27"
      ]
     },
     "execution_count": 156,
     "metadata": {},
     "output_type": "execute_result"
    }
   ],
   "source": [
    "#27\n",
    "lLst = [1] * 2\n",
    "lLst.extend([0.9] * 1)\n",
    "lLst.extend([0.8] * 1)\n",
    "lLst.extend([0.7] * 1)\n",
    "lLst.extend([0.6] * 2)\n",
    "lLst.extend([0.5] * 1)\n",
    "\n",
    "lLst.extend([0.4] * 2)\n",
    "lLst.extend([0.3] * 4)\n",
    "lLst.extend([0.2] * 4)\n",
    "lLst.extend([0.1] * 3)\n",
    "lLst.extend([0.05] * 6)\n",
    "\n",
    "len(lLst)"
   ]
  },
  {
   "cell_type": "code",
   "execution_count": 159,
   "metadata": {},
   "outputs": [
    {
     "data": {
      "text/plain": [
       "<matplotlib.legend.Legend at 0x197dc0a90>"
      ]
     },
     "execution_count": 159,
     "metadata": {},
     "output_type": "execute_result"
    },
    {
     "data": {
      "image/png": "[encoded data removed]",
      "text/plain": [
       "<Figure size 864x504 with 1 Axes>"
      ]
     },
     "metadata": {
      "needs_background": "light"
     },
     "output_type": "display_data"
    }
   ],
   "source": [
    "plt.figure(figsize=(12, 7))\n",
    "sns.distplot(cLst, bins=10, kde=False, label='Client')\n",
    "sns.distplot(cLst, bins=10, kde=False, label='LDP')\n",
    "plt.xlabel(\"Percentage of Population\")\n",
    "plt.ylabel(\"Number of Rules\")\n",
    "plt.title(\"ICU Coverage\")\n",
    "# plt.yscale('log')\n",
    "plt.legend()"
   ]
  },
  {
   "cell_type": "code",
   "execution_count": null,
   "metadata": {
    "pycharm": {
     "is_executing": true
    }
   },
   "outputs": [],
   "source": []
  },
  {
   "cell_type": "code",
   "execution_count": null,
   "metadata": {},
   "outputs": [],
   "source": []
  },
  {
   "cell_type": "code",
   "execution_count": 17,
   "metadata": {
    "pycharm": {
     "is_executing": true
    }
   },
   "outputs": [
    {
     "data": {
      "image/png": "[encoded data removed]",
      "text/plain": [
       "<Figure size 864x504 with 1 Axes>"
      ]
     },
     "metadata": {
      "needs_background": "light"
     },
     "output_type": "display_data"
    },
    {
     "data": {
      "image/png": "[encoded data removed]",
      "text/plain": [
       "<Figure size 864x504 with 1 Axes>"
      ]
     },
     "metadata": {
      "needs_background": "light"
     },
     "output_type": "display_data"
    }
   ],
   "source": [
    "#Look at found rules and compare percent counts\n",
    "cov.compareFoundRuleCounts(countDF, graphName)"
   ]
  },
  {
   "cell_type": "code",
   "execution_count": null,
   "metadata": {
    "pycharm": {
     "is_executing": true
    }
   },
   "outputs": [],
   "source": []
  },
  {
   "cell_type": "code",
   "execution_count": null,
   "metadata": {
    "pycharm": {
     "is_executing": true
    }
   },
   "outputs": [],
   "source": []
  },
  {
   "cell_type": "code",
   "execution_count": null,
   "metadata": {
    "pycharm": {
     "is_executing": true
    }
   },
   "outputs": [],
   "source": []
  }
 ],
 "metadata": {
  "kernelspec": {
   "display_name": "Python 3",
   "language": "python",
   "name": "python3"
  },
  "language_info": {
   "codemirror_mode": {
    "name": "ipython",
    "version": 3
   },
   "file_extension": ".py",
   "mimetype": "text/x-python",
   "name": "python",
   "nbconvert_exporter": "python",
   "pygments_lexer": "ipython3",
   "version": "3.8.3"
  }
 },
 "nbformat": 4,
 "nbformat_minor": 1
}