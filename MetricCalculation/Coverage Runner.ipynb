{
 "cells": [
  {
   "cell_type": "code",
   "execution_count": 9,
   "metadata": {
    "pycharm": {
     "name": "#%%\n"
    }
   },
   "outputs": [
    {
     "name": "stdout",
     "output_type": "stream",
     "text": [
      "The autoreload extension is already loaded. To reload it, use:\n",
      "  %reload_ext autoreload\n"
     ]
    }
   ],
   "source": [
    "import matplotlib.pyplot as plt\n",
    "plt.rc('font', size=12)\n",
    "import pandas as pd\n",
    "import seaborn as sns\n",
    "import warnings \n",
    "\n",
    "import Coverage as cov\n",
    "\n",
    "warnings.filterwarnings('ignore')\n",
    "%matplotlib inline\n",
    "\n",
    "%load_ext autoreload\n",
    "%autoreload 2"
   ]
  },
  {
   "cell_type": "markdown",
   "metadata": {},
   "source": [
    "## Params"
   ]
  },
  {
   "cell_type": "code",
   "execution_count": 10,
   "metadata": {
    "pycharm": {
     "name": "#%%\n"
    }
   },
   "outputs": [],
   "source": [
    "#get list of client rules sorted by count\n",
    "popSize = 100\n",
    "clientFilename = \"../Data/ICU/Best/\"\n",
    "# clientFilename = \"../Data/ICU/Test/\"\n",
    "# clientFilename = \"../Data/Sepsis/Best/\"\n",
    "\n",
    "ldpFilename = \"../Results/ICU_Base_TEST.csv\"\n",
    "# ldpFilename = \"../Results/ICU_Ruleset_MCTS_TEST.csv\"\n",
    "# ldpFilename = \"../Results/ICU_TEST_2.csv\"\n",
    "# ldpFilename = \"../Results/Sepsis_Ruleset_MCTS_Test.csv\"\n",
    "\n",
    "graphName = '../Results/Graphs/test' #Name of count coverage graphs\n",
    "popThresh = 0.01 #Percentage match count\n"
   ]
  },
  {
   "cell_type": "markdown",
   "metadata": {},
   "source": [
    "## Load Client Rules"
   ]
  },
  {
   "cell_type": "code",
   "execution_count": 12,
   "metadata": {
    "pycharm": {
     "is_executing": true,
     "name": "#%%\n"
    }
   },
   "outputs": [
    {
     "name": "stdout",
     "output_type": "stream",
     "text": [
      "File not found for Client 8\n",
      "File not found for Client 81\n"
     ]
    },
    {
     "data": {
      "text/html": [
       "<div>\n",
       "<style scoped>\n",
       "    .dataframe tbody tr th:only-of-type {\n",
       "        vertical-align: middle;\n",
       "    }\n",
       "\n",
       "    .dataframe tbody tr th {\n",
       "        vertical-align: top;\n",
       "    }\n",
       "\n",
       "    .dataframe thead th {\n",
       "        text-align: right;\n",
       "    }\n",
       "</style>\n",
       "<table border=\"1\" class=\"dataframe\">\n",
       "  <thead>\n",
       "    <tr style=\"text-align: right;\">\n",
       "      <th></th>\n",
       "      <th>Rule</th>\n",
       "      <th>Rule Count</th>\n",
       "      <th>Percent of Population</th>\n",
       "    </tr>\n",
       "  </thead>\n",
       "  <tbody>\n",
       "    <tr>\n",
       "      <th>53</th>\n",
       "      <td>((MET &gt;= 0.000) U[0,0] (death = 0.000))</td>\n",
       "      <td>231</td>\n",
       "      <td>1.00</td>\n",
       "    </tr>\n",
       "    <tr>\n",
       "      <th>57</th>\n",
       "      <td>G[0,0]((n_evts &lt;= 0.000 -&gt; LOS &gt;= 0.000))</td>\n",
       "      <td>203</td>\n",
       "      <td>1.00</td>\n",
       "    </tr>\n",
       "    <tr>\n",
       "      <th>56</th>\n",
       "      <td>F[0,0]((BLOOD_UREA_NITROGEN &lt;= 0.000 &amp; CREATIN...</td>\n",
       "      <td>74</td>\n",
       "      <td>0.74</td>\n",
       "    </tr>\n",
       "    <tr>\n",
       "      <th>229</th>\n",
       "      <td>F[0,0](((af &lt;= 0.000 | AF &lt;= 0.000) &amp; cosen &gt;=...</td>\n",
       "      <td>42</td>\n",
       "      <td>0.42</td>\n",
       "    </tr>\n",
       "    <tr>\n",
       "      <th>47</th>\n",
       "      <td>G[0,0]((hr &gt;= 0.000 &amp; Pulse &gt;= 0.000))</td>\n",
       "      <td>39</td>\n",
       "      <td>0.39</td>\n",
       "    </tr>\n",
       "    <tr>\n",
       "      <th>...</th>\n",
       "      <td>...</td>\n",
       "      <td>...</td>\n",
       "      <td>...</td>\n",
       "    </tr>\n",
       "    <tr>\n",
       "      <th>1870</th>\n",
       "      <td>((af &lt;= 0.000) U[0,0] (srr &lt;= 0.000))</td>\n",
       "      <td>1</td>\n",
       "      <td>0.01</td>\n",
       "    </tr>\n",
       "    <tr>\n",
       "      <th>1871</th>\n",
       "      <td>((n_edrk &lt;= 0.000) U[0,0] (PLATELET_COUNT &gt;= 0...</td>\n",
       "      <td>1</td>\n",
       "      <td>0.01</td>\n",
       "    </tr>\n",
       "    <tr>\n",
       "      <th>1872</th>\n",
       "      <td>G[0,0]((hr &lt;= 0.000 -&gt; ICU_Pt_Days &lt;= 0.000))</td>\n",
       "      <td>1</td>\n",
       "      <td>0.01</td>\n",
       "    </tr>\n",
       "    <tr>\n",
       "      <th>1874</th>\n",
       "      <td>G[0,0]((CALCIUM &lt;= 0.000 -&gt; SBP &gt;= 0.000))</td>\n",
       "      <td>1</td>\n",
       "      <td>0.01</td>\n",
       "    </tr>\n",
       "    <tr>\n",
       "      <th>4351</th>\n",
       "      <td>G[0,0]((hr &gt;= 0.000 -&gt; SBP &gt;= 0.000))</td>\n",
       "      <td>1</td>\n",
       "      <td>0.01</td>\n",
       "    </tr>\n",
       "  </tbody>\n",
       "</table>\n",
       "<p>4352 rows × 3 columns</p>\n",
       "</div>"
      ],
      "text/plain": [
       "                                                   Rule  Rule Count  \\\n",
       "53              ((MET >= 0.000) U[0,0] (death = 0.000))         231   \n",
       "57            G[0,0]((n_evts <= 0.000 -> LOS >= 0.000))         203   \n",
       "56    F[0,0]((BLOOD_UREA_NITROGEN <= 0.000 & CREATIN...          74   \n",
       "229   F[0,0](((af <= 0.000 | AF <= 0.000) & cosen >=...          42   \n",
       "47               G[0,0]((hr >= 0.000 & Pulse >= 0.000))          39   \n",
       "...                                                 ...         ...   \n",
       "1870              ((af <= 0.000) U[0,0] (srr <= 0.000))           1   \n",
       "1871  ((n_edrk <= 0.000) U[0,0] (PLATELET_COUNT >= 0...           1   \n",
       "1872      G[0,0]((hr <= 0.000 -> ICU_Pt_Days <= 0.000))           1   \n",
       "1874         G[0,0]((CALCIUM <= 0.000 -> SBP >= 0.000))           1   \n",
       "4351              G[0,0]((hr >= 0.000 -> SBP >= 0.000))           1   \n",
       "\n",
       "      Percent of Population  \n",
       "53                     1.00  \n",
       "57                     1.00  \n",
       "56                     0.74  \n",
       "229                    0.42  \n",
       "47                     0.39  \n",
       "...                     ...  \n",
       "1870                   0.01  \n",
       "1871                   0.01  \n",
       "1872                   0.01  \n",
       "1874                   0.01  \n",
       "4351                   0.01  \n",
       "\n",
       "[4352 rows x 3 columns]"
      ]
     },
     "execution_count": 12,
     "metadata": {},
     "output_type": "execute_result"
    }
   ],
   "source": [
    "# Load Client Rule Trees and Text Rule Structures, and get dataframe of rules and their counts\n",
    "clientTrees, clientRules, clientDF = cov.loadClientRules(popSize, clientFilename)\n",
    "clientDF"
   ]
  },
  {
   "cell_type": "markdown",
   "metadata": {},
   "source": [
    "## Load LDP Ruleset"
   ]
  },
  {
   "cell_type": "code",
   "execution_count": 14,
   "metadata": {
    "pycharm": {
     "is_executing": true,
     "name": "#%%\n"
    }
   },
   "outputs": [
    {
     "data": {
      "text/html": [
       "<div>\n",
       "<style scoped>\n",
       "    .dataframe tbody tr th:only-of-type {\n",
       "        vertical-align: middle;\n",
       "    }\n",
       "\n",
       "    .dataframe tbody tr th {\n",
       "        vertical-align: top;\n",
       "    }\n",
       "\n",
       "    .dataframe thead th {\n",
       "        text-align: right;\n",
       "    }\n",
       "</style>\n",
       "<table border=\"1\" class=\"dataframe\">\n",
       "  <thead>\n",
       "    <tr style=\"text-align: right;\">\n",
       "      <th></th>\n",
       "      <th>Rule</th>\n",
       "      <th>Percent Count</th>\n",
       "    </tr>\n",
       "  </thead>\n",
       "  <tbody>\n",
       "    <tr>\n",
       "      <th>1068</th>\n",
       "      <td>G[0,0]((n_evts &lt; 0.000 -&gt; LOS &gt; 0.000))</td>\n",
       "      <td>0.531</td>\n",
       "    </tr>\n",
       "    <tr>\n",
       "      <th>288</th>\n",
       "      <td>G[0,0]((LOS &gt; 0.000 -&gt; n_evts = 0.000))</td>\n",
       "      <td>0.531</td>\n",
       "    </tr>\n",
       "    <tr>\n",
       "      <th>1394</th>\n",
       "      <td>G[0,0]((n_evts &lt; 0.000 -&gt; LOS = 0.000))</td>\n",
       "      <td>0.531</td>\n",
       "    </tr>\n",
       "    <tr>\n",
       "      <th>2137</th>\n",
       "      <td>G[0,0]((n_evts = 0.000 -&gt; LOS = 0.000))</td>\n",
       "      <td>0.531</td>\n",
       "    </tr>\n",
       "    <tr>\n",
       "      <th>1287</th>\n",
       "      <td>G[0,0]((n_evts = 0.000 -&gt; LOS &gt; 0.000))</td>\n",
       "      <td>0.531</td>\n",
       "    </tr>\n",
       "    <tr>\n",
       "      <th>...</th>\n",
       "      <td>...</td>\n",
       "      <td>...</td>\n",
       "    </tr>\n",
       "    <tr>\n",
       "      <th>675</th>\n",
       "      <td>((n_evts &gt; 0.000) U[0,0] (MET &gt; 0.000))</td>\n",
       "      <td>0.010</td>\n",
       "    </tr>\n",
       "    <tr>\n",
       "      <th>1585</th>\n",
       "      <td>((SBP = 0.000) U[0,0] (ICU_Pt_Days &gt; 0.000))</td>\n",
       "      <td>0.010</td>\n",
       "    </tr>\n",
       "    <tr>\n",
       "      <th>671</th>\n",
       "      <td>((LOS = 0.000) U[0,0] (CHLORIDE = 0.000))</td>\n",
       "      <td>0.010</td>\n",
       "    </tr>\n",
       "    <tr>\n",
       "      <th>1589</th>\n",
       "      <td>((Resp &lt; 0.000) U[0,0] (O2_Flow = 0.000))</td>\n",
       "      <td>0.010</td>\n",
       "    </tr>\n",
       "    <tr>\n",
       "      <th>2182</th>\n",
       "      <td>((ICU_Pt_Days = 0.000) U[0,0] (n_evts &gt; 0.000))</td>\n",
       "      <td>0.010</td>\n",
       "    </tr>\n",
       "  </tbody>\n",
       "</table>\n",
       "<p>2183 rows × 2 columns</p>\n",
       "</div>"
      ],
      "text/plain": [
       "                                                 Rule  Percent Count\n",
       "1068          G[0,0]((n_evts < 0.000 -> LOS > 0.000))          0.531\n",
       "288           G[0,0]((LOS > 0.000 -> n_evts = 0.000))          0.531\n",
       "1394          G[0,0]((n_evts < 0.000 -> LOS = 0.000))          0.531\n",
       "2137          G[0,0]((n_evts = 0.000 -> LOS = 0.000))          0.531\n",
       "1287          G[0,0]((n_evts = 0.000 -> LOS > 0.000))          0.531\n",
       "...                                               ...            ...\n",
       "675           ((n_evts > 0.000) U[0,0] (MET > 0.000))          0.010\n",
       "1585     ((SBP = 0.000) U[0,0] (ICU_Pt_Days > 0.000))          0.010\n",
       "671         ((LOS = 0.000) U[0,0] (CHLORIDE = 0.000))          0.010\n",
       "1589        ((Resp < 0.000) U[0,0] (O2_Flow = 0.000))          0.010\n",
       "2182  ((ICU_Pt_Days = 0.000) U[0,0] (n_evts > 0.000))          0.010\n",
       "\n",
       "[2183 rows x 2 columns]"
      ]
     },
     "execution_count": 14,
     "metadata": {},
     "output_type": "execute_result"
    }
   ],
   "source": [
    "ldpDF, ldpTrees, ldpRules = cov.loadLDPRuleset(ldpFilename)\n",
    "ldpDF"
   ]
  },
  {
   "cell_type": "markdown",
   "metadata": {},
   "source": [
    "## Complexity Analysis"
   ]
  },
  {
   "cell_type": "code",
   "execution_count": 16,
   "metadata": {
    "pycharm": {
     "is_executing": true,
     "name": "#%%\n"
    }
   },
   "outputs": [
    {
     "data": {
      "text/plain": [
       "17179869184"
      ]
     },
     "execution_count": 16,
     "metadata": {},
     "output_type": "execute_result"
    }
   ],
   "source": [
    "k = 4 #k-ary tree\n",
    "h = 17 #height\n",
    "k**h"
   ]
  },
  {
   "cell_type": "markdown",
   "metadata": {},
   "source": [
    "## Get Table of Structure Counts - Count of rules above threshold"
   ]
  },
  {
   "cell_type": "code",
   "execution_count": 17,
   "metadata": {
    "pycharm": {
     "is_executing": true,
     "name": "#%%\n"
    }
   },
   "outputs": [
    {
     "data": {
      "text/html": [
       "<div>\n",
       "<style scoped>\n",
       "    .dataframe tbody tr th:only-of-type {\n",
       "        vertical-align: middle;\n",
       "    }\n",
       "\n",
       "    .dataframe tbody tr th {\n",
       "        vertical-align: top;\n",
       "    }\n",
       "\n",
       "    .dataframe thead th {\n",
       "        text-align: right;\n",
       "    }\n",
       "</style>\n",
       "<table border=\"1\" class=\"dataframe\">\n",
       "  <thead>\n",
       "    <tr style=\"text-align: right;\">\n",
       "      <th></th>\n",
       "      <th>Total Client Rules</th>\n",
       "      <th>Found Rules</th>\n",
       "      <th>Non Rules</th>\n",
       "      <th>Precision</th>\n",
       "    </tr>\n",
       "  </thead>\n",
       "  <tbody>\n",
       "    <tr>\n",
       "      <th>0</th>\n",
       "      <td>4352</td>\n",
       "      <td>2183</td>\n",
       "      <td>0</td>\n",
       "      <td>1.0</td>\n",
       "    </tr>\n",
       "  </tbody>\n",
       "</table>\n",
       "</div>"
      ],
      "text/plain": [
       "   Total Client Rules  Found Rules  Non Rules  Precision\n",
       "0                4352         2183          0        1.0"
      ]
     },
     "execution_count": 17,
     "metadata": {},
     "output_type": "execute_result"
    }
   ],
   "source": [
    "covDF, countDF, clientTrees = cov.getCoverageTable(popThresh, ldpDF, ldpTrees, clientDF)\n",
    "countDF.to_csv(ldpFilename + \"_CovCountDF.csv\")\n",
    "covDF"
   ]
  },
  {
   "cell_type": "code",
   "execution_count": 18,
   "metadata": {
    "pycharm": {
     "is_executing": true,
     "name": "#%%\n"
    }
   },
   "outputs": [
    {
     "data": {
      "text/html": [
       "<div>\n",
       "<style scoped>\n",
       "    .dataframe tbody tr th:only-of-type {\n",
       "        vertical-align: middle;\n",
       "    }\n",
       "\n",
       "    .dataframe tbody tr th {\n",
       "        vertical-align: top;\n",
       "    }\n",
       "\n",
       "    .dataframe thead th {\n",
       "        text-align: right;\n",
       "    }\n",
       "</style>\n",
       "<table border=\"1\" class=\"dataframe\">\n",
       "  <thead>\n",
       "    <tr style=\"text-align: right;\">\n",
       "      <th></th>\n",
       "      <th>LDP Rule</th>\n",
       "      <th>Client Rule</th>\n",
       "      <th>LDP Count</th>\n",
       "      <th>Client Count</th>\n",
       "    </tr>\n",
       "  </thead>\n",
       "  <tbody>\n",
       "    <tr>\n",
       "      <th>0</th>\n",
       "      <td>((ALBUMIN = 0.000) U[0,0] (y = 0.000))</td>\n",
       "      <td>((ALBUMIN &gt;= 0.000) U[0,0] (y = 0.000))</td>\n",
       "      <td>0.080</td>\n",
       "      <td>0.04</td>\n",
       "    </tr>\n",
       "    <tr>\n",
       "      <th>1</th>\n",
       "      <td>G[0,0]((MET = 0.000 -&gt; AF = 0.000))</td>\n",
       "      <td>G[0,0]((AF &gt;= 0.000 -&gt; MET &lt;= 0.000))</td>\n",
       "      <td>0.010</td>\n",
       "      <td>0.01</td>\n",
       "    </tr>\n",
       "    <tr>\n",
       "      <th>2</th>\n",
       "      <td>((y = 0.000) U[0,0] (Pulse = 0.000))</td>\n",
       "      <td>((Pulse &lt;= 0.000) U[0,0] (y &gt;= 0.000))</td>\n",
       "      <td>0.100</td>\n",
       "      <td>0.06</td>\n",
       "    </tr>\n",
       "    <tr>\n",
       "      <th>3</th>\n",
       "      <td>((CO2 = 0.000) U[0,0] (death &gt; 0.000))</td>\n",
       "      <td>((CO2 &lt;= 0.000) U[0,0] (death &gt;= 0.000))</td>\n",
       "      <td>0.010</td>\n",
       "      <td>0.01</td>\n",
       "    </tr>\n",
       "    <tr>\n",
       "      <th>4</th>\n",
       "      <td>G[0,0]((Mort &gt; 0.000 -&gt; MET = 0.000))</td>\n",
       "      <td>G[0,0]((MET &gt;= 0.000 -&gt; Mort &gt;= 0.000))</td>\n",
       "      <td>0.031</td>\n",
       "      <td>0.03</td>\n",
       "    </tr>\n",
       "    <tr>\n",
       "      <th>...</th>\n",
       "      <td>...</td>\n",
       "      <td>...</td>\n",
       "      <td>...</td>\n",
       "      <td>...</td>\n",
       "    </tr>\n",
       "    <tr>\n",
       "      <th>2178</th>\n",
       "      <td>((ICU_Pt_Days &lt; 0.000) U[0,0] (Glasgow_Coma_Sc...</td>\n",
       "      <td>((Glasgow_Coma_Scale_Total &gt;= 0.000) U[0,0] (I...</td>\n",
       "      <td>0.010</td>\n",
       "      <td>0.01</td>\n",
       "    </tr>\n",
       "    <tr>\n",
       "      <th>2179</th>\n",
       "      <td>((death &gt; 0.000) U[0,0] (BLOOD_UREA_NITROGEN &lt;...</td>\n",
       "      <td>((BLOOD_UREA_NITROGEN &lt;= 0.000) U[0,0] (death ...</td>\n",
       "      <td>0.010</td>\n",
       "      <td>0.01</td>\n",
       "    </tr>\n",
       "    <tr>\n",
       "      <th>2180</th>\n",
       "      <td>((y &gt; 0.000) U[0,0] (CO2 = 0.000))</td>\n",
       "      <td>((CO2 &lt;= 0.000) U[0,0] (y &gt;= 0.000))</td>\n",
       "      <td>0.010</td>\n",
       "      <td>0.01</td>\n",
       "    </tr>\n",
       "    <tr>\n",
       "      <th>2181</th>\n",
       "      <td>((SBP = 0.000) U[0,0] (y &gt; 0.000))</td>\n",
       "      <td>((SBP &lt;= 0.000) U[0,0] (y &gt;= 0.000))</td>\n",
       "      <td>0.070</td>\n",
       "      <td>0.04</td>\n",
       "    </tr>\n",
       "    <tr>\n",
       "      <th>2182</th>\n",
       "      <td>((ICU_Pt_Days = 0.000) U[0,0] (n_evts &gt; 0.000))</td>\n",
       "      <td>((ICU_Pt_Days &lt;= 0.000) U[0,0] (n_evts &gt;= 0.000))</td>\n",
       "      <td>0.010</td>\n",
       "      <td>0.01</td>\n",
       "    </tr>\n",
       "  </tbody>\n",
       "</table>\n",
       "<p>2183 rows × 4 columns</p>\n",
       "</div>"
      ],
      "text/plain": [
       "                                               LDP Rule  \\\n",
       "0                ((ALBUMIN = 0.000) U[0,0] (y = 0.000))   \n",
       "1                   G[0,0]((MET = 0.000 -> AF = 0.000))   \n",
       "2                  ((y = 0.000) U[0,0] (Pulse = 0.000))   \n",
       "3                ((CO2 = 0.000) U[0,0] (death > 0.000))   \n",
       "4                 G[0,0]((Mort > 0.000 -> MET = 0.000))   \n",
       "...                                                 ...   \n",
       "2178  ((ICU_Pt_Days < 0.000) U[0,0] (Glasgow_Coma_Sc...   \n",
       "2179  ((death > 0.000) U[0,0] (BLOOD_UREA_NITROGEN <...   \n",
       "2180                 ((y > 0.000) U[0,0] (CO2 = 0.000))   \n",
       "2181                 ((SBP = 0.000) U[0,0] (y > 0.000))   \n",
       "2182    ((ICU_Pt_Days = 0.000) U[0,0] (n_evts > 0.000))   \n",
       "\n",
       "                                            Client Rule  LDP Count  \\\n",
       "0               ((ALBUMIN >= 0.000) U[0,0] (y = 0.000))      0.080   \n",
       "1                 G[0,0]((AF >= 0.000 -> MET <= 0.000))      0.010   \n",
       "2                ((Pulse <= 0.000) U[0,0] (y >= 0.000))      0.100   \n",
       "3              ((CO2 <= 0.000) U[0,0] (death >= 0.000))      0.010   \n",
       "4               G[0,0]((MET >= 0.000 -> Mort >= 0.000))      0.031   \n",
       "...                                                 ...        ...   \n",
       "2178  ((Glasgow_Coma_Scale_Total >= 0.000) U[0,0] (I...      0.010   \n",
       "2179  ((BLOOD_UREA_NITROGEN <= 0.000) U[0,0] (death ...      0.010   \n",
       "2180               ((CO2 <= 0.000) U[0,0] (y >= 0.000))      0.010   \n",
       "2181               ((SBP <= 0.000) U[0,0] (y >= 0.000))      0.070   \n",
       "2182  ((ICU_Pt_Days <= 0.000) U[0,0] (n_evts >= 0.000))      0.010   \n",
       "\n",
       "      Client Count  \n",
       "0             0.04  \n",
       "1             0.01  \n",
       "2             0.06  \n",
       "3             0.01  \n",
       "4             0.03  \n",
       "...            ...  \n",
       "2178          0.01  \n",
       "2179          0.01  \n",
       "2180          0.01  \n",
       "2181          0.04  \n",
       "2182          0.01  \n",
       "\n",
       "[2183 rows x 4 columns]"
      ]
     },
     "execution_count": 18,
     "metadata": {},
     "output_type": "execute_result"
    }
   ],
   "source": [
    "countDF"
   ]
  },
  {
   "cell_type": "markdown",
   "metadata": {},
   "source": [
    "## Get number of unique structure types"
   ]
  },
  {
   "cell_type": "code",
   "execution_count": 19,
   "metadata": {
    "pycharm": {
     "is_executing": true,
     "name": "#%%\n"
    }
   },
   "outputs": [
    {
     "name": "stdout",
     "output_type": "stream",
     "text": [
      "CLIENT STRUCT NOT FOUND F[0,0](((x <= 0.000 | x <= 0.000) & x >= 0.000))\n",
      "CLIENT STRUCT NOT FOUND F[0,0]((x < 0.000 -> x = 0.000))\n",
      "CLIENT STRUCT NOT FOUND F[0,0]((x >= 0.000 & x = 0.000))\n",
      "CLIENT STRUCT NOT FOUND F[0,0]((x <= 0.000 & x = 0.000))\n",
      "CLIENT STRUCT NOT FOUND F[0,0]((x <= 0.000 & x <= 0.000))\n",
      "CLIENT STRUCT NOT FOUND F[0,0]((x > 0.000 -> x = 0.000))\n",
      "CLIENT STRUCT NOT FOUND F[0,0]((x >= 0.000 & x <= 0.000))\n",
      "CLIENT STRUCT NOT FOUND F[0,0]((x >= 0.000 | x >= 0.000))\n",
      "CLIENT STRUCT NOT FOUND F[0,0]((x < 0.000 & x = 0.000))\n"
     ]
    },
    {
     "data": {
      "text/html": [
       "<div>\n",
       "<style scoped>\n",
       "    .dataframe tbody tr th:only-of-type {\n",
       "        vertical-align: middle;\n",
       "    }\n",
       "\n",
       "    .dataframe tbody tr th {\n",
       "        vertical-align: top;\n",
       "    }\n",
       "\n",
       "    .dataframe thead th {\n",
       "        text-align: right;\n",
       "    }\n",
       "</style>\n",
       "<table border=\"1\" class=\"dataframe\">\n",
       "  <thead>\n",
       "    <tr style=\"text-align: right;\">\n",
       "      <th></th>\n",
       "      <th>Total Client Structures</th>\n",
       "      <th>Found Structures</th>\n",
       "      <th>Non Structures</th>\n",
       "      <th>Precision</th>\n",
       "    </tr>\n",
       "  </thead>\n",
       "  <tbody>\n",
       "    <tr>\n",
       "      <th>0</th>\n",
       "      <td>45</td>\n",
       "      <td>36</td>\n",
       "      <td>0</td>\n",
       "      <td>1.0</td>\n",
       "    </tr>\n",
       "  </tbody>\n",
       "</table>\n",
       "</div>"
      ],
      "text/plain": [
       "   Total Client Structures  Found Structures  Non Structures  Precision\n",
       "0                       45                36               0        1.0"
      ]
     },
     "execution_count": 19,
     "metadata": {},
     "output_type": "execute_result"
    }
   ],
   "source": [
    "structDF = cov.countUniqueStructuresNoVars(clientTrees, ldpTrees)\n",
    "structDF"
   ]
  },
  {
   "cell_type": "code",
   "execution_count": null,
   "metadata": {
    "pycharm": {
     "is_executing": true,
     "name": "#%%\n"
    }
   },
   "outputs": [],
   "source": []
  },
  {
   "cell_type": "code",
   "execution_count": 20,
   "metadata": {
    "pycharm": {
     "is_executing": true,
     "name": "#%%\n"
    }
   },
   "outputs": [],
   "source": []
  },
  {
   "cell_type": "code",
   "execution_count": 21,
   "metadata": {
    "pycharm": {
     "is_executing": true,
     "name": "#%%\n"
    }
   },
   "outputs": [],
   "source": []
  },
  {
   "cell_type": "markdown",
   "metadata": {},
   "source": [
    "## Compare LDP Rules Found vs the Percent Client Counts "
   ]
  },
  {
   "cell_type": "code",
   "execution_count": 22,
   "metadata": {
    "pycharm": {
     "is_executing": true,
     "name": "#%%\n"
    }
   },
   "outputs": [
    {
     "data": {
      "text/plain": [
       "<matplotlib.legend.Legend at 0x144a4af40>"
      ]
     },
     "execution_count": 22,
     "metadata": {},
     "output_type": "execute_result"
    },
    {
     "data": {
      "image/png": "[encoded data removed]",
      "text/plain": [
       "<Figure size 864x504 with 1 Axes>"
      ]
     },
     "metadata": {
      "needs_background": "light"
     },
     "output_type": "display_data"
    }
   ],
   "source": [
    "#make list of rule counts x population percents\n",
    "\n",
    "lst = []\n",
    "for idx, row in clientDF.iterrows():\n",
    "    lst.extend([row['Percent of Population'] for i in range(row['Rule Count'])])\n",
    "    \n",
    "n_bins = 10\n",
    "\n",
    "plt.figure(figsize=(12, 7))\n",
    "plt.hist([lst, countDF['Client Count'].values], n_bins, density=True, histtype='bar',label=['Client', 'LDP'])\n",
    "plt.xlabel(\"Percentage of Population\")\n",
    "plt.ylabel(\"Number of Rules\")\n",
    "plt.yscale('log')\n",
    "plt.legend()\n"
   ]
  },
  {
   "cell_type": "code",
   "execution_count": null,
   "metadata": {
    "pycharm": {
     "is_executing": true,
     "name": "#%%\n"
    }
   },
   "outputs": [],
   "source": []
  },
  {
   "cell_type": "code",
   "execution_count": null,
   "metadata": {
    "pycharm": {
     "is_executing": true,
     "name": "#%%\n"
    }
   },
   "outputs": [],
   "source": []
  },
  {
   "cell_type": "code",
   "execution_count": null,
   "metadata": {
    "pycharm": {
     "is_executing": true,
     "name": "#%%\n"
    }
   },
   "outputs": [],
   "source": []
  },
  {
   "cell_type": "code",
   "execution_count": null,
   "metadata": {
    "pycharm": {
     "is_executing": true,
     "name": "#%%\n"
    }
   },
   "outputs": [],
   "source": []
  },
  {
   "cell_type": "code",
   "execution_count": null,
   "metadata": {
    "pycharm": {
     "is_executing": true,
     "name": "#%%\n"
    }
   },
   "outputs": [],
   "source": []
  },
  {
   "cell_type": "code",
   "execution_count": null,
   "metadata": {
    "pycharm": {
     "is_executing": true,
     "name": "#%%\n"
    }
   },
   "outputs": [],
   "source": []
  }
 ],
 "metadata": {
  "kernelspec": {
   "display_name": "Python 3",
   "language": "python",
   "name": "python3"
  },
  "language_info": {
   "codemirror_mode": {
    "name": "ipython",
    "version": 3
   },
   "file_extension": ".py",
   "mimetype": "text/x-python",
   "name": "python",
   "nbconvert_exporter": "python",
   "pygments_lexer": "ipython3",
   "version": "3.8.3"
  }
 },
 "nbformat": 4,
 "nbformat_minor": 1
}
